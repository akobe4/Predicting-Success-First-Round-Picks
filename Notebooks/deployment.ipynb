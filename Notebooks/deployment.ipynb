{
 "cells": [
  {
   "cell_type": "code",
   "execution_count": 1,
   "id": "6131b1f6-36b8-4944-bf93-bbaa24dec4eb",
   "metadata": {},
   "outputs": [],
   "source": [
    "# import Flask and jsonify\n",
    "from flask import Flask, jsonify, request\n",
    "# import Resource, Api and reqparser\n",
    "from flask_restful import Resource, Api, reqparse\n",
    "import pandas as pd\n",
    "import numpy\n",
    "import pickle"
   ]
  },
  {
   "cell_type": "code",
   "execution_count": 2,
   "id": "c83d0a33-e9ce-4366-a874-ff203dec06f5",
   "metadata": {},
   "outputs": [],
   "source": [
    "#importing models \n",
    "# importing models\n",
    "with open('model17_transformed_data.pkl', 'rb') as f:\n",
    "       classifier = pickle.load (f)"
   ]
  },
  {
   "cell_type": "code",
   "execution_count": 3,
   "id": "b2c2b250-be92-4003-8771-bdff64f36ead",
   "metadata": {},
   "outputs": [],
   "source": [
    "test_data = [54, 10, 209, 'L', 'North American Skater', 9, 185.42, 21.33, 19.91, 0.37, 0.06, 0.43, 'F']"
   ]
  },
  {
   "cell_type": "code",
   "execution_count": null,
   "id": "614df836-337e-4fb3-a35f-bbd8f33c568e",
   "metadata": {},
   "outputs": [],
   "source": []
  }
 ],
 "metadata": {
  "kernelspec": {
   "display_name": "lighthouse",
   "language": "python",
   "name": "lighthouse"
  },
  "language_info": {
   "codemirror_mode": {
    "name": "ipython",
    "version": 3
   },
   "file_extension": ".py",
   "mimetype": "text/x-python",
   "name": "python",
   "nbconvert_exporter": "python",
   "pygments_lexer": "ipython3",
   "version": "3.9.13"
  }
 },
 "nbformat": 4,
 "nbformat_minor": 5
}
