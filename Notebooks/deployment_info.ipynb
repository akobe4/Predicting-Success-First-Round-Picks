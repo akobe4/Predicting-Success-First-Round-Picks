{
 "cells": [
  {
   "cell_type": "code",
   "execution_count": 1,
   "id": "876eac2e-d8b0-4cfc-a55a-3fb5c6033cd3",
   "metadata": {},
   "outputs": [],
   "source": [
    "## Python test file for flask to test locally\n",
    "import requests as r\n",
    "import pandas as pd\n",
    "import json"
   ]
  },
  {
   "cell_type": "code",
   "execution_count": 2,
   "id": "a09f8bdd-06fd-4c77-93b7-7ac436beac18",
   "metadata": {},
   "outputs": [],
   "source": [
    "base_url = 'http://127.0.0.1:5000/'"
   ]
  },
  {
   "cell_type": "code",
   "execution_count": 3,
   "id": "cd98acbd-ff49-4fcd-9710-f18f88bd06ae",
   "metadata": {},
   "outputs": [],
   "source": [
    "#Bedard\n",
    "json_data = [\n",
    "    {\n",
    "    'prospect_pim': 62,\n",
    "    'prospect_pm': 39,\n",
    "    'weight': 185,\n",
    "    'shoots': 'R',\n",
    "    'prospect_category': 'North American Skater',\n",
    "    'birth_month': 7,\n",
    "    'height_cm': 177.8,\n",
    "    'eq_g': 24.29, \n",
    "    'eq_a': 24.64,\n",
    "    'oGVT': 2.15,\n",
    "    'dGVT': 0.03,\n",
    "    'overall_GVT': 2.18,\n",
    "    'position_2': 'F'\n",
    "    }]\n"
   ]
  },
  {
   "cell_type": "code",
   "execution_count": 6,
   "id": "c0a9c63f",
   "metadata": {},
   "outputs": [],
   "source": [
    "#Tavares \n",
    "json_data = [\n",
    "    {\n",
    "    'prospect_pim': 54,\n",
    "    'prospect_pm': 10,\n",
    "    'weight': 209,\n",
    "    'shoots': 'L',\n",
    "    'prospect_category': 'North American Skater',\n",
    "    'birth_month': 9,\n",
    "    'height_cm': 185.42,\n",
    "    'eq_g': 21.33, \n",
    "    'eq_a': 19.91,\n",
    "    'oGVT': 0.37,\n",
    "    'dGVT': 0.06,\n",
    "    'overall_GVT': 0.43,\n",
    "    'position_2': 'F'\n",
    "    }]"
   ]
  },
  {
   "cell_type": "code",
   "execution_count": 7,
   "id": "d3e8038e",
   "metadata": {},
   "outputs": [],
   "source": [
    "import requests\n",
    "URL = \"http://127.0.0.1:5000/predict\"\n",
    "# sending get request and saving the response as response object \n",
    "r = requests.post(url = URL, json = json_data) "
   ]
  },
  {
   "cell_type": "code",
   "execution_count": 8,
   "id": "3086dbe1",
   "metadata": {},
   "outputs": [
    {
     "name": "stdout",
     "output_type": "stream",
     "text": [
      "{'prediction': '[1]'}\n"
     ]
    }
   ],
   "source": [
    "print(r.json())\n"
   ]
  }
 ],
 "metadata": {
  "kernelspec": {
   "display_name": "lighthouse",
   "language": "python",
   "name": "lighthouse"
  },
  "language_info": {
   "codemirror_mode": {
    "name": "ipython",
    "version": 3
   },
   "file_extension": ".py",
   "mimetype": "text/x-python",
   "name": "python",
   "nbconvert_exporter": "python",
   "pygments_lexer": "ipython3",
   "version": "3.9.13"
  }
 },
 "nbformat": 4,
 "nbformat_minor": 5
}
