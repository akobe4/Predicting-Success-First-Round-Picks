{
 "cells": [
  {
   "cell_type": "code",
   "execution_count": 1,
   "id": "41ef6476-fb8b-46f5-bafa-62ca25d46314",
   "metadata": {},
   "outputs": [],
   "source": [
    "import pandas as pd \n",
    "import numpy as np\n",
    "from sklearn.pipeline import Pipeline\n",
    "from sklearn.pipeline import FeatureUnion\n",
    "from sklearn.feature_selection import SelectKBest\n",
    "from sklearn.linear_model import RidgeClassifier\n",
    "from sklearn.model_selection import GridSearchCV\n",
    "from sklearn.svm import SVC\n",
    "from sklearn.compose import ColumnTransformer\n",
    "from sklearn.preprocessing import OneHotEncoder\n",
    "from sklearn.impute import SimpleImputer\n",
    "from sklearn.linear_model import LogisticRegression\n",
    "from sklearn.model_selection import train_test_split\n",
    "from sklearn.preprocessing import StandardScaler\n",
    "from sklearn.ensemble import RandomForestClassifier\n",
    "from sklearn.linear_model import RidgeClassifier \n",
    "import seaborn as sns\n",
    "from sklearn.metrics import accuracy_score\n",
    "import pickle\n",
    "from matplotlib import pyplot as plt\n",
    "sns.set_theme(context = 'talk', style = 'darkgrid')"
   ]
  },
  {
   "cell_type": "code",
   "execution_count": 5,
   "id": "8f95118c-e081-4e25-8034-96dfb61fd84f",
   "metadata": {},
   "outputs": [],
   "source": [
    "data = pd.read_csv(r'C:\\Users\\akobe\\lighthouse-data-notes\\Final-Data\\final_data\\all_transformed_data.csv', index_col = [0])"
   ]
  },
  {
   "cell_type": "code",
   "execution_count": 6,
   "id": "2530a6df-c41e-4f31-973d-d635b0b4b87c",
   "metadata": {},
   "outputs": [],
   "source": [
    "data = data.drop(['dob', 'draft_year', 'translation_factor', 'eq_pts'], axis=1)"
   ]
  },
  {
   "cell_type": "code",
   "execution_count": 8,
   "id": "2504fb12-6e2e-42ec-9aa5-0d1eb454e381",
   "metadata": {},
   "outputs": [
    {
     "data": {
      "text/html": [
       "<div>\n",
       "<style scoped>\n",
       "    .dataframe tbody tr th:only-of-type {\n",
       "        vertical-align: middle;\n",
       "    }\n",
       "\n",
       "    .dataframe tbody tr th {\n",
       "        vertical-align: top;\n",
       "    }\n",
       "\n",
       "    .dataframe thead th {\n",
       "        text-align: right;\n",
       "    }\n",
       "</style>\n",
       "<table border=\"1\" class=\"dataframe\">\n",
       "  <thead>\n",
       "    <tr style=\"text-align: right;\">\n",
       "      <th></th>\n",
       "      <th>prospect_gp</th>\n",
       "      <th>prospect_pim</th>\n",
       "      <th>prospect_pm</th>\n",
       "      <th>birth_country</th>\n",
       "      <th>weight</th>\n",
       "      <th>shoots</th>\n",
       "      <th>position</th>\n",
       "      <th>prospect_category</th>\n",
       "      <th>amateur_league</th>\n",
       "      <th>amateur_team</th>\n",
       "      <th>200+games</th>\n",
       "      <th>birth_month</th>\n",
       "      <th>height_cm</th>\n",
       "      <th>eq_g</th>\n",
       "      <th>eq_a</th>\n",
       "      <th>oGVT</th>\n",
       "      <th>dGVT</th>\n",
       "      <th>overall_GVT</th>\n",
       "    </tr>\n",
       "  </thead>\n",
       "  <tbody>\n",
       "    <tr>\n",
       "      <th>0</th>\n",
       "      <td>56</td>\n",
       "      <td>54</td>\n",
       "      <td>10</td>\n",
       "      <td>CAN</td>\n",
       "      <td>209</td>\n",
       "      <td>L</td>\n",
       "      <td>C</td>\n",
       "      <td>North American Skater</td>\n",
       "      <td>OHL</td>\n",
       "      <td>London</td>\n",
       "      <td>1</td>\n",
       "      <td>9</td>\n",
       "      <td>185.42</td>\n",
       "      <td>21.33</td>\n",
       "      <td>16.91</td>\n",
       "      <td>0.37</td>\n",
       "      <td>0.06</td>\n",
       "      <td>0.43</td>\n",
       "    </tr>\n",
       "    <tr>\n",
       "      <th>1</th>\n",
       "      <td>45</td>\n",
       "      <td>62</td>\n",
       "      <td>21</td>\n",
       "      <td>SWE</td>\n",
       "      <td>220</td>\n",
       "      <td>L</td>\n",
       "      <td>D</td>\n",
       "      <td>European Skater</td>\n",
       "      <td>SWEDEN</td>\n",
       "      <td>Modo</td>\n",
       "      <td>1</td>\n",
       "      <td>12</td>\n",
       "      <td>198.12</td>\n",
       "      <td>6.49</td>\n",
       "      <td>14.84</td>\n",
       "      <td>0.58</td>\n",
       "      <td>0.17</td>\n",
       "      <td>0.75</td>\n",
       "    </tr>\n",
       "  </tbody>\n",
       "</table>\n",
       "</div>"
      ],
      "text/plain": [
       "   prospect_gp  prospect_pim  prospect_pm birth_country  weight shoots  \\\n",
       "0           56            54           10           CAN     209      L   \n",
       "1           45            62           21           SWE     220      L   \n",
       "\n",
       "  position      prospect_category amateur_league amateur_team  200+games  \\\n",
       "0        C  North American Skater            OHL       London          1   \n",
       "1        D        European Skater         SWEDEN         Modo          1   \n",
       "\n",
       "   birth_month  height_cm   eq_g   eq_a  oGVT  dGVT  overall_GVT  \n",
       "0            9     185.42  21.33  16.91  0.37  0.06         0.43  \n",
       "1           12     198.12   6.49  14.84  0.58  0.17         0.75  "
      ]
     },
     "execution_count": 8,
     "metadata": {},
     "output_type": "execute_result"
    }
   ],
   "source": [
    "data.head(2)"
   ]
  },
  {
   "cell_type": "code",
   "execution_count": 9,
   "id": "4295c4a5-eeeb-4b7d-8eae-70466842354b",
   "metadata": {},
   "outputs": [],
   "source": [
    "#split into target variables and features \n",
    "X = data.drop(columns=['200+games']) #features \n",
    "y = data['200+games'] #target variables "
   ]
  },
  {
   "cell_type": "code",
   "execution_count": 12,
   "id": "719feb7a-65f8-4f10-8a62-93f5e90c2b37",
   "metadata": {},
   "outputs": [],
   "source": [
    "#creating test-train-split\n",
    "X_train, X_test, y_train, y_test = train_test_split(X, y, test_size=0.2, random_state=7)"
   ]
  },
  {
   "cell_type": "code",
   "execution_count": 17,
   "id": "f8131672-647f-48c2-bc97-dee46ceb8e14",
   "metadata": {},
   "outputs": [
    {
     "name": "stdout",
     "output_type": "stream",
     "text": [
      "Best test set accuracy: 0.6440677966101694\n",
      "Achieved with hyperparameters: {'classifier': RandomForestClassifier(), 'select_best__k': 7}\n"
     ]
    }
   ],
   "source": [
    "#creating a pipeline \n",
    "#model 1\n",
    "#how to handle numerical and categorical variables \n",
    "numeric_transform = Pipeline([('scaling', StandardScaler())])\n",
    "categorical_transform = Pipeline([('one-hot-encode', OneHotEncoder(handle_unknown='ignore', sparse=False))])\n",
    "\n",
    "#indicating numerica/categorical column \n",
    "preprocessing_tips = ColumnTransformer([('numeric', numeric_transform, ['prospect_gp', 'prospect_pim', 'prospect_pm', 'weight', 'height_cm', 'eq_g', 'eq_a', 'oGVT', 'dGVT', 'overall_GVT']),\n",
    "                                        ('categorical', categorical_transform, ['birth_country', 'shoots', 'position', 'prospect_category', 'amateur_league',  'amateur_team', 'birth_month'])])\n",
    "\n",
    "#pipeline\n",
    "pipeline = Pipeline(steps= [('preprocessing', preprocessing_tips),\n",
    "                            ('select_best', SelectKBest()),\n",
    "                            ('classifier', LogisticRegression())])\n",
    "\n",
    "\n",
    "param_grid = {'classifier': [LogisticRegression(), SVC(), RandomForestClassifier(), RidgeClassifier()],\n",
    "              'select_best__k': [3,4,5,6,7]}\n",
    "\n",
    "grid = GridSearchCV(pipeline, param_grid=param_grid, cv=5)\n",
    "grid.fit(X_train, y_train)\n",
    "\n",
    "best_model = grid.best_estimator_\n",
    "best_hyperparams = grid.best_params_\n",
    "best_acc = grid.score(X_test, y_test)\n",
    "print(f'Best test set accuracy: {best_acc}\\nAchieved with hyperparameters: {best_hyperparams}')"
   ]
  },
  {
   "cell_type": "code",
   "execution_count": 15,
   "id": "db0f0a76-bc58-42c5-ab7b-59eabdec795e",
   "metadata": {},
   "outputs": [],
   "source": [
    "# Save the model\n",
    "with open('model1_transformed_data', 'wb') as f:\n",
    "    pickle.dump(grid, f)"
   ]
  }
 ],
 "metadata": {
  "kernelspec": {
   "display_name": "lighthouse",
   "language": "python",
   "name": "lighthouse"
  },
  "language_info": {
   "codemirror_mode": {
    "name": "ipython",
    "version": 3
   },
   "file_extension": ".py",
   "mimetype": "text/x-python",
   "name": "python",
   "nbconvert_exporter": "python",
   "pygments_lexer": "ipython3",
   "version": "3.9.13"
  }
 },
 "nbformat": 4,
 "nbformat_minor": 5
}
