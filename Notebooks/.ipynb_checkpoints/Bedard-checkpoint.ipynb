{
 "cells": [
  {
   "cell_type": "code",
   "execution_count": 2,
   "id": "e87a41bd-b6cd-482e-83fe-590ffbac9118",
   "metadata": {},
   "outputs": [],
   "source": [
    "import pandas as pd \n",
    "import requests\n",
    "import os\n",
    "import json"
   ]
  },
  {
   "cell_type": "code",
   "execution_count": 3,
   "id": "9db7020a-d84f-49cb-82ef-69a10d9a284f",
   "metadata": {},
   "outputs": [],
   "source": [
    "#pulls Connor Bedard's information "
   ]
  },
  {
   "cell_type": "code",
   "execution_count": 4,
   "id": "ab3af239-b08f-4f60-80fa-04524081bf2b",
   "metadata": {},
   "outputs": [],
   "source": [
    "url = 'https://api.eliteprospects.com/v1/players?offset=0&limit=100&sort=name&firstName=Connor&lastName=Bedard&apiKey='"
   ]
  },
  {
   "cell_type": "code",
   "execution_count": 5,
   "id": "74c80f6d-aa3b-4fa3-bce3-6539424f7736",
   "metadata": {},
   "outputs": [],
   "source": [
    "with open(r'C:\\Users\\akobe\\OneDrive\\Documents\\Keys\\eliteKey.txt') as content:\n",
    "    elite_key = content.read()"
   ]
  },
  {
   "cell_type": "code",
   "execution_count": 6,
   "id": "cef9644f-6f10-4a5b-af7a-0bc58191c868",
   "metadata": {},
   "outputs": [],
   "source": [
    "response = requests.get(url+elite_key)\n",
    "bedard_data = response.json()"
   ]
  },
  {
   "cell_type": "code",
   "execution_count": 7,
   "id": "65bbbe3c-c4f5-4d3e-8d71-a57cd49aa00e",
   "metadata": {},
   "outputs": [
    {
     "data": {
      "application/json": {
       "_links": {
        "first": "https://api.eliteprospects.com/v1/players?offset=0&limit=100&apiKey=BbLo1zDgnGxebtMr0wJnLuaexEqibZ9R&firstName=Connor&lastName=Bedard&sort=name",
        "last": "https://api.eliteprospects.com/v1/players?offset=0&limit=100&apiKey=BbLo1zDgnGxebtMr0wJnLuaexEqibZ9R&firstName=Connor&lastName=Bedard&sort=name",
        "next": null,
        "prev": null
       },
       "_meta": {
        "generatedAt": "2023-03-29T17:58:28.222810Z",
        "limit": 100,
        "offset": 0,
        "totalRecords": 1
       },
       "data": [
        {
         "_links": [
          "https://api.eliteprospects.com/v1/players/535584?apiKey=BbLo1zDgnGxebtMr0wJnLuaexEqibZ9R"
         ],
         "dateOfBirth": "2005-07-17",
         "firstName": "Connor",
         "gender": "male",
         "id": 535584,
         "lastName": "Bedard",
         "name": "Connor Bedard",
         "nationality": {
          "_links": [
           "https://api.eliteprospects.com/v1/countries/CAN?apiKey=BbLo1zDgnGxebtMr0wJnLuaexEqibZ9R"
          ],
          "name": "Canada",
          "slug": "CAN"
         },
         "playerType": "SKATER",
         "position": "F",
         "status": "active"
        }
       ]
      },
      "text/plain": [
       "<IPython.core.display.JSON object>"
      ]
     },
     "execution_count": 7,
     "metadata": {
      "application/json": {
       "expanded": false,
       "root": "root"
      }
     },
     "output_type": "execute_result"
    }
   ],
   "source": [
    "from IPython.display import JSON\n",
    "JSON(bedard_data)"
   ]
  },
  {
   "cell_type": "code",
   "execution_count": 8,
   "id": "cdec5060-e6f6-4a6d-8061-580759f57e43",
   "metadata": {},
   "outputs": [],
   "source": [
    "url2 = 'https://api.eliteprospects.com/v1/players/535584/stats?offset=0&limit=100&sort=season&season=2022-2023&team.teamType=club&apiKey='"
   ]
  },
  {
   "cell_type": "code",
   "execution_count": 9,
   "id": "bca8a857-65fe-4e5c-9265-62f12772b245",
   "metadata": {},
   "outputs": [],
   "source": [
    "response = requests.get(url2+elite_key)\n",
    "bedard_data2 = response.json()"
   ]
  },
  {
   "cell_type": "code",
   "execution_count": 10,
   "id": "a17a41fe-0aa8-4125-bcbd-82c0cb411df9",
   "metadata": {},
   "outputs": [
    {
     "data": {
      "application/json": {
       "_links": {
        "first": "https://api.eliteprospects.com/v1/players/535584/stats?offset=0&limit=100&apiKey=BbLo1zDgnGxebtMr0wJnLuaexEqibZ9R&season=2022-2023&team.teamType=club&sort=season",
        "last": "https://api.eliteprospects.com/v1/players/535584/stats?offset=0&limit=100&apiKey=BbLo1zDgnGxebtMr0wJnLuaexEqibZ9R&season=2022-2023&team.teamType=club&sort=season",
        "next": null,
        "prev": null
       },
       "_meta": {
        "generatedAt": "2023-03-29T17:58:36.295502Z",
        "limit": 100,
        "offset": 0,
        "totalRecords": 1
       },
       "data": [
        {
         "contractType": null,
         "id": 12400485,
         "jerseyNumber": 98,
         "league": {
          "_links": [
           "https://api.eliteprospects.com/v1/leagues/whl?apiKey=BbLo1zDgnGxebtMr0wJnLuaexEqibZ9R"
          ],
          "continent": "NA",
          "country": {
           "_links": [
            "https://api.eliteprospects.com/v1/countries/CAN?apiKey=BbLo1zDgnGxebtMr0wJnLuaexEqibZ9R"
           ],
           "name": "Canada",
           "slug": "CAN"
          },
          "leagueLevel": "major-junior",
          "name": "WHL",
          "slug": "whl",
          "teamClass": "men"
         },
         "leagueName": "WHL",
         "leagueType": "league",
         "playerRole": "C",
         "postseasonName": null,
         "postseasonStats": null,
         "postseasonType": null,
         "regularStats": {
          "A": 72,
          "G": 71,
          "GP": 57,
          "PIM": 62,
          "PM": 39,
          "PPG": 2.51,
          "PTS": 143
         },
         "season": {
          "endYear": 2023,
          "slug": "2022-2023",
          "startYear": 2022
         },
         "status": "rostered",
         "team": {
          "_links": [
           "https://api.eliteprospects.com/v1/teams/862?apiKey=BbLo1zDgnGxebtMr0wJnLuaexEqibZ9R"
          ],
          "continent": "NA",
          "country": {
           "_links": [
            "https://api.eliteprospects.com/v1/countries/CAN?apiKey=BbLo1zDgnGxebtMr0wJnLuaexEqibZ9R"
           ],
           "name": "Canada",
           "slug": "CAN"
          },
          "id": 862,
          "league": {
           "_links": [
            "https://api.eliteprospects.com/v1/leagues/whl?apiKey=BbLo1zDgnGxebtMr0wJnLuaexEqibZ9R"
           ],
           "continent": "NA",
           "country": {
            "_links": [
             "https://api.eliteprospects.com/v1/countries/CAN?apiKey=BbLo1zDgnGxebtMr0wJnLuaexEqibZ9R"
            ],
            "name": "Canada",
            "slug": "CAN"
           },
           "leagueLevel": "major-junior",
           "name": "WHL",
           "slug": "whl",
           "teamClass": "men"
          },
          "name": "Regina Pats",
          "status": "active",
          "teamClass": "men",
          "teamType": "club"
         },
         "teamName": "Regina Pats"
        }
       ]
      },
      "text/plain": [
       "<IPython.core.display.JSON object>"
      ]
     },
     "execution_count": 10,
     "metadata": {
      "application/json": {
       "expanded": false,
       "root": "root"
      }
     },
     "output_type": "execute_result"
    }
   ],
   "source": [
    "from IPython.display import JSON\n",
    "JSON(bedard_data2)"
   ]
  },
  {
   "cell_type": "code",
   "execution_count": 11,
   "id": "868b76cb-c2a6-497a-ad80-85403714c1ab",
   "metadata": {},
   "outputs": [],
   "source": [
    "nhl_url = 'https://statsapi.web.nhl.com/api/v1/draft/prospects/91671'"
   ]
  },
  {
   "cell_type": "code",
   "execution_count": 12,
   "id": "67f7633b-461f-42da-b1f4-2736702d8e8b",
   "metadata": {},
   "outputs": [],
   "source": [
    "response = requests.get(nhl_url)\n",
    "nhl_data = response.json()"
   ]
  },
  {
   "cell_type": "code",
   "execution_count": 13,
   "id": "8df9e999-3dbd-4f89-bfe8-bf13fa7a0a4d",
   "metadata": {
    "scrolled": true,
    "tags": []
   },
   "outputs": [
    {
     "data": {
      "application/json": {
       "copyright": "NHL and the NHL Shield are registered trademarks of the National Hockey League. NHL and NHL team marks are the property of the NHL and its teams. © NHL 2023. All Rights Reserved.",
       "prospects": [
        {
         "amateurLeague": {
          "link": "/api/v1/league/null",
          "name": "WHL"
         },
         "amateurTeam": {
          "link": "/api/v1/teams/null",
          "name": "REGINA"
         },
         "birthCity": "North Vancouver",
         "birthCountry": "CAN",
         "birthDate": "2005-07-17",
         "birthStateProvince": "BC",
         "draftStatus": "Elig",
         "firstName": "Connor",
         "fullName": "Connor Bedard",
         "height": "5' 10\"",
         "id": 91671,
         "lastName": "Bedard",
         "link": "/api/v1/draft/prospects/91671",
         "primaryPosition": {
          "abbreviation": "C",
          "code": "C",
          "name": "Center",
          "type": "Forward"
         },
         "prospectCategory": {
          "id": 1,
          "name": "North American Skater",
          "shortName": "NA Skater"
         },
         "ranks": {
          "draftYear": 2023,
          "midterm": 1
         },
         "shootsCatches": "R",
         "weight": 185
        }
       ]
      },
      "text/plain": [
       "<IPython.core.display.JSON object>"
      ]
     },
     "execution_count": 13,
     "metadata": {
      "application/json": {
       "expanded": false,
       "root": "root"
      }
     },
     "output_type": "execute_result"
    }
   ],
   "source": [
    "from IPython.display import JSON\n",
    "JSON(nhl_data)"
   ]
  }
 ],
 "metadata": {
  "kernelspec": {
   "display_name": "lighthouse",
   "language": "python",
   "name": "lighthouse"
  },
  "language_info": {
   "codemirror_mode": {
    "name": "ipython",
    "version": 3
   },
   "file_extension": ".py",
   "mimetype": "text/x-python",
   "name": "python",
   "nbconvert_exporter": "python",
   "pygments_lexer": "ipython3",
   "version": "3.9.13"
  }
 },
 "nbformat": 4,
 "nbformat_minor": 5
}
