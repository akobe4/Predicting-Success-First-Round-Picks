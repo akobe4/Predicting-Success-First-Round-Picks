{
 "cells": [
  {
   "cell_type": "code",
   "execution_count": 73,
   "id": "f83f8ec5-8af4-46ca-8d72-9a5c2f551fd4",
   "metadata": {},
   "outputs": [
    {
     "ename": "ImportError",
     "evalue": "cannot import name 'join' from 'string' (C:\\Users\\akobe\\anaconda3\\lib\\string.py)",
     "output_type": "error",
     "traceback": [
      "\u001b[1;31m---------------------------------------------------------------------------\u001b[0m",
      "\u001b[1;31mImportError\u001b[0m                               Traceback (most recent call last)",
      "\u001b[1;32m~\\AppData\\Local\\Temp\\ipykernel_308\\3677879957.py\u001b[0m in \u001b[0;36m<module>\u001b[1;34m\u001b[0m\n\u001b[0;32m      3\u001b[0m \u001b[1;32mimport\u001b[0m \u001b[0mos\u001b[0m\u001b[1;33m\u001b[0m\u001b[1;33m\u001b[0m\u001b[0m\n\u001b[0;32m      4\u001b[0m \u001b[1;32mimport\u001b[0m \u001b[0mjson\u001b[0m\u001b[1;33m\u001b[0m\u001b[1;33m\u001b[0m\u001b[0m\n\u001b[1;32m----> 5\u001b[1;33m \u001b[1;32mfrom\u001b[0m \u001b[0mstring\u001b[0m \u001b[1;32mimport\u001b[0m \u001b[0mjoin\u001b[0m\u001b[1;33m\u001b[0m\u001b[1;33m\u001b[0m\u001b[0m\n\u001b[0m",
      "\u001b[1;31mImportError\u001b[0m: cannot import name 'join' from 'string' (C:\\Users\\akobe\\anaconda3\\lib\\string.py)"
     ]
    }
   ],
   "source": [
    "import pandas as pd \n",
    "import requests\n",
    "import os\n",
    "import json"
   ]
  },
  {
   "cell_type": "code",
   "execution_count": 6,
   "id": "11c3e284-036f-45d6-ac20-cd64d4325db5",
   "metadata": {},
   "outputs": [],
   "source": [
    "with open(r'C:\\Users\\akobe\\OneDrive\\Documents\\Keys\\eliteKey.txt') as content:\n",
    "    elite_key = content.read()"
   ]
  },
  {
   "cell_type": "code",
   "execution_count": 25,
   "id": "21ba7328-43c6-43c4-a11f-902c968f8c3b",
   "metadata": {},
   "outputs": [],
   "source": [
    "#import nhl_data\n",
    "nhl_data = pd.read_csv(r'C:\\Users\\akobe\\OneDrive\\Desktop\\Lighthouse\\Final\\Predicting-Success-First-Round-Picks\\Data\\nhl_data.csv', index_col = [0]) #index col makes sures another index column is not needed"
   ]
  },
  {
   "cell_type": "code",
   "execution_count": 89,
   "id": "98fd170a-b0cf-47bb-9c12-a81461d82e5e",
   "metadata": {},
   "outputs": [
    {
     "data": {
      "text/html": [
       "<div>\n",
       "<style scoped>\n",
       "    .dataframe tbody tr th:only-of-type {\n",
       "        vertical-align: middle;\n",
       "    }\n",
       "\n",
       "    .dataframe tbody tr th {\n",
       "        vertical-align: top;\n",
       "    }\n",
       "\n",
       "    .dataframe thead th {\n",
       "        text-align: right;\n",
       "    }\n",
       "</style>\n",
       "<table border=\"1\" class=\"dataframe\">\n",
       "  <thead>\n",
       "    <tr style=\"text-align: right;\">\n",
       "      <th></th>\n",
       "      <th>draft_year</th>\n",
       "      <th>pick_no</th>\n",
       "      <th>team</th>\n",
       "      <th>prospect_name</th>\n",
       "      <th>prospect_id</th>\n",
       "      <th>dob</th>\n",
       "      <th>birth_country</th>\n",
       "      <th>height</th>\n",
       "      <th>weight</th>\n",
       "      <th>shoots</th>\n",
       "      <th>nhl_id</th>\n",
       "      <th>position</th>\n",
       "      <th>prospect_category</th>\n",
       "      <th>amateur_league</th>\n",
       "      <th>amateur_team</th>\n",
       "      <th>nhl_games_played</th>\n",
       "      <th>200+games</th>\n",
       "      <th>player_fname</th>\n",
       "      <th>player_lname</th>\n",
       "    </tr>\n",
       "  </thead>\n",
       "  <tbody>\n",
       "    <tr>\n",
       "      <th>0</th>\n",
       "      <td>2009</td>\n",
       "      <td>1</td>\n",
       "      <td>New York Islanders</td>\n",
       "      <td>John Tavares</td>\n",
       "      <td>24111</td>\n",
       "      <td>1990-09-20</td>\n",
       "      <td>CAN</td>\n",
       "      <td>6' 1\"</td>\n",
       "      <td>209</td>\n",
       "      <td>L</td>\n",
       "      <td>8475166</td>\n",
       "      <td>C</td>\n",
       "      <td>North American Skater</td>\n",
       "      <td>OHL</td>\n",
       "      <td>London</td>\n",
       "      <td>1017</td>\n",
       "      <td>1</td>\n",
       "      <td>John</td>\n",
       "      <td>Tavares</td>\n",
       "    </tr>\n",
       "    <tr>\n",
       "      <th>1</th>\n",
       "      <td>2009</td>\n",
       "      <td>2</td>\n",
       "      <td>Tampa Bay Lightning</td>\n",
       "      <td>Victor Hedman</td>\n",
       "      <td>33799</td>\n",
       "      <td>1990-12-18</td>\n",
       "      <td>SWE</td>\n",
       "      <td>6' 6\"</td>\n",
       "      <td>220</td>\n",
       "      <td>L</td>\n",
       "      <td>8475167</td>\n",
       "      <td>D</td>\n",
       "      <td>European Skater</td>\n",
       "      <td>SWEDEN</td>\n",
       "      <td>Modo</td>\n",
       "      <td>964</td>\n",
       "      <td>1</td>\n",
       "      <td>Victor</td>\n",
       "      <td>Hedman</td>\n",
       "    </tr>\n",
       "  </tbody>\n",
       "</table>\n",
       "</div>"
      ],
      "text/plain": [
       "   draft_year  pick_no                 team  prospect_name  prospect_id  \\\n",
       "0        2009        1   New York Islanders   John Tavares        24111   \n",
       "1        2009        2  Tampa Bay Lightning  Victor Hedman        33799   \n",
       "\n",
       "          dob birth_country height  weight shoots   nhl_id position  \\\n",
       "0  1990-09-20           CAN  6' 1\"     209      L  8475166        C   \n",
       "1  1990-12-18           SWE  6' 6\"     220      L  8475167        D   \n",
       "\n",
       "       prospect_category amateur_league amateur_team  nhl_games_played  \\\n",
       "0  North American Skater            OHL       London              1017   \n",
       "1        European Skater         SWEDEN         Modo               964   \n",
       "\n",
       "   200+games player_fname player_lname  \n",
       "0          1         John      Tavares  \n",
       "1          1       Victor       Hedman  "
      ]
     },
     "execution_count": 89,
     "metadata": {},
     "output_type": "execute_result"
    }
   ],
   "source": [
    "nhl_data.head(2)"
   ]
  },
  {
   "cell_type": "code",
   "execution_count": null,
   "id": "e72c9681-463a-4761-b48b-643af9bb2d23",
   "metadata": {},
   "outputs": [],
   "source": [
    "#update to the correct dob \n",
    "nhl_data.at[11, 'dob'] = '1991-05-09'"
   ]
  },
  {
   "cell_type": "code",
   "execution_count": 77,
   "id": "44cb1eda-4eb9-4729-9c2c-05c0ecd8756c",
   "metadata": {},
   "outputs": [],
   "source": [
    "nhl_data['player_fname'] = nhl_data[\"prospect_name\"].apply(lambda x: x[0:x.find(\" \")])"
   ]
  },
  {
   "cell_type": "code",
   "execution_count": 59,
   "id": "71a312e7-4967-4c8b-92ff-3c8c0a9b5bec",
   "metadata": {},
   "outputs": [],
   "source": [
    "nhl_data['player_lname'] = nhl_data[\"prospect_name\"].apply(lambda x: x[x.find(\" \")+1:])"
   ]
  },
  {
   "cell_type": "code",
   "execution_count": 78,
   "id": "cd168ad0-a9fe-4603-8651-83b11e205745",
   "metadata": {},
   "outputs": [],
   "source": [
    "##get this done a better way \n",
    "nhl_data.at[11, 'player_lname'] = 'De%20Haan'\n",
    "nhl_data.at[195, 'player_lname'] = 'Eriksson%20Ek'\n",
    "nhl_data.at[150, 'player_lname'] = 'Dal%20Colle'"
   ]
  },
  {
   "cell_type": "code",
   "execution_count": 90,
   "id": "18141b03-7729-426b-9133-e60de405ab7b",
   "metadata": {},
   "outputs": [],
   "source": [
    "nhl_id = nhl_data['nhl_id'].tolist()"
   ]
  },
  {
   "cell_type": "code",
   "execution_count": 62,
   "id": "ca752e3f-5af4-4f63-8f6f-63ce9e5513ba",
   "metadata": {},
   "outputs": [
    {
     "data": {
      "text/html": [
       "<div>\n",
       "<style scoped>\n",
       "    .dataframe tbody tr th:only-of-type {\n",
       "        vertical-align: middle;\n",
       "    }\n",
       "\n",
       "    .dataframe tbody tr th {\n",
       "        vertical-align: top;\n",
       "    }\n",
       "\n",
       "    .dataframe thead th {\n",
       "        text-align: right;\n",
       "    }\n",
       "</style>\n",
       "<table border=\"1\" class=\"dataframe\">\n",
       "  <thead>\n",
       "    <tr style=\"text-align: right;\">\n",
       "      <th></th>\n",
       "      <th>draft_year</th>\n",
       "      <th>pick_no</th>\n",
       "      <th>team</th>\n",
       "      <th>prospect_name</th>\n",
       "      <th>prospect_id</th>\n",
       "      <th>dob</th>\n",
       "      <th>birth_country</th>\n",
       "      <th>height</th>\n",
       "      <th>weight</th>\n",
       "      <th>shoots</th>\n",
       "      <th>nhl_id</th>\n",
       "      <th>position</th>\n",
       "      <th>prospect_category</th>\n",
       "      <th>amateur_league</th>\n",
       "      <th>amateur_team</th>\n",
       "      <th>nhl_games_played</th>\n",
       "      <th>200+games</th>\n",
       "      <th>player_fname</th>\n",
       "      <th>player_lname</th>\n",
       "    </tr>\n",
       "  </thead>\n",
       "  <tbody>\n",
       "    <tr>\n",
       "      <th>0</th>\n",
       "      <td>2009</td>\n",
       "      <td>1</td>\n",
       "      <td>New York Islanders</td>\n",
       "      <td>John Tavares</td>\n",
       "      <td>24111</td>\n",
       "      <td>1990-09-20</td>\n",
       "      <td>CAN</td>\n",
       "      <td>6' 1\"</td>\n",
       "      <td>209</td>\n",
       "      <td>L</td>\n",
       "      <td>8475166</td>\n",
       "      <td>C</td>\n",
       "      <td>North American Skater</td>\n",
       "      <td>OHL</td>\n",
       "      <td>London</td>\n",
       "      <td>1017</td>\n",
       "      <td>1</td>\n",
       "      <td>John</td>\n",
       "      <td>Tavares</td>\n",
       "    </tr>\n",
       "  </tbody>\n",
       "</table>\n",
       "</div>"
      ],
      "text/plain": [
       "   draft_year  pick_no                team prospect_name  prospect_id  \\\n",
       "0        2009        1  New York Islanders  John Tavares        24111   \n",
       "\n",
       "          dob birth_country height  weight shoots   nhl_id position  \\\n",
       "0  1990-09-20           CAN  6' 1\"     209      L  8475166        C   \n",
       "\n",
       "       prospect_category amateur_league amateur_team  nhl_games_played  \\\n",
       "0  North American Skater            OHL       London              1017   \n",
       "\n",
       "   200+games player_fname player_lname  \n",
       "0          1         John      Tavares  "
      ]
     },
     "execution_count": 62,
     "metadata": {},
     "output_type": "execute_result"
    }
   ],
   "source": [
    "nhl_data.head(1)"
   ]
  },
  {
   "cell_type": "code",
   "execution_count": 79,
   "id": "f9b94e6d-4d29-425a-8a9b-c62769957225",
   "metadata": {},
   "outputs": [],
   "source": [
    "#create a list of player names - for API call \n",
    "player_fname = []\n",
    "player_lname = []\n",
    "\n",
    "player_fname = nhl_data['player_fname'].tolist()\n",
    "player_lname = nhl_data['player_lname'].tolist()"
   ]
  },
  {
   "cell_type": "code",
   "execution_count": 80,
   "id": "22048e31-5e1c-41c2-984a-cdeadbc6bced",
   "metadata": {},
   "outputs": [],
   "source": [
    "#create a list of dob - for API call \n",
    "dob = []\n",
    "dob =  nhl_data['dob'].tolist()"
   ]
  },
  {
   "cell_type": "code",
   "execution_count": 81,
   "id": "ad26bb21-f6d3-4871-8e58-07c0ad0df9b7",
   "metadata": {},
   "outputs": [],
   "source": [
    "all_elite_url = []\n",
    "for i in range(296):\n",
    "    first_name = player_fname[i]\n",
    "    last_name = player_lname[i]\n",
    "    birth_date = dob[i]\n",
    "    elite_url = 'https://api.eliteprospects.com/v1/players?offset=0&limit=1000&sort=name&name='+first_name+'%20'+last_name+'&dateOfBirth='+str(birth_date)+'&apiKey='\n",
    "    all_elite_url.append(elite_url)"
   ]
  },
  {
   "cell_type": "code",
   "execution_count": 82,
   "id": "733a6732-3a87-43fb-b4ad-9fea2855e325",
   "metadata": {
    "scrolled": true,
    "tags": []
   },
   "outputs": [
    {
     "data": {
      "text/plain": [
       "['https://api.eliteprospects.com/v1/players?offset=0&limit=1000&sort=name&name=John%20Tavares&dateOfBirth=1990-09-20&apiKey=',\n",
       " 'https://api.eliteprospects.com/v1/players?offset=0&limit=1000&sort=name&name=Victor%20Hedman&dateOfBirth=1990-12-18&apiKey=',\n",
       " 'https://api.eliteprospects.com/v1/players?offset=0&limit=1000&sort=name&name=Matt%20Duchene&dateOfBirth=1991-01-16&apiKey=',\n",
       " 'https://api.eliteprospects.com/v1/players?offset=0&limit=1000&sort=name&name=Evander%20Kane&dateOfBirth=1991-08-02&apiKey=',\n",
       " 'https://api.eliteprospects.com/v1/players?offset=0&limit=1000&sort=name&name=Brayden%20Schenn&dateOfBirth=1991-08-22&apiKey=',\n",
       " 'https://api.eliteprospects.com/v1/players?offset=0&limit=1000&sort=name&name=Oliver%20Ekman-Larsson&dateOfBirth=1991-07-17&apiKey=',\n",
       " 'https://api.eliteprospects.com/v1/players?offset=0&limit=1000&sort=name&name=Nazem%20Kadri&dateOfBirth=1990-10-06&apiKey=',\n",
       " 'https://api.eliteprospects.com/v1/players?offset=0&limit=1000&sort=name&name=Scott%20Glennie&dateOfBirth=1991-02-22&apiKey=',\n",
       " 'https://api.eliteprospects.com/v1/players?offset=0&limit=1000&sort=name&name=Jared%20Cowen&dateOfBirth=1991-01-25&apiKey=',\n",
       " 'https://api.eliteprospects.com/v1/players?offset=0&limit=1000&sort=name&name=Magnus%20Paajarvi&dateOfBirth=1991-04-12&apiKey=',\n",
       " 'https://api.eliteprospects.com/v1/players?offset=0&limit=1000&sort=name&name=Ryan%20Ellis&dateOfBirth=1991-01-03&apiKey=',\n",
       " 'https://api.eliteprospects.com/v1/players?offset=0&limit=1000&sort=name&name=Calvin%20De%20Haan&dateOfBirth=1991-05-09&apiKey=',\n",
       " 'https://api.eliteprospects.com/v1/players?offset=0&limit=1000&sort=name&name=Zack%20Kassian&dateOfBirth=1991-01-24&apiKey=',\n",
       " 'https://api.eliteprospects.com/v1/players?offset=0&limit=1000&sort=name&name=Dmitry%20Kulikov&dateOfBirth=1990-10-29&apiKey=',\n",
       " 'https://api.eliteprospects.com/v1/players?offset=0&limit=1000&sort=name&name=Peter%20Holland&dateOfBirth=1991-01-14&apiKey=',\n",
       " 'https://api.eliteprospects.com/v1/players?offset=0&limit=1000&sort=name&name=Nick%20Leddy&dateOfBirth=1991-03-20&apiKey=',\n",
       " 'https://api.eliteprospects.com/v1/players?offset=0&limit=1000&sort=name&name=David%20Rundblad&dateOfBirth=1990-10-08&apiKey=',\n",
       " 'https://api.eliteprospects.com/v1/players?offset=0&limit=1000&sort=name&name=Louis%20Leblanc&dateOfBirth=1991-01-26&apiKey=',\n",
       " 'https://api.eliteprospects.com/v1/players?offset=0&limit=1000&sort=name&name=Chris%20Kreider&dateOfBirth=1991-04-30&apiKey=',\n",
       " 'https://api.eliteprospects.com/v1/players?offset=0&limit=1000&sort=name&name=Jacob%20Josefson&dateOfBirth=1991-03-02&apiKey=',\n",
       " 'https://api.eliteprospects.com/v1/players?offset=0&limit=1000&sort=name&name=John%20Moore&dateOfBirth=1990-11-19&apiKey=',\n",
       " 'https://api.eliteprospects.com/v1/players?offset=0&limit=1000&sort=name&name=Jordan%20Schroeder&dateOfBirth=1990-09-29&apiKey=',\n",
       " 'https://api.eliteprospects.com/v1/players?offset=0&limit=1000&sort=name&name=Tim%20Erixon&dateOfBirth=1991-02-24&apiKey=',\n",
       " 'https://api.eliteprospects.com/v1/players?offset=0&limit=1000&sort=name&name=Marcus%20Johansson&dateOfBirth=1990-10-06&apiKey=',\n",
       " 'https://api.eliteprospects.com/v1/players?offset=0&limit=1000&sort=name&name=Jordan%20Caron&dateOfBirth=1990-11-02&apiKey=',\n",
       " 'https://api.eliteprospects.com/v1/players?offset=0&limit=1000&sort=name&name=Kyle%20Palmieri&dateOfBirth=1991-02-01&apiKey=',\n",
       " 'https://api.eliteprospects.com/v1/players?offset=0&limit=1000&sort=name&name=Philippe%20Paradis&dateOfBirth=1991-01-02&apiKey=',\n",
       " 'https://api.eliteprospects.com/v1/players?offset=0&limit=1000&sort=name&name=Dylan%20Olsen&dateOfBirth=1991-01-03&apiKey=',\n",
       " 'https://api.eliteprospects.com/v1/players?offset=0&limit=1000&sort=name&name=Carter%20Ashton&dateOfBirth=1991-04-01&apiKey=',\n",
       " 'https://api.eliteprospects.com/v1/players?offset=0&limit=1000&sort=name&name=Simon%20Despres&dateOfBirth=1991-01-26&apiKey=',\n",
       " 'https://api.eliteprospects.com/v1/players?offset=0&limit=1000&sort=name&name=Taylor%20Hall&dateOfBirth=1991-11-14&apiKey=',\n",
       " 'https://api.eliteprospects.com/v1/players?offset=0&limit=1000&sort=name&name=Tyler%20Seguin&dateOfBirth=1992-01-31&apiKey=',\n",
       " 'https://api.eliteprospects.com/v1/players?offset=0&limit=1000&sort=name&name=Erik%20Gudbranson&dateOfBirth=1992-01-07&apiKey=',\n",
       " 'https://api.eliteprospects.com/v1/players?offset=0&limit=1000&sort=name&name=Ryan%20Johansen&dateOfBirth=1992-07-31&apiKey=',\n",
       " 'https://api.eliteprospects.com/v1/players?offset=0&limit=1000&sort=name&name=Nino%20Niederreiter&dateOfBirth=1992-09-08&apiKey=',\n",
       " 'https://api.eliteprospects.com/v1/players?offset=0&limit=1000&sort=name&name=Brett%20Connolly&dateOfBirth=1992-05-02&apiKey=',\n",
       " 'https://api.eliteprospects.com/v1/players?offset=0&limit=1000&sort=name&name=Jeff%20Skinner&dateOfBirth=1992-05-16&apiKey=',\n",
       " 'https://api.eliteprospects.com/v1/players?offset=0&limit=1000&sort=name&name=Alexander%20Burmistrov&dateOfBirth=1991-10-21&apiKey=',\n",
       " 'https://api.eliteprospects.com/v1/players?offset=0&limit=1000&sort=name&name=Mikael%20Granlund&dateOfBirth=1992-02-26&apiKey=',\n",
       " 'https://api.eliteprospects.com/v1/players?offset=0&limit=1000&sort=name&name=Dylan%20Mcilrath&dateOfBirth=1992-04-20&apiKey=',\n",
       " 'https://api.eliteprospects.com/v1/players?offset=0&limit=1000&sort=name&name=Cam%20Fowler&dateOfBirth=1991-12-05&apiKey=',\n",
       " 'https://api.eliteprospects.com/v1/players?offset=0&limit=1000&sort=name&name=Brandon%20Gormley&dateOfBirth=1992-02-18&apiKey=',\n",
       " 'https://api.eliteprospects.com/v1/players?offset=0&limit=1000&sort=name&name=Jaden%20Schwartz&dateOfBirth=1992-06-25&apiKey=',\n",
       " 'https://api.eliteprospects.com/v1/players?offset=0&limit=1000&sort=name&name=Derek%20Forbort&dateOfBirth=1992-03-04&apiKey=',\n",
       " 'https://api.eliteprospects.com/v1/players?offset=0&limit=1000&sort=name&name=Vladimir%20Tarasenko&dateOfBirth=1991-12-13&apiKey=',\n",
       " 'https://api.eliteprospects.com/v1/players?offset=0&limit=1000&sort=name&name=Joey%20Hishon&dateOfBirth=1991-10-20&apiKey=',\n",
       " 'https://api.eliteprospects.com/v1/players?offset=0&limit=1000&sort=name&name=Austin%20Watson&dateOfBirth=1992-01-13&apiKey=',\n",
       " 'https://api.eliteprospects.com/v1/players?offset=0&limit=1000&sort=name&name=Nick%20Bjugstad&dateOfBirth=1992-07-17&apiKey=',\n",
       " 'https://api.eliteprospects.com/v1/players?offset=0&limit=1000&sort=name&name=Beau%20Bennett&dateOfBirth=1991-11-27&apiKey=',\n",
       " 'https://api.eliteprospects.com/v1/players?offset=0&limit=1000&sort=name&name=Riley%20Sheahan&dateOfBirth=1991-12-07&apiKey=',\n",
       " 'https://api.eliteprospects.com/v1/players?offset=0&limit=1000&sort=name&name=Jarred%20Tinordi&dateOfBirth=1992-02-20&apiKey=',\n",
       " 'https://api.eliteprospects.com/v1/players?offset=0&limit=1000&sort=name&name=Mark%20Pysyk&dateOfBirth=1992-01-11&apiKey=',\n",
       " 'https://api.eliteprospects.com/v1/players?offset=0&limit=1000&sort=name&name=Kevin%20Hayes&dateOfBirth=1992-05-08&apiKey=',\n",
       " 'https://api.eliteprospects.com/v1/players?offset=0&limit=1000&sort=name&name=Quinton%20Howden&dateOfBirth=1992-01-21&apiKey=',\n",
       " 'https://api.eliteprospects.com/v1/players?offset=0&limit=1000&sort=name&name=Evgeny%20Kuznetsov&dateOfBirth=1992-05-19&apiKey=',\n",
       " 'https://api.eliteprospects.com/v1/players?offset=0&limit=1000&sort=name&name=Charlie%20Coyle&dateOfBirth=1992-03-02&apiKey=',\n",
       " 'https://api.eliteprospects.com/v1/players?offset=0&limit=1000&sort=name&name=Emerson%20Etem&dateOfBirth=1992-06-16&apiKey=',\n",
       " 'https://api.eliteprospects.com/v1/players?offset=0&limit=1000&sort=name&name=Brock%20Nelson&dateOfBirth=1991-10-15&apiKey=',\n",
       " 'https://api.eliteprospects.com/v1/players?offset=0&limit=1000&sort=name&name=Ryan%20Nugent-Hopkins&dateOfBirth=1993-04-12&apiKey=',\n",
       " 'https://api.eliteprospects.com/v1/players?offset=0&limit=1000&sort=name&name=Gabriel%20Landeskog&dateOfBirth=1992-11-23&apiKey=',\n",
       " 'https://api.eliteprospects.com/v1/players?offset=0&limit=1000&sort=name&name=Jonathan%20Huberdeau&dateOfBirth=1993-06-04&apiKey=',\n",
       " 'https://api.eliteprospects.com/v1/players?offset=0&limit=1000&sort=name&name=Adam%20Larsson&dateOfBirth=1992-11-12&apiKey=',\n",
       " 'https://api.eliteprospects.com/v1/players?offset=0&limit=1000&sort=name&name=Ryan%20Strome&dateOfBirth=1993-07-11&apiKey=',\n",
       " 'https://api.eliteprospects.com/v1/players?offset=0&limit=1000&sort=name&name=Mika%20Zibanejad&dateOfBirth=1993-04-18&apiKey=',\n",
       " 'https://api.eliteprospects.com/v1/players?offset=0&limit=1000&sort=name&name=Mark%20Scheifele&dateOfBirth=1993-03-15&apiKey=',\n",
       " 'https://api.eliteprospects.com/v1/players?offset=0&limit=1000&sort=name&name=Sean%20Couturier&dateOfBirth=1992-12-07&apiKey=',\n",
       " 'https://api.eliteprospects.com/v1/players?offset=0&limit=1000&sort=name&name=Dougie%20Hamilton&dateOfBirth=1993-06-17&apiKey=',\n",
       " 'https://api.eliteprospects.com/v1/players?offset=0&limit=1000&sort=name&name=Jonas%20Brodin&dateOfBirth=1993-07-12&apiKey=',\n",
       " 'https://api.eliteprospects.com/v1/players?offset=0&limit=1000&sort=name&name=Duncan%20Siemens&dateOfBirth=1993-09-07&apiKey=',\n",
       " 'https://api.eliteprospects.com/v1/players?offset=0&limit=1000&sort=name&name=Ryan%20Murphy&dateOfBirth=1993-03-31&apiKey=',\n",
       " 'https://api.eliteprospects.com/v1/players?offset=0&limit=1000&sort=name&name=Sven%20Baertschi&dateOfBirth=1992-10-05&apiKey=',\n",
       " 'https://api.eliteprospects.com/v1/players?offset=0&limit=1000&sort=name&name=Jamie%20Oleksiak&dateOfBirth=1992-12-21&apiKey=',\n",
       " 'https://api.eliteprospects.com/v1/players?offset=0&limit=1000&sort=name&name=J.t.%20Miller&dateOfBirth=1993-03-14&apiKey=',\n",
       " 'https://api.eliteprospects.com/v1/players?offset=0&limit=1000&sort=name&name=Joel%20Armia&dateOfBirth=1993-05-31&apiKey=',\n",
       " 'https://api.eliteprospects.com/v1/players?offset=0&limit=1000&sort=name&name=Nathan%20Beaulieu&dateOfBirth=1992-12-05&apiKey=',\n",
       " 'https://api.eliteprospects.com/v1/players?offset=0&limit=1000&sort=name&name=Mark%20Mcneill&dateOfBirth=1993-02-22&apiKey=',\n",
       " 'https://api.eliteprospects.com/v1/players?offset=0&limit=1000&sort=name&name=Oscar%20Klefbom&dateOfBirth=1993-07-20&apiKey=',\n",
       " 'https://api.eliteprospects.com/v1/players?offset=0&limit=1000&sort=name&name=Connor%20Murphy&dateOfBirth=1993-03-26&apiKey=',\n",
       " 'https://api.eliteprospects.com/v1/players?offset=0&limit=1000&sort=name&name=Stefan%20Noesen&dateOfBirth=1993-02-12&apiKey=',\n",
       " 'https://api.eliteprospects.com/v1/players?offset=0&limit=1000&sort=name&name=Tyler%20Biggs&dateOfBirth=1993-04-30&apiKey=',\n",
       " 'https://api.eliteprospects.com/v1/players?offset=0&limit=1000&sort=name&name=Joe%20Morrow&dateOfBirth=1992-12-09&apiKey=',\n",
       " 'https://api.eliteprospects.com/v1/players?offset=0&limit=1000&sort=name&name=Matt%20Puempel&dateOfBirth=1993-01-24&apiKey=',\n",
       " 'https://api.eliteprospects.com/v1/players?offset=0&limit=1000&sort=name&name=Stuart%20Percy&dateOfBirth=1993-05-18&apiKey=',\n",
       " 'https://api.eliteprospects.com/v1/players?offset=0&limit=1000&sort=name&name=Phillip%20Danault&dateOfBirth=1993-02-24&apiKey=',\n",
       " 'https://api.eliteprospects.com/v1/players?offset=0&limit=1000&sort=name&name=Vladislav%20Namestnikov&dateOfBirth=1992-11-22&apiKey=',\n",
       " 'https://api.eliteprospects.com/v1/players?offset=0&limit=1000&sort=name&name=Zack%20Phillips&dateOfBirth=1992-10-28&apiKey=',\n",
       " 'https://api.eliteprospects.com/v1/players?offset=0&limit=1000&sort=name&name=Nicklas%20Jensen&dateOfBirth=1993-03-06&apiKey=',\n",
       " 'https://api.eliteprospects.com/v1/players?offset=0&limit=1000&sort=name&name=Rickard%20Rakell&dateOfBirth=1993-05-05&apiKey=',\n",
       " 'https://api.eliteprospects.com/v1/players?offset=0&limit=1000&sort=name&name=Nail%20Yakupov&dateOfBirth=1993-10-06&apiKey=',\n",
       " 'https://api.eliteprospects.com/v1/players?offset=0&limit=1000&sort=name&name=Ryan%20Murray&dateOfBirth=1993-09-27&apiKey=',\n",
       " 'https://api.eliteprospects.com/v1/players?offset=0&limit=1000&sort=name&name=Alex%20Galchenyuk&dateOfBirth=1994-02-12&apiKey=',\n",
       " 'https://api.eliteprospects.com/v1/players?offset=0&limit=1000&sort=name&name=Griffin%20Reinhart&dateOfBirth=1994-01-24&apiKey=',\n",
       " 'https://api.eliteprospects.com/v1/players?offset=0&limit=1000&sort=name&name=Morgan%20Rielly&dateOfBirth=1994-03-09&apiKey=',\n",
       " 'https://api.eliteprospects.com/v1/players?offset=0&limit=1000&sort=name&name=Hampus%20Lindholm&dateOfBirth=1994-01-20&apiKey=',\n",
       " 'https://api.eliteprospects.com/v1/players?offset=0&limit=1000&sort=name&name=Matt%20Dumba&dateOfBirth=1994-07-25&apiKey=',\n",
       " 'https://api.eliteprospects.com/v1/players?offset=0&limit=1000&sort=name&name=Derrick%20Pouliot&dateOfBirth=1994-01-16&apiKey=',\n",
       " 'https://api.eliteprospects.com/v1/players?offset=0&limit=1000&sort=name&name=Jacob%20Trouba&dateOfBirth=1994-02-26&apiKey=',\n",
       " 'https://api.eliteprospects.com/v1/players?offset=0&limit=1000&sort=name&name=Slater%20Koekkoek&dateOfBirth=1994-02-18&apiKey=',\n",
       " 'https://api.eliteprospects.com/v1/players?offset=0&limit=1000&sort=name&name=Filip%20Forsberg&dateOfBirth=1994-08-13&apiKey=',\n",
       " 'https://api.eliteprospects.com/v1/players?offset=0&limit=1000&sort=name&name=Mikhail%20Grigorenko&dateOfBirth=1994-05-16&apiKey=',\n",
       " 'https://api.eliteprospects.com/v1/players?offset=0&limit=1000&sort=name&name=Radek%20Faksa&dateOfBirth=1994-01-09&apiKey=',\n",
       " 'https://api.eliteprospects.com/v1/players?offset=0&limit=1000&sort=name&name=Zemgus%20Girgensons&dateOfBirth=1994-01-05&apiKey=',\n",
       " 'https://api.eliteprospects.com/v1/players?offset=0&limit=1000&sort=name&name=Cody%20Ceci&dateOfBirth=1993-12-21&apiKey=',\n",
       " 'https://api.eliteprospects.com/v1/players?offset=0&limit=1000&sort=name&name=Tom%20Wilson&dateOfBirth=1994-03-29&apiKey=',\n",
       " 'https://api.eliteprospects.com/v1/players?offset=0&limit=1000&sort=name&name=Tomas%20Hertl&dateOfBirth=1993-11-12&apiKey=',\n",
       " 'https://api.eliteprospects.com/v1/players?offset=0&limit=1000&sort=name&name=Teuvo%20Teravainen&dateOfBirth=1994-09-11&apiKey=',\n",
       " 'https://api.eliteprospects.com/v1/players?offset=0&limit=1000&sort=name&name=Scott%20Laughton&dateOfBirth=1994-05-30&apiKey=',\n",
       " 'https://api.eliteprospects.com/v1/players?offset=0&limit=1000&sort=name&name=Mark%20Jankowski&dateOfBirth=1994-09-13&apiKey=',\n",
       " 'https://api.eliteprospects.com/v1/players?offset=0&limit=1000&sort=name&name=Olli%20Maatta&dateOfBirth=1994-08-22&apiKey=',\n",
       " 'https://api.eliteprospects.com/v1/players?offset=0&limit=1000&sort=name&name=Mike%20Matheson&dateOfBirth=1994-02-27&apiKey=',\n",
       " 'https://api.eliteprospects.com/v1/players?offset=0&limit=1000&sort=name&name=Jordan%20Schmaltz&dateOfBirth=1993-10-08&apiKey=',\n",
       " 'https://api.eliteprospects.com/v1/players?offset=0&limit=1000&sort=name&name=Brendan%20Gaunce&dateOfBirth=1994-03-25&apiKey=',\n",
       " 'https://api.eliteprospects.com/v1/players?offset=0&limit=1000&sort=name&name=Henrik%20Samuelsson&dateOfBirth=1994-02-07&apiKey=',\n",
       " 'https://api.eliteprospects.com/v1/players?offset=0&limit=1000&sort=name&name=Brady%20Skjei&dateOfBirth=1994-03-26&apiKey=',\n",
       " 'https://api.eliteprospects.com/v1/players?offset=0&limit=1000&sort=name&name=Stefan%20Matteau&dateOfBirth=1994-02-23&apiKey=',\n",
       " 'https://api.eliteprospects.com/v1/players?offset=0&limit=1000&sort=name&name=Tanner%20Pearson&dateOfBirth=1992-08-10&apiKey=',\n",
       " 'https://api.eliteprospects.com/v1/players?offset=0&limit=1000&sort=name&name=Nathan%20Mackinnon&dateOfBirth=1995-09-01&apiKey=',\n",
       " 'https://api.eliteprospects.com/v1/players?offset=0&limit=1000&sort=name&name=Aleksander%20Barkov&dateOfBirth=1995-09-02&apiKey=',\n",
       " 'https://api.eliteprospects.com/v1/players?offset=0&limit=1000&sort=name&name=Jonathan%20Drouin&dateOfBirth=1995-03-28&apiKey=',\n",
       " 'https://api.eliteprospects.com/v1/players?offset=0&limit=1000&sort=name&name=Seth%20Jones&dateOfBirth=1994-10-03&apiKey=',\n",
       " 'https://api.eliteprospects.com/v1/players?offset=0&limit=1000&sort=name&name=Elias%20Lindholm&dateOfBirth=1994-12-02&apiKey=',\n",
       " 'https://api.eliteprospects.com/v1/players?offset=0&limit=1000&sort=name&name=Sean%20Monahan&dateOfBirth=1994-10-12&apiKey=',\n",
       " 'https://api.eliteprospects.com/v1/players?offset=0&limit=1000&sort=name&name=Darnell%20Nurse&dateOfBirth=1995-02-04&apiKey=',\n",
       " 'https://api.eliteprospects.com/v1/players?offset=0&limit=1000&sort=name&name=Rasmus%20Ristolainen&dateOfBirth=1994-10-27&apiKey=',\n",
       " 'https://api.eliteprospects.com/v1/players?offset=0&limit=1000&sort=name&name=Bo%20Horvat&dateOfBirth=1995-04-05&apiKey=',\n",
       " 'https://api.eliteprospects.com/v1/players?offset=0&limit=1000&sort=name&name=Valeri%20Nichushkin&dateOfBirth=1995-03-04&apiKey=',\n",
       " 'https://api.eliteprospects.com/v1/players?offset=0&limit=1000&sort=name&name=Samuel%20Morin&dateOfBirth=1995-07-12&apiKey=',\n",
       " 'https://api.eliteprospects.com/v1/players?offset=0&limit=1000&sort=name&name=Max%20Domi&dateOfBirth=1995-03-02&apiKey=',\n",
       " 'https://api.eliteprospects.com/v1/players?offset=0&limit=1000&sort=name&name=Josh%20Morrissey&dateOfBirth=1995-03-28&apiKey=',\n",
       " 'https://api.eliteprospects.com/v1/players?offset=0&limit=1000&sort=name&name=Alex%20Wennberg&dateOfBirth=1994-09-22&apiKey=',\n",
       " 'https://api.eliteprospects.com/v1/players?offset=0&limit=1000&sort=name&name=Ryan%20Pulock&dateOfBirth=1994-10-06&apiKey=',\n",
       " 'https://api.eliteprospects.com/v1/players?offset=0&limit=1000&sort=name&name=Nikita%20Zadorov&dateOfBirth=1995-04-16&apiKey=',\n",
       " 'https://api.eliteprospects.com/v1/players?offset=0&limit=1000&sort=name&name=Curtis%20Lazar&dateOfBirth=1995-02-02&apiKey=',\n",
       " 'https://api.eliteprospects.com/v1/players?offset=0&limit=1000&sort=name&name=Mirco%20Mueller&dateOfBirth=1995-03-21&apiKey=',\n",
       " 'https://api.eliteprospects.com/v1/players?offset=0&limit=1000&sort=name&name=Kerby%20Rychel&dateOfBirth=1994-10-07&apiKey=',\n",
       " 'https://api.eliteprospects.com/v1/players?offset=0&limit=1000&sort=name&name=Anthony%20Mantha&dateOfBirth=1994-09-16&apiKey=',\n",
       " 'https://api.eliteprospects.com/v1/players?offset=0&limit=1000&sort=name&name=Frederik%20Gauthier&dateOfBirth=1995-04-26&apiKey=',\n",
       " 'https://api.eliteprospects.com/v1/players?offset=0&limit=1000&sort=name&name=Emile%20Poirier&dateOfBirth=1994-12-14&apiKey=',\n",
       " 'https://api.eliteprospects.com/v1/players?offset=0&limit=1000&sort=name&name=Andre%20Burakovsky&dateOfBirth=1995-02-09&apiKey=',\n",
       " 'https://api.eliteprospects.com/v1/players?offset=0&limit=1000&sort=name&name=Hunter%20Shinkaruk&dateOfBirth=1994-10-13&apiKey=',\n",
       " 'https://api.eliteprospects.com/v1/players?offset=0&limit=1000&sort=name&name=Michael%20Mccarron&dateOfBirth=1995-03-07&apiKey=',\n",
       " 'https://api.eliteprospects.com/v1/players?offset=0&limit=1000&sort=name&name=Shea%20Theodore&dateOfBirth=1995-08-03&apiKey=',\n",
       " 'https://api.eliteprospects.com/v1/players?offset=0&limit=1000&sort=name&name=Marko%20Dano&dateOfBirth=1994-11-30&apiKey=',\n",
       " 'https://api.eliteprospects.com/v1/players?offset=0&limit=1000&sort=name&name=Morgan%20Klimchuk&dateOfBirth=1995-03-02&apiKey=',\n",
       " 'https://api.eliteprospects.com/v1/players?offset=0&limit=1000&sort=name&name=Jason%20Dickinson&dateOfBirth=1995-07-04&apiKey=',\n",
       " 'https://api.eliteprospects.com/v1/players?offset=0&limit=1000&sort=name&name=Ryan%20Hartman&dateOfBirth=1994-09-20&apiKey=',\n",
       " 'https://api.eliteprospects.com/v1/players?offset=0&limit=1000&sort=name&name=Aaron%20Ekblad&dateOfBirth=1996-02-07&apiKey=',\n",
       " 'https://api.eliteprospects.com/v1/players?offset=0&limit=1000&sort=name&name=Sam%20Reinhart&dateOfBirth=1995-11-06&apiKey=',\n",
       " 'https://api.eliteprospects.com/v1/players?offset=0&limit=1000&sort=name&name=Leon%20Draisaitl&dateOfBirth=1995-10-27&apiKey=',\n",
       " 'https://api.eliteprospects.com/v1/players?offset=0&limit=1000&sort=name&name=Sam%20Bennett&dateOfBirth=1996-06-20&apiKey=',\n",
       " 'https://api.eliteprospects.com/v1/players?offset=0&limit=1000&sort=name&name=Michael%20Dal%20Colle&dateOfBirth=1996-06-20&apiKey=',\n",
       " 'https://api.eliteprospects.com/v1/players?offset=0&limit=1000&sort=name&name=Jake%20Virtanen&dateOfBirth=1996-08-17&apiKey=',\n",
       " 'https://api.eliteprospects.com/v1/players?offset=0&limit=1000&sort=name&name=Haydn%20Fleury&dateOfBirth=1996-07-08&apiKey=',\n",
       " 'https://api.eliteprospects.com/v1/players?offset=0&limit=1000&sort=name&name=William%20Nylander&dateOfBirth=1996-05-01&apiKey=',\n",
       " 'https://api.eliteprospects.com/v1/players?offset=0&limit=1000&sort=name&name=Nikolaj%20Ehlers&dateOfBirth=1996-02-14&apiKey=',\n",
       " 'https://api.eliteprospects.com/v1/players?offset=0&limit=1000&sort=name&name=Nick%20Ritchie&dateOfBirth=1995-12-05&apiKey=',\n",
       " 'https://api.eliteprospects.com/v1/players?offset=0&limit=1000&sort=name&name=Kevin%20Fiala&dateOfBirth=1996-07-22&apiKey=',\n",
       " 'https://api.eliteprospects.com/v1/players?offset=0&limit=1000&sort=name&name=Brendan%20Perlini&dateOfBirth=1996-04-27&apiKey=',\n",
       " 'https://api.eliteprospects.com/v1/players?offset=0&limit=1000&sort=name&name=Jakub%20Vrana&dateOfBirth=1996-02-28&apiKey=',\n",
       " 'https://api.eliteprospects.com/v1/players?offset=0&limit=1000&sort=name&name=Julius%20Honka&dateOfBirth=1995-12-03&apiKey=',\n",
       " 'https://api.eliteprospects.com/v1/players?offset=0&limit=1000&sort=name&name=Dylan%20Larkin&dateOfBirth=1996-07-30&apiKey=',\n",
       " 'https://api.eliteprospects.com/v1/players?offset=0&limit=1000&sort=name&name=Sonny%20Milano&dateOfBirth=1996-05-12&apiKey=',\n",
       " 'https://api.eliteprospects.com/v1/players?offset=0&limit=1000&sort=name&name=Travis%20Sanheim&dateOfBirth=1996-03-29&apiKey=',\n",
       " 'https://api.eliteprospects.com/v1/players?offset=0&limit=1000&sort=name&name=Alex%20Tuch&dateOfBirth=1996-05-10&apiKey=',\n",
       " 'https://api.eliteprospects.com/v1/players?offset=0&limit=1000&sort=name&name=Tony%20Deangelo&dateOfBirth=1995-10-24&apiKey=',\n",
       " 'https://api.eliteprospects.com/v1/players?offset=0&limit=1000&sort=name&name=Nick%20Schmaltz&dateOfBirth=1996-02-23&apiKey=',\n",
       " 'https://api.eliteprospects.com/v1/players?offset=0&limit=1000&sort=name&name=Robby%20Fabbri&dateOfBirth=1996-01-22&apiKey=',\n",
       " 'https://api.eliteprospects.com/v1/players?offset=0&limit=1000&sort=name&name=Kasperi%20Kapanen&dateOfBirth=1996-07-23&apiKey=',\n",
       " 'https://api.eliteprospects.com/v1/players?offset=0&limit=1000&sort=name&name=Conner%20Bleackley&dateOfBirth=1996-02-07&apiKey=',\n",
       " 'https://api.eliteprospects.com/v1/players?offset=0&limit=1000&sort=name&name=Jared%20Mccann&dateOfBirth=1996-05-31&apiKey=',\n",
       " 'https://api.eliteprospects.com/v1/players?offset=0&limit=1000&sort=name&name=David%20Pastrnak&dateOfBirth=1996-05-25&apiKey=',\n",
       " 'https://api.eliteprospects.com/v1/players?offset=0&limit=1000&sort=name&name=Nikita%20Scherbak&dateOfBirth=1995-12-30&apiKey=',\n",
       " 'https://api.eliteprospects.com/v1/players?offset=0&limit=1000&sort=name&name=Nikolay%20Goldobin&dateOfBirth=1995-10-07&apiKey=',\n",
       " 'https://api.eliteprospects.com/v1/players?offset=0&limit=1000&sort=name&name=Joshua%20Ho-Sang&dateOfBirth=1996-01-22&apiKey=',\n",
       " 'https://api.eliteprospects.com/v1/players?offset=0&limit=1000&sort=name&name=Adrian%20Kempe&dateOfBirth=1996-09-13&apiKey=',\n",
       " 'https://api.eliteprospects.com/v1/players?offset=0&limit=1000&sort=name&name=John%20Quenneville&dateOfBirth=1996-04-16&apiKey=',\n",
       " 'https://api.eliteprospects.com/v1/players?offset=0&limit=1000&sort=name&name=Connor%20Mcdavid&dateOfBirth=1997-01-13&apiKey=',\n",
       " 'https://api.eliteprospects.com/v1/players?offset=0&limit=1000&sort=name&name=Jack%20Eichel&dateOfBirth=1996-10-28&apiKey=',\n",
       " 'https://api.eliteprospects.com/v1/players?offset=0&limit=1000&sort=name&name=Dylan%20Strome&dateOfBirth=1997-03-07&apiKey=',\n",
       " 'https://api.eliteprospects.com/v1/players?offset=0&limit=1000&sort=name&name=Mitchell%20Marner&dateOfBirth=1997-05-05&apiKey=',\n",
       " 'https://api.eliteprospects.com/v1/players?offset=0&limit=1000&sort=name&name=Noah%20Hanifin&dateOfBirth=1997-01-25&apiKey=',\n",
       " 'https://api.eliteprospects.com/v1/players?offset=0&limit=1000&sort=name&name=Pavel%20Zacha&dateOfBirth=1997-04-06&apiKey=',\n",
       " 'https://api.eliteprospects.com/v1/players?offset=0&limit=1000&sort=name&name=Ivan%20Provorov&dateOfBirth=1997-01-13&apiKey=',\n",
       " 'https://api.eliteprospects.com/v1/players?offset=0&limit=1000&sort=name&name=Zach%20Werenski&dateOfBirth=1997-07-19&apiKey=',\n",
       " 'https://api.eliteprospects.com/v1/players?offset=0&limit=1000&sort=name&name=Timo%20Meier&dateOfBirth=1996-10-08&apiKey=',\n",
       " 'https://api.eliteprospects.com/v1/players?offset=0&limit=1000&sort=name&name=Mikko%20Rantanen&dateOfBirth=1996-10-29&apiKey=',\n",
       " 'https://api.eliteprospects.com/v1/players?offset=0&limit=1000&sort=name&name=Lawson%20Crouse&dateOfBirth=1997-06-23&apiKey=',\n",
       " 'https://api.eliteprospects.com/v1/players?offset=0&limit=1000&sort=name&name=Denis%20Gurianov&dateOfBirth=1997-06-07&apiKey=',\n",
       " 'https://api.eliteprospects.com/v1/players?offset=0&limit=1000&sort=name&name=Jakub%20Zboril&dateOfBirth=1997-02-21&apiKey=',\n",
       " 'https://api.eliteprospects.com/v1/players?offset=0&limit=1000&sort=name&name=Jake%20Debrusk&dateOfBirth=1996-10-17&apiKey=',\n",
       " 'https://api.eliteprospects.com/v1/players?offset=0&limit=1000&sort=name&name=Zach%20Senyshyn&dateOfBirth=1997-03-30&apiKey=',\n",
       " 'https://api.eliteprospects.com/v1/players?offset=0&limit=1000&sort=name&name=Mathew%20Barzal&dateOfBirth=1997-05-26&apiKey=',\n",
       " 'https://api.eliteprospects.com/v1/players?offset=0&limit=1000&sort=name&name=Kyle%20Connor&dateOfBirth=1996-12-09&apiKey=',\n",
       " 'https://api.eliteprospects.com/v1/players?offset=0&limit=1000&sort=name&name=Thomas%20Chabot&dateOfBirth=1997-01-30&apiKey=',\n",
       " 'https://api.eliteprospects.com/v1/players?offset=0&limit=1000&sort=name&name=Evgeny%20Svechnikov&dateOfBirth=1996-10-31&apiKey=',\n",
       " 'https://api.eliteprospects.com/v1/players?offset=0&limit=1000&sort=name&name=Joel%20Eriksson%20Ek&dateOfBirth=1997-01-29&apiKey=',\n",
       " 'https://api.eliteprospects.com/v1/players?offset=0&limit=1000&sort=name&name=Colin%20White&dateOfBirth=1997-01-30&apiKey=',\n",
       " 'https://api.eliteprospects.com/v1/players?offset=0&limit=1000&sort=name&name=Brock%20Boeser&dateOfBirth=1997-02-25&apiKey=',\n",
       " 'https://api.eliteprospects.com/v1/players?offset=0&limit=1000&sort=name&name=Travis%20Konecny&dateOfBirth=1997-03-11&apiKey=',\n",
       " 'https://api.eliteprospects.com/v1/players?offset=0&limit=1000&sort=name&name=Jack%20Roslovic&dateOfBirth=1997-01-29&apiKey=',\n",
       " 'https://api.eliteprospects.com/v1/players?offset=0&limit=1000&sort=name&name=Noah%20Juulsen&dateOfBirth=1997-04-02&apiKey=',\n",
       " 'https://api.eliteprospects.com/v1/players?offset=0&limit=1000&sort=name&name=Jacob%20Larsson&dateOfBirth=1997-04-29&apiKey=',\n",
       " 'https://api.eliteprospects.com/v1/players?offset=0&limit=1000&sort=name&name=Anthony%20Beauvillier&dateOfBirth=1997-06-08&apiKey=',\n",
       " 'https://api.eliteprospects.com/v1/players?offset=0&limit=1000&sort=name&name=Gabriel%20Carlsson&dateOfBirth=1997-01-02&apiKey=',\n",
       " 'https://api.eliteprospects.com/v1/players?offset=0&limit=1000&sort=name&name=Nick%20Merkley&dateOfBirth=1997-05-23&apiKey=',\n",
       " 'https://api.eliteprospects.com/v1/players?offset=0&limit=1000&sort=name&name=Auston%20Matthews&dateOfBirth=1997-09-17&apiKey=',\n",
       " 'https://api.eliteprospects.com/v1/players?offset=0&limit=1000&sort=name&name=Patrik%20Laine&dateOfBirth=1998-04-19&apiKey=',\n",
       " 'https://api.eliteprospects.com/v1/players?offset=0&limit=1000&sort=name&name=Pierre-Luc%20Dubois&dateOfBirth=1998-06-24&apiKey=',\n",
       " 'https://api.eliteprospects.com/v1/players?offset=0&limit=1000&sort=name&name=Jesse%20Puljujarvi&dateOfBirth=1998-05-07&apiKey=',\n",
       " 'https://api.eliteprospects.com/v1/players?offset=0&limit=1000&sort=name&name=Olli%20Juolevi&dateOfBirth=1998-05-05&apiKey=',\n",
       " 'https://api.eliteprospects.com/v1/players?offset=0&limit=1000&sort=name&name=Matthew%20Tkachuk&dateOfBirth=1997-12-11&apiKey=',\n",
       " 'https://api.eliteprospects.com/v1/players?offset=0&limit=1000&sort=name&name=Clayton%20Keller&dateOfBirth=1998-07-29&apiKey=',\n",
       " 'https://api.eliteprospects.com/v1/players?offset=0&limit=1000&sort=name&name=Alex%20Nylander&dateOfBirth=1998-03-02&apiKey=',\n",
       " 'https://api.eliteprospects.com/v1/players?offset=0&limit=1000&sort=name&name=Mikhail%20Sergachev&dateOfBirth=1998-06-25&apiKey=',\n",
       " 'https://api.eliteprospects.com/v1/players?offset=0&limit=1000&sort=name&name=Tyson%20Jost&dateOfBirth=1998-03-14&apiKey=',\n",
       " 'https://api.eliteprospects.com/v1/players?offset=0&limit=1000&sort=name&name=Logan%20Brown&dateOfBirth=1998-08-02&apiKey=',\n",
       " 'https://api.eliteprospects.com/v1/players?offset=0&limit=1000&sort=name&name=Michael%20Mcleod&dateOfBirth=1998-02-03&apiKey=',\n",
       " 'https://api.eliteprospects.com/v1/players?offset=0&limit=1000&sort=name&name=Jake%20Bean&dateOfBirth=1998-06-09&apiKey=',\n",
       " 'https://api.eliteprospects.com/v1/players?offset=0&limit=1000&sort=name&name=Charlie%20Mcavoy&dateOfBirth=1997-12-21&apiKey=',\n",
       " 'https://api.eliteprospects.com/v1/players?offset=0&limit=1000&sort=name&name=Luke%20Kunin&dateOfBirth=1997-12-04&apiKey=',\n",
       " 'https://api.eliteprospects.com/v1/players?offset=0&limit=1000&sort=name&name=Jakob%20Chychrun&dateOfBirth=1998-03-31&apiKey=',\n",
       " 'https://api.eliteprospects.com/v1/players?offset=0&limit=1000&sort=name&name=Dante%20Fabbro&dateOfBirth=1998-06-20&apiKey=',\n",
       " 'https://api.eliteprospects.com/v1/players?offset=0&limit=1000&sort=name&name=Logan%20Stanley&dateOfBirth=1998-05-26&apiKey=',\n",
       " 'https://api.eliteprospects.com/v1/players?offset=0&limit=1000&sort=name&name=Kieffer%20Bellows&dateOfBirth=1998-06-10&apiKey=',\n",
       " 'https://api.eliteprospects.com/v1/players?offset=0&limit=1000&sort=name&name=Dennis%20Cholowski&dateOfBirth=1998-02-15&apiKey=',\n",
       " 'https://api.eliteprospects.com/v1/players?offset=0&limit=1000&sort=name&name=Julien%20Gauthier&dateOfBirth=1997-10-15&apiKey=',\n",
       " 'https://api.eliteprospects.com/v1/players?offset=0&limit=1000&sort=name&name=German%20Rubtsov&dateOfBirth=1998-06-27&apiKey=',\n",
       " 'https://api.eliteprospects.com/v1/players?offset=0&limit=1000&sort=name&name=Henrik%20Borgstrom&dateOfBirth=1997-08-06&apiKey=',\n",
       " 'https://api.eliteprospects.com/v1/players?offset=0&limit=1000&sort=name&name=Max%20Jones&dateOfBirth=1998-02-17&apiKey=',\n",
       " 'https://api.eliteprospects.com/v1/players?offset=0&limit=1000&sort=name&name=Riley%20Tufte&dateOfBirth=1998-04-10&apiKey=',\n",
       " 'https://api.eliteprospects.com/v1/players?offset=0&limit=1000&sort=name&name=Tage%20Thompson&dateOfBirth=1997-10-30&apiKey=',\n",
       " 'https://api.eliteprospects.com/v1/players?offset=0&limit=1000&sort=name&name=Brett%20Howden&dateOfBirth=1998-03-29&apiKey=',\n",
       " 'https://api.eliteprospects.com/v1/players?offset=0&limit=1000&sort=name&name=Lucas%20Johansen&dateOfBirth=1997-11-16&apiKey=',\n",
       " 'https://api.eliteprospects.com/v1/players?offset=0&limit=1000&sort=name&name=Trent%20Frederic&dateOfBirth=1998-02-11&apiKey=',\n",
       " 'https://api.eliteprospects.com/v1/players?offset=0&limit=1000&sort=name&name=Sam%20Steel&dateOfBirth=1998-02-03&apiKey=',\n",
       " 'https://api.eliteprospects.com/v1/players?offset=0&limit=1000&sort=name&name=Nico%20Hischier&dateOfBirth=1999-01-04&apiKey=',\n",
       " 'https://api.eliteprospects.com/v1/players?offset=0&limit=1000&sort=name&name=Nolan%20Patrick&dateOfBirth=1998-09-19&apiKey=',\n",
       " 'https://api.eliteprospects.com/v1/players?offset=0&limit=1000&sort=name&name=Miro%20Heiskanen&dateOfBirth=1999-07-18&apiKey=',\n",
       " 'https://api.eliteprospects.com/v1/players?offset=0&limit=1000&sort=name&name=Cale%20Makar&dateOfBirth=1998-10-30&apiKey=',\n",
       " 'https://api.eliteprospects.com/v1/players?offset=0&limit=1000&sort=name&name=Elias%20Pettersson&dateOfBirth=1998-11-12&apiKey=',\n",
       " 'https://api.eliteprospects.com/v1/players?offset=0&limit=1000&sort=name&name=Cody%20Glass&dateOfBirth=1999-04-01&apiKey=',\n",
       " 'https://api.eliteprospects.com/v1/players?offset=0&limit=1000&sort=name&name=Lias%20Andersson&dateOfBirth=1998-10-13&apiKey=',\n",
       " 'https://api.eliteprospects.com/v1/players?offset=0&limit=1000&sort=name&name=Casey%20Mittelstadt&dateOfBirth=1998-11-22&apiKey=',\n",
       " 'https://api.eliteprospects.com/v1/players?offset=0&limit=1000&sort=name&name=Michael%20Rasmussen&dateOfBirth=1999-04-17&apiKey=',\n",
       " 'https://api.eliteprospects.com/v1/players?offset=0&limit=1000&sort=name&name=Owen%20Tippett&dateOfBirth=1999-02-16&apiKey=',\n",
       " 'https://api.eliteprospects.com/v1/players?offset=0&limit=1000&sort=name&name=Gabriel%20Vilardi&dateOfBirth=1999-08-16&apiKey=',\n",
       " 'https://api.eliteprospects.com/v1/players?offset=0&limit=1000&sort=name&name=Martin%20Necas&dateOfBirth=1999-01-15&apiKey=',\n",
       " 'https://api.eliteprospects.com/v1/players?offset=0&limit=1000&sort=name&name=Nick%20Suzuki&dateOfBirth=1999-08-10&apiKey=',\n",
       " 'https://api.eliteprospects.com/v1/players?offset=0&limit=1000&sort=name&name=Cal%20Foote&dateOfBirth=1998-12-13&apiKey=',\n",
       " 'https://api.eliteprospects.com/v1/players?offset=0&limit=1000&sort=name&name=Erik%20Brannstrom&dateOfBirth=1999-09-02&apiKey=',\n",
       " 'https://api.eliteprospects.com/v1/players?offset=0&limit=1000&sort=name&name=Juuso%20Valimaki&dateOfBirth=1998-10-06&apiKey=',\n",
       " 'https://api.eliteprospects.com/v1/players?offset=0&limit=1000&sort=name&name=Timothy%20Liljegren&dateOfBirth=1999-04-30&apiKey=',\n",
       " 'https://api.eliteprospects.com/v1/players?offset=0&limit=1000&sort=name&name=Urho%20Vaakanainen&dateOfBirth=1999-01-01&apiKey=',\n",
       " 'https://api.eliteprospects.com/v1/players?offset=0&limit=1000&sort=name&name=Josh%20Norris&dateOfBirth=1999-05-05&apiKey=',\n",
       " 'https://api.eliteprospects.com/v1/players?offset=0&limit=1000&sort=name&name=Robert%20Thomas&dateOfBirth=1999-07-02&apiKey=',\n",
       " 'https://api.eliteprospects.com/v1/players?offset=0&limit=1000&sort=name&name=Filip%20Chytil&dateOfBirth=1999-09-05&apiKey=',\n",
       " 'https://api.eliteprospects.com/v1/players?offset=0&limit=1000&sort=name&name=Kailer%20Yamamoto&dateOfBirth=1998-09-29&apiKey=',\n",
       " 'https://api.eliteprospects.com/v1/players?offset=0&limit=1000&sort=name&name=Pierre-Olivier%20Joseph&dateOfBirth=1999-07-01&apiKey=',\n",
       " 'https://api.eliteprospects.com/v1/players?offset=0&limit=1000&sort=name&name=Kristian%20Vesalainen&dateOfBirth=1999-06-01&apiKey=',\n",
       " 'https://api.eliteprospects.com/v1/players?offset=0&limit=1000&sort=name&name=Ryan%20Poehling&dateOfBirth=1999-01-03&apiKey=',\n",
       " 'https://api.eliteprospects.com/v1/players?offset=0&limit=1000&sort=name&name=Morgan%20Frost&dateOfBirth=1999-05-14&apiKey=',\n",
       " 'https://api.eliteprospects.com/v1/players?offset=0&limit=1000&sort=name&name=Shane%20Bowers&dateOfBirth=1999-07-30&apiKey=',\n",
       " 'https://api.eliteprospects.com/v1/players?offset=0&limit=1000&sort=name&name=Henri%20Jokiharju&dateOfBirth=1999-06-17&apiKey=',\n",
       " 'https://api.eliteprospects.com/v1/players?offset=0&limit=1000&sort=name&name=Eeli%20Tolvanen&dateOfBirth=1999-04-22&apiKey=',\n",
       " 'https://api.eliteprospects.com/v1/players?offset=0&limit=1000&sort=name&name=Klim%20Kostin&dateOfBirth=1999-05-05&apiKey=',\n",
       " 'https://api.eliteprospects.com/v1/players?offset=0&limit=1000&sort=name&name=Rasmus%20Dahlin&dateOfBirth=2000-04-13&apiKey=',\n",
       " 'https://api.eliteprospects.com/v1/players?offset=0&limit=1000&sort=name&name=Andrei%20Svechnikov&dateOfBirth=2000-03-26&apiKey=',\n",
       " 'https://api.eliteprospects.com/v1/players?offset=0&limit=1000&sort=name&name=Jesperi%20Kotkaniemi&dateOfBirth=2000-07-06&apiKey=',\n",
       " 'https://api.eliteprospects.com/v1/players?offset=0&limit=1000&sort=name&name=Brady%20Tkachuk&dateOfBirth=1999-09-16&apiKey=',\n",
       " 'https://api.eliteprospects.com/v1/players?offset=0&limit=1000&sort=name&name=Barrett%20Hayton&dateOfBirth=2000-06-09&apiKey=',\n",
       " 'https://api.eliteprospects.com/v1/players?offset=0&limit=1000&sort=name&name=Filip%20Zadina&dateOfBirth=1999-11-27&apiKey=',\n",
       " 'https://api.eliteprospects.com/v1/players?offset=0&limit=1000&sort=name&name=Quinn%20Hughes&dateOfBirth=1999-10-14&apiKey=',\n",
       " 'https://api.eliteprospects.com/v1/players?offset=0&limit=1000&sort=name&name=Adam%20Boqvist&dateOfBirth=2000-08-15&apiKey=',\n",
       " 'https://api.eliteprospects.com/v1/players?offset=0&limit=1000&sort=name&name=Vitali%20Kravtsov&dateOfBirth=1999-12-23&apiKey=',\n",
       " 'https://api.eliteprospects.com/v1/players?offset=0&limit=1000&sort=name&name=Evan%20Bouchard&dateOfBirth=1999-10-20&apiKey=',\n",
       " 'https://api.eliteprospects.com/v1/players?offset=0&limit=1000&sort=name&name=Oliver%20Wahlstrom&dateOfBirth=2000-06-13&apiKey=',\n",
       " 'https://api.eliteprospects.com/v1/players?offset=0&limit=1000&sort=name&name=Noah%20Dobson&dateOfBirth=2000-01-07&apiKey=',\n",
       " 'https://api.eliteprospects.com/v1/players?offset=0&limit=1000&sort=name&name=Ty%20Dellandrea&dateOfBirth=2000-07-21&apiKey=',\n",
       " 'https://api.eliteprospects.com/v1/players?offset=0&limit=1000&sort=name&name=Joel%20Farabee&dateOfBirth=2000-02-25&apiKey=',\n",
       " 'https://api.eliteprospects.com/v1/players?offset=0&limit=1000&sort=name&name=Grigori%20Denisenko&dateOfBirth=2000-06-24&apiKey=',\n",
       " 'https://api.eliteprospects.com/v1/players?offset=0&limit=1000&sort=name&name=Martin%20Kaut&dateOfBirth=1999-10-02&apiKey=',\n",
       " 'https://api.eliteprospects.com/v1/players?offset=0&limit=1000&sort=name&name=Ty%20Smith&dateOfBirth=2000-03-24&apiKey=',\n",
       " 'https://api.eliteprospects.com/v1/players?offset=0&limit=1000&sort=name&name=Liam%20Foudy&dateOfBirth=2000-02-04&apiKey=',\n",
       " \"https://api.eliteprospects.com/v1/players?offset=0&limit=1000&sort=name&name=Jay%20O'Brien&dateOfBirth=1999-11-04&apiKey=\",\n",
       " 'https://api.eliteprospects.com/v1/players?offset=0&limit=1000&sort=name&name=Rasmus%20Kupari&dateOfBirth=2000-03-15&apiKey=',\n",
       " 'https://api.eliteprospects.com/v1/players?offset=0&limit=1000&sort=name&name=Ryan%20Merkley&dateOfBirth=2000-08-14&apiKey=',\n",
       " \"https://api.eliteprospects.com/v1/players?offset=0&limit=1000&sort=name&name=K'Andre%20Miller&dateOfBirth=2000-01-21&apiKey=\",\n",
       " 'https://api.eliteprospects.com/v1/players?offset=0&limit=1000&sort=name&name=Isac%20Lundestrom&dateOfBirth=1999-11-06&apiKey=',\n",
       " 'https://api.eliteprospects.com/v1/players?offset=0&limit=1000&sort=name&name=Filip%20Johansson&dateOfBirth=2000-03-23&apiKey=',\n",
       " 'https://api.eliteprospects.com/v1/players?offset=0&limit=1000&sort=name&name=Dominik%20Bokk&dateOfBirth=2000-02-03&apiKey=',\n",
       " 'https://api.eliteprospects.com/v1/players?offset=0&limit=1000&sort=name&name=Jacob%20Bernard-Docker&dateOfBirth=2000-06-30&apiKey=',\n",
       " 'https://api.eliteprospects.com/v1/players?offset=0&limit=1000&sort=name&name=Nicolas%20Beaudin&dateOfBirth=1999-10-09&apiKey=',\n",
       " 'https://api.eliteprospects.com/v1/players?offset=0&limit=1000&sort=name&name=Nils%20Lundkvist&dateOfBirth=2000-07-27&apiKey=',\n",
       " 'https://api.eliteprospects.com/v1/players?offset=0&limit=1000&sort=name&name=Rasmus%20Sandin&dateOfBirth=2000-03-07&apiKey=',\n",
       " 'https://api.eliteprospects.com/v1/players?offset=0&limit=1000&sort=name&name=Joe%20Veleno&dateOfBirth=2000-01-13&apiKey=',\n",
       " 'https://api.eliteprospects.com/v1/players?offset=0&limit=1000&sort=name&name=Alexander%20Alexeyev&dateOfBirth=1999-11-15&apiKey=']"
      ]
     },
     "execution_count": 82,
     "metadata": {},
     "output_type": "execute_result"
    }
   ],
   "source": [
    "all_elite_url"
   ]
  },
  {
   "cell_type": "code",
   "execution_count": 85,
   "id": "4101acd5-ab6f-4cc6-ba17-93a919f99a16",
   "metadata": {},
   "outputs": [],
   "source": [
    "elite_data = []\n",
    "\n",
    "for j in range(296):\n",
    "    response = requests.get(all_elite_url[j]+elite_key)\n",
    "    elite_data.append(response.json())"
   ]
  },
  {
   "cell_type": "code",
   "execution_count": 33,
   "id": "f2bccddd-ec22-4bac-ac91-124be4b6136c",
   "metadata": {},
   "outputs": [],
   "source": [
    "#url = 'https://api.eliteprospects.com/v1/players/9223/stats?offset=0&limit=100&sort=season&season=2008-2009&team.teamType=club&apiKey='"
   ]
  },
  {
   "cell_type": "code",
   "execution_count": 34,
   "id": "df77c997-d1e5-40df-94c2-6677ff5ed04c",
   "metadata": {},
   "outputs": [],
   "source": [
    "#response = requests.get(url+elite_key).json()"
   ]
  },
  {
   "cell_type": "code",
   "execution_count": 86,
   "id": "7a4eada5-eb6a-42f4-a874-172b69c983d4",
   "metadata": {},
   "outputs": [
    {
     "data": {
      "application/json": [
       {
        "_links": {
         "first": "https://api.eliteprospects.com/v1/players?offset=0&limit=1000&apiKey=BbLo1zDgnGxebtMr0wJnLuaexEqibZ9R&name=John+Tavares&dateOfBirth=1990-09-20&sort=name",
         "last": "https://api.eliteprospects.com/v1/players?offset=0&limit=1000&apiKey=BbLo1zDgnGxebtMr0wJnLuaexEqibZ9R&name=John+Tavares&dateOfBirth=1990-09-20&sort=name",
         "next": null,
         "prev": null
        },
        "_meta": {
         "generatedAt": "2023-03-21T04:25:43.417010Z",
         "limit": 1000,
         "offset": 0,
         "totalRecords": 1
        },
        "data": [
         {
          "_links": [
           "https://api.eliteprospects.com/v1/players/9223?apiKey=BbLo1zDgnGxebtMr0wJnLuaexEqibZ9R"
          ],
          "dateOfBirth": "1990-09-20",
          "firstName": "John",
          "gender": "male",
          "id": 9223,
          "lastName": "Tavares",
          "name": "John Tavares",
          "nationality": {
           "_links": [
            "https://api.eliteprospects.com/v1/countries/CAN?apiKey=BbLo1zDgnGxebtMr0wJnLuaexEqibZ9R"
           ],
           "name": "Canada",
           "slug": "CAN"
          },
          "playerType": "SKATER",
          "position": "F",
          "status": "active"
         }
        ]
       },
       {
        "_links": {
         "first": "https://api.eliteprospects.com/v1/players?offset=0&limit=1000&apiKey=BbLo1zDgnGxebtMr0wJnLuaexEqibZ9R&name=Victor+Hedman&dateOfBirth=1990-12-18&sort=name",
         "last": "https://api.eliteprospects.com/v1/players?offset=0&limit=1000&apiKey=BbLo1zDgnGxebtMr0wJnLuaexEqibZ9R&name=Victor+Hedman&dateOfBirth=1990-12-18&sort=name",
         "next": null,
         "prev": null
        },
        "_meta": {
         "generatedAt": "2023-03-21T04:25:44.403902Z",
         "limit": 1000,
         "offset": 0,
         "totalRecords": 1
        },
        "data": [
         {
          "_links": [
           "https://api.eliteprospects.com/v1/players/6007?apiKey=BbLo1zDgnGxebtMr0wJnLuaexEqibZ9R"
          ],
          "dateOfBirth": "1990-12-18",
          "firstName": "Victor",
          "gender": "male",
          "id": 6007,
          "lastName": "Hedman",
          "name": "Victor Hedman",
          "nationality": {
           "_links": [
            "https://api.eliteprospects.com/v1/countries/SWE?apiKey=BbLo1zDgnGxebtMr0wJnLuaexEqibZ9R"
           ],
           "name": "Sweden",
           "slug": "SWE"
          },
          "playerType": "SKATER",
          "position": "D",
          "status": "active"
         }
        ]
       },
       {
        "_links": {
         "first": "https://api.eliteprospects.com/v1/players?offset=0&limit=1000&apiKey=BbLo1zDgnGxebtMr0wJnLuaexEqibZ9R&name=Matt+Duchene&dateOfBirth=1991-01-16&sort=name",
         "last": "https://api.eliteprospects.com/v1/players?offset=0&limit=1000&apiKey=BbLo1zDgnGxebtMr0wJnLuaexEqibZ9R&name=Matt+Duchene&dateOfBirth=1991-01-16&sort=name",
         "next": null,
         "prev": null
        },
        "_meta": {
         "generatedAt": "2023-03-21T04:25:45.848122Z",
         "limit": 1000,
         "offset": 0,
         "totalRecords": 1
        },
        "data": [
         {
          "_links": [
           "https://api.eliteprospects.com/v1/players/12571?apiKey=BbLo1zDgnGxebtMr0wJnLuaexEqibZ9R"
          ],
          "dateOfBirth": "1991-01-16",
          "firstName": "Matt",
          "gender": "male",
          "id": 12571,
          "lastName": "Duchene",
          "name": "Matt Duchene",
          "nationality": {
           "_links": [
            "https://api.eliteprospects.com/v1/countries/CAN?apiKey=BbLo1zDgnGxebtMr0wJnLuaexEqibZ9R"
           ],
           "name": "Canada",
           "slug": "CAN"
          },
          "playerType": "SKATER",
          "position": "F",
          "status": "active"
         }
        ]
       },
       {
        "_links": {
         "first": "https://api.eliteprospects.com/v1/players?offset=0&limit=1000&apiKey=BbLo1zDgnGxebtMr0wJnLuaexEqibZ9R&name=Evander+Kane&dateOfBirth=1991-08-02&sort=name",
         "last": "https://api.eliteprospects.com/v1/players?offset=0&limit=1000&apiKey=BbLo1zDgnGxebtMr0wJnLuaexEqibZ9R&name=Evander+Kane&dateOfBirth=1991-08-02&sort=name",
         "next": null,
         "prev": null
        },
        "_meta": {
         "generatedAt": "2023-03-21T04:25:46.635235Z",
         "limit": 1000,
         "offset": 0,
         "totalRecords": 1
        },
        "data": [
         {
          "_links": [
           "https://api.eliteprospects.com/v1/players/14657?apiKey=BbLo1zDgnGxebtMr0wJnLuaexEqibZ9R"
          ],
          "dateOfBirth": "1991-08-02",
          "firstName": "Evander",
          "gender": "male",
          "id": 14657,
          "lastName": "Kane",
          "name": "Evander Kane",
          "nationality": {
           "_links": [
            "https://api.eliteprospects.com/v1/countries/CAN?apiKey=BbLo1zDgnGxebtMr0wJnLuaexEqibZ9R"
           ],
           "name": "Canada",
           "slug": "CAN"
          },
          "playerType": "SKATER",
          "position": "F",
          "status": "active"
         }
        ]
       },
       {
        "_links": {
         "first": "https://api.eliteprospects.com/v1/players?offset=0&limit=1000&apiKey=BbLo1zDgnGxebtMr0wJnLuaexEqibZ9R&name=Brayden+Schenn&dateOfBirth=1991-08-22&sort=name",
         "last": "https://api.eliteprospects.com/v1/players?offset=0&limit=1000&apiKey=BbLo1zDgnGxebtMr0wJnLuaexEqibZ9R&name=Brayden+Schenn&dateOfBirth=1991-08-22&sort=name",
         "next": null,
         "prev": null
        },
        "_meta": {
         "generatedAt": "2023-03-21T04:25:47.796444Z",
         "limit": 1000,
         "offset": 0,
         "totalRecords": 1
        },
        "data": [
         {
          "_links": [
           "https://api.eliteprospects.com/v1/players/14739?apiKey=BbLo1zDgnGxebtMr0wJnLuaexEqibZ9R"
          ],
          "dateOfBirth": "1991-08-22",
          "firstName": "Brayden",
          "gender": "male",
          "id": 14739,
          "lastName": "Schenn",
          "name": "Brayden Schenn",
          "nationality": {
           "_links": [
            "https://api.eliteprospects.com/v1/countries/CAN?apiKey=BbLo1zDgnGxebtMr0wJnLuaexEqibZ9R"
           ],
           "name": "Canada",
           "slug": "CAN"
          },
          "playerType": "SKATER",
          "position": "F",
          "status": "active"
         }
        ]
       },
       {
        "_links": {
         "first": "https://api.eliteprospects.com/v1/players?offset=0&limit=1000&apiKey=BbLo1zDgnGxebtMr0wJnLuaexEqibZ9R&name=Oliver+Ekman-Larsson&dateOfBirth=1991-07-17&sort=name",
         "last": "https://api.eliteprospects.com/v1/players?offset=0&limit=1000&apiKey=BbLo1zDgnGxebtMr0wJnLuaexEqibZ9R&name=Oliver+Ekman-Larsson&dateOfBirth=1991-07-17&sort=name",
         "next": null,
         "prev": null
        },
        "_meta": {
         "generatedAt": "2023-03-21T04:25:49.021483Z",
         "limit": 1000,
         "offset": 0,
         "totalRecords": 0
        },
        "data": []
       },
       {
        "_links": {
         "first": "https://api.eliteprospects.com/v1/players?offset=0&limit=1000&apiKey=BbLo1zDgnGxebtMr0wJnLuaexEqibZ9R&name=Nazem+Kadri&dateOfBirth=1990-10-06&sort=name",
         "last": "https://api.eliteprospects.com/v1/players?offset=0&limit=1000&apiKey=BbLo1zDgnGxebtMr0wJnLuaexEqibZ9R&name=Nazem+Kadri&dateOfBirth=1990-10-06&sort=name",
         "next": null,
         "prev": null
        },
        "_meta": {
         "generatedAt": "2023-03-21T04:25:49.930065Z",
         "limit": 1000,
         "offset": 0,
         "totalRecords": 1
        },
        "data": [
         {
          "_links": [
           "https://api.eliteprospects.com/v1/players/14728?apiKey=BbLo1zDgnGxebtMr0wJnLuaexEqibZ9R"
          ],
          "dateOfBirth": "1990-10-06",
          "firstName": "Nazem",
          "gender": "male",
          "id": 14728,
          "lastName": "Kadri",
          "name": "Nazem Kadri",
          "nationality": {
           "_links": [
            "https://api.eliteprospects.com/v1/countries/CAN?apiKey=BbLo1zDgnGxebtMr0wJnLuaexEqibZ9R"
           ],
           "name": "Canada",
           "slug": "CAN"
          },
          "playerType": "SKATER",
          "position": "F",
          "status": "active"
         }
        ]
       },
       {
        "_links": {
         "first": "https://api.eliteprospects.com/v1/players?offset=0&limit=1000&apiKey=BbLo1zDgnGxebtMr0wJnLuaexEqibZ9R&name=Scott+Glennie&dateOfBirth=1991-02-22&sort=name",
         "last": "https://api.eliteprospects.com/v1/players?offset=0&limit=1000&apiKey=BbLo1zDgnGxebtMr0wJnLuaexEqibZ9R&name=Scott+Glennie&dateOfBirth=1991-02-22&sort=name",
         "next": null,
         "prev": null
        },
        "_meta": {
         "generatedAt": "2023-03-21T04:25:50.411577Z",
         "limit": 1000,
         "offset": 0,
         "totalRecords": 1
        },
        "data": [
         {
          "_links": [
           "https://api.eliteprospects.com/v1/players/13799?apiKey=BbLo1zDgnGxebtMr0wJnLuaexEqibZ9R"
          ],
          "dateOfBirth": "1991-02-22",
          "firstName": "Scott",
          "gender": "male",
          "id": 13799,
          "lastName": "Glennie",
          "name": "Scott Glennie",
          "nationality": {
           "_links": [
            "https://api.eliteprospects.com/v1/countries/CAN?apiKey=BbLo1zDgnGxebtMr0wJnLuaexEqibZ9R"
           ],
           "name": "Canada",
           "slug": "CAN"
          },
          "playerType": "SKATER",
          "position": "F",
          "status": "active"
         }
        ]
       },
       {
        "_links": {
         "first": "https://api.eliteprospects.com/v1/players?offset=0&limit=1000&apiKey=BbLo1zDgnGxebtMr0wJnLuaexEqibZ9R&name=Jared+Cowen&dateOfBirth=1991-01-25&sort=name",
         "last": "https://api.eliteprospects.com/v1/players?offset=0&limit=1000&apiKey=BbLo1zDgnGxebtMr0wJnLuaexEqibZ9R&name=Jared+Cowen&dateOfBirth=1991-01-25&sort=name",
         "next": null,
         "prev": null
        },
        "_meta": {
         "generatedAt": "2023-03-21T04:25:51.513052Z",
         "limit": 1000,
         "offset": 0,
         "totalRecords": 1
        },
        "data": [
         {
          "_links": [
           "https://api.eliteprospects.com/v1/players/12107?apiKey=BbLo1zDgnGxebtMr0wJnLuaexEqibZ9R"
          ],
          "dateOfBirth": "1991-01-25",
          "firstName": "Jared",
          "gender": "male",
          "id": 12107,
          "lastName": "Cowen",
          "name": "Jared Cowen",
          "nationality": {
           "_links": [
            "https://api.eliteprospects.com/v1/countries/CAN?apiKey=BbLo1zDgnGxebtMr0wJnLuaexEqibZ9R"
           ],
           "name": "Canada",
           "slug": "CAN"
          },
          "playerType": "SKATER",
          "position": "D",
          "status": "retired"
         }
        ]
       },
       {
        "_links": {
         "first": "https://api.eliteprospects.com/v1/players?offset=0&limit=1000&apiKey=BbLo1zDgnGxebtMr0wJnLuaexEqibZ9R&name=Magnus+Paajarvi&dateOfBirth=1991-04-12&sort=name",
         "last": "https://api.eliteprospects.com/v1/players?offset=0&limit=1000&apiKey=BbLo1zDgnGxebtMr0wJnLuaexEqibZ9R&name=Magnus+Paajarvi&dateOfBirth=1991-04-12&sort=name",
         "next": null,
         "prev": null
        },
        "_meta": {
         "generatedAt": "2023-03-21T04:25:53.434522Z",
         "limit": 1000,
         "offset": 0,
         "totalRecords": 1
        },
        "data": [
         {
          "_links": [
           "https://api.eliteprospects.com/v1/players/6014?apiKey=BbLo1zDgnGxebtMr0wJnLuaexEqibZ9R"
          ],
          "dateOfBirth": "1991-04-12",
          "firstName": "Magnus",
          "gender": "male",
          "id": 6014,
          "lastName": "Pääjärvi",
          "name": "Magnus Pääjärvi",
          "nationality": {
           "_links": [
            "https://api.eliteprospects.com/v1/countries/SWE?apiKey=BbLo1zDgnGxebtMr0wJnLuaexEqibZ9R"
           ],
           "name": "Sweden",
           "slug": "SWE"
          },
          "playerType": "SKATER",
          "position": "F",
          "status": "active"
         }
        ]
       },
       {
        "_links": {
         "first": "https://api.eliteprospects.com/v1/players?offset=0&limit=1000&apiKey=BbLo1zDgnGxebtMr0wJnLuaexEqibZ9R&name=Ryan+Ellis&dateOfBirth=1991-01-03&sort=name",
         "last": "https://api.eliteprospects.com/v1/players?offset=0&limit=1000&apiKey=BbLo1zDgnGxebtMr0wJnLuaexEqibZ9R&name=Ryan+Ellis&dateOfBirth=1991-01-03&sort=name",
         "next": null,
         "prev": null
        },
        "_meta": {
         "generatedAt": "2023-03-21T04:25:54.519339Z",
         "limit": 1000,
         "offset": 0,
         "totalRecords": 1
        },
        "data": [
         {
          "_links": [
           "https://api.eliteprospects.com/v1/players/14012?apiKey=BbLo1zDgnGxebtMr0wJnLuaexEqibZ9R"
          ],
          "dateOfBirth": "1991-01-03",
          "firstName": "Ryan",
          "gender": "male",
          "id": 14012,
          "lastName": "Ellis",
          "name": "Ryan Ellis",
          "nationality": {
           "_links": [
            "https://api.eliteprospects.com/v1/countries/CAN?apiKey=BbLo1zDgnGxebtMr0wJnLuaexEqibZ9R"
           ],
           "name": "Canada",
           "slug": "CAN"
          },
          "playerType": "SKATER",
          "position": "D",
          "status": "active"
         }
        ]
       },
       {
        "_links": {
         "first": "https://api.eliteprospects.com/v1/players?offset=0&limit=1000&apiKey=BbLo1zDgnGxebtMr0wJnLuaexEqibZ9R&name=Calvin+De+Haan&dateOfBirth=1991-05-09&sort=name",
         "last": "https://api.eliteprospects.com/v1/players?offset=0&limit=1000&apiKey=BbLo1zDgnGxebtMr0wJnLuaexEqibZ9R&name=Calvin+De+Haan&dateOfBirth=1991-05-09&sort=name",
         "next": null,
         "prev": null
        },
        "_meta": {
         "generatedAt": "2023-03-21T04:25:55.988698Z",
         "limit": 1000,
         "offset": 0,
         "totalRecords": 1
        },
        "data": [
         {
          "_links": [
           "https://api.eliteprospects.com/v1/players/23814?apiKey=BbLo1zDgnGxebtMr0wJnLuaexEqibZ9R"
          ],
          "dateOfBirth": "1991-05-09",
          "firstName": "Calvin",
          "gender": "male",
          "id": 23814,
          "lastName": "de Haan",
          "name": "Calvin de Haan",
          "nationality": {
           "_links": [
            "https://api.eliteprospects.com/v1/countries/CAN?apiKey=BbLo1zDgnGxebtMr0wJnLuaexEqibZ9R"
           ],
           "name": "Canada",
           "slug": "CAN"
          },
          "playerType": "SKATER",
          "position": "D",
          "status": "active"
         }
        ]
       },
       {
        "_links": {
         "first": "https://api.eliteprospects.com/v1/players?offset=0&limit=1000&apiKey=BbLo1zDgnGxebtMr0wJnLuaexEqibZ9R&name=Zack+Kassian&dateOfBirth=1991-01-24&sort=name",
         "last": "https://api.eliteprospects.com/v1/players?offset=0&limit=1000&apiKey=BbLo1zDgnGxebtMr0wJnLuaexEqibZ9R&name=Zack+Kassian&dateOfBirth=1991-01-24&sort=name",
         "next": null,
         "prev": null
        },
        "_meta": {
         "generatedAt": "2023-03-21T04:25:56.663034Z",
         "limit": 1000,
         "offset": 0,
         "totalRecords": 1
        },
        "data": [
         {
          "_links": [
           "https://api.eliteprospects.com/v1/players/15390?apiKey=BbLo1zDgnGxebtMr0wJnLuaexEqibZ9R"
          ],
          "dateOfBirth": "1991-01-24",
          "firstName": "Zack",
          "gender": "male",
          "id": 15390,
          "lastName": "Kassian",
          "name": "Zack Kassian",
          "nationality": {
           "_links": [
            "https://api.eliteprospects.com/v1/countries/CAN?apiKey=BbLo1zDgnGxebtMr0wJnLuaexEqibZ9R"
           ],
           "name": "Canada",
           "slug": "CAN"
          },
          "playerType": "SKATER",
          "position": "F",
          "status": "active"
         }
        ]
       },
       {
        "_links": {
         "first": "https://api.eliteprospects.com/v1/players?offset=0&limit=1000&apiKey=BbLo1zDgnGxebtMr0wJnLuaexEqibZ9R&name=Dmitry+Kulikov&dateOfBirth=1990-10-29&sort=name",
         "last": "https://api.eliteprospects.com/v1/players?offset=0&limit=1000&apiKey=BbLo1zDgnGxebtMr0wJnLuaexEqibZ9R&name=Dmitry+Kulikov&dateOfBirth=1990-10-29&sort=name",
         "next": null,
         "prev": null
        },
        "_meta": {
         "generatedAt": "2023-03-21T04:25:57.730588Z",
         "limit": 1000,
         "offset": 0,
         "totalRecords": 1
        },
        "data": [
         {
          "_links": [
           "https://api.eliteprospects.com/v1/players/11866?apiKey=BbLo1zDgnGxebtMr0wJnLuaexEqibZ9R"
          ],
          "dateOfBirth": "1990-10-29",
          "firstName": "Dmitri",
          "gender": "male",
          "id": 11866,
          "lastName": "Kulikov",
          "name": "Dmitri Kulikov",
          "nationality": {
           "_links": [
            "https://api.eliteprospects.com/v1/countries/RUS?apiKey=BbLo1zDgnGxebtMr0wJnLuaexEqibZ9R"
           ],
           "name": "Russia",
           "slug": "RUS"
          },
          "playerType": "SKATER",
          "position": "D",
          "status": "active"
         }
        ]
       },
       {
        "_links": {
         "first": "https://api.eliteprospects.com/v1/players?offset=0&limit=1000&apiKey=BbLo1zDgnGxebtMr0wJnLuaexEqibZ9R&name=Peter+Holland&dateOfBirth=1991-01-14&sort=name",
         "last": "https://api.eliteprospects.com/v1/players?offset=0&limit=1000&apiKey=BbLo1zDgnGxebtMr0wJnLuaexEqibZ9R&name=Peter+Holland&dateOfBirth=1991-01-14&sort=name",
         "next": null,
         "prev": null
        },
        "_meta": {
         "generatedAt": "2023-03-21T04:25:59.123396Z",
         "limit": 1000,
         "offset": 0,
         "totalRecords": 1
        },
        "data": [
         {
          "_links": [
           "https://api.eliteprospects.com/v1/players/24654?apiKey=BbLo1zDgnGxebtMr0wJnLuaexEqibZ9R"
          ],
          "dateOfBirth": "1991-01-14",
          "firstName": "Peter",
          "gender": "male",
          "id": 24654,
          "lastName": "Holland",
          "name": "Peter Holland",
          "nationality": {
           "_links": [
            "https://api.eliteprospects.com/v1/countries/CAN?apiKey=BbLo1zDgnGxebtMr0wJnLuaexEqibZ9R"
           ],
           "name": "Canada",
           "slug": "CAN"
          },
          "playerType": "SKATER",
          "position": "F",
          "status": "retired"
         }
        ]
       },
       {
        "_links": {
         "first": "https://api.eliteprospects.com/v1/players?offset=0&limit=1000&apiKey=BbLo1zDgnGxebtMr0wJnLuaexEqibZ9R&name=Nick+Leddy&dateOfBirth=1991-03-20&sort=name",
         "last": "https://api.eliteprospects.com/v1/players?offset=0&limit=1000&apiKey=BbLo1zDgnGxebtMr0wJnLuaexEqibZ9R&name=Nick+Leddy&dateOfBirth=1991-03-20&sort=name",
         "next": null,
         "prev": null
        },
        "_meta": {
         "generatedAt": "2023-03-21T04:25:59.641903Z",
         "limit": 1000,
         "offset": 0,
         "totalRecords": 1
        },
        "data": [
         {
          "_links": [
           "https://api.eliteprospects.com/v1/players/38067?apiKey=BbLo1zDgnGxebtMr0wJnLuaexEqibZ9R"
          ],
          "dateOfBirth": "1991-03-20",
          "firstName": "Nick",
          "gender": "male",
          "id": 38067,
          "lastName": "Leddy",
          "name": "Nick Leddy",
          "nationality": {
           "_links": [
            "https://api.eliteprospects.com/v1/countries/USA?apiKey=BbLo1zDgnGxebtMr0wJnLuaexEqibZ9R"
           ],
           "name": "USA",
           "slug": "USA"
          },
          "playerType": "SKATER",
          "position": "D",
          "status": "active"
         }
        ]
       },
       {
        "_links": {
         "first": "https://api.eliteprospects.com/v1/players?offset=0&limit=1000&apiKey=BbLo1zDgnGxebtMr0wJnLuaexEqibZ9R&name=David+Rundblad&dateOfBirth=1990-10-08&sort=name",
         "last": "https://api.eliteprospects.com/v1/players?offset=0&limit=1000&apiKey=BbLo1zDgnGxebtMr0wJnLuaexEqibZ9R&name=David+Rundblad&dateOfBirth=1990-10-08&sort=name",
         "next": null,
         "prev": null
        },
        "_meta": {
         "generatedAt": "2023-03-21T04:26:00.052203Z",
         "limit": 1000,
         "offset": 0,
         "totalRecords": 1
        },
        "data": [
         {
          "_links": [
           "https://api.eliteprospects.com/v1/players/7069?apiKey=BbLo1zDgnGxebtMr0wJnLuaexEqibZ9R"
          ],
          "dateOfBirth": "1990-10-08",
          "firstName": "David",
          "gender": "male",
          "id": 7069,
          "lastName": "Rundblad",
          "name": "David Rundblad",
          "nationality": {
           "_links": [
            "https://api.eliteprospects.com/v1/countries/SWE?apiKey=BbLo1zDgnGxebtMr0wJnLuaexEqibZ9R"
           ],
           "name": "Sweden",
           "slug": "SWE"
          },
          "playerType": "SKATER",
          "position": "D",
          "status": "active"
         }
        ]
       },
       {
        "_links": {
         "first": "https://api.eliteprospects.com/v1/players?offset=0&limit=1000&apiKey=BbLo1zDgnGxebtMr0wJnLuaexEqibZ9R&name=Louis+Leblanc&dateOfBirth=1991-01-26&sort=name",
         "last": "https://api.eliteprospects.com/v1/players?offset=0&limit=1000&apiKey=BbLo1zDgnGxebtMr0wJnLuaexEqibZ9R&name=Louis+Leblanc&dateOfBirth=1991-01-26&sort=name",
         "next": null,
         "prev": null
        },
        "_meta": {
         "generatedAt": "2023-03-21T04:26:00.324909Z",
         "limit": 1000,
         "offset": 0,
         "totalRecords": 1
        },
        "data": [
         {
          "_links": [
           "https://api.eliteprospects.com/v1/players/31615?apiKey=BbLo1zDgnGxebtMr0wJnLuaexEqibZ9R"
          ],
          "dateOfBirth": "1991-01-26",
          "firstName": "Louis",
          "gender": "male",
          "id": 31615,
          "lastName": "Leblanc",
          "name": "Louis Leblanc",
          "nationality": {
           "_links": [
            "https://api.eliteprospects.com/v1/countries/CAN?apiKey=BbLo1zDgnGxebtMr0wJnLuaexEqibZ9R"
           ],
           "name": "Canada",
           "slug": "CAN"
          },
          "playerType": "SKATER",
          "position": "F",
          "status": "retired"
         }
        ]
       },
       {
        "_links": {
         "first": "https://api.eliteprospects.com/v1/players?offset=0&limit=1000&apiKey=BbLo1zDgnGxebtMr0wJnLuaexEqibZ9R&name=Chris+Kreider&dateOfBirth=1991-04-30&sort=name",
         "last": "https://api.eliteprospects.com/v1/players?offset=0&limit=1000&apiKey=BbLo1zDgnGxebtMr0wJnLuaexEqibZ9R&name=Chris+Kreider&dateOfBirth=1991-04-30&sort=name",
         "next": null,
         "prev": null
        },
        "_meta": {
         "generatedAt": "2023-03-21T04:26:00.592982Z",
         "limit": 1000,
         "offset": 0,
         "totalRecords": 1
        },
        "data": [
         {
          "_links": [
           "https://api.eliteprospects.com/v1/players/37998?apiKey=BbLo1zDgnGxebtMr0wJnLuaexEqibZ9R"
          ],
          "dateOfBirth": "1991-04-30",
          "firstName": "Chris",
          "gender": "male",
          "id": 37998,
          "lastName": "Kreider",
          "name": "Chris Kreider",
          "nationality": {
           "_links": [
            "https://api.eliteprospects.com/v1/countries/USA?apiKey=BbLo1zDgnGxebtMr0wJnLuaexEqibZ9R"
           ],
           "name": "USA",
           "slug": "USA"
          },
          "playerType": "SKATER",
          "position": "F",
          "status": "active"
         }
        ]
       },
       {
        "_links": {
         "first": "https://api.eliteprospects.com/v1/players?offset=0&limit=1000&apiKey=BbLo1zDgnGxebtMr0wJnLuaexEqibZ9R&name=Jacob+Josefson&dateOfBirth=1991-03-02&sort=name",
         "last": "https://api.eliteprospects.com/v1/players?offset=0&limit=1000&apiKey=BbLo1zDgnGxebtMr0wJnLuaexEqibZ9R&name=Jacob+Josefson&dateOfBirth=1991-03-02&sort=name",
         "next": null,
         "prev": null
        },
        "_meta": {
         "generatedAt": "2023-03-21T04:26:00.930415Z",
         "limit": 1000,
         "offset": 0,
         "totalRecords": 1
        },
        "data": [
         {
          "_links": [
           "https://api.eliteprospects.com/v1/players/7655?apiKey=BbLo1zDgnGxebtMr0wJnLuaexEqibZ9R"
          ],
          "dateOfBirth": "1991-03-02",
          "firstName": "Jacob",
          "gender": "male",
          "id": 7655,
          "lastName": "Josefson",
          "name": "Jacob Josefson",
          "nationality": {
           "_links": [
            "https://api.eliteprospects.com/v1/countries/SWE?apiKey=BbLo1zDgnGxebtMr0wJnLuaexEqibZ9R"
           ],
           "name": "Sweden",
           "slug": "SWE"
          },
          "playerType": "SKATER",
          "position": "F",
          "status": "retired"
         }
        ]
       },
       {
        "_links": {
         "first": "https://api.eliteprospects.com/v1/players?offset=0&limit=1000&apiKey=BbLo1zDgnGxebtMr0wJnLuaexEqibZ9R&name=John+Moore&dateOfBirth=1990-11-19&sort=name",
         "last": "https://api.eliteprospects.com/v1/players?offset=0&limit=1000&apiKey=BbLo1zDgnGxebtMr0wJnLuaexEqibZ9R&name=John+Moore&dateOfBirth=1990-11-19&sort=name",
         "next": null,
         "prev": null
        },
        "_meta": {
         "generatedAt": "2023-03-21T04:26:01.334336Z",
         "limit": 1000,
         "offset": 0,
         "totalRecords": 1
        },
        "data": [
         {
          "_links": [
           "https://api.eliteprospects.com/v1/players/30901?apiKey=BbLo1zDgnGxebtMr0wJnLuaexEqibZ9R"
          ],
          "dateOfBirth": "1990-11-19",
          "firstName": "John",
          "gender": "male",
          "id": 30901,
          "lastName": "Moore",
          "name": "John Moore",
          "nationality": {
           "_links": [
            "https://api.eliteprospects.com/v1/countries/USA?apiKey=BbLo1zDgnGxebtMr0wJnLuaexEqibZ9R"
           ],
           "name": "USA",
           "slug": "USA"
          },
          "playerType": "SKATER",
          "position": "D",
          "status": "active"
         }
        ]
       },
       {
        "_links": {
         "first": "https://api.eliteprospects.com/v1/players?offset=0&limit=1000&apiKey=BbLo1zDgnGxebtMr0wJnLuaexEqibZ9R&name=Jordan+Schroeder&dateOfBirth=1990-09-29&sort=name",
         "last": "https://api.eliteprospects.com/v1/players?offset=0&limit=1000&apiKey=BbLo1zDgnGxebtMr0wJnLuaexEqibZ9R&name=Jordan+Schroeder&dateOfBirth=1990-09-29&sort=name",
         "next": null,
         "prev": null
        },
        "_meta": {
         "generatedAt": "2023-03-21T04:26:01.650108Z",
         "limit": 1000,
         "offset": 0,
         "totalRecords": 1
        },
        "data": [
         {
          "_links": [
           "https://api.eliteprospects.com/v1/players/11466?apiKey=BbLo1zDgnGxebtMr0wJnLuaexEqibZ9R"
          ],
          "dateOfBirth": "1990-09-29",
          "firstName": "Jordan",
          "gender": "male",
          "id": 11466,
          "lastName": "Schroeder",
          "name": "Jordan Schroeder",
          "nationality": {
           "_links": [
            "https://api.eliteprospects.com/v1/countries/USA?apiKey=BbLo1zDgnGxebtMr0wJnLuaexEqibZ9R"
           ],
           "name": "USA",
           "slug": "USA"
          },
          "playerType": "SKATER",
          "position": "F",
          "status": "active"
         }
        ]
       },
       {
        "_links": {
         "first": "https://api.eliteprospects.com/v1/players?offset=0&limit=1000&apiKey=BbLo1zDgnGxebtMr0wJnLuaexEqibZ9R&name=Tim+Erixon&dateOfBirth=1991-02-24&sort=name",
         "last": "https://api.eliteprospects.com/v1/players?offset=0&limit=1000&apiKey=BbLo1zDgnGxebtMr0wJnLuaexEqibZ9R&name=Tim+Erixon&dateOfBirth=1991-02-24&sort=name",
         "next": null,
         "prev": null
        },
        "_meta": {
         "generatedAt": "2023-03-21T04:26:01.931422Z",
         "limit": 1000,
         "offset": 0,
         "totalRecords": 1
        },
        "data": [
         {
          "_links": [
           "https://api.eliteprospects.com/v1/players/6051?apiKey=BbLo1zDgnGxebtMr0wJnLuaexEqibZ9R"
          ],
          "dateOfBirth": "1991-02-24",
          "firstName": "Tim",
          "gender": "male",
          "id": 6051,
          "lastName": "Erixon",
          "name": "Tim Erixon",
          "nationality": {
           "_links": [
            "https://api.eliteprospects.com/v1/countries/SWE?apiKey=BbLo1zDgnGxebtMr0wJnLuaexEqibZ9R"
           ],
           "name": "Sweden",
           "slug": "SWE"
          },
          "playerType": "SKATER",
          "position": "D",
          "status": "active"
         }
        ]
       },
       {
        "_links": {
         "first": "https://api.eliteprospects.com/v1/players?offset=0&limit=1000&apiKey=BbLo1zDgnGxebtMr0wJnLuaexEqibZ9R&name=Marcus+Johansson&dateOfBirth=1990-10-06&sort=name",
         "last": "https://api.eliteprospects.com/v1/players?offset=0&limit=1000&apiKey=BbLo1zDgnGxebtMr0wJnLuaexEqibZ9R&name=Marcus+Johansson&dateOfBirth=1990-10-06&sort=name",
         "next": null,
         "prev": null
        },
        "_meta": {
         "generatedAt": "2023-03-21T04:26:02.197465Z",
         "limit": 1000,
         "offset": 0,
         "totalRecords": 1
        },
        "data": [
         {
          "_links": [
           "https://api.eliteprospects.com/v1/players/6225?apiKey=BbLo1zDgnGxebtMr0wJnLuaexEqibZ9R"
          ],
          "dateOfBirth": "1990-10-06",
          "firstName": "Marcus",
          "gender": "male",
          "id": 6225,
          "lastName": "Johansson",
          "name": "Marcus Johansson",
          "nationality": {
           "_links": [
            "https://api.eliteprospects.com/v1/countries/SWE?apiKey=BbLo1zDgnGxebtMr0wJnLuaexEqibZ9R"
           ],
           "name": "Sweden",
           "slug": "SWE"
          },
          "playerType": "SKATER",
          "position": "F",
          "status": "active"
         }
        ]
       },
       {
        "_links": {
         "first": "https://api.eliteprospects.com/v1/players?offset=0&limit=1000&apiKey=BbLo1zDgnGxebtMr0wJnLuaexEqibZ9R&name=Jordan+Caron&dateOfBirth=1990-11-02&sort=name",
         "last": "https://api.eliteprospects.com/v1/players?offset=0&limit=1000&apiKey=BbLo1zDgnGxebtMr0wJnLuaexEqibZ9R&name=Jordan+Caron&dateOfBirth=1990-11-02&sort=name",
         "next": null,
         "prev": null
        },
        "_meta": {
         "generatedAt": "2023-03-21T04:26:02.523636Z",
         "limit": 1000,
         "offset": 0,
         "totalRecords": 1
        },
        "data": [
         {
          "_links": [
           "https://api.eliteprospects.com/v1/players/32870?apiKey=BbLo1zDgnGxebtMr0wJnLuaexEqibZ9R"
          ],
          "dateOfBirth": "1990-11-02",
          "firstName": "Jordan",
          "gender": "male",
          "id": 32870,
          "lastName": "Caron",
          "name": "Jordan Caron",
          "nationality": {
           "_links": [
            "https://api.eliteprospects.com/v1/countries/CAN?apiKey=BbLo1zDgnGxebtMr0wJnLuaexEqibZ9R"
           ],
           "name": "Canada",
           "slug": "CAN"
          },
          "playerType": "SKATER",
          "position": "F",
          "status": "retired"
         }
        ]
       },
       {
        "_links": {
         "first": "https://api.eliteprospects.com/v1/players?offset=0&limit=1000&apiKey=BbLo1zDgnGxebtMr0wJnLuaexEqibZ9R&name=Kyle+Palmieri&dateOfBirth=1991-02-01&sort=name",
         "last": "https://api.eliteprospects.com/v1/players?offset=0&limit=1000&apiKey=BbLo1zDgnGxebtMr0wJnLuaexEqibZ9R&name=Kyle+Palmieri&dateOfBirth=1991-02-01&sort=name",
         "next": null,
         "prev": null
        },
        "_meta": {
         "generatedAt": "2023-03-21T04:26:02.880820Z",
         "limit": 1000,
         "offset": 0,
         "totalRecords": 1
        },
        "data": [
         {
          "_links": [
           "https://api.eliteprospects.com/v1/players/17508?apiKey=BbLo1zDgnGxebtMr0wJnLuaexEqibZ9R"
          ],
          "dateOfBirth": "1991-02-01",
          "firstName": "Kyle",
          "gender": "male",
          "id": 17508,
          "lastName": "Palmieri",
          "name": "Kyle Palmieri",
          "nationality": {
           "_links": [
            "https://api.eliteprospects.com/v1/countries/USA?apiKey=BbLo1zDgnGxebtMr0wJnLuaexEqibZ9R"
           ],
           "name": "USA",
           "slug": "USA"
          },
          "playerType": "SKATER",
          "position": "F",
          "status": "active"
         }
        ]
       },
       {
        "_links": {
         "first": "https://api.eliteprospects.com/v1/players?offset=0&limit=1000&apiKey=BbLo1zDgnGxebtMr0wJnLuaexEqibZ9R&name=Philippe+Paradis&dateOfBirth=1991-01-02&sort=name",
         "last": "https://api.eliteprospects.com/v1/players?offset=0&limit=1000&apiKey=BbLo1zDgnGxebtMr0wJnLuaexEqibZ9R&name=Philippe+Paradis&dateOfBirth=1991-01-02&sort=name",
         "next": null,
         "prev": null
        },
        "_meta": {
         "generatedAt": "2023-03-21T04:26:03.319885Z",
         "limit": 1000,
         "offset": 0,
         "totalRecords": 1
        },
        "data": [
         {
          "_links": [
           "https://api.eliteprospects.com/v1/players/23204?apiKey=BbLo1zDgnGxebtMr0wJnLuaexEqibZ9R"
          ],
          "dateOfBirth": "1991-01-02",
          "firstName": "Philippe",
          "gender": "male",
          "id": 23204,
          "lastName": "Paradis",
          "name": "Philippe Paradis",
          "nationality": {
           "_links": [
            "https://api.eliteprospects.com/v1/countries/CAN?apiKey=BbLo1zDgnGxebtMr0wJnLuaexEqibZ9R"
           ],
           "name": "Canada",
           "slug": "CAN"
          },
          "playerType": "SKATER",
          "position": "F",
          "status": "active"
         }
        ]
       },
       {
        "_links": {
         "first": "https://api.eliteprospects.com/v1/players?offset=0&limit=1000&apiKey=BbLo1zDgnGxebtMr0wJnLuaexEqibZ9R&name=Dylan+Olsen&dateOfBirth=1991-01-03&sort=name",
         "last": "https://api.eliteprospects.com/v1/players?offset=0&limit=1000&apiKey=BbLo1zDgnGxebtMr0wJnLuaexEqibZ9R&name=Dylan+Olsen&dateOfBirth=1991-01-03&sort=name",
         "next": null,
         "prev": null
        },
        "_meta": {
         "generatedAt": "2023-03-21T04:26:03.674407Z",
         "limit": 1000,
         "offset": 0,
         "totalRecords": 1
        },
        "data": [
         {
          "_links": [
           "https://api.eliteprospects.com/v1/players/19294?apiKey=BbLo1zDgnGxebtMr0wJnLuaexEqibZ9R"
          ],
          "dateOfBirth": "1991-01-03",
          "firstName": "Dylan",
          "gender": "male",
          "id": 19294,
          "lastName": "Olsen",
          "name": "Dylan Olsen",
          "nationality": {
           "_links": [
            "https://api.eliteprospects.com/v1/countries/CAN?apiKey=BbLo1zDgnGxebtMr0wJnLuaexEqibZ9R"
           ],
           "name": "Canada",
           "slug": "CAN"
          },
          "playerType": "SKATER",
          "position": "D",
          "status": "active"
         }
        ]
       },
       {
        "_links": {
         "first": "https://api.eliteprospects.com/v1/players?offset=0&limit=1000&apiKey=BbLo1zDgnGxebtMr0wJnLuaexEqibZ9R&name=Carter+Ashton&dateOfBirth=1991-04-01&sort=name",
         "last": "https://api.eliteprospects.com/v1/players?offset=0&limit=1000&apiKey=BbLo1zDgnGxebtMr0wJnLuaexEqibZ9R&name=Carter+Ashton&dateOfBirth=1991-04-01&sort=name",
         "next": null,
         "prev": null
        },
        "_meta": {
         "generatedAt": "2023-03-21T04:26:03.960088Z",
         "limit": 1000,
         "offset": 0,
         "totalRecords": 1
        },
        "data": [
         {
          "_links": [
           "https://api.eliteprospects.com/v1/players/21033?apiKey=BbLo1zDgnGxebtMr0wJnLuaexEqibZ9R"
          ],
          "dateOfBirth": "1991-04-01",
          "firstName": "Carter",
          "gender": "male",
          "id": 21033,
          "lastName": "Ashton",
          "name": "Carter Ashton",
          "nationality": {
           "_links": [
            "https://api.eliteprospects.com/v1/countries/CAN?apiKey=BbLo1zDgnGxebtMr0wJnLuaexEqibZ9R"
           ],
           "name": "Canada",
           "slug": "CAN"
          },
          "playerType": "SKATER",
          "position": "F",
          "status": "active"
         }
        ]
       },
       {
        "_links": {
         "first": "https://api.eliteprospects.com/v1/players?offset=0&limit=1000&apiKey=BbLo1zDgnGxebtMr0wJnLuaexEqibZ9R&name=Simon+Despres&dateOfBirth=1991-01-26&sort=name",
         "last": "https://api.eliteprospects.com/v1/players?offset=0&limit=1000&apiKey=BbLo1zDgnGxebtMr0wJnLuaexEqibZ9R&name=Simon+Despres&dateOfBirth=1991-01-26&sort=name",
         "next": null,
         "prev": null
        },
        "_meta": {
         "generatedAt": "2023-03-21T04:26:04.261167Z",
         "limit": 1000,
         "offset": 0,
         "totalRecords": 0
        },
        "data": []
       },
       {
        "_links": {
         "first": "https://api.eliteprospects.com/v1/players?offset=0&limit=1000&apiKey=BbLo1zDgnGxebtMr0wJnLuaexEqibZ9R&name=Taylor+Hall&dateOfBirth=1991-11-14&sort=name",
         "last": "https://api.eliteprospects.com/v1/players?offset=0&limit=1000&apiKey=BbLo1zDgnGxebtMr0wJnLuaexEqibZ9R&name=Taylor+Hall&dateOfBirth=1991-11-14&sort=name",
         "next": null,
         "prev": null
        },
        "_meta": {
         "generatedAt": "2023-03-21T04:26:04.530490Z",
         "limit": 1000,
         "offset": 0,
         "totalRecords": 1
        },
        "data": [
         {
          "_links": [
           "https://api.eliteprospects.com/v1/players/14360?apiKey=BbLo1zDgnGxebtMr0wJnLuaexEqibZ9R"
          ],
          "dateOfBirth": "1991-11-14",
          "firstName": "Taylor",
          "gender": "male",
          "id": 14360,
          "lastName": "Hall",
          "name": "Taylor Hall",
          "nationality": {
           "_links": [
            "https://api.eliteprospects.com/v1/countries/CAN?apiKey=BbLo1zDgnGxebtMr0wJnLuaexEqibZ9R"
           ],
           "name": "Canada",
           "slug": "CAN"
          },
          "playerType": "SKATER",
          "position": "F",
          "status": "active"
         }
        ]
       },
       {
        "_links": {
         "first": "https://api.eliteprospects.com/v1/players?offset=0&limit=1000&apiKey=BbLo1zDgnGxebtMr0wJnLuaexEqibZ9R&name=Tyler+Seguin&dateOfBirth=1992-01-31&sort=name",
         "last": "https://api.eliteprospects.com/v1/players?offset=0&limit=1000&apiKey=BbLo1zDgnGxebtMr0wJnLuaexEqibZ9R&name=Tyler+Seguin&dateOfBirth=1992-01-31&sort=name",
         "next": null,
         "prev": null
        },
        "_meta": {
         "generatedAt": "2023-03-21T04:26:04.833613Z",
         "limit": 1000,
         "offset": 0,
         "totalRecords": 1
        },
        "data": [
         {
          "_links": [
           "https://api.eliteprospects.com/v1/players/23807?apiKey=BbLo1zDgnGxebtMr0wJnLuaexEqibZ9R"
          ],
          "dateOfBirth": "1992-01-31",
          "firstName": "Tyler",
          "gender": "male",
          "id": 23807,
          "lastName": "Seguin",
          "name": "Tyler Seguin",
          "nationality": {
           "_links": [
            "https://api.eliteprospects.com/v1/countries/CAN?apiKey=BbLo1zDgnGxebtMr0wJnLuaexEqibZ9R"
           ],
           "name": "Canada",
           "slug": "CAN"
          },
          "playerType": "SKATER",
          "position": "F",
          "status": "active"
         }
        ]
       },
       {
        "_links": {
         "first": "https://api.eliteprospects.com/v1/players?offset=0&limit=1000&apiKey=BbLo1zDgnGxebtMr0wJnLuaexEqibZ9R&name=Erik+Gudbranson&dateOfBirth=1992-01-07&sort=name",
         "last": "https://api.eliteprospects.com/v1/players?offset=0&limit=1000&apiKey=BbLo1zDgnGxebtMr0wJnLuaexEqibZ9R&name=Erik+Gudbranson&dateOfBirth=1992-01-07&sort=name",
         "next": null,
         "prev": null
        },
        "_meta": {
         "generatedAt": "2023-03-21T04:26:05.134589Z",
         "limit": 1000,
         "offset": 0,
         "totalRecords": 1
        },
        "data": [
         {
          "_links": [
           "https://api.eliteprospects.com/v1/players/31282?apiKey=BbLo1zDgnGxebtMr0wJnLuaexEqibZ9R"
          ],
          "dateOfBirth": "1992-01-07",
          "firstName": "Erik",
          "gender": "male",
          "id": 31282,
          "lastName": "Gudbranson",
          "name": "Erik Gudbranson",
          "nationality": {
           "_links": [
            "https://api.eliteprospects.com/v1/countries/CAN?apiKey=BbLo1zDgnGxebtMr0wJnLuaexEqibZ9R"
           ],
           "name": "Canada",
           "slug": "CAN"
          },
          "playerType": "SKATER",
          "position": "D",
          "status": "active"
         }
        ]
       },
       {
        "_links": {
         "first": "https://api.eliteprospects.com/v1/players?offset=0&limit=1000&apiKey=BbLo1zDgnGxebtMr0wJnLuaexEqibZ9R&name=Ryan+Johansen&dateOfBirth=1992-07-31&sort=name",
         "last": "https://api.eliteprospects.com/v1/players?offset=0&limit=1000&apiKey=BbLo1zDgnGxebtMr0wJnLuaexEqibZ9R&name=Ryan+Johansen&dateOfBirth=1992-07-31&sort=name",
         "next": null,
         "prev": null
        },
        "_meta": {
         "generatedAt": "2023-03-21T04:26:05.506672Z",
         "limit": 1000,
         "offset": 0,
         "totalRecords": 1
        },
        "data": [
         {
          "_links": [
           "https://api.eliteprospects.com/v1/players/45512?apiKey=BbLo1zDgnGxebtMr0wJnLuaexEqibZ9R"
          ],
          "dateOfBirth": "1992-07-31",
          "firstName": "Ryan",
          "gender": "male",
          "id": 45512,
          "lastName": "Johansen",
          "name": "Ryan Johansen",
          "nationality": {
           "_links": [
            "https://api.eliteprospects.com/v1/countries/CAN?apiKey=BbLo1zDgnGxebtMr0wJnLuaexEqibZ9R"
           ],
           "name": "Canada",
           "slug": "CAN"
          },
          "playerType": "SKATER",
          "position": "F",
          "status": "active"
         }
        ]
       },
       {
        "_links": {
         "first": "https://api.eliteprospects.com/v1/players?offset=0&limit=1000&apiKey=BbLo1zDgnGxebtMr0wJnLuaexEqibZ9R&name=Nino+Niederreiter&dateOfBirth=1992-09-08&sort=name",
         "last": "https://api.eliteprospects.com/v1/players?offset=0&limit=1000&apiKey=BbLo1zDgnGxebtMr0wJnLuaexEqibZ9R&name=Nino+Niederreiter&dateOfBirth=1992-09-08&sort=name",
         "next": null,
         "prev": null
        },
        "_meta": {
         "generatedAt": "2023-03-21T04:26:05.854481Z",
         "limit": 1000,
         "offset": 0,
         "totalRecords": 1
        },
        "data": [
         {
          "_links": [
           "https://api.eliteprospects.com/v1/players/17679?apiKey=BbLo1zDgnGxebtMr0wJnLuaexEqibZ9R"
          ],
          "dateOfBirth": "1992-09-08",
          "firstName": "Nino",
          "gender": "male",
          "id": 17679,
          "lastName": "Niederreiter",
          "name": "Nino Niederreiter",
          "nationality": {
           "_links": [
            "https://api.eliteprospects.com/v1/countries/CHE?apiKey=BbLo1zDgnGxebtMr0wJnLuaexEqibZ9R"
           ],
           "name": "Switzerland",
           "slug": "CHE"
          },
          "playerType": "SKATER",
          "position": "F",
          "status": "active"
         }
        ]
       },
       {
        "_links": {
         "first": "https://api.eliteprospects.com/v1/players?offset=0&limit=1000&apiKey=BbLo1zDgnGxebtMr0wJnLuaexEqibZ9R&name=Brett+Connolly&dateOfBirth=1992-05-02&sort=name",
         "last": "https://api.eliteprospects.com/v1/players?offset=0&limit=1000&apiKey=BbLo1zDgnGxebtMr0wJnLuaexEqibZ9R&name=Brett+Connolly&dateOfBirth=1992-05-02&sort=name",
         "next": null,
         "prev": null
        },
        "_meta": {
         "generatedAt": "2023-03-21T04:26:06.244242Z",
         "limit": 1000,
         "offset": 0,
         "totalRecords": 1
        },
        "data": [
         {
          "_links": [
           "https://api.eliteprospects.com/v1/players/23297?apiKey=BbLo1zDgnGxebtMr0wJnLuaexEqibZ9R"
          ],
          "dateOfBirth": "1992-05-02",
          "firstName": "Brett",
          "gender": "male",
          "id": 23297,
          "lastName": "Connolly",
          "name": "Brett Connolly",
          "nationality": {
           "_links": [
            "https://api.eliteprospects.com/v1/countries/CAN?apiKey=BbLo1zDgnGxebtMr0wJnLuaexEqibZ9R"
           ],
           "name": "Canada",
           "slug": "CAN"
          },
          "playerType": "SKATER",
          "position": "F",
          "status": "active"
         }
        ]
       },
       {
        "_links": {
         "first": "https://api.eliteprospects.com/v1/players?offset=0&limit=1000&apiKey=BbLo1zDgnGxebtMr0wJnLuaexEqibZ9R&name=Jeff+Skinner&dateOfBirth=1992-05-16&sort=name",
         "last": "https://api.eliteprospects.com/v1/players?offset=0&limit=1000&apiKey=BbLo1zDgnGxebtMr0wJnLuaexEqibZ9R&name=Jeff+Skinner&dateOfBirth=1992-05-16&sort=name",
         "next": null,
         "prev": null
        },
        "_meta": {
         "generatedAt": "2023-03-21T04:26:06.589984Z",
         "limit": 1000,
         "offset": 0,
         "totalRecords": 1
        },
        "data": [
         {
          "_links": [
           "https://api.eliteprospects.com/v1/players/23668?apiKey=BbLo1zDgnGxebtMr0wJnLuaexEqibZ9R"
          ],
          "dateOfBirth": "1992-05-16",
          "firstName": "Jeff",
          "gender": "male",
          "id": 23668,
          "lastName": "Skinner",
          "name": "Jeff Skinner",
          "nationality": {
           "_links": [
            "https://api.eliteprospects.com/v1/countries/CAN?apiKey=BbLo1zDgnGxebtMr0wJnLuaexEqibZ9R"
           ],
           "name": "Canada",
           "slug": "CAN"
          },
          "playerType": "SKATER",
          "position": "F",
          "status": "active"
         }
        ]
       },
       {
        "_links": {
         "first": "https://api.eliteprospects.com/v1/players?offset=0&limit=1000&apiKey=BbLo1zDgnGxebtMr0wJnLuaexEqibZ9R&name=Alexander+Burmistrov&dateOfBirth=1991-10-21&sort=name",
         "last": "https://api.eliteprospects.com/v1/players?offset=0&limit=1000&apiKey=BbLo1zDgnGxebtMr0wJnLuaexEqibZ9R&name=Alexander+Burmistrov&dateOfBirth=1991-10-21&sort=name",
         "next": null,
         "prev": null
        },
        "_meta": {
         "generatedAt": "2023-03-21T04:26:06.903107Z",
         "limit": 1000,
         "offset": 0,
         "totalRecords": 1
        },
        "data": [
         {
          "_links": [
           "https://api.eliteprospects.com/v1/players/22927?apiKey=BbLo1zDgnGxebtMr0wJnLuaexEqibZ9R"
          ],
          "dateOfBirth": "1991-10-21",
          "firstName": "Alexander",
          "gender": "male",
          "id": 22927,
          "lastName": "Burmistrov",
          "name": "Alexander Burmistrov",
          "nationality": {
           "_links": [
            "https://api.eliteprospects.com/v1/countries/RUS?apiKey=BbLo1zDgnGxebtMr0wJnLuaexEqibZ9R"
           ],
           "name": "Russia",
           "slug": "RUS"
          },
          "playerType": "SKATER",
          "position": "F",
          "status": "active"
         }
        ]
       },
       {
        "_links": {
         "first": "https://api.eliteprospects.com/v1/players?offset=0&limit=1000&apiKey=BbLo1zDgnGxebtMr0wJnLuaexEqibZ9R&name=Mikael+Granlund&dateOfBirth=1992-02-26&sort=name",
         "last": "https://api.eliteprospects.com/v1/players?offset=0&limit=1000&apiKey=BbLo1zDgnGxebtMr0wJnLuaexEqibZ9R&name=Mikael+Granlund&dateOfBirth=1992-02-26&sort=name",
         "next": null,
         "prev": null
        },
        "_meta": {
         "generatedAt": "2023-03-21T04:26:07.270457Z",
         "limit": 1000,
         "offset": 0,
         "totalRecords": 1
        },
        "data": [
         {
          "_links": [
           "https://api.eliteprospects.com/v1/players/16037?apiKey=BbLo1zDgnGxebtMr0wJnLuaexEqibZ9R"
          ],
          "dateOfBirth": "1992-02-26",
          "firstName": "Mikael",
          "gender": "male",
          "id": 16037,
          "lastName": "Granlund",
          "name": "Mikael Granlund",
          "nationality": {
           "_links": [
            "https://api.eliteprospects.com/v1/countries/FIN?apiKey=BbLo1zDgnGxebtMr0wJnLuaexEqibZ9R"
           ],
           "name": "Finland",
           "slug": "FIN"
          },
          "playerType": "SKATER",
          "position": "F",
          "status": "active"
         }
        ]
       },
       {
        "_links": {
         "first": "https://api.eliteprospects.com/v1/players?offset=0&limit=1000&apiKey=BbLo1zDgnGxebtMr0wJnLuaexEqibZ9R&name=Dylan+Mcilrath&dateOfBirth=1992-04-20&sort=name",
         "last": "https://api.eliteprospects.com/v1/players?offset=0&limit=1000&apiKey=BbLo1zDgnGxebtMr0wJnLuaexEqibZ9R&name=Dylan+Mcilrath&dateOfBirth=1992-04-20&sort=name",
         "next": null,
         "prev": null
        },
        "_meta": {
         "generatedAt": "2023-03-21T04:26:07.683369Z",
         "limit": 1000,
         "offset": 0,
         "totalRecords": 1
        },
        "data": [
         {
          "_links": [
           "https://api.eliteprospects.com/v1/players/37170?apiKey=BbLo1zDgnGxebtMr0wJnLuaexEqibZ9R"
          ],
          "dateOfBirth": "1992-04-20",
          "firstName": "Dylan",
          "gender": "male",
          "id": 37170,
          "lastName": "McIlrath",
          "name": "Dylan McIlrath",
          "nationality": {
           "_links": [
            "https://api.eliteprospects.com/v1/countries/CAN?apiKey=BbLo1zDgnGxebtMr0wJnLuaexEqibZ9R"
           ],
           "name": "Canada",
           "slug": "CAN"
          },
          "playerType": "SKATER",
          "position": "D",
          "status": "active"
         }
        ]
       },
       {
        "_links": {
         "first": "https://api.eliteprospects.com/v1/players?offset=0&limit=1000&apiKey=BbLo1zDgnGxebtMr0wJnLuaexEqibZ9R&name=Cam+Fowler&dateOfBirth=1991-12-05&sort=name",
         "last": "https://api.eliteprospects.com/v1/players?offset=0&limit=1000&apiKey=BbLo1zDgnGxebtMr0wJnLuaexEqibZ9R&name=Cam+Fowler&dateOfBirth=1991-12-05&sort=name",
         "next": null,
         "prev": null
        },
        "_meta": {
         "generatedAt": "2023-03-21T04:26:08.466357Z",
         "limit": 1000,
         "offset": 0,
         "totalRecords": 1
        },
        "data": [
         {
          "_links": [
           "https://api.eliteprospects.com/v1/players/31261?apiKey=BbLo1zDgnGxebtMr0wJnLuaexEqibZ9R"
          ],
          "dateOfBirth": "1991-12-05",
          "firstName": "Cam",
          "gender": "male",
          "id": 31261,
          "lastName": "Fowler",
          "name": "Cam Fowler",
          "nationality": {
           "_links": [
            "https://api.eliteprospects.com/v1/countries/USA?apiKey=BbLo1zDgnGxebtMr0wJnLuaexEqibZ9R"
           ],
           "name": "USA",
           "slug": "USA"
          },
          "playerType": "SKATER",
          "position": "D",
          "status": "active"
         }
        ]
       },
       {
        "_links": {
         "first": "https://api.eliteprospects.com/v1/players?offset=0&limit=1000&apiKey=BbLo1zDgnGxebtMr0wJnLuaexEqibZ9R&name=Brandon+Gormley&dateOfBirth=1992-02-18&sort=name",
         "last": "https://api.eliteprospects.com/v1/players?offset=0&limit=1000&apiKey=BbLo1zDgnGxebtMr0wJnLuaexEqibZ9R&name=Brandon+Gormley&dateOfBirth=1992-02-18&sort=name",
         "next": null,
         "prev": null
        },
        "_meta": {
         "generatedAt": "2023-03-21T04:26:09.113214Z",
         "limit": 1000,
         "offset": 0,
         "totalRecords": 1
        },
        "data": [
         {
          "_links": [
           "https://api.eliteprospects.com/v1/players/19428?apiKey=BbLo1zDgnGxebtMr0wJnLuaexEqibZ9R"
          ],
          "dateOfBirth": "1992-02-18",
          "firstName": "Brandon",
          "gender": "male",
          "id": 19428,
          "lastName": "Gormley",
          "name": "Brandon Gormley",
          "nationality": {
           "_links": [
            "https://api.eliteprospects.com/v1/countries/CAN?apiKey=BbLo1zDgnGxebtMr0wJnLuaexEqibZ9R"
           ],
           "name": "Canada",
           "slug": "CAN"
          },
          "playerType": "SKATER",
          "position": "D",
          "status": "active"
         }
        ]
       },
       {
        "_links": {
         "first": "https://api.eliteprospects.com/v1/players?offset=0&limit=1000&apiKey=BbLo1zDgnGxebtMr0wJnLuaexEqibZ9R&name=Jaden+Schwartz&dateOfBirth=1992-06-25&sort=name",
         "last": "https://api.eliteprospects.com/v1/players?offset=0&limit=1000&apiKey=BbLo1zDgnGxebtMr0wJnLuaexEqibZ9R&name=Jaden+Schwartz&dateOfBirth=1992-06-25&sort=name",
         "next": null,
         "prev": null
        },
        "_meta": {
         "generatedAt": "2023-03-21T04:26:09.824808Z",
         "limit": 1000,
         "offset": 0,
         "totalRecords": 1
        },
        "data": [
         {
          "_links": [
           "https://api.eliteprospects.com/v1/players/33907?apiKey=BbLo1zDgnGxebtMr0wJnLuaexEqibZ9R"
          ],
          "dateOfBirth": "1992-06-25",
          "firstName": "Jaden",
          "gender": "male",
          "id": 33907,
          "lastName": "Schwartz",
          "name": "Jaden Schwartz",
          "nationality": {
           "_links": [
            "https://api.eliteprospects.com/v1/countries/CAN?apiKey=BbLo1zDgnGxebtMr0wJnLuaexEqibZ9R"
           ],
           "name": "Canada",
           "slug": "CAN"
          },
          "playerType": "SKATER",
          "position": "F",
          "status": "active"
         }
        ]
       },
       {
        "_links": {
         "first": "https://api.eliteprospects.com/v1/players?offset=0&limit=1000&apiKey=BbLo1zDgnGxebtMr0wJnLuaexEqibZ9R&name=Derek+Forbort&dateOfBirth=1992-03-04&sort=name",
         "last": "https://api.eliteprospects.com/v1/players?offset=0&limit=1000&apiKey=BbLo1zDgnGxebtMr0wJnLuaexEqibZ9R&name=Derek+Forbort&dateOfBirth=1992-03-04&sort=name",
         "next": null,
         "prev": null
        },
        "_meta": {
         "generatedAt": "2023-03-21T04:26:10.142824Z",
         "limit": 1000,
         "offset": 0,
         "totalRecords": 1
        },
        "data": [
         {
          "_links": [
           "https://api.eliteprospects.com/v1/players/31265?apiKey=BbLo1zDgnGxebtMr0wJnLuaexEqibZ9R"
          ],
          "dateOfBirth": "1992-03-04",
          "firstName": "Derek",
          "gender": "male",
          "id": 31265,
          "lastName": "Forbort",
          "name": "Derek Forbort",
          "nationality": {
           "_links": [
            "https://api.eliteprospects.com/v1/countries/USA?apiKey=BbLo1zDgnGxebtMr0wJnLuaexEqibZ9R"
           ],
           "name": "USA",
           "slug": "USA"
          },
          "playerType": "SKATER",
          "position": "D",
          "status": "active"
         }
        ]
       },
       {
        "_links": {
         "first": "https://api.eliteprospects.com/v1/players?offset=0&limit=1000&apiKey=BbLo1zDgnGxebtMr0wJnLuaexEqibZ9R&name=Vladimir+Tarasenko&dateOfBirth=1991-12-13&sort=name",
         "last": "https://api.eliteprospects.com/v1/players?offset=0&limit=1000&apiKey=BbLo1zDgnGxebtMr0wJnLuaexEqibZ9R&name=Vladimir+Tarasenko&dateOfBirth=1991-12-13&sort=name",
         "next": null,
         "prev": null
        },
        "_meta": {
         "generatedAt": "2023-03-21T04:26:10.462411Z",
         "limit": 1000,
         "offset": 0,
         "totalRecords": 1
        },
        "data": [
         {
          "_links": [
           "https://api.eliteprospects.com/v1/players/24787?apiKey=BbLo1zDgnGxebtMr0wJnLuaexEqibZ9R"
          ],
          "dateOfBirth": "1991-12-13",
          "firstName": "Vladimir",
          "gender": "male",
          "id": 24787,
          "lastName": "Tarasenko",
          "name": "Vladimir Tarasenko",
          "nationality": {
           "_links": [
            "https://api.eliteprospects.com/v1/countries/RUS?apiKey=BbLo1zDgnGxebtMr0wJnLuaexEqibZ9R"
           ],
           "name": "Russia",
           "slug": "RUS"
          },
          "playerType": "SKATER",
          "position": "F",
          "status": "active"
         }
        ]
       },
       {
        "_links": {
         "first": "https://api.eliteprospects.com/v1/players?offset=0&limit=1000&apiKey=BbLo1zDgnGxebtMr0wJnLuaexEqibZ9R&name=Joey+Hishon&dateOfBirth=1991-10-20&sort=name",
         "last": "https://api.eliteprospects.com/v1/players?offset=0&limit=1000&apiKey=BbLo1zDgnGxebtMr0wJnLuaexEqibZ9R&name=Joey+Hishon&dateOfBirth=1991-10-20&sort=name",
         "next": null,
         "prev": null
        },
        "_meta": {
         "generatedAt": "2023-03-21T04:26:10.845550Z",
         "limit": 1000,
         "offset": 0,
         "totalRecords": 1
        },
        "data": [
         {
          "_links": [
           "https://api.eliteprospects.com/v1/players/15388?apiKey=BbLo1zDgnGxebtMr0wJnLuaexEqibZ9R"
          ],
          "dateOfBirth": "1991-10-20",
          "firstName": "Joey",
          "gender": "male",
          "id": 15388,
          "lastName": "Hishon",
          "name": "Joey Hishon",
          "nationality": {
           "_links": [
            "https://api.eliteprospects.com/v1/countries/CAN?apiKey=BbLo1zDgnGxebtMr0wJnLuaexEqibZ9R"
           ],
           "name": "Canada",
           "slug": "CAN"
          },
          "playerType": "SKATER",
          "position": "F",
          "status": "retired"
         }
        ]
       },
       {
        "_links": {
         "first": "https://api.eliteprospects.com/v1/players?offset=0&limit=1000&apiKey=BbLo1zDgnGxebtMr0wJnLuaexEqibZ9R&name=Austin+Watson&dateOfBirth=1992-01-13&sort=name",
         "last": "https://api.eliteprospects.com/v1/players?offset=0&limit=1000&apiKey=BbLo1zDgnGxebtMr0wJnLuaexEqibZ9R&name=Austin+Watson&dateOfBirth=1992-01-13&sort=name",
         "next": null,
         "prev": null
        },
        "_meta": {
         "generatedAt": "2023-03-21T04:26:11.271866Z",
         "limit": 1000,
         "offset": 0,
         "totalRecords": 1
        },
        "data": [
         {
          "_links": [
           "https://api.eliteprospects.com/v1/players/33753?apiKey=BbLo1zDgnGxebtMr0wJnLuaexEqibZ9R"
          ],
          "dateOfBirth": "1992-01-13",
          "firstName": "Austin",
          "gender": "male",
          "id": 33753,
          "lastName": "Watson",
          "name": "Austin Watson",
          "nationality": {
           "_links": [
            "https://api.eliteprospects.com/v1/countries/USA?apiKey=BbLo1zDgnGxebtMr0wJnLuaexEqibZ9R"
           ],
           "name": "USA",
           "slug": "USA"
          },
          "playerType": "SKATER",
          "position": "F",
          "status": "active"
         }
        ]
       },
       {
        "_links": {
         "first": "https://api.eliteprospects.com/v1/players?offset=0&limit=1000&apiKey=BbLo1zDgnGxebtMr0wJnLuaexEqibZ9R&name=Nick+Bjugstad&dateOfBirth=1992-07-17&sort=name",
         "last": "https://api.eliteprospects.com/v1/players?offset=0&limit=1000&apiKey=BbLo1zDgnGxebtMr0wJnLuaexEqibZ9R&name=Nick+Bjugstad&dateOfBirth=1992-07-17&sort=name",
         "next": null,
         "prev": null
        },
        "_meta": {
         "generatedAt": "2023-03-21T04:26:11.575471Z",
         "limit": 1000,
         "offset": 0,
         "totalRecords": 1
        },
        "data": [
         {
          "_links": [
           "https://api.eliteprospects.com/v1/players/40265?apiKey=BbLo1zDgnGxebtMr0wJnLuaexEqibZ9R"
          ],
          "dateOfBirth": "1992-07-17",
          "firstName": "Nick",
          "gender": "male",
          "id": 40265,
          "lastName": "Bjugstad",
          "name": "Nick Bjugstad",
          "nationality": {
           "_links": [
            "https://api.eliteprospects.com/v1/countries/USA?apiKey=BbLo1zDgnGxebtMr0wJnLuaexEqibZ9R"
           ],
           "name": "USA",
           "slug": "USA"
          },
          "playerType": "SKATER",
          "position": "F",
          "status": "active"
         }
        ]
       },
       {
        "_links": {
         "first": "https://api.eliteprospects.com/v1/players?offset=0&limit=1000&apiKey=BbLo1zDgnGxebtMr0wJnLuaexEqibZ9R&name=Beau+Bennett&dateOfBirth=1991-11-27&sort=name",
         "last": "https://api.eliteprospects.com/v1/players?offset=0&limit=1000&apiKey=BbLo1zDgnGxebtMr0wJnLuaexEqibZ9R&name=Beau+Bennett&dateOfBirth=1991-11-27&sort=name",
         "next": null,
         "prev": null
        },
        "_meta": {
         "generatedAt": "2023-03-21T04:26:12.172786Z",
         "limit": 1000,
         "offset": 0,
         "totalRecords": 1
        },
        "data": [
         {
          "_links": [
           "https://api.eliteprospects.com/v1/players/46980?apiKey=BbLo1zDgnGxebtMr0wJnLuaexEqibZ9R"
          ],
          "dateOfBirth": "1991-11-27",
          "firstName": "Beau",
          "gender": "male",
          "id": 46980,
          "lastName": "Bennett",
          "name": "Beau Bennett",
          "nationality": {
           "_links": [
            "https://api.eliteprospects.com/v1/countries/USA?apiKey=BbLo1zDgnGxebtMr0wJnLuaexEqibZ9R"
           ],
           "name": "USA",
           "slug": "USA"
          },
          "playerType": "SKATER",
          "position": "F",
          "status": "retired"
         }
        ]
       },
       {
        "_links": {
         "first": "https://api.eliteprospects.com/v1/players?offset=0&limit=1000&apiKey=BbLo1zDgnGxebtMr0wJnLuaexEqibZ9R&name=Riley+Sheahan&dateOfBirth=1991-12-07&sort=name",
         "last": "https://api.eliteprospects.com/v1/players?offset=0&limit=1000&apiKey=BbLo1zDgnGxebtMr0wJnLuaexEqibZ9R&name=Riley+Sheahan&dateOfBirth=1991-12-07&sort=name",
         "next": null,
         "prev": null
        },
        "_meta": {
         "generatedAt": "2023-03-21T04:26:12.881406Z",
         "limit": 1000,
         "offset": 0,
         "totalRecords": 1
        },
        "data": [
         {
          "_links": [
           "https://api.eliteprospects.com/v1/players/33929?apiKey=BbLo1zDgnGxebtMr0wJnLuaexEqibZ9R"
          ],
          "dateOfBirth": "1991-12-07",
          "firstName": "Riley",
          "gender": "male",
          "id": 33929,
          "lastName": "Sheahan",
          "name": "Riley Sheahan",
          "nationality": {
           "_links": [
            "https://api.eliteprospects.com/v1/countries/CAN?apiKey=BbLo1zDgnGxebtMr0wJnLuaexEqibZ9R"
           ],
           "name": "Canada",
           "slug": "CAN"
          },
          "playerType": "SKATER",
          "position": "F",
          "status": "active"
         }
        ]
       },
       {
        "_links": {
         "first": "https://api.eliteprospects.com/v1/players?offset=0&limit=1000&apiKey=BbLo1zDgnGxebtMr0wJnLuaexEqibZ9R&name=Jarred+Tinordi&dateOfBirth=1992-02-20&sort=name",
         "last": "https://api.eliteprospects.com/v1/players?offset=0&limit=1000&apiKey=BbLo1zDgnGxebtMr0wJnLuaexEqibZ9R&name=Jarred+Tinordi&dateOfBirth=1992-02-20&sort=name",
         "next": null,
         "prev": null
        },
        "_meta": {
         "generatedAt": "2023-03-21T04:26:13.775780Z",
         "limit": 1000,
         "offset": 0,
         "totalRecords": 1
        },
        "data": [
         {
          "_links": [
           "https://api.eliteprospects.com/v1/players/20706?apiKey=BbLo1zDgnGxebtMr0wJnLuaexEqibZ9R"
          ],
          "dateOfBirth": "1992-02-20",
          "firstName": "Jarred",
          "gender": "male",
          "id": 20706,
          "lastName": "Tinordi",
          "name": "Jarred Tinordi",
          "nationality": {
           "_links": [
            "https://api.eliteprospects.com/v1/countries/USA?apiKey=BbLo1zDgnGxebtMr0wJnLuaexEqibZ9R"
           ],
           "name": "USA",
           "slug": "USA"
          },
          "playerType": "SKATER",
          "position": "D",
          "status": "active"
         }
        ]
       },
       {
        "_links": {
         "first": "https://api.eliteprospects.com/v1/players?offset=0&limit=1000&apiKey=BbLo1zDgnGxebtMr0wJnLuaexEqibZ9R&name=Mark+Pysyk&dateOfBirth=1992-01-11&sort=name",
         "last": "https://api.eliteprospects.com/v1/players?offset=0&limit=1000&apiKey=BbLo1zDgnGxebtMr0wJnLuaexEqibZ9R&name=Mark+Pysyk&dateOfBirth=1992-01-11&sort=name",
         "next": null,
         "prev": null
        },
        "_meta": {
         "generatedAt": "2023-03-21T04:26:14.169319Z",
         "limit": 1000,
         "offset": 0,
         "totalRecords": 1
        },
        "data": [
         {
          "_links": [
           "https://api.eliteprospects.com/v1/players/23154?apiKey=BbLo1zDgnGxebtMr0wJnLuaexEqibZ9R"
          ],
          "dateOfBirth": "1992-01-11",
          "firstName": "Mark",
          "gender": "male",
          "id": 23154,
          "lastName": "Pysyk",
          "name": "Mark Pysyk",
          "nationality": {
           "_links": [
            "https://api.eliteprospects.com/v1/countries/CAN?apiKey=BbLo1zDgnGxebtMr0wJnLuaexEqibZ9R"
           ],
           "name": "Canada",
           "slug": "CAN"
          },
          "playerType": "SKATER",
          "position": "D",
          "status": "active"
         }
        ]
       },
       {
        "_links": {
         "first": "https://api.eliteprospects.com/v1/players?offset=0&limit=1000&apiKey=BbLo1zDgnGxebtMr0wJnLuaexEqibZ9R&name=Kevin+Hayes&dateOfBirth=1992-05-08&sort=name",
         "last": "https://api.eliteprospects.com/v1/players?offset=0&limit=1000&apiKey=BbLo1zDgnGxebtMr0wJnLuaexEqibZ9R&name=Kevin+Hayes&dateOfBirth=1992-05-08&sort=name",
         "next": null,
         "prev": null
        },
        "_meta": {
         "generatedAt": "2023-03-21T04:26:14.443408Z",
         "limit": 1000,
         "offset": 0,
         "totalRecords": 1
        },
        "data": [
         {
          "_links": [
           "https://api.eliteprospects.com/v1/players/40243?apiKey=BbLo1zDgnGxebtMr0wJnLuaexEqibZ9R"
          ],
          "dateOfBirth": "1992-05-08",
          "firstName": "Kevin",
          "gender": "male",
          "id": 40243,
          "lastName": "Hayes",
          "name": "Kevin Hayes",
          "nationality": {
           "_links": [
            "https://api.eliteprospects.com/v1/countries/USA?apiKey=BbLo1zDgnGxebtMr0wJnLuaexEqibZ9R"
           ],
           "name": "USA",
           "slug": "USA"
          },
          "playerType": "SKATER",
          "position": "F",
          "status": "active"
         }
        ]
       },
       {
        "_links": {
         "first": "https://api.eliteprospects.com/v1/players?offset=0&limit=1000&apiKey=BbLo1zDgnGxebtMr0wJnLuaexEqibZ9R&name=Quinton+Howden&dateOfBirth=1992-01-21&sort=name",
         "last": "https://api.eliteprospects.com/v1/players?offset=0&limit=1000&apiKey=BbLo1zDgnGxebtMr0wJnLuaexEqibZ9R&name=Quinton+Howden&dateOfBirth=1992-01-21&sort=name",
         "next": null,
         "prev": null
        },
        "_meta": {
         "generatedAt": "2023-03-21T04:26:14.747193Z",
         "limit": 1000,
         "offset": 0,
         "totalRecords": 1
        },
        "data": [
         {
          "_links": [
           "https://api.eliteprospects.com/v1/players/31281?apiKey=BbLo1zDgnGxebtMr0wJnLuaexEqibZ9R"
          ],
          "dateOfBirth": "1992-01-21",
          "firstName": "Quinton",
          "gender": "male",
          "id": 31281,
          "lastName": "Howden",
          "name": "Quinton Howden",
          "nationality": {
           "_links": [
            "https://api.eliteprospects.com/v1/countries/CAN?apiKey=BbLo1zDgnGxebtMr0wJnLuaexEqibZ9R"
           ],
           "name": "Canada",
           "slug": "CAN"
          },
          "playerType": "SKATER",
          "position": "F",
          "status": "active"
         }
        ]
       },
       {
        "_links": {
         "first": "https://api.eliteprospects.com/v1/players?offset=0&limit=1000&apiKey=BbLo1zDgnGxebtMr0wJnLuaexEqibZ9R&name=Evgeny+Kuznetsov&dateOfBirth=1992-05-19&sort=name",
         "last": "https://api.eliteprospects.com/v1/players?offset=0&limit=1000&apiKey=BbLo1zDgnGxebtMr0wJnLuaexEqibZ9R&name=Evgeny+Kuznetsov&dateOfBirth=1992-05-19&sort=name",
         "next": null,
         "prev": null
        },
        "_meta": {
         "generatedAt": "2023-03-21T04:26:15.086365Z",
         "limit": 1000,
         "offset": 0,
         "totalRecords": 1
        },
        "data": [
         {
          "_links": [
           "https://api.eliteprospects.com/v1/players/34777?apiKey=BbLo1zDgnGxebtMr0wJnLuaexEqibZ9R"
          ],
          "dateOfBirth": "1992-05-19",
          "firstName": "Yevgeni",
          "gender": "male",
          "id": 34777,
          "lastName": "Kuznetsov",
          "name": "Yevgeni Kuznetsov",
          "nationality": {
           "_links": [
            "https://api.eliteprospects.com/v1/countries/RUS?apiKey=BbLo1zDgnGxebtMr0wJnLuaexEqibZ9R"
           ],
           "name": "Russia",
           "slug": "RUS"
          },
          "playerType": "SKATER",
          "position": "F",
          "status": "active"
         }
        ]
       },
       {
        "_links": {
         "first": "https://api.eliteprospects.com/v1/players?offset=0&limit=1000&apiKey=BbLo1zDgnGxebtMr0wJnLuaexEqibZ9R&name=Charlie+Coyle&dateOfBirth=1992-03-02&sort=name",
         "last": "https://api.eliteprospects.com/v1/players?offset=0&limit=1000&apiKey=BbLo1zDgnGxebtMr0wJnLuaexEqibZ9R&name=Charlie+Coyle&dateOfBirth=1992-03-02&sort=name",
         "next": null,
         "prev": null
        },
        "_meta": {
         "generatedAt": "2023-03-21T04:26:15.384271Z",
         "limit": 1000,
         "offset": 0,
         "totalRecords": 1
        },
        "data": [
         {
          "_links": [
           "https://api.eliteprospects.com/v1/players/60251?apiKey=BbLo1zDgnGxebtMr0wJnLuaexEqibZ9R"
          ],
          "dateOfBirth": "1992-03-02",
          "firstName": "Charlie",
          "gender": "male",
          "id": 60251,
          "lastName": "Coyle",
          "name": "Charlie Coyle",
          "nationality": {
           "_links": [
            "https://api.eliteprospects.com/v1/countries/USA?apiKey=BbLo1zDgnGxebtMr0wJnLuaexEqibZ9R"
           ],
           "name": "USA",
           "slug": "USA"
          },
          "playerType": "SKATER",
          "position": "F",
          "status": "active"
         }
        ]
       },
       {
        "_links": {
         "first": "https://api.eliteprospects.com/v1/players?offset=0&limit=1000&apiKey=BbLo1zDgnGxebtMr0wJnLuaexEqibZ9R&name=Emerson+Etem&dateOfBirth=1992-06-16&sort=name",
         "last": "https://api.eliteprospects.com/v1/players?offset=0&limit=1000&apiKey=BbLo1zDgnGxebtMr0wJnLuaexEqibZ9R&name=Emerson+Etem&dateOfBirth=1992-06-16&sort=name",
         "next": null,
         "prev": null
        },
        "_meta": {
         "generatedAt": "2023-03-21T04:26:15.694089Z",
         "limit": 1000,
         "offset": 0,
         "totalRecords": 1
        },
        "data": [
         {
          "_links": [
           "https://api.eliteprospects.com/v1/players/20718?apiKey=BbLo1zDgnGxebtMr0wJnLuaexEqibZ9R"
          ],
          "dateOfBirth": "1992-06-16",
          "firstName": "Emerson",
          "gender": "male",
          "id": 20718,
          "lastName": "Etem",
          "name": "Emerson Etem",
          "nationality": {
           "_links": [
            "https://api.eliteprospects.com/v1/countries/USA?apiKey=BbLo1zDgnGxebtMr0wJnLuaexEqibZ9R"
           ],
           "name": "USA",
           "slug": "USA"
          },
          "playerType": "SKATER",
          "position": "F",
          "status": "retired"
         }
        ]
       },
       {
        "_links": {
         "first": "https://api.eliteprospects.com/v1/players?offset=0&limit=1000&apiKey=BbLo1zDgnGxebtMr0wJnLuaexEqibZ9R&name=Brock+Nelson&dateOfBirth=1991-10-15&sort=name",
         "last": "https://api.eliteprospects.com/v1/players?offset=0&limit=1000&apiKey=BbLo1zDgnGxebtMr0wJnLuaexEqibZ9R&name=Brock+Nelson&dateOfBirth=1991-10-15&sort=name",
         "next": null,
         "prev": null
        },
        "_meta": {
         "generatedAt": "2023-03-21T04:26:16.010578Z",
         "limit": 1000,
         "offset": 0,
         "totalRecords": 1
        },
        "data": [
         {
          "_links": [
           "https://api.eliteprospects.com/v1/players/74997?apiKey=BbLo1zDgnGxebtMr0wJnLuaexEqibZ9R"
          ],
          "dateOfBirth": "1991-10-15",
          "firstName": "Brock",
          "gender": "male",
          "id": 74997,
          "lastName": "Nelson",
          "name": "Brock Nelson",
          "nationality": {
           "_links": [
            "https://api.eliteprospects.com/v1/countries/USA?apiKey=BbLo1zDgnGxebtMr0wJnLuaexEqibZ9R"
           ],
           "name": "USA",
           "slug": "USA"
          },
          "playerType": "SKATER",
          "position": "F",
          "status": "active"
         }
        ]
       },
       {
        "_links": {
         "first": "https://api.eliteprospects.com/v1/players?offset=0&limit=1000&apiKey=BbLo1zDgnGxebtMr0wJnLuaexEqibZ9R&name=Ryan+Nugent-Hopkins&dateOfBirth=1993-04-12&sort=name",
         "last": "https://api.eliteprospects.com/v1/players?offset=0&limit=1000&apiKey=BbLo1zDgnGxebtMr0wJnLuaexEqibZ9R&name=Ryan+Nugent-Hopkins&dateOfBirth=1993-04-12&sort=name",
         "next": null,
         "prev": null
        },
        "_meta": {
         "generatedAt": "2023-03-21T04:26:16.308834Z",
         "limit": 1000,
         "offset": 0,
         "totalRecords": 1
        },
        "data": [
         {
          "_links": [
           "https://api.eliteprospects.com/v1/players/25636?apiKey=BbLo1zDgnGxebtMr0wJnLuaexEqibZ9R"
          ],
          "dateOfBirth": "1993-04-12",
          "firstName": "Ryan",
          "gender": "male",
          "id": 25636,
          "lastName": "Nugent-Hopkins",
          "name": "Ryan Nugent-Hopkins",
          "nationality": {
           "_links": [
            "https://api.eliteprospects.com/v1/countries/CAN?apiKey=BbLo1zDgnGxebtMr0wJnLuaexEqibZ9R"
           ],
           "name": "Canada",
           "slug": "CAN"
          },
          "playerType": "SKATER",
          "position": "F",
          "status": "active"
         }
        ]
       },
       {
        "_links": {
         "first": "https://api.eliteprospects.com/v1/players?offset=0&limit=1000&apiKey=BbLo1zDgnGxebtMr0wJnLuaexEqibZ9R&name=Gabriel+Landeskog&dateOfBirth=1992-11-23&sort=name",
         "last": "https://api.eliteprospects.com/v1/players?offset=0&limit=1000&apiKey=BbLo1zDgnGxebtMr0wJnLuaexEqibZ9R&name=Gabriel+Landeskog&dateOfBirth=1992-11-23&sort=name",
         "next": null,
         "prev": null
        },
        "_meta": {
         "generatedAt": "2023-03-21T04:26:16.652284Z",
         "limit": 1000,
         "offset": 0,
         "totalRecords": 1
        },
        "data": [
         {
          "_links": [
           "https://api.eliteprospects.com/v1/players/10393?apiKey=BbLo1zDgnGxebtMr0wJnLuaexEqibZ9R"
          ],
          "dateOfBirth": "1992-11-23",
          "firstName": "Gabriel",
          "gender": "male",
          "id": 10393,
          "lastName": "Landeskog",
          "name": "Gabriel Landeskog",
          "nationality": {
           "_links": [
            "https://api.eliteprospects.com/v1/countries/SWE?apiKey=BbLo1zDgnGxebtMr0wJnLuaexEqibZ9R"
           ],
           "name": "Sweden",
           "slug": "SWE"
          },
          "playerType": "SKATER",
          "position": "F",
          "status": "active"
         }
        ]
       },
       {
        "_links": {
         "first": "https://api.eliteprospects.com/v1/players?offset=0&limit=1000&apiKey=BbLo1zDgnGxebtMr0wJnLuaexEqibZ9R&name=Jonathan+Huberdeau&dateOfBirth=1993-06-04&sort=name",
         "last": "https://api.eliteprospects.com/v1/players?offset=0&limit=1000&apiKey=BbLo1zDgnGxebtMr0wJnLuaexEqibZ9R&name=Jonathan+Huberdeau&dateOfBirth=1993-06-04&sort=name",
         "next": null,
         "prev": null
        },
        "_meta": {
         "generatedAt": "2023-03-21T04:26:16.979482Z",
         "limit": 1000,
         "offset": 0,
         "totalRecords": 1
        },
        "data": [
         {
          "_links": [
           "https://api.eliteprospects.com/v1/players/45261?apiKey=BbLo1zDgnGxebtMr0wJnLuaexEqibZ9R"
          ],
          "dateOfBirth": "1993-06-04",
          "firstName": "Jonathan",
          "gender": "male",
          "id": 45261,
          "lastName": "Huberdeau",
          "name": "Jonathan Huberdeau",
          "nationality": {
           "_links": [
            "https://api.eliteprospects.com/v1/countries/CAN?apiKey=BbLo1zDgnGxebtMr0wJnLuaexEqibZ9R"
           ],
           "name": "Canada",
           "slug": "CAN"
          },
          "playerType": "SKATER",
          "position": "F",
          "status": "active"
         }
        ]
       },
       {
        "_links": {
         "first": "https://api.eliteprospects.com/v1/players?offset=0&limit=1000&apiKey=BbLo1zDgnGxebtMr0wJnLuaexEqibZ9R&name=Adam+Larsson&dateOfBirth=1992-11-12&sort=name",
         "last": "https://api.eliteprospects.com/v1/players?offset=0&limit=1000&apiKey=BbLo1zDgnGxebtMr0wJnLuaexEqibZ9R&name=Adam+Larsson&dateOfBirth=1992-11-12&sort=name",
         "next": null,
         "prev": null
        },
        "_meta": {
         "generatedAt": "2023-03-21T04:26:17.266736Z",
         "limit": 1000,
         "offset": 0,
         "totalRecords": 1
        },
        "data": [
         {
          "_links": [
           "https://api.eliteprospects.com/v1/players/10713?apiKey=BbLo1zDgnGxebtMr0wJnLuaexEqibZ9R"
          ],
          "dateOfBirth": "1992-11-12",
          "firstName": "Adam",
          "gender": "male",
          "id": 10713,
          "lastName": "Larsson",
          "name": "Adam Larsson",
          "nationality": {
           "_links": [
            "https://api.eliteprospects.com/v1/countries/SWE?apiKey=BbLo1zDgnGxebtMr0wJnLuaexEqibZ9R"
           ],
           "name": "Sweden",
           "slug": "SWE"
          },
          "playerType": "SKATER",
          "position": "D",
          "status": "active"
         }
        ]
       },
       {
        "_links": {
         "first": "https://api.eliteprospects.com/v1/players?offset=0&limit=1000&apiKey=BbLo1zDgnGxebtMr0wJnLuaexEqibZ9R&name=Ryan+Strome&dateOfBirth=1993-07-11&sort=name",
         "last": "https://api.eliteprospects.com/v1/players?offset=0&limit=1000&apiKey=BbLo1zDgnGxebtMr0wJnLuaexEqibZ9R&name=Ryan+Strome&dateOfBirth=1993-07-11&sort=name",
         "next": null,
         "prev": null
        },
        "_meta": {
         "generatedAt": "2023-03-21T04:26:17.614208Z",
         "limit": 1000,
         "offset": 0,
         "totalRecords": 1
        },
        "data": [
         {
          "_links": [
           "https://api.eliteprospects.com/v1/players/44789?apiKey=BbLo1zDgnGxebtMr0wJnLuaexEqibZ9R"
          ],
          "dateOfBirth": "1993-07-11",
          "firstName": "Ryan",
          "gender": "male",
          "id": 44789,
          "lastName": "Strome",
          "name": "Ryan Strome",
          "nationality": {
           "_links": [
            "https://api.eliteprospects.com/v1/countries/CAN?apiKey=BbLo1zDgnGxebtMr0wJnLuaexEqibZ9R"
           ],
           "name": "Canada",
           "slug": "CAN"
          },
          "playerType": "SKATER",
          "position": "F",
          "status": "active"
         }
        ]
       },
       {
        "_links": {
         "first": "https://api.eliteprospects.com/v1/players?offset=0&limit=1000&apiKey=BbLo1zDgnGxebtMr0wJnLuaexEqibZ9R&name=Mika+Zibanejad&dateOfBirth=1993-04-18&sort=name",
         "last": "https://api.eliteprospects.com/v1/players?offset=0&limit=1000&apiKey=BbLo1zDgnGxebtMr0wJnLuaexEqibZ9R&name=Mika+Zibanejad&dateOfBirth=1993-04-18&sort=name",
         "next": null,
         "prev": null
        },
        "_meta": {
         "generatedAt": "2023-03-21T04:26:18.078593Z",
         "limit": 1000,
         "offset": 0,
         "totalRecords": 1
        },
        "data": [
         {
          "_links": [
           "https://api.eliteprospects.com/v1/players/23856?apiKey=BbLo1zDgnGxebtMr0wJnLuaexEqibZ9R"
          ],
          "dateOfBirth": "1993-04-18",
          "firstName": "Mika",
          "gender": "male",
          "id": 23856,
          "lastName": "Zibanejad",
          "name": "Mika Zibanejad",
          "nationality": {
           "_links": [
            "https://api.eliteprospects.com/v1/countries/SWE?apiKey=BbLo1zDgnGxebtMr0wJnLuaexEqibZ9R"
           ],
           "name": "Sweden",
           "slug": "SWE"
          },
          "playerType": "SKATER",
          "position": "F",
          "status": "active"
         }
        ]
       },
       {
        "_links": {
         "first": "https://api.eliteprospects.com/v1/players?offset=0&limit=1000&apiKey=BbLo1zDgnGxebtMr0wJnLuaexEqibZ9R&name=Mark+Scheifele&dateOfBirth=1993-03-15&sort=name",
         "last": "https://api.eliteprospects.com/v1/players?offset=0&limit=1000&apiKey=BbLo1zDgnGxebtMr0wJnLuaexEqibZ9R&name=Mark+Scheifele&dateOfBirth=1993-03-15&sort=name",
         "next": null,
         "prev": null
        },
        "_meta": {
         "generatedAt": "2023-03-21T04:26:18.428310Z",
         "limit": 1000,
         "offset": 0,
         "totalRecords": 1
        },
        "data": [
         {
          "_links": [
           "https://api.eliteprospects.com/v1/players/75379?apiKey=BbLo1zDgnGxebtMr0wJnLuaexEqibZ9R"
          ],
          "dateOfBirth": "1993-03-15",
          "firstName": "Mark",
          "gender": "male",
          "id": 75379,
          "lastName": "Scheifele",
          "name": "Mark Scheifele",
          "nationality": {
           "_links": [
            "https://api.eliteprospects.com/v1/countries/CAN?apiKey=BbLo1zDgnGxebtMr0wJnLuaexEqibZ9R"
           ],
           "name": "Canada",
           "slug": "CAN"
          },
          "playerType": "SKATER",
          "position": "F",
          "status": "active"
         }
        ]
       },
       {
        "_links": {
         "first": "https://api.eliteprospects.com/v1/players?offset=0&limit=1000&apiKey=BbLo1zDgnGxebtMr0wJnLuaexEqibZ9R&name=Sean+Couturier&dateOfBirth=1992-12-07&sort=name",
         "last": "https://api.eliteprospects.com/v1/players?offset=0&limit=1000&apiKey=BbLo1zDgnGxebtMr0wJnLuaexEqibZ9R&name=Sean+Couturier&dateOfBirth=1992-12-07&sort=name",
         "next": null,
         "prev": null
        },
        "_meta": {
         "generatedAt": "2023-03-21T04:26:18.736463Z",
         "limit": 1000,
         "offset": 0,
         "totalRecords": 1
        },
        "data": [
         {
          "_links": [
           "https://api.eliteprospects.com/v1/players/32885?apiKey=BbLo1zDgnGxebtMr0wJnLuaexEqibZ9R"
          ],
          "dateOfBirth": "1992-12-07",
          "firstName": "Sean",
          "gender": "male",
          "id": 32885,
          "lastName": "Couturier",
          "name": "Sean Couturier",
          "nationality": {
           "_links": [
            "https://api.eliteprospects.com/v1/countries/CAN?apiKey=BbLo1zDgnGxebtMr0wJnLuaexEqibZ9R"
           ],
           "name": "Canada",
           "slug": "CAN"
          },
          "playerType": "SKATER",
          "position": "F",
          "status": "active"
         }
        ]
       },
       {
        "_links": {
         "first": "https://api.eliteprospects.com/v1/players?offset=0&limit=1000&apiKey=BbLo1zDgnGxebtMr0wJnLuaexEqibZ9R&name=Dougie+Hamilton&dateOfBirth=1993-06-17&sort=name",
         "last": "https://api.eliteprospects.com/v1/players?offset=0&limit=1000&apiKey=BbLo1zDgnGxebtMr0wJnLuaexEqibZ9R&name=Dougie+Hamilton&dateOfBirth=1993-06-17&sort=name",
         "next": null,
         "prev": null
        },
        "_meta": {
         "generatedAt": "2023-03-21T04:26:19.061169Z",
         "limit": 1000,
         "offset": 0,
         "totalRecords": 1
        },
        "data": [
         {
          "_links": [
           "https://api.eliteprospects.com/v1/players/45596?apiKey=BbLo1zDgnGxebtMr0wJnLuaexEqibZ9R"
          ],
          "dateOfBirth": "1993-06-17",
          "firstName": "Dougie",
          "gender": "male",
          "id": 45596,
          "lastName": "Hamilton",
          "name": "Dougie Hamilton",
          "nationality": {
           "_links": [
            "https://api.eliteprospects.com/v1/countries/CAN?apiKey=BbLo1zDgnGxebtMr0wJnLuaexEqibZ9R"
           ],
           "name": "Canada",
           "slug": "CAN"
          },
          "playerType": "SKATER",
          "position": "D",
          "status": "active"
         }
        ]
       },
       {
        "_links": {
         "first": "https://api.eliteprospects.com/v1/players?offset=0&limit=1000&apiKey=BbLo1zDgnGxebtMr0wJnLuaexEqibZ9R&name=Jonas+Brodin&dateOfBirth=1993-07-12&sort=name",
         "last": "https://api.eliteprospects.com/v1/players?offset=0&limit=1000&apiKey=BbLo1zDgnGxebtMr0wJnLuaexEqibZ9R&name=Jonas+Brodin&dateOfBirth=1993-07-12&sort=name",
         "next": null,
         "prev": null
        },
        "_meta": {
         "generatedAt": "2023-03-21T04:26:19.384199Z",
         "limit": 1000,
         "offset": 0,
         "totalRecords": 1
        },
        "data": [
         {
          "_links": [
           "https://api.eliteprospects.com/v1/players/19980?apiKey=BbLo1zDgnGxebtMr0wJnLuaexEqibZ9R"
          ],
          "dateOfBirth": "1993-07-12",
          "firstName": "Jonas",
          "gender": "male",
          "id": 19980,
          "lastName": "Brodin",
          "name": "Jonas Brodin",
          "nationality": {
           "_links": [
            "https://api.eliteprospects.com/v1/countries/SWE?apiKey=BbLo1zDgnGxebtMr0wJnLuaexEqibZ9R"
           ],
           "name": "Sweden",
           "slug": "SWE"
          },
          "playerType": "SKATER",
          "position": "D",
          "status": "active"
         }
        ]
       },
       {
        "_links": {
         "first": "https://api.eliteprospects.com/v1/players?offset=0&limit=1000&apiKey=BbLo1zDgnGxebtMr0wJnLuaexEqibZ9R&name=Duncan+Siemens&dateOfBirth=1993-09-07&sort=name",
         "last": "https://api.eliteprospects.com/v1/players?offset=0&limit=1000&apiKey=BbLo1zDgnGxebtMr0wJnLuaexEqibZ9R&name=Duncan+Siemens&dateOfBirth=1993-09-07&sort=name",
         "next": null,
         "prev": null
        },
        "_meta": {
         "generatedAt": "2023-03-21T04:26:19.669565Z",
         "limit": 1000,
         "offset": 0,
         "totalRecords": 1
        },
        "data": [
         {
          "_links": [
           "https://api.eliteprospects.com/v1/players/37238?apiKey=BbLo1zDgnGxebtMr0wJnLuaexEqibZ9R"
          ],
          "dateOfBirth": "1993-09-07",
          "firstName": "Duncan",
          "gender": "male",
          "id": 37238,
          "lastName": "Siemens",
          "name": "Duncan Siemens",
          "nationality": {
           "_links": [
            "https://api.eliteprospects.com/v1/countries/CAN?apiKey=BbLo1zDgnGxebtMr0wJnLuaexEqibZ9R"
           ],
           "name": "Canada",
           "slug": "CAN"
          },
          "playerType": "SKATER",
          "position": "D",
          "status": "retired"
         }
        ]
       },
       {
        "_links": {
         "first": "https://api.eliteprospects.com/v1/players?offset=0&limit=1000&apiKey=BbLo1zDgnGxebtMr0wJnLuaexEqibZ9R&name=Ryan+Murphy&dateOfBirth=1993-03-31&sort=name",
         "last": "https://api.eliteprospects.com/v1/players?offset=0&limit=1000&apiKey=BbLo1zDgnGxebtMr0wJnLuaexEqibZ9R&name=Ryan+Murphy&dateOfBirth=1993-03-31&sort=name",
         "next": null,
         "prev": null
        },
        "_meta": {
         "generatedAt": "2023-03-21T04:26:20.754663Z",
         "limit": 1000,
         "offset": 0,
         "totalRecords": 1
        },
        "data": [
         {
          "_links": [
           "https://api.eliteprospects.com/v1/players/44666?apiKey=BbLo1zDgnGxebtMr0wJnLuaexEqibZ9R"
          ],
          "dateOfBirth": "1993-03-31",
          "firstName": "Ryan",
          "gender": "male",
          "id": 44666,
          "lastName": "Murphy",
          "name": "Ryan Murphy",
          "nationality": {
           "_links": [
            "https://api.eliteprospects.com/v1/countries/CAN?apiKey=BbLo1zDgnGxebtMr0wJnLuaexEqibZ9R"
           ],
           "name": "Canada",
           "slug": "CAN"
          },
          "playerType": "SKATER",
          "position": "D",
          "status": "active"
         }
        ]
       },
       {
        "_links": {
         "first": "https://api.eliteprospects.com/v1/players?offset=0&limit=1000&apiKey=BbLo1zDgnGxebtMr0wJnLuaexEqibZ9R&name=Sven+Baertschi&dateOfBirth=1992-10-05&sort=name",
         "last": "https://api.eliteprospects.com/v1/players?offset=0&limit=1000&apiKey=BbLo1zDgnGxebtMr0wJnLuaexEqibZ9R&name=Sven+Baertschi&dateOfBirth=1992-10-05&sort=name",
         "next": null,
         "prev": null
        },
        "_meta": {
         "generatedAt": "2023-03-21T04:26:21.400957Z",
         "limit": 1000,
         "offset": 0,
         "totalRecords": 1
        },
        "data": [
         {
          "_links": [
           "https://api.eliteprospects.com/v1/players/33591?apiKey=BbLo1zDgnGxebtMr0wJnLuaexEqibZ9R"
          ],
          "dateOfBirth": "1992-10-05",
          "firstName": "Sven",
          "gender": "male",
          "id": 33591,
          "lastName": "Bärtschi",
          "name": "Sven Bärtschi",
          "nationality": {
           "_links": [
            "https://api.eliteprospects.com/v1/countries/CHE?apiKey=BbLo1zDgnGxebtMr0wJnLuaexEqibZ9R"
           ],
           "name": "Switzerland",
           "slug": "CHE"
          },
          "playerType": "SKATER",
          "position": "F",
          "status": "active"
         }
        ]
       },
       {
        "_links": {
         "first": "https://api.eliteprospects.com/v1/players?offset=0&limit=1000&apiKey=BbLo1zDgnGxebtMr0wJnLuaexEqibZ9R&name=Jamie+Oleksiak&dateOfBirth=1992-12-21&sort=name",
         "last": "https://api.eliteprospects.com/v1/players?offset=0&limit=1000&apiKey=BbLo1zDgnGxebtMr0wJnLuaexEqibZ9R&name=Jamie+Oleksiak&dateOfBirth=1992-12-21&sort=name",
         "next": null,
         "prev": null
        },
        "_meta": {
         "generatedAt": "2023-03-21T04:26:21.833025Z",
         "limit": 1000,
         "offset": 0,
         "totalRecords": 1
        },
        "data": [
         {
          "_links": [
           "https://api.eliteprospects.com/v1/players/37832?apiKey=BbLo1zDgnGxebtMr0wJnLuaexEqibZ9R"
          ],
          "dateOfBirth": "1992-12-21",
          "firstName": "Jamie",
          "gender": "male",
          "id": 37832,
          "lastName": "Oleksiak",
          "name": "Jamie Oleksiak",
          "nationality": {
           "_links": [
            "https://api.eliteprospects.com/v1/countries/CAN?apiKey=BbLo1zDgnGxebtMr0wJnLuaexEqibZ9R"
           ],
           "name": "Canada",
           "slug": "CAN"
          },
          "playerType": "SKATER",
          "position": "D",
          "status": "active"
         }
        ]
       },
       {
        "_links": {
         "first": "https://api.eliteprospects.com/v1/players?offset=0&limit=1000&apiKey=BbLo1zDgnGxebtMr0wJnLuaexEqibZ9R&name=J.t.+Miller&dateOfBirth=1993-03-14&sort=name",
         "last": "https://api.eliteprospects.com/v1/players?offset=0&limit=1000&apiKey=BbLo1zDgnGxebtMr0wJnLuaexEqibZ9R&name=J.t.+Miller&dateOfBirth=1993-03-14&sort=name",
         "next": null,
         "prev": null
        },
        "_meta": {
         "generatedAt": "2023-03-21T04:26:22.198139Z",
         "limit": 1000,
         "offset": 0,
         "totalRecords": 1
        },
        "data": [
         {
          "_links": [
           "https://api.eliteprospects.com/v1/players/38624?apiKey=BbLo1zDgnGxebtMr0wJnLuaexEqibZ9R"
          ],
          "dateOfBirth": "1993-03-14",
          "firstName": "J.T.",
          "gender": "male",
          "id": 38624,
          "lastName": "Miller",
          "name": "J.T. Miller",
          "nationality": {
           "_links": [
            "https://api.eliteprospects.com/v1/countries/USA?apiKey=BbLo1zDgnGxebtMr0wJnLuaexEqibZ9R"
           ],
           "name": "USA",
           "slug": "USA"
          },
          "playerType": "SKATER",
          "position": "F",
          "status": "active"
         }
        ]
       },
       {
        "_links": {
         "first": "https://api.eliteprospects.com/v1/players?offset=0&limit=1000&apiKey=BbLo1zDgnGxebtMr0wJnLuaexEqibZ9R&name=Joel+Armia&dateOfBirth=1993-05-31&sort=name",
         "last": "https://api.eliteprospects.com/v1/players?offset=0&limit=1000&apiKey=BbLo1zDgnGxebtMr0wJnLuaexEqibZ9R&name=Joel+Armia&dateOfBirth=1993-05-31&sort=name",
         "next": null,
         "prev": null
        },
        "_meta": {
         "generatedAt": "2023-03-21T04:26:22.475867Z",
         "limit": 1000,
         "offset": 0,
         "totalRecords": 1
        },
        "data": [
         {
          "_links": [
           "https://api.eliteprospects.com/v1/players/40624?apiKey=BbLo1zDgnGxebtMr0wJnLuaexEqibZ9R"
          ],
          "dateOfBirth": "1993-05-31",
          "firstName": "Joel",
          "gender": "male",
          "id": 40624,
          "lastName": "Armia",
          "name": "Joel Armia",
          "nationality": {
           "_links": [
            "https://api.eliteprospects.com/v1/countries/FIN?apiKey=BbLo1zDgnGxebtMr0wJnLuaexEqibZ9R"
           ],
           "name": "Finland",
           "slug": "FIN"
          },
          "playerType": "SKATER",
          "position": "F",
          "status": "active"
         }
        ]
       },
       {
        "_links": {
         "first": "https://api.eliteprospects.com/v1/players?offset=0&limit=1000&apiKey=BbLo1zDgnGxebtMr0wJnLuaexEqibZ9R&name=Nathan+Beaulieu&dateOfBirth=1992-12-05&sort=name",
         "last": "https://api.eliteprospects.com/v1/players?offset=0&limit=1000&apiKey=BbLo1zDgnGxebtMr0wJnLuaexEqibZ9R&name=Nathan+Beaulieu&dateOfBirth=1992-12-05&sort=name",
         "next": null,
         "prev": null
        },
        "_meta": {
         "generatedAt": "2023-03-21T04:26:22.747345Z",
         "limit": 1000,
         "offset": 0,
         "totalRecords": 1
        },
        "data": [
         {
          "_links": [
           "https://api.eliteprospects.com/v1/players/37422?apiKey=BbLo1zDgnGxebtMr0wJnLuaexEqibZ9R"
          ],
          "dateOfBirth": "1992-12-05",
          "firstName": "Nathan",
          "gender": "male",
          "id": 37422,
          "lastName": "Beaulieu",
          "name": "Nathan Beaulieu",
          "nationality": {
           "_links": [
            "https://api.eliteprospects.com/v1/countries/CAN?apiKey=BbLo1zDgnGxebtMr0wJnLuaexEqibZ9R"
           ],
           "name": "Canada",
           "slug": "CAN"
          },
          "playerType": "SKATER",
          "position": "D",
          "status": "active"
         }
        ]
       },
       {
        "_links": {
         "first": "https://api.eliteprospects.com/v1/players?offset=0&limit=1000&apiKey=BbLo1zDgnGxebtMr0wJnLuaexEqibZ9R&name=Mark+Mcneill&dateOfBirth=1993-02-22&sort=name",
         "last": "https://api.eliteprospects.com/v1/players?offset=0&limit=1000&apiKey=BbLo1zDgnGxebtMr0wJnLuaexEqibZ9R&name=Mark+Mcneill&dateOfBirth=1993-02-22&sort=name",
         "next": null,
         "prev": null
        },
        "_meta": {
         "generatedAt": "2023-03-21T04:26:23.180189Z",
         "limit": 1000,
         "offset": 0,
         "totalRecords": 1
        },
        "data": [
         {
          "_links": [
           "https://api.eliteprospects.com/v1/players/26414?apiKey=BbLo1zDgnGxebtMr0wJnLuaexEqibZ9R"
          ],
          "dateOfBirth": "1993-02-22",
          "firstName": "Mark",
          "gender": "male",
          "id": 26414,
          "lastName": "McNeill",
          "name": "Mark McNeill",
          "nationality": {
           "_links": [
            "https://api.eliteprospects.com/v1/countries/CAN?apiKey=BbLo1zDgnGxebtMr0wJnLuaexEqibZ9R"
           ],
           "name": "Canada",
           "slug": "CAN"
          },
          "playerType": "SKATER",
          "position": "F",
          "status": "active"
         }
        ]
       },
       {
        "_links": {
         "first": "https://api.eliteprospects.com/v1/players?offset=0&limit=1000&apiKey=BbLo1zDgnGxebtMr0wJnLuaexEqibZ9R&name=Oscar+Klefbom&dateOfBirth=1993-07-20&sort=name",
         "last": "https://api.eliteprospects.com/v1/players?offset=0&limit=1000&apiKey=BbLo1zDgnGxebtMr0wJnLuaexEqibZ9R&name=Oscar+Klefbom&dateOfBirth=1993-07-20&sort=name",
         "next": null,
         "prev": null
        },
        "_meta": {
         "generatedAt": "2023-03-21T04:26:23.659404Z",
         "limit": 1000,
         "offset": 0,
         "totalRecords": 1
        },
        "data": [
         {
          "_links": [
           "https://api.eliteprospects.com/v1/players/16804?apiKey=BbLo1zDgnGxebtMr0wJnLuaexEqibZ9R"
          ],
          "dateOfBirth": "1993-07-20",
          "firstName": "Oscar",
          "gender": "male",
          "id": 16804,
          "lastName": "Klefbom",
          "name": "Oscar Klefbom",
          "nationality": {
           "_links": [
            "https://api.eliteprospects.com/v1/countries/SWE?apiKey=BbLo1zDgnGxebtMr0wJnLuaexEqibZ9R"
           ],
           "name": "Sweden",
           "slug": "SWE"
          },
          "playerType": "SKATER",
          "position": "D",
          "status": "active"
         }
        ]
       },
       {
        "_links": {
         "first": "https://api.eliteprospects.com/v1/players?offset=0&limit=1000&apiKey=BbLo1zDgnGxebtMr0wJnLuaexEqibZ9R&name=Connor+Murphy&dateOfBirth=1993-03-26&sort=name",
         "last": "https://api.eliteprospects.com/v1/players?offset=0&limit=1000&apiKey=BbLo1zDgnGxebtMr0wJnLuaexEqibZ9R&name=Connor+Murphy&dateOfBirth=1993-03-26&sort=name",
         "next": null,
         "prev": null
        },
        "_meta": {
         "generatedAt": "2023-03-21T04:26:24.546246Z",
         "limit": 1000,
         "offset": 0,
         "totalRecords": 1
        },
        "data": [
         {
          "_links": [
           "https://api.eliteprospects.com/v1/players/45417?apiKey=BbLo1zDgnGxebtMr0wJnLuaexEqibZ9R"
          ],
          "dateOfBirth": "1993-03-26",
          "firstName": "Connor",
          "gender": "male",
          "id": 45417,
          "lastName": "Murphy",
          "name": "Connor Murphy",
          "nationality": {
           "_links": [
            "https://api.eliteprospects.com/v1/countries/USA?apiKey=BbLo1zDgnGxebtMr0wJnLuaexEqibZ9R"
           ],
           "name": "USA",
           "slug": "USA"
          },
          "playerType": "SKATER",
          "position": "D",
          "status": "active"
         }
        ]
       },
       {
        "_links": {
         "first": "https://api.eliteprospects.com/v1/players?offset=0&limit=1000&apiKey=BbLo1zDgnGxebtMr0wJnLuaexEqibZ9R&name=Stefan+Noesen&dateOfBirth=1993-02-12&sort=name",
         "last": "https://api.eliteprospects.com/v1/players?offset=0&limit=1000&apiKey=BbLo1zDgnGxebtMr0wJnLuaexEqibZ9R&name=Stefan+Noesen&dateOfBirth=1993-02-12&sort=name",
         "next": null,
         "prev": null
        },
        "_meta": {
         "generatedAt": "2023-03-21T04:26:25.849426Z",
         "limit": 1000,
         "offset": 0,
         "totalRecords": 1
        },
        "data": [
         {
          "_links": [
           "https://api.eliteprospects.com/v1/players/45567?apiKey=BbLo1zDgnGxebtMr0wJnLuaexEqibZ9R"
          ],
          "dateOfBirth": "1993-02-12",
          "firstName": "Stefan",
          "gender": "male",
          "id": 45567,
          "lastName": "Noesen",
          "name": "Stefan Noesen",
          "nationality": {
           "_links": [
            "https://api.eliteprospects.com/v1/countries/USA?apiKey=BbLo1zDgnGxebtMr0wJnLuaexEqibZ9R"
           ],
           "name": "USA",
           "slug": "USA"
          },
          "playerType": "SKATER",
          "position": "F",
          "status": "active"
         }
        ]
       },
       {
        "_links": {
         "first": "https://api.eliteprospects.com/v1/players?offset=0&limit=1000&apiKey=BbLo1zDgnGxebtMr0wJnLuaexEqibZ9R&name=Tyler+Biggs&dateOfBirth=1993-04-30&sort=name",
         "last": "https://api.eliteprospects.com/v1/players?offset=0&limit=1000&apiKey=BbLo1zDgnGxebtMr0wJnLuaexEqibZ9R&name=Tyler+Biggs&dateOfBirth=1993-04-30&sort=name",
         "next": null,
         "prev": null
        },
        "_meta": {
         "generatedAt": "2023-03-21T04:26:26.224715Z",
         "limit": 1000,
         "offset": 0,
         "totalRecords": 1
        },
        "data": [
         {
          "_links": [
           "https://api.eliteprospects.com/v1/players/38619?apiKey=BbLo1zDgnGxebtMr0wJnLuaexEqibZ9R"
          ],
          "dateOfBirth": "1993-04-30",
          "firstName": "Tyler",
          "gender": "male",
          "id": 38619,
          "lastName": "Biggs",
          "name": "Tyler Biggs",
          "nationality": {
           "_links": [
            "https://api.eliteprospects.com/v1/countries/USA?apiKey=BbLo1zDgnGxebtMr0wJnLuaexEqibZ9R"
           ],
           "name": "USA",
           "slug": "USA"
          },
          "playerType": "SKATER",
          "position": "F",
          "status": "retired"
         }
        ]
       },
       {
        "_links": {
         "first": "https://api.eliteprospects.com/v1/players?offset=0&limit=1000&apiKey=BbLo1zDgnGxebtMr0wJnLuaexEqibZ9R&name=Joe+Morrow&dateOfBirth=1992-12-09&sort=name",
         "last": "https://api.eliteprospects.com/v1/players?offset=0&limit=1000&apiKey=BbLo1zDgnGxebtMr0wJnLuaexEqibZ9R&name=Joe+Morrow&dateOfBirth=1992-12-09&sort=name",
         "next": null,
         "prev": null
        },
        "_meta": {
         "generatedAt": "2023-03-21T04:26:26.536901Z",
         "limit": 1000,
         "offset": 0,
         "totalRecords": 1
        },
        "data": [
         {
          "_links": [
           "https://api.eliteprospects.com/v1/players/37180?apiKey=BbLo1zDgnGxebtMr0wJnLuaexEqibZ9R"
          ],
          "dateOfBirth": "1992-12-09",
          "firstName": "Joe",
          "gender": "male",
          "id": 37180,
          "lastName": "Morrow",
          "name": "Joe Morrow",
          "nationality": {
           "_links": [
            "https://api.eliteprospects.com/v1/countries/CAN?apiKey=BbLo1zDgnGxebtMr0wJnLuaexEqibZ9R"
           ],
           "name": "Canada",
           "slug": "CAN"
          },
          "playerType": "SKATER",
          "position": "D",
          "status": "active"
         }
        ]
       },
       {
        "_links": {
         "first": "https://api.eliteprospects.com/v1/players?offset=0&limit=1000&apiKey=BbLo1zDgnGxebtMr0wJnLuaexEqibZ9R&name=Matt+Puempel&dateOfBirth=1993-01-24&sort=name",
         "last": "https://api.eliteprospects.com/v1/players?offset=0&limit=1000&apiKey=BbLo1zDgnGxebtMr0wJnLuaexEqibZ9R&name=Matt+Puempel&dateOfBirth=1993-01-24&sort=name",
         "next": null,
         "prev": null
        },
        "_meta": {
         "generatedAt": "2023-03-21T04:26:26.850318Z",
         "limit": 1000,
         "offset": 0,
         "totalRecords": 1
        },
        "data": [
         {
          "_links": [
           "https://api.eliteprospects.com/v1/players/45571?apiKey=BbLo1zDgnGxebtMr0wJnLuaexEqibZ9R"
          ],
          "dateOfBirth": "1993-01-24",
          "firstName": "Matt",
          "gender": "male",
          "id": 45571,
          "lastName": "Puempel",
          "name": "Matt Puempel",
          "nationality": {
           "_links": [
            "https://api.eliteprospects.com/v1/countries/CAN?apiKey=BbLo1zDgnGxebtMr0wJnLuaexEqibZ9R"
           ],
           "name": "Canada",
           "slug": "CAN"
          },
          "playerType": "SKATER",
          "position": "F",
          "status": "active"
         }
        ]
       },
       {
        "_links": {
         "first": "https://api.eliteprospects.com/v1/players?offset=0&limit=1000&apiKey=BbLo1zDgnGxebtMr0wJnLuaexEqibZ9R&name=Stuart+Percy&dateOfBirth=1993-05-18&sort=name",
         "last": "https://api.eliteprospects.com/v1/players?offset=0&limit=1000&apiKey=BbLo1zDgnGxebtMr0wJnLuaexEqibZ9R&name=Stuart+Percy&dateOfBirth=1993-05-18&sort=name",
         "next": null,
         "prev": null
        },
        "_meta": {
         "generatedAt": "2023-03-21T04:26:27.152166Z",
         "limit": 1000,
         "offset": 0,
         "totalRecords": 1
        },
        "data": [
         {
          "_links": [
           "https://api.eliteprospects.com/v1/players/45602?apiKey=BbLo1zDgnGxebtMr0wJnLuaexEqibZ9R"
          ],
          "dateOfBirth": "1993-05-18",
          "firstName": "Stuart",
          "gender": "male",
          "id": 45602,
          "lastName": "Percy",
          "name": "Stuart Percy",
          "nationality": {
           "_links": [
            "https://api.eliteprospects.com/v1/countries/CAN?apiKey=BbLo1zDgnGxebtMr0wJnLuaexEqibZ9R"
           ],
           "name": "Canada",
           "slug": "CAN"
          },
          "playerType": "SKATER",
          "position": "D",
          "status": "active"
         }
        ]
       },
       {
        "_links": {
         "first": "https://api.eliteprospects.com/v1/players?offset=0&limit=1000&apiKey=BbLo1zDgnGxebtMr0wJnLuaexEqibZ9R&name=Phillip+Danault&dateOfBirth=1993-02-24&sort=name",
         "last": "https://api.eliteprospects.com/v1/players?offset=0&limit=1000&apiKey=BbLo1zDgnGxebtMr0wJnLuaexEqibZ9R&name=Phillip+Danault&dateOfBirth=1993-02-24&sort=name",
         "next": null,
         "prev": null
        },
        "_meta": {
         "generatedAt": "2023-03-21T04:26:27.472628Z",
         "limit": 1000,
         "offset": 0,
         "totalRecords": 1
        },
        "data": [
         {
          "_links": [
           "https://api.eliteprospects.com/v1/players/45282?apiKey=BbLo1zDgnGxebtMr0wJnLuaexEqibZ9R"
          ],
          "dateOfBirth": "1993-02-24",
          "firstName": "Phillip",
          "gender": "male",
          "id": 45282,
          "lastName": "Danault",
          "name": "Phillip Danault",
          "nationality": {
           "_links": [
            "https://api.eliteprospects.com/v1/countries/CAN?apiKey=BbLo1zDgnGxebtMr0wJnLuaexEqibZ9R"
           ],
           "name": "Canada",
           "slug": "CAN"
          },
          "playerType": "SKATER",
          "position": "F",
          "status": "active"
         }
        ]
       },
       {
        "_links": {
         "first": "https://api.eliteprospects.com/v1/players?offset=0&limit=1000&apiKey=BbLo1zDgnGxebtMr0wJnLuaexEqibZ9R&name=Vladislav+Namestnikov&dateOfBirth=1992-11-22&sort=name",
         "last": "https://api.eliteprospects.com/v1/players?offset=0&limit=1000&apiKey=BbLo1zDgnGxebtMr0wJnLuaexEqibZ9R&name=Vladislav+Namestnikov&dateOfBirth=1992-11-22&sort=name",
         "next": null,
         "prev": null
        },
        "_meta": {
         "generatedAt": "2023-03-21T04:26:27.769155Z",
         "limit": 1000,
         "offset": 0,
         "totalRecords": 1
        },
        "data": [
         {
          "_links": [
           "https://api.eliteprospects.com/v1/players/39029?apiKey=BbLo1zDgnGxebtMr0wJnLuaexEqibZ9R"
          ],
          "dateOfBirth": "1992-11-22",
          "firstName": "Vladislav",
          "gender": "male",
          "id": 39029,
          "lastName": "Namestnikov",
          "name": "Vladislav Namestnikov",
          "nationality": {
           "_links": [
            "https://api.eliteprospects.com/v1/countries/RUS?apiKey=BbLo1zDgnGxebtMr0wJnLuaexEqibZ9R"
           ],
           "name": "Russia",
           "slug": "RUS"
          },
          "playerType": "SKATER",
          "position": "F",
          "status": "active"
         }
        ]
       },
       {
        "_links": {
         "first": "https://api.eliteprospects.com/v1/players?offset=0&limit=1000&apiKey=BbLo1zDgnGxebtMr0wJnLuaexEqibZ9R&name=Zack+Phillips&dateOfBirth=1992-10-28&sort=name",
         "last": "https://api.eliteprospects.com/v1/players?offset=0&limit=1000&apiKey=BbLo1zDgnGxebtMr0wJnLuaexEqibZ9R&name=Zack+Phillips&dateOfBirth=1992-10-28&sort=name",
         "next": null,
         "prev": null
        },
        "_meta": {
         "generatedAt": "2023-03-21T04:26:28.079686Z",
         "limit": 1000,
         "offset": 0,
         "totalRecords": 1
        },
        "data": [
         {
          "_links": [
           "https://api.eliteprospects.com/v1/players/44594?apiKey=BbLo1zDgnGxebtMr0wJnLuaexEqibZ9R"
          ],
          "dateOfBirth": "1992-10-28",
          "firstName": "Zack",
          "gender": "male",
          "id": 44594,
          "lastName": "Phillips",
          "name": "Zack Phillips",
          "nationality": {
           "_links": [
            "https://api.eliteprospects.com/v1/countries/CAN?apiKey=BbLo1zDgnGxebtMr0wJnLuaexEqibZ9R"
           ],
           "name": "Canada",
           "slug": "CAN"
          },
          "playerType": "SKATER",
          "position": "F",
          "status": "active"
         }
        ]
       },
       {
        "_links": {
         "first": "https://api.eliteprospects.com/v1/players?offset=0&limit=1000&apiKey=BbLo1zDgnGxebtMr0wJnLuaexEqibZ9R&name=Nicklas+Jensen&dateOfBirth=1993-03-06&sort=name",
         "last": "https://api.eliteprospects.com/v1/players?offset=0&limit=1000&apiKey=BbLo1zDgnGxebtMr0wJnLuaexEqibZ9R&name=Nicklas+Jensen&dateOfBirth=1993-03-06&sort=name",
         "next": null,
         "prev": null
        },
        "_meta": {
         "generatedAt": "2023-03-21T04:26:28.394315Z",
         "limit": 1000,
         "offset": 0,
         "totalRecords": 1
        },
        "data": [
         {
          "_links": [
           "https://api.eliteprospects.com/v1/players/32422?apiKey=BbLo1zDgnGxebtMr0wJnLuaexEqibZ9R"
          ],
          "dateOfBirth": "1993-03-06",
          "firstName": "Nicklas",
          "gender": "male",
          "id": 32422,
          "lastName": "Jensen",
          "name": "Nicklas Jensen",
          "nationality": {
           "_links": [
            "https://api.eliteprospects.com/v1/countries/DNK?apiKey=BbLo1zDgnGxebtMr0wJnLuaexEqibZ9R"
           ],
           "name": "Denmark",
           "slug": "DNK"
          },
          "playerType": "SKATER",
          "position": "F",
          "status": "active"
         }
        ]
       },
       {
        "_links": {
         "first": "https://api.eliteprospects.com/v1/players?offset=0&limit=1000&apiKey=BbLo1zDgnGxebtMr0wJnLuaexEqibZ9R&name=Rickard+Rakell&dateOfBirth=1993-05-05&sort=name",
         "last": "https://api.eliteprospects.com/v1/players?offset=0&limit=1000&apiKey=BbLo1zDgnGxebtMr0wJnLuaexEqibZ9R&name=Rickard+Rakell&dateOfBirth=1993-05-05&sort=name",
         "next": null,
         "prev": null
        },
        "_meta": {
         "generatedAt": "2023-03-21T04:26:28.690389Z",
         "limit": 1000,
         "offset": 0,
         "totalRecords": 1
        },
        "data": [
         {
          "_links": [
           "https://api.eliteprospects.com/v1/players/17435?apiKey=BbLo1zDgnGxebtMr0wJnLuaexEqibZ9R"
          ],
          "dateOfBirth": "1993-05-05",
          "firstName": "Rickard",
          "gender": "male",
          "id": 17435,
          "lastName": "Rakell",
          "name": "Rickard Rakell",
          "nationality": {
           "_links": [
            "https://api.eliteprospects.com/v1/countries/SWE?apiKey=BbLo1zDgnGxebtMr0wJnLuaexEqibZ9R"
           ],
           "name": "Sweden",
           "slug": "SWE"
          },
          "playerType": "SKATER",
          "position": "F",
          "status": "active"
         }
        ]
       },
       {
        "_links": {
         "first": "https://api.eliteprospects.com/v1/players?offset=0&limit=1000&apiKey=BbLo1zDgnGxebtMr0wJnLuaexEqibZ9R&name=Nail+Yakupov&dateOfBirth=1993-10-06&sort=name",
         "last": "https://api.eliteprospects.com/v1/players?offset=0&limit=1000&apiKey=BbLo1zDgnGxebtMr0wJnLuaexEqibZ9R&name=Nail+Yakupov&dateOfBirth=1993-10-06&sort=name",
         "next": null,
         "prev": null
        },
        "_meta": {
         "generatedAt": "2023-03-21T04:26:29.080888Z",
         "limit": 1000,
         "offset": 0,
         "totalRecords": 1
        },
        "data": [
         {
          "_links": [
           "https://api.eliteprospects.com/v1/players/21228?apiKey=BbLo1zDgnGxebtMr0wJnLuaexEqibZ9R"
          ],
          "dateOfBirth": "1993-10-06",
          "firstName": "Nail",
          "gender": "male",
          "id": 21228,
          "lastName": "Yakupov",
          "name": "Nail Yakupov",
          "nationality": {
           "_links": [
            "https://api.eliteprospects.com/v1/countries/RUS?apiKey=BbLo1zDgnGxebtMr0wJnLuaexEqibZ9R"
           ],
           "name": "Russia",
           "slug": "RUS"
          },
          "playerType": "SKATER",
          "position": "F",
          "status": "active"
         }
        ]
       },
       {
        "_links": {
         "first": "https://api.eliteprospects.com/v1/players?offset=0&limit=1000&apiKey=BbLo1zDgnGxebtMr0wJnLuaexEqibZ9R&name=Ryan+Murray&dateOfBirth=1993-09-27&sort=name",
         "last": "https://api.eliteprospects.com/v1/players?offset=0&limit=1000&apiKey=BbLo1zDgnGxebtMr0wJnLuaexEqibZ9R&name=Ryan+Murray&dateOfBirth=1993-09-27&sort=name",
         "next": null,
         "prev": null
        },
        "_meta": {
         "generatedAt": "2023-03-21T04:26:29.496177Z",
         "limit": 1000,
         "offset": 0,
         "totalRecords": 1
        },
        "data": [
         {
          "_links": [
           "https://api.eliteprospects.com/v1/players/41768?apiKey=BbLo1zDgnGxebtMr0wJnLuaexEqibZ9R"
          ],
          "dateOfBirth": "1993-09-27",
          "firstName": "Ryan",
          "gender": "male",
          "id": 41768,
          "lastName": "Murray",
          "name": "Ryan Murray",
          "nationality": {
           "_links": [
            "https://api.eliteprospects.com/v1/countries/CAN?apiKey=BbLo1zDgnGxebtMr0wJnLuaexEqibZ9R"
           ],
           "name": "Canada",
           "slug": "CAN"
          },
          "playerType": "SKATER",
          "position": "D",
          "status": "active"
         }
        ]
       },
       {
        "_links": {
         "first": "https://api.eliteprospects.com/v1/players?offset=0&limit=1000&apiKey=BbLo1zDgnGxebtMr0wJnLuaexEqibZ9R&name=Alex+Galchenyuk&dateOfBirth=1994-02-12&sort=name",
         "last": "https://api.eliteprospects.com/v1/players?offset=0&limit=1000&apiKey=BbLo1zDgnGxebtMr0wJnLuaexEqibZ9R&name=Alex+Galchenyuk&dateOfBirth=1994-02-12&sort=name",
         "next": null,
         "prev": null
        },
        "_meta": {
         "generatedAt": "2023-03-21T04:26:29.809534Z",
         "limit": 1000,
         "offset": 0,
         "totalRecords": 1
        },
        "data": [
         {
          "_links": [
           "https://api.eliteprospects.com/v1/players/74611?apiKey=BbLo1zDgnGxebtMr0wJnLuaexEqibZ9R"
          ],
          "dateOfBirth": "1994-02-12",
          "firstName": "Alex",
          "gender": "male",
          "id": 74611,
          "lastName": "Galchenyuk",
          "name": "Alex Galchenyuk",
          "nationality": {
           "_links": [
            "https://api.eliteprospects.com/v1/countries/USA?apiKey=BbLo1zDgnGxebtMr0wJnLuaexEqibZ9R"
           ],
           "name": "USA",
           "slug": "USA"
          },
          "playerType": "SKATER",
          "position": "F",
          "status": "active"
         }
        ]
       },
       {
        "_links": {
         "first": "https://api.eliteprospects.com/v1/players?offset=0&limit=1000&apiKey=BbLo1zDgnGxebtMr0wJnLuaexEqibZ9R&name=Griffin+Reinhart&dateOfBirth=1994-01-24&sort=name",
         "last": "https://api.eliteprospects.com/v1/players?offset=0&limit=1000&apiKey=BbLo1zDgnGxebtMr0wJnLuaexEqibZ9R&name=Griffin+Reinhart&dateOfBirth=1994-01-24&sort=name",
         "next": null,
         "prev": null
        },
        "_meta": {
         "generatedAt": "2023-03-21T04:26:30.093454Z",
         "limit": 1000,
         "offset": 0,
         "totalRecords": 1
        },
        "data": [
         {
          "_links": [
           "https://api.eliteprospects.com/v1/players/41183?apiKey=BbLo1zDgnGxebtMr0wJnLuaexEqibZ9R"
          ],
          "dateOfBirth": "1994-01-24",
          "firstName": "Griffin",
          "gender": "male",
          "id": 41183,
          "lastName": "Reinhart",
          "name": "Griffin Reinhart",
          "nationality": {
           "_links": [
            "https://api.eliteprospects.com/v1/countries/CAN?apiKey=BbLo1zDgnGxebtMr0wJnLuaexEqibZ9R"
           ],
           "name": "Canada",
           "slug": "CAN"
          },
          "playerType": "SKATER",
          "position": "D",
          "status": "retired"
         }
        ]
       },
       {
        "_links": {
         "first": "https://api.eliteprospects.com/v1/players?offset=0&limit=1000&apiKey=BbLo1zDgnGxebtMr0wJnLuaexEqibZ9R&name=Morgan+Rielly&dateOfBirth=1994-03-09&sort=name",
         "last": "https://api.eliteprospects.com/v1/players?offset=0&limit=1000&apiKey=BbLo1zDgnGxebtMr0wJnLuaexEqibZ9R&name=Morgan+Rielly&dateOfBirth=1994-03-09&sort=name",
         "next": null,
         "prev": null
        },
        "_meta": {
         "generatedAt": "2023-03-21T04:26:30.388001Z",
         "limit": 1000,
         "offset": 0,
         "totalRecords": 1
        },
        "data": [
         {
          "_links": [
           "https://api.eliteprospects.com/v1/players/41184?apiKey=BbLo1zDgnGxebtMr0wJnLuaexEqibZ9R"
          ],
          "dateOfBirth": "1994-03-09",
          "firstName": "Morgan",
          "gender": "male",
          "id": 41184,
          "lastName": "Rielly",
          "name": "Morgan Rielly",
          "nationality": {
           "_links": [
            "https://api.eliteprospects.com/v1/countries/CAN?apiKey=BbLo1zDgnGxebtMr0wJnLuaexEqibZ9R"
           ],
           "name": "Canada",
           "slug": "CAN"
          },
          "playerType": "SKATER",
          "position": "D",
          "status": "active"
         }
        ]
       },
       {
        "_links": {
         "first": "https://api.eliteprospects.com/v1/players?offset=0&limit=1000&apiKey=BbLo1zDgnGxebtMr0wJnLuaexEqibZ9R&name=Hampus+Lindholm&dateOfBirth=1994-01-20&sort=name",
         "last": "https://api.eliteprospects.com/v1/players?offset=0&limit=1000&apiKey=BbLo1zDgnGxebtMr0wJnLuaexEqibZ9R&name=Hampus+Lindholm&dateOfBirth=1994-01-20&sort=name",
         "next": null,
         "prev": null
        },
        "_meta": {
         "generatedAt": "2023-03-21T04:26:30.696479Z",
         "limit": 1000,
         "offset": 0,
         "totalRecords": 1
        },
        "data": [
         {
          "_links": [
           "https://api.eliteprospects.com/v1/players/34882?apiKey=BbLo1zDgnGxebtMr0wJnLuaexEqibZ9R"
          ],
          "dateOfBirth": "1994-01-20",
          "firstName": "Hampus",
          "gender": "male",
          "id": 34882,
          "lastName": "Lindholm",
          "name": "Hampus Lindholm",
          "nationality": {
           "_links": [
            "https://api.eliteprospects.com/v1/countries/SWE?apiKey=BbLo1zDgnGxebtMr0wJnLuaexEqibZ9R"
           ],
           "name": "Sweden",
           "slug": "SWE"
          },
          "playerType": "SKATER",
          "position": "D",
          "status": "active"
         }
        ]
       },
       {
        "_links": {
         "first": "https://api.eliteprospects.com/v1/players?offset=0&limit=1000&apiKey=BbLo1zDgnGxebtMr0wJnLuaexEqibZ9R&name=Matt+Dumba&dateOfBirth=1994-07-25&sort=name",
         "last": "https://api.eliteprospects.com/v1/players?offset=0&limit=1000&apiKey=BbLo1zDgnGxebtMr0wJnLuaexEqibZ9R&name=Matt+Dumba&dateOfBirth=1994-07-25&sort=name",
         "next": null,
         "prev": null
        },
        "_meta": {
         "generatedAt": "2023-03-21T04:26:30.977900Z",
         "limit": 1000,
         "offset": 0,
         "totalRecords": 1
        },
        "data": [
         {
          "_links": [
           "https://api.eliteprospects.com/v1/players/53542?apiKey=BbLo1zDgnGxebtMr0wJnLuaexEqibZ9R"
          ],
          "dateOfBirth": "1994-07-25",
          "firstName": "Matt",
          "gender": "male",
          "id": 53542,
          "lastName": "Dumba",
          "name": "Matt Dumba",
          "nationality": {
           "_links": [
            "https://api.eliteprospects.com/v1/countries/CAN?apiKey=BbLo1zDgnGxebtMr0wJnLuaexEqibZ9R"
           ],
           "name": "Canada",
           "slug": "CAN"
          },
          "playerType": "SKATER",
          "position": "D",
          "status": "active"
         }
        ]
       },
       {
        "_links": {
         "first": "https://api.eliteprospects.com/v1/players?offset=0&limit=1000&apiKey=BbLo1zDgnGxebtMr0wJnLuaexEqibZ9R&name=Derrick+Pouliot&dateOfBirth=1994-01-16&sort=name",
         "last": "https://api.eliteprospects.com/v1/players?offset=0&limit=1000&apiKey=BbLo1zDgnGxebtMr0wJnLuaexEqibZ9R&name=Derrick+Pouliot&dateOfBirth=1994-01-16&sort=name",
         "next": null,
         "prev": null
        },
        "_meta": {
         "generatedAt": "2023-03-21T04:26:31.316386Z",
         "limit": 1000,
         "offset": 0,
         "totalRecords": 1
        },
        "data": [
         {
          "_links": [
           "https://api.eliteprospects.com/v1/players/59741?apiKey=BbLo1zDgnGxebtMr0wJnLuaexEqibZ9R"
          ],
          "dateOfBirth": "1994-01-16",
          "firstName": "Derrick",
          "gender": "male",
          "id": 59741,
          "lastName": "Pouliot",
          "name": "Derrick Pouliot",
          "nationality": {
           "_links": [
            "https://api.eliteprospects.com/v1/countries/CAN?apiKey=BbLo1zDgnGxebtMr0wJnLuaexEqibZ9R"
           ],
           "name": "Canada",
           "slug": "CAN"
          },
          "playerType": "SKATER",
          "position": "D",
          "status": "active"
         }
        ]
       },
       {
        "_links": {
         "first": "https://api.eliteprospects.com/v1/players?offset=0&limit=1000&apiKey=BbLo1zDgnGxebtMr0wJnLuaexEqibZ9R&name=Jacob+Trouba&dateOfBirth=1994-02-26&sort=name",
         "last": "https://api.eliteprospects.com/v1/players?offset=0&limit=1000&apiKey=BbLo1zDgnGxebtMr0wJnLuaexEqibZ9R&name=Jacob+Trouba&dateOfBirth=1994-02-26&sort=name",
         "next": null,
         "prev": null
        },
        "_meta": {
         "generatedAt": "2023-03-21T04:26:31.607680Z",
         "limit": 1000,
         "offset": 0,
         "totalRecords": 1
        },
        "data": [
         {
          "_links": [
           "https://api.eliteprospects.com/v1/players/90349?apiKey=BbLo1zDgnGxebtMr0wJnLuaexEqibZ9R"
          ],
          "dateOfBirth": "1994-02-26",
          "firstName": "Jacob",
          "gender": "male",
          "id": 90349,
          "lastName": "Trouba",
          "name": "Jacob Trouba",
          "nationality": {
           "_links": [
            "https://api.eliteprospects.com/v1/countries/USA?apiKey=BbLo1zDgnGxebtMr0wJnLuaexEqibZ9R"
           ],
           "name": "USA",
           "slug": "USA"
          },
          "playerType": "SKATER",
          "position": "D",
          "status": "active"
         }
        ]
       },
       {
        "_links": {
         "first": "https://api.eliteprospects.com/v1/players?offset=0&limit=1000&apiKey=BbLo1zDgnGxebtMr0wJnLuaexEqibZ9R&name=Slater+Koekkoek&dateOfBirth=1994-02-18&sort=name",
         "last": "https://api.eliteprospects.com/v1/players?offset=0&limit=1000&apiKey=BbLo1zDgnGxebtMr0wJnLuaexEqibZ9R&name=Slater+Koekkoek&dateOfBirth=1994-02-18&sort=name",
         "next": null,
         "prev": null
        },
        "_meta": {
         "generatedAt": "2023-03-21T04:26:31.884083Z",
         "limit": 1000,
         "offset": 0,
         "totalRecords": 1
        },
        "data": [
         {
          "_links": [
           "https://api.eliteprospects.com/v1/players/84723?apiKey=BbLo1zDgnGxebtMr0wJnLuaexEqibZ9R"
          ],
          "dateOfBirth": "1994-02-18",
          "firstName": "Slater",
          "gender": "male",
          "id": 84723,
          "lastName": "Koekkoek",
          "name": "Slater Koekkoek",
          "nationality": {
           "_links": [
            "https://api.eliteprospects.com/v1/countries/CAN?apiKey=BbLo1zDgnGxebtMr0wJnLuaexEqibZ9R"
           ],
           "name": "Canada",
           "slug": "CAN"
          },
          "playerType": "SKATER",
          "position": "D",
          "status": "active"
         }
        ]
       },
       {
        "_links": {
         "first": "https://api.eliteprospects.com/v1/players?offset=0&limit=1000&apiKey=BbLo1zDgnGxebtMr0wJnLuaexEqibZ9R&name=Filip+Forsberg&dateOfBirth=1994-08-13&sort=name",
         "last": "https://api.eliteprospects.com/v1/players?offset=0&limit=1000&apiKey=BbLo1zDgnGxebtMr0wJnLuaexEqibZ9R&name=Filip+Forsberg&dateOfBirth=1994-08-13&sort=name",
         "next": null,
         "prev": null
        },
        "_meta": {
         "generatedAt": "2023-03-21T04:26:32.209642Z",
         "limit": 1000,
         "offset": 0,
         "totalRecords": 1
        },
        "data": [
         {
          "_links": [
           "https://api.eliteprospects.com/v1/players/29626?apiKey=BbLo1zDgnGxebtMr0wJnLuaexEqibZ9R"
          ],
          "dateOfBirth": "1994-08-13",
          "firstName": "Filip",
          "gender": "male",
          "id": 29626,
          "lastName": "Forsberg",
          "name": "Filip Forsberg",
          "nationality": {
           "_links": [
            "https://api.eliteprospects.com/v1/countries/SWE?apiKey=BbLo1zDgnGxebtMr0wJnLuaexEqibZ9R"
           ],
           "name": "Sweden",
           "slug": "SWE"
          },
          "playerType": "SKATER",
          "position": "F",
          "status": "active"
         }
        ]
       },
       {
        "_links": {
         "first": "https://api.eliteprospects.com/v1/players?offset=0&limit=1000&apiKey=BbLo1zDgnGxebtMr0wJnLuaexEqibZ9R&name=Mikhail+Grigorenko&dateOfBirth=1994-05-16&sort=name",
         "last": "https://api.eliteprospects.com/v1/players?offset=0&limit=1000&apiKey=BbLo1zDgnGxebtMr0wJnLuaexEqibZ9R&name=Mikhail+Grigorenko&dateOfBirth=1994-05-16&sort=name",
         "next": null,
         "prev": null
        },
        "_meta": {
         "generatedAt": "2023-03-21T04:26:32.502336Z",
         "limit": 1000,
         "offset": 0,
         "totalRecords": 1
        },
        "data": [
         {
          "_links": [
           "https://api.eliteprospects.com/v1/players/42435?apiKey=BbLo1zDgnGxebtMr0wJnLuaexEqibZ9R"
          ],
          "dateOfBirth": "1994-05-16",
          "firstName": "Mikhail",
          "gender": "male",
          "id": 42435,
          "lastName": "Grigorenko",
          "name": "Mikhail Grigorenko",
          "nationality": {
           "_links": [
            "https://api.eliteprospects.com/v1/countries/RUS?apiKey=BbLo1zDgnGxebtMr0wJnLuaexEqibZ9R"
           ],
           "name": "Russia",
           "slug": "RUS"
          },
          "playerType": "SKATER",
          "position": "F",
          "status": "active"
         }
        ]
       },
       {
        "_links": {
         "first": "https://api.eliteprospects.com/v1/players?offset=0&limit=1000&apiKey=BbLo1zDgnGxebtMr0wJnLuaexEqibZ9R&name=Radek+Faksa&dateOfBirth=1994-01-09&sort=name",
         "last": "https://api.eliteprospects.com/v1/players?offset=0&limit=1000&apiKey=BbLo1zDgnGxebtMr0wJnLuaexEqibZ9R&name=Radek+Faksa&dateOfBirth=1994-01-09&sort=name",
         "next": null,
         "prev": null
        },
        "_meta": {
         "generatedAt": "2023-03-21T04:26:32.892254Z",
         "limit": 1000,
         "offset": 0,
         "totalRecords": 1
        },
        "data": [
         {
          "_links": [
           "https://api.eliteprospects.com/v1/players/98300?apiKey=BbLo1zDgnGxebtMr0wJnLuaexEqibZ9R"
          ],
          "dateOfBirth": "1994-01-09",
          "firstName": "Radek",
          "gender": "male",
          "id": 98300,
          "lastName": "Faksa",
          "name": "Radek Faksa",
          "nationality": {
           "_links": [
            "https://api.eliteprospects.com/v1/countries/CZE?apiKey=BbLo1zDgnGxebtMr0wJnLuaexEqibZ9R"
           ],
           "name": "Czechia",
           "slug": "CZE"
          },
          "playerType": "SKATER",
          "position": "F",
          "status": "active"
         }
        ]
       },
       {
        "_links": {
         "first": "https://api.eliteprospects.com/v1/players?offset=0&limit=1000&apiKey=BbLo1zDgnGxebtMr0wJnLuaexEqibZ9R&name=Zemgus+Girgensons&dateOfBirth=1994-01-05&sort=name",
         "last": "https://api.eliteprospects.com/v1/players?offset=0&limit=1000&apiKey=BbLo1zDgnGxebtMr0wJnLuaexEqibZ9R&name=Zemgus+Girgensons&dateOfBirth=1994-01-05&sort=name",
         "next": null,
         "prev": null
        },
        "_meta": {
         "generatedAt": "2023-03-21T04:26:33.192887Z",
         "limit": 1000,
         "offset": 0,
         "totalRecords": 1
        },
        "data": [
         {
          "_links": [
           "https://api.eliteprospects.com/v1/players/59843?apiKey=BbLo1zDgnGxebtMr0wJnLuaexEqibZ9R"
          ],
          "dateOfBirth": "1994-01-05",
          "firstName": "Zemgus",
          "gender": "male",
          "id": 59843,
          "lastName": "Girgensons",
          "name": "Zemgus Girgensons",
          "nationality": {
           "_links": [
            "https://api.eliteprospects.com/v1/countries/LVA?apiKey=BbLo1zDgnGxebtMr0wJnLuaexEqibZ9R"
           ],
           "name": "Latvia",
           "slug": "LVA"
          },
          "playerType": "SKATER",
          "position": "F",
          "status": "active"
         }
        ]
       },
       {
        "_links": {
         "first": "https://api.eliteprospects.com/v1/players?offset=0&limit=1000&apiKey=BbLo1zDgnGxebtMr0wJnLuaexEqibZ9R&name=Cody+Ceci&dateOfBirth=1993-12-21&sort=name",
         "last": "https://api.eliteprospects.com/v1/players?offset=0&limit=1000&apiKey=BbLo1zDgnGxebtMr0wJnLuaexEqibZ9R&name=Cody+Ceci&dateOfBirth=1993-12-21&sort=name",
         "next": null,
         "prev": null
        },
        "_meta": {
         "generatedAt": "2023-03-21T04:26:33.649963Z",
         "limit": 1000,
         "offset": 0,
         "totalRecords": 1
        },
        "data": [
         {
          "_links": [
           "https://api.eliteprospects.com/v1/players/45584?apiKey=BbLo1zDgnGxebtMr0wJnLuaexEqibZ9R"
          ],
          "dateOfBirth": "1993-12-21",
          "firstName": "Cody",
          "gender": "male",
          "id": 45584,
          "lastName": "Ceci",
          "name": "Cody Ceci",
          "nationality": {
           "_links": [
            "https://api.eliteprospects.com/v1/countries/CAN?apiKey=BbLo1zDgnGxebtMr0wJnLuaexEqibZ9R"
           ],
           "name": "Canada",
           "slug": "CAN"
          },
          "playerType": "SKATER",
          "position": "D",
          "status": "active"
         }
        ]
       },
       {
        "_links": {
         "first": "https://api.eliteprospects.com/v1/players?offset=0&limit=1000&apiKey=BbLo1zDgnGxebtMr0wJnLuaexEqibZ9R&name=Tom+Wilson&dateOfBirth=1994-03-29&sort=name",
         "last": "https://api.eliteprospects.com/v1/players?offset=0&limit=1000&apiKey=BbLo1zDgnGxebtMr0wJnLuaexEqibZ9R&name=Tom+Wilson&dateOfBirth=1994-03-29&sort=name",
         "next": null,
         "prev": null
        },
        "_meta": {
         "generatedAt": "2023-03-21T04:26:34.529244Z",
         "limit": 1000,
         "offset": 0,
         "totalRecords": 1
        },
        "data": [
         {
          "_links": [
           "https://api.eliteprospects.com/v1/players/98663?apiKey=BbLo1zDgnGxebtMr0wJnLuaexEqibZ9R"
          ],
          "dateOfBirth": "1994-03-29",
          "firstName": "Tom",
          "gender": "male",
          "id": 98663,
          "lastName": "Wilson",
          "name": "Tom Wilson",
          "nationality": {
           "_links": [
            "https://api.eliteprospects.com/v1/countries/CAN?apiKey=BbLo1zDgnGxebtMr0wJnLuaexEqibZ9R"
           ],
           "name": "Canada",
           "slug": "CAN"
          },
          "playerType": "SKATER",
          "position": "F",
          "status": "active"
         }
        ]
       },
       {
        "_links": {
         "first": "https://api.eliteprospects.com/v1/players?offset=0&limit=1000&apiKey=BbLo1zDgnGxebtMr0wJnLuaexEqibZ9R&name=Tomas+Hertl&dateOfBirth=1993-11-12&sort=name",
         "last": "https://api.eliteprospects.com/v1/players?offset=0&limit=1000&apiKey=BbLo1zDgnGxebtMr0wJnLuaexEqibZ9R&name=Tomas+Hertl&dateOfBirth=1993-11-12&sort=name",
         "next": null,
         "prev": null
        },
        "_meta": {
         "generatedAt": "2023-03-21T04:26:35.073479Z",
         "limit": 1000,
         "offset": 0,
         "totalRecords": 1
        },
        "data": [
         {
          "_links": [
           "https://api.eliteprospects.com/v1/players/56038?apiKey=BbLo1zDgnGxebtMr0wJnLuaexEqibZ9R"
          ],
          "dateOfBirth": "1993-11-12",
          "firstName": "Tomas",
          "gender": "male",
          "id": 56038,
          "lastName": "Hertl",
          "name": "Tomas Hertl",
          "nationality": {
           "_links": [
            "https://api.eliteprospects.com/v1/countries/CZE?apiKey=BbLo1zDgnGxebtMr0wJnLuaexEqibZ9R"
           ],
           "name": "Czechia",
           "slug": "CZE"
          },
          "playerType": "SKATER",
          "position": "F",
          "status": "active"
         }
        ]
       },
       {
        "_links": {
         "first": "https://api.eliteprospects.com/v1/players?offset=0&limit=1000&apiKey=BbLo1zDgnGxebtMr0wJnLuaexEqibZ9R&name=Teuvo+Teravainen&dateOfBirth=1994-09-11&sort=name",
         "last": "https://api.eliteprospects.com/v1/players?offset=0&limit=1000&apiKey=BbLo1zDgnGxebtMr0wJnLuaexEqibZ9R&name=Teuvo+Teravainen&dateOfBirth=1994-09-11&sort=name",
         "next": null,
         "prev": null
        },
        "_meta": {
         "generatedAt": "2023-03-21T04:26:35.715187Z",
         "limit": 1000,
         "offset": 0,
         "totalRecords": 1
        },
        "data": [
         {
          "_links": [
           "https://api.eliteprospects.com/v1/players/44567?apiKey=BbLo1zDgnGxebtMr0wJnLuaexEqibZ9R"
          ],
          "dateOfBirth": "1994-09-11",
          "firstName": "Teuvo",
          "gender": "male",
          "id": 44567,
          "lastName": "Teräväinen",
          "name": "Teuvo Teräväinen",
          "nationality": {
           "_links": [
            "https://api.eliteprospects.com/v1/countries/FIN?apiKey=BbLo1zDgnGxebtMr0wJnLuaexEqibZ9R"
           ],
           "name": "Finland",
           "slug": "FIN"
          },
          "playerType": "SKATER",
          "position": "F",
          "status": "active"
         }
        ]
       },
       {
        "_links": {
         "first": "https://api.eliteprospects.com/v1/players?offset=0&limit=1000&apiKey=BbLo1zDgnGxebtMr0wJnLuaexEqibZ9R&name=Scott+Laughton&dateOfBirth=1994-05-30&sort=name",
         "last": "https://api.eliteprospects.com/v1/players?offset=0&limit=1000&apiKey=BbLo1zDgnGxebtMr0wJnLuaexEqibZ9R&name=Scott+Laughton&dateOfBirth=1994-05-30&sort=name",
         "next": null,
         "prev": null
        },
        "_meta": {
         "generatedAt": "2023-03-21T04:26:36.035608Z",
         "limit": 1000,
         "offset": 0,
         "totalRecords": 1
        },
        "data": [
         {
          "_links": [
           "https://api.eliteprospects.com/v1/players/76690?apiKey=BbLo1zDgnGxebtMr0wJnLuaexEqibZ9R"
          ],
          "dateOfBirth": "1994-05-30",
          "firstName": "Scott",
          "gender": "male",
          "id": 76690,
          "lastName": "Laughton",
          "name": "Scott Laughton",
          "nationality": {
           "_links": [
            "https://api.eliteprospects.com/v1/countries/CAN?apiKey=BbLo1zDgnGxebtMr0wJnLuaexEqibZ9R"
           ],
           "name": "Canada",
           "slug": "CAN"
          },
          "playerType": "SKATER",
          "position": "F",
          "status": "active"
         }
        ]
       },
       {
        "_links": {
         "first": "https://api.eliteprospects.com/v1/players?offset=0&limit=1000&apiKey=BbLo1zDgnGxebtMr0wJnLuaexEqibZ9R&name=Mark+Jankowski&dateOfBirth=1994-09-13&sort=name",
         "last": "https://api.eliteprospects.com/v1/players?offset=0&limit=1000&apiKey=BbLo1zDgnGxebtMr0wJnLuaexEqibZ9R&name=Mark+Jankowski&dateOfBirth=1994-09-13&sort=name",
         "next": null,
         "prev": null
        },
        "_meta": {
         "generatedAt": "2023-03-21T04:26:36.334030Z",
         "limit": 1000,
         "offset": 0,
         "totalRecords": 1
        },
        "data": [
         {
          "_links": [
           "https://api.eliteprospects.com/v1/players/146518?apiKey=BbLo1zDgnGxebtMr0wJnLuaexEqibZ9R"
          ],
          "dateOfBirth": "1994-09-13",
          "firstName": "Mark",
          "gender": "male",
          "id": 146518,
          "lastName": "Jankowski",
          "name": "Mark Jankowski",
          "nationality": {
           "_links": [
            "https://api.eliteprospects.com/v1/countries/CAN?apiKey=BbLo1zDgnGxebtMr0wJnLuaexEqibZ9R"
           ],
           "name": "Canada",
           "slug": "CAN"
          },
          "playerType": "SKATER",
          "position": "F",
          "status": "active"
         }
        ]
       },
       {
        "_links": {
         "first": "https://api.eliteprospects.com/v1/players?offset=0&limit=1000&apiKey=BbLo1zDgnGxebtMr0wJnLuaexEqibZ9R&name=Olli+Maatta&dateOfBirth=1994-08-22&sort=name",
         "last": "https://api.eliteprospects.com/v1/players?offset=0&limit=1000&apiKey=BbLo1zDgnGxebtMr0wJnLuaexEqibZ9R&name=Olli+Maatta&dateOfBirth=1994-08-22&sort=name",
         "next": null,
         "prev": null
        },
        "_meta": {
         "generatedAt": "2023-03-21T04:26:36.638800Z",
         "limit": 1000,
         "offset": 0,
         "totalRecords": 1
        },
        "data": [
         {
          "_links": [
           "https://api.eliteprospects.com/v1/players/43543?apiKey=BbLo1zDgnGxebtMr0wJnLuaexEqibZ9R"
          ],
          "dateOfBirth": "1994-08-22",
          "firstName": "Olli",
          "gender": "male",
          "id": 43543,
          "lastName": "Määttä",
          "name": "Olli Määttä",
          "nationality": {
           "_links": [
            "https://api.eliteprospects.com/v1/countries/FIN?apiKey=BbLo1zDgnGxebtMr0wJnLuaexEqibZ9R"
           ],
           "name": "Finland",
           "slug": "FIN"
          },
          "playerType": "SKATER",
          "position": "D",
          "status": "active"
         }
        ]
       },
       {
        "_links": {
         "first": "https://api.eliteprospects.com/v1/players?offset=0&limit=1000&apiKey=BbLo1zDgnGxebtMr0wJnLuaexEqibZ9R&name=Mike+Matheson&dateOfBirth=1994-02-27&sort=name",
         "last": "https://api.eliteprospects.com/v1/players?offset=0&limit=1000&apiKey=BbLo1zDgnGxebtMr0wJnLuaexEqibZ9R&name=Mike+Matheson&dateOfBirth=1994-02-27&sort=name",
         "next": null,
         "prev": null
        },
        "_meta": {
         "generatedAt": "2023-03-21T04:26:36.998419Z",
         "limit": 1000,
         "offset": 0,
         "totalRecords": 1
        },
        "data": [
         {
          "_links": [
           "https://api.eliteprospects.com/v1/players/76333?apiKey=BbLo1zDgnGxebtMr0wJnLuaexEqibZ9R"
          ],
          "dateOfBirth": "1994-02-27",
          "firstName": "Mike",
          "gender": "male",
          "id": 76333,
          "lastName": "Matheson",
          "name": "Mike Matheson",
          "nationality": {
           "_links": [
            "https://api.eliteprospects.com/v1/countries/CAN?apiKey=BbLo1zDgnGxebtMr0wJnLuaexEqibZ9R"
           ],
           "name": "Canada",
           "slug": "CAN"
          },
          "playerType": "SKATER",
          "position": "D",
          "status": "active"
         }
        ]
       },
       {
        "_links": {
         "first": "https://api.eliteprospects.com/v1/players?offset=0&limit=1000&apiKey=BbLo1zDgnGxebtMr0wJnLuaexEqibZ9R&name=Jordan+Schmaltz&dateOfBirth=1993-10-08&sort=name",
         "last": "https://api.eliteprospects.com/v1/players?offset=0&limit=1000&apiKey=BbLo1zDgnGxebtMr0wJnLuaexEqibZ9R&name=Jordan+Schmaltz&dateOfBirth=1993-10-08&sort=name",
         "next": null,
         "prev": null
        },
        "_meta": {
         "generatedAt": "2023-03-21T04:26:37.439646Z",
         "limit": 1000,
         "offset": 0,
         "totalRecords": 1
        },
        "data": [
         {
          "_links": [
           "https://api.eliteprospects.com/v1/players/50291?apiKey=BbLo1zDgnGxebtMr0wJnLuaexEqibZ9R"
          ],
          "dateOfBirth": "1993-10-08",
          "firstName": "Jordan",
          "gender": "male",
          "id": 50291,
          "lastName": "Schmaltz",
          "name": "Jordan Schmaltz",
          "nationality": {
           "_links": [
            "https://api.eliteprospects.com/v1/countries/USA?apiKey=BbLo1zDgnGxebtMr0wJnLuaexEqibZ9R"
           ],
           "name": "USA",
           "slug": "USA"
          },
          "playerType": "SKATER",
          "position": "D",
          "status": "active"
         }
        ]
       },
       {
        "_links": {
         "first": "https://api.eliteprospects.com/v1/players?offset=0&limit=1000&apiKey=BbLo1zDgnGxebtMr0wJnLuaexEqibZ9R&name=Brendan+Gaunce&dateOfBirth=1994-03-25&sort=name",
         "last": "https://api.eliteprospects.com/v1/players?offset=0&limit=1000&apiKey=BbLo1zDgnGxebtMr0wJnLuaexEqibZ9R&name=Brendan+Gaunce&dateOfBirth=1994-03-25&sort=name",
         "next": null,
         "prev": null
        },
        "_meta": {
         "generatedAt": "2023-03-21T04:26:37.754623Z",
         "limit": 1000,
         "offset": 0,
         "totalRecords": 1
        },
        "data": [
         {
          "_links": [
           "https://api.eliteprospects.com/v1/players/76290?apiKey=BbLo1zDgnGxebtMr0wJnLuaexEqibZ9R"
          ],
          "dateOfBirth": "1994-03-25",
          "firstName": "Brendan",
          "gender": "male",
          "id": 76290,
          "lastName": "Gaunce",
          "name": "Brendan Gaunce",
          "nationality": {
           "_links": [
            "https://api.eliteprospects.com/v1/countries/CAN?apiKey=BbLo1zDgnGxebtMr0wJnLuaexEqibZ9R"
           ],
           "name": "Canada",
           "slug": "CAN"
          },
          "playerType": "SKATER",
          "position": "F",
          "status": "active"
         }
        ]
       },
       {
        "_links": {
         "first": "https://api.eliteprospects.com/v1/players?offset=0&limit=1000&apiKey=BbLo1zDgnGxebtMr0wJnLuaexEqibZ9R&name=Henrik+Samuelsson&dateOfBirth=1994-02-07&sort=name",
         "last": "https://api.eliteprospects.com/v1/players?offset=0&limit=1000&apiKey=BbLo1zDgnGxebtMr0wJnLuaexEqibZ9R&name=Henrik+Samuelsson&dateOfBirth=1994-02-07&sort=name",
         "next": null,
         "prev": null
        },
        "_meta": {
         "generatedAt": "2023-03-21T04:26:38.133158Z",
         "limit": 1000,
         "offset": 0,
         "totalRecords": 1
        },
        "data": [
         {
          "_links": [
           "https://api.eliteprospects.com/v1/players/33217?apiKey=BbLo1zDgnGxebtMr0wJnLuaexEqibZ9R"
          ],
          "dateOfBirth": "1994-02-07",
          "firstName": "Henrik",
          "gender": "male",
          "id": 33217,
          "lastName": "Samuelsson",
          "name": "Henrik Samuelsson",
          "nationality": {
           "_links": [
            "https://api.eliteprospects.com/v1/countries/USA?apiKey=BbLo1zDgnGxebtMr0wJnLuaexEqibZ9R"
           ],
           "name": "USA",
           "slug": "USA"
          },
          "playerType": "SKATER",
          "position": "F",
          "status": "retired"
         }
        ]
       },
       {
        "_links": {
         "first": "https://api.eliteprospects.com/v1/players?offset=0&limit=1000&apiKey=BbLo1zDgnGxebtMr0wJnLuaexEqibZ9R&name=Brady+Skjei&dateOfBirth=1994-03-26&sort=name",
         "last": "https://api.eliteprospects.com/v1/players?offset=0&limit=1000&apiKey=BbLo1zDgnGxebtMr0wJnLuaexEqibZ9R&name=Brady+Skjei&dateOfBirth=1994-03-26&sort=name",
         "next": null,
         "prev": null
        },
        "_meta": {
         "generatedAt": "2023-03-21T04:26:38.498833Z",
         "limit": 1000,
         "offset": 0,
         "totalRecords": 1
        },
        "data": [
         {
          "_links": [
           "https://api.eliteprospects.com/v1/players/90352?apiKey=BbLo1zDgnGxebtMr0wJnLuaexEqibZ9R"
          ],
          "dateOfBirth": "1994-03-26",
          "firstName": "Brady",
          "gender": "male",
          "id": 90352,
          "lastName": "Skjei",
          "name": "Brady Skjei",
          "nationality": {
           "_links": [
            "https://api.eliteprospects.com/v1/countries/USA?apiKey=BbLo1zDgnGxebtMr0wJnLuaexEqibZ9R"
           ],
           "name": "USA",
           "slug": "USA"
          },
          "playerType": "SKATER",
          "position": "D",
          "status": "active"
         }
        ]
       },
       {
        "_links": {
         "first": "https://api.eliteprospects.com/v1/players?offset=0&limit=1000&apiKey=BbLo1zDgnGxebtMr0wJnLuaexEqibZ9R&name=Stefan+Matteau&dateOfBirth=1994-02-23&sort=name",
         "last": "https://api.eliteprospects.com/v1/players?offset=0&limit=1000&apiKey=BbLo1zDgnGxebtMr0wJnLuaexEqibZ9R&name=Stefan+Matteau&dateOfBirth=1994-02-23&sort=name",
         "next": null,
         "prev": null
        },
        "_meta": {
         "generatedAt": "2023-03-21T04:26:38.876319Z",
         "limit": 1000,
         "offset": 0,
         "totalRecords": 1
        },
        "data": [
         {
          "_links": [
           "https://api.eliteprospects.com/v1/players/77561?apiKey=BbLo1zDgnGxebtMr0wJnLuaexEqibZ9R"
          ],
          "dateOfBirth": "1994-02-23",
          "firstName": "Stefan",
          "gender": "male",
          "id": 77561,
          "lastName": "Matteau",
          "name": "Stefan Matteau",
          "nationality": {
           "_links": [
            "https://api.eliteprospects.com/v1/countries/USA?apiKey=BbLo1zDgnGxebtMr0wJnLuaexEqibZ9R"
           ],
           "name": "USA",
           "slug": "USA"
          },
          "playerType": "SKATER",
          "position": "F",
          "status": "active"
         }
        ]
       },
       {
        "_links": {
         "first": "https://api.eliteprospects.com/v1/players?offset=0&limit=1000&apiKey=BbLo1zDgnGxebtMr0wJnLuaexEqibZ9R&name=Tanner+Pearson&dateOfBirth=1992-08-10&sort=name",
         "last": "https://api.eliteprospects.com/v1/players?offset=0&limit=1000&apiKey=BbLo1zDgnGxebtMr0wJnLuaexEqibZ9R&name=Tanner+Pearson&dateOfBirth=1992-08-10&sort=name",
         "next": null,
         "prev": null
        },
        "_meta": {
         "generatedAt": "2023-03-21T04:26:39.230113Z",
         "limit": 1000,
         "offset": 0,
         "totalRecords": 1
        },
        "data": [
         {
          "_links": [
           "https://api.eliteprospects.com/v1/players/75951?apiKey=BbLo1zDgnGxebtMr0wJnLuaexEqibZ9R"
          ],
          "dateOfBirth": "1992-08-10",
          "firstName": "Tanner",
          "gender": "male",
          "id": 75951,
          "lastName": "Pearson",
          "name": "Tanner Pearson",
          "nationality": {
           "_links": [
            "https://api.eliteprospects.com/v1/countries/CAN?apiKey=BbLo1zDgnGxebtMr0wJnLuaexEqibZ9R"
           ],
           "name": "Canada",
           "slug": "CAN"
          },
          "playerType": "SKATER",
          "position": "F",
          "status": "active"
         }
        ]
       },
       {
        "_links": {
         "first": "https://api.eliteprospects.com/v1/players?offset=0&limit=1000&apiKey=BbLo1zDgnGxebtMr0wJnLuaexEqibZ9R&name=Nathan+Mackinnon&dateOfBirth=1995-09-01&sort=name",
         "last": "https://api.eliteprospects.com/v1/players?offset=0&limit=1000&apiKey=BbLo1zDgnGxebtMr0wJnLuaexEqibZ9R&name=Nathan+Mackinnon&dateOfBirth=1995-09-01&sort=name",
         "next": null,
         "prev": null
        },
        "_meta": {
         "generatedAt": "2023-03-21T04:26:39.521208Z",
         "limit": 1000,
         "offset": 0,
         "totalRecords": 1
        },
        "data": [
         {
          "_links": [
           "https://api.eliteprospects.com/v1/players/99204?apiKey=BbLo1zDgnGxebtMr0wJnLuaexEqibZ9R"
          ],
          "dateOfBirth": "1995-09-01",
          "firstName": "Nathan",
          "gender": "male",
          "id": 99204,
          "lastName": "MacKinnon",
          "name": "Nathan MacKinnon",
          "nationality": {
           "_links": [
            "https://api.eliteprospects.com/v1/countries/CAN?apiKey=BbLo1zDgnGxebtMr0wJnLuaexEqibZ9R"
           ],
           "name": "Canada",
           "slug": "CAN"
          },
          "playerType": "SKATER",
          "position": "F",
          "status": "active"
         }
        ]
       },
       {
        "_links": {
         "first": "https://api.eliteprospects.com/v1/players?offset=0&limit=1000&apiKey=BbLo1zDgnGxebtMr0wJnLuaexEqibZ9R&name=Aleksander+Barkov&dateOfBirth=1995-09-02&sort=name",
         "last": "https://api.eliteprospects.com/v1/players?offset=0&limit=1000&apiKey=BbLo1zDgnGxebtMr0wJnLuaexEqibZ9R&name=Aleksander+Barkov&dateOfBirth=1995-09-02&sort=name",
         "next": null,
         "prev": null
        },
        "_meta": {
         "generatedAt": "2023-03-21T04:26:39.946946Z",
         "limit": 1000,
         "offset": 0,
         "totalRecords": 1
        },
        "data": [
         {
          "_links": [
           "https://api.eliteprospects.com/v1/players/50044?apiKey=BbLo1zDgnGxebtMr0wJnLuaexEqibZ9R"
          ],
          "dateOfBirth": "1995-09-02",
          "firstName": "Aleksander",
          "gender": "male",
          "id": 50044,
          "lastName": "Barkov",
          "name": "Aleksander Barkov",
          "nationality": {
           "_links": [
            "https://api.eliteprospects.com/v1/countries/FIN?apiKey=BbLo1zDgnGxebtMr0wJnLuaexEqibZ9R"
           ],
           "name": "Finland",
           "slug": "FIN"
          },
          "playerType": "SKATER",
          "position": "F",
          "status": "active"
         }
        ]
       },
       {
        "_links": {
         "first": "https://api.eliteprospects.com/v1/players?offset=0&limit=1000&apiKey=BbLo1zDgnGxebtMr0wJnLuaexEqibZ9R&name=Jonathan+Drouin&dateOfBirth=1995-03-28&sort=name",
         "last": "https://api.eliteprospects.com/v1/players?offset=0&limit=1000&apiKey=BbLo1zDgnGxebtMr0wJnLuaexEqibZ9R&name=Jonathan+Drouin&dateOfBirth=1995-03-28&sort=name",
         "next": null,
         "prev": null
        },
        "_meta": {
         "generatedAt": "2023-03-21T04:26:40.255703Z",
         "limit": 1000,
         "offset": 0,
         "totalRecords": 1
        },
        "data": [
         {
          "_links": [
           "https://api.eliteprospects.com/v1/players/118657?apiKey=BbLo1zDgnGxebtMr0wJnLuaexEqibZ9R"
          ],
          "dateOfBirth": "1995-03-28",
          "firstName": "Jonathan",
          "gender": "male",
          "id": 118657,
          "lastName": "Drouin",
          "name": "Jonathan Drouin",
          "nationality": {
           "_links": [
            "https://api.eliteprospects.com/v1/countries/CAN?apiKey=BbLo1zDgnGxebtMr0wJnLuaexEqibZ9R"
           ],
           "name": "Canada",
           "slug": "CAN"
          },
          "playerType": "SKATER",
          "position": "F",
          "status": "active"
         }
        ]
       },
       {
        "_links": {
         "first": "https://api.eliteprospects.com/v1/players?offset=0&limit=1000&apiKey=BbLo1zDgnGxebtMr0wJnLuaexEqibZ9R&name=Seth+Jones&dateOfBirth=1994-10-03&sort=name",
         "last": "https://api.eliteprospects.com/v1/players?offset=0&limit=1000&apiKey=BbLo1zDgnGxebtMr0wJnLuaexEqibZ9R&name=Seth+Jones&dateOfBirth=1994-10-03&sort=name",
         "next": null,
         "prev": null
        },
        "_meta": {
         "generatedAt": "2023-03-21T04:26:40.575103Z",
         "limit": 1000,
         "offset": 0,
         "totalRecords": 1
        },
        "data": [
         {
          "_links": [
           "https://api.eliteprospects.com/v1/players/90355?apiKey=BbLo1zDgnGxebtMr0wJnLuaexEqibZ9R"
          ],
          "dateOfBirth": "1994-10-03",
          "firstName": "Seth",
          "gender": "male",
          "id": 90355,
          "lastName": "Jones",
          "name": "Seth Jones",
          "nationality": {
           "_links": [
            "https://api.eliteprospects.com/v1/countries/USA?apiKey=BbLo1zDgnGxebtMr0wJnLuaexEqibZ9R"
           ],
           "name": "USA",
           "slug": "USA"
          },
          "playerType": "SKATER",
          "position": "D",
          "status": "active"
         }
        ]
       },
       {
        "_links": {
         "first": "https://api.eliteprospects.com/v1/players?offset=0&limit=1000&apiKey=BbLo1zDgnGxebtMr0wJnLuaexEqibZ9R&name=Elias+Lindholm&dateOfBirth=1994-12-02&sort=name",
         "last": "https://api.eliteprospects.com/v1/players?offset=0&limit=1000&apiKey=BbLo1zDgnGxebtMr0wJnLuaexEqibZ9R&name=Elias+Lindholm&dateOfBirth=1994-12-02&sort=name",
         "next": null,
         "prev": null
        },
        "_meta": {
         "generatedAt": "2023-03-21T04:26:40.883429Z",
         "limit": 1000,
         "offset": 0,
         "totalRecords": 1
        },
        "data": [
         {
          "_links": [
           "https://api.eliteprospects.com/v1/players/33387?apiKey=BbLo1zDgnGxebtMr0wJnLuaexEqibZ9R"
          ],
          "dateOfBirth": "1994-12-02",
          "firstName": "Elias",
          "gender": "male",
          "id": 33387,
          "lastName": "Lindholm",
          "name": "Elias Lindholm",
          "nationality": {
           "_links": [
            "https://api.eliteprospects.com/v1/countries/SWE?apiKey=BbLo1zDgnGxebtMr0wJnLuaexEqibZ9R"
           ],
           "name": "Sweden",
           "slug": "SWE"
          },
          "playerType": "SKATER",
          "position": "F",
          "status": "active"
         }
        ]
       },
       {
        "_links": {
         "first": "https://api.eliteprospects.com/v1/players?offset=0&limit=1000&apiKey=BbLo1zDgnGxebtMr0wJnLuaexEqibZ9R&name=Sean+Monahan&dateOfBirth=1994-10-12&sort=name",
         "last": "https://api.eliteprospects.com/v1/players?offset=0&limit=1000&apiKey=BbLo1zDgnGxebtMr0wJnLuaexEqibZ9R&name=Sean+Monahan&dateOfBirth=1994-10-12&sort=name",
         "next": null,
         "prev": null
        },
        "_meta": {
         "generatedAt": "2023-03-21T04:26:41.281095Z",
         "limit": 1000,
         "offset": 0,
         "totalRecords": 1
        },
        "data": [
         {
          "_links": [
           "https://api.eliteprospects.com/v1/players/85013?apiKey=BbLo1zDgnGxebtMr0wJnLuaexEqibZ9R"
          ],
          "dateOfBirth": "1994-10-12",
          "firstName": "Sean",
          "gender": "male",
          "id": 85013,
          "lastName": "Monahan",
          "name": "Sean Monahan",
          "nationality": {
           "_links": [
            "https://api.eliteprospects.com/v1/countries/CAN?apiKey=BbLo1zDgnGxebtMr0wJnLuaexEqibZ9R"
           ],
           "name": "Canada",
           "slug": "CAN"
          },
          "playerType": "SKATER",
          "position": "F",
          "status": "active"
         }
        ]
       },
       {
        "_links": {
         "first": "https://api.eliteprospects.com/v1/players?offset=0&limit=1000&apiKey=BbLo1zDgnGxebtMr0wJnLuaexEqibZ9R&name=Darnell+Nurse&dateOfBirth=1995-02-04&sort=name",
         "last": "https://api.eliteprospects.com/v1/players?offset=0&limit=1000&apiKey=BbLo1zDgnGxebtMr0wJnLuaexEqibZ9R&name=Darnell+Nurse&dateOfBirth=1995-02-04&sort=name",
         "next": null,
         "prev": null
        },
        "_meta": {
         "generatedAt": "2023-03-21T04:26:41.621862Z",
         "limit": 1000,
         "offset": 0,
         "totalRecords": 1
        },
        "data": [
         {
          "_links": [
           "https://api.eliteprospects.com/v1/players/97352?apiKey=BbLo1zDgnGxebtMr0wJnLuaexEqibZ9R"
          ],
          "dateOfBirth": "1995-02-04",
          "firstName": "Darnell",
          "gender": "male",
          "id": 97352,
          "lastName": "Nurse",
          "name": "Darnell Nurse",
          "nationality": {
           "_links": [
            "https://api.eliteprospects.com/v1/countries/CAN?apiKey=BbLo1zDgnGxebtMr0wJnLuaexEqibZ9R"
           ],
           "name": "Canada",
           "slug": "CAN"
          },
          "playerType": "SKATER",
          "position": "D",
          "status": "active"
         }
        ]
       },
       {
        "_links": {
         "first": "https://api.eliteprospects.com/v1/players?offset=0&limit=1000&apiKey=BbLo1zDgnGxebtMr0wJnLuaexEqibZ9R&name=Rasmus+Ristolainen&dateOfBirth=1994-10-27&sort=name",
         "last": "https://api.eliteprospects.com/v1/players?offset=0&limit=1000&apiKey=BbLo1zDgnGxebtMr0wJnLuaexEqibZ9R&name=Rasmus+Ristolainen&dateOfBirth=1994-10-27&sort=name",
         "next": null,
         "prev": null
        },
        "_meta": {
         "generatedAt": "2023-03-21T04:26:41.932188Z",
         "limit": 1000,
         "offset": 0,
         "totalRecords": 1
        },
        "data": [
         {
          "_links": [
           "https://api.eliteprospects.com/v1/players/43497?apiKey=BbLo1zDgnGxebtMr0wJnLuaexEqibZ9R"
          ],
          "dateOfBirth": "1994-10-27",
          "firstName": "Rasmus",
          "gender": "male",
          "id": 43497,
          "lastName": "Ristolainen",
          "name": "Rasmus Ristolainen",
          "nationality": {
           "_links": [
            "https://api.eliteprospects.com/v1/countries/FIN?apiKey=BbLo1zDgnGxebtMr0wJnLuaexEqibZ9R"
           ],
           "name": "Finland",
           "slug": "FIN"
          },
          "playerType": "SKATER",
          "position": "D",
          "status": "active"
         }
        ]
       },
       {
        "_links": {
         "first": "https://api.eliteprospects.com/v1/players?offset=0&limit=1000&apiKey=BbLo1zDgnGxebtMr0wJnLuaexEqibZ9R&name=Bo+Horvat&dateOfBirth=1995-04-05&sort=name",
         "last": "https://api.eliteprospects.com/v1/players?offset=0&limit=1000&apiKey=BbLo1zDgnGxebtMr0wJnLuaexEqibZ9R&name=Bo+Horvat&dateOfBirth=1995-04-05&sort=name",
         "next": null,
         "prev": null
        },
        "_meta": {
         "generatedAt": "2023-03-21T04:26:42.537015Z",
         "limit": 1000,
         "offset": 0,
         "totalRecords": 1
        },
        "data": [
         {
          "_links": [
           "https://api.eliteprospects.com/v1/players/117012?apiKey=BbLo1zDgnGxebtMr0wJnLuaexEqibZ9R"
          ],
          "dateOfBirth": "1995-04-05",
          "firstName": "Bo",
          "gender": "male",
          "id": 117012,
          "lastName": "Horvat",
          "name": "Bo Horvat",
          "nationality": {
           "_links": [
            "https://api.eliteprospects.com/v1/countries/CAN?apiKey=BbLo1zDgnGxebtMr0wJnLuaexEqibZ9R"
           ],
           "name": "Canada",
           "slug": "CAN"
          },
          "playerType": "SKATER",
          "position": "F",
          "status": "active"
         }
        ]
       },
       {
        "_links": {
         "first": "https://api.eliteprospects.com/v1/players?offset=0&limit=1000&apiKey=BbLo1zDgnGxebtMr0wJnLuaexEqibZ9R&name=Valeri+Nichushkin&dateOfBirth=1995-03-04&sort=name",
         "last": "https://api.eliteprospects.com/v1/players?offset=0&limit=1000&apiKey=BbLo1zDgnGxebtMr0wJnLuaexEqibZ9R&name=Valeri+Nichushkin&dateOfBirth=1995-03-04&sort=name",
         "next": null,
         "prev": null
        },
        "_meta": {
         "generatedAt": "2023-03-21T04:26:42.821492Z",
         "limit": 1000,
         "offset": 0,
         "totalRecords": 1
        },
        "data": [
         {
          "_links": [
           "https://api.eliteprospects.com/v1/players/108661?apiKey=BbLo1zDgnGxebtMr0wJnLuaexEqibZ9R"
          ],
          "dateOfBirth": "1995-03-04",
          "firstName": "Valeri",
          "gender": "male",
          "id": 108661,
          "lastName": "Nichushkin",
          "name": "Valeri Nichushkin",
          "nationality": {
           "_links": [
            "https://api.eliteprospects.com/v1/countries/RUS?apiKey=BbLo1zDgnGxebtMr0wJnLuaexEqibZ9R"
           ],
           "name": "Russia",
           "slug": "RUS"
          },
          "playerType": "SKATER",
          "position": "F",
          "status": "active"
         }
        ]
       },
       {
        "_links": {
         "first": "https://api.eliteprospects.com/v1/players?offset=0&limit=1000&apiKey=BbLo1zDgnGxebtMr0wJnLuaexEqibZ9R&name=Samuel+Morin&dateOfBirth=1995-07-12&sort=name",
         "last": "https://api.eliteprospects.com/v1/players?offset=0&limit=1000&apiKey=BbLo1zDgnGxebtMr0wJnLuaexEqibZ9R&name=Samuel+Morin&dateOfBirth=1995-07-12&sort=name",
         "next": null,
         "prev": null
        },
        "_meta": {
         "generatedAt": "2023-03-21T04:26:43.103889Z",
         "limit": 1000,
         "offset": 0,
         "totalRecords": 1
        },
        "data": [
         {
          "_links": [
           "https://api.eliteprospects.com/v1/players/126391?apiKey=BbLo1zDgnGxebtMr0wJnLuaexEqibZ9R"
          ],
          "dateOfBirth": "1995-07-12",
          "firstName": "Samuel",
          "gender": "male",
          "id": 126391,
          "lastName": "Morin",
          "name": "Samuel Morin",
          "nationality": {
           "_links": [
            "https://api.eliteprospects.com/v1/countries/CAN?apiKey=BbLo1zDgnGxebtMr0wJnLuaexEqibZ9R"
           ],
           "name": "Canada",
           "slug": "CAN"
          },
          "playerType": "SKATER",
          "position": "D",
          "status": "retired"
         }
        ]
       },
       {
        "_links": {
         "first": "https://api.eliteprospects.com/v1/players?offset=0&limit=1000&apiKey=BbLo1zDgnGxebtMr0wJnLuaexEqibZ9R&name=Max+Domi&dateOfBirth=1995-03-02&sort=name",
         "last": "https://api.eliteprospects.com/v1/players?offset=0&limit=1000&apiKey=BbLo1zDgnGxebtMr0wJnLuaexEqibZ9R&name=Max+Domi&dateOfBirth=1995-03-02&sort=name",
         "next": null,
         "prev": null
        },
        "_meta": {
         "generatedAt": "2023-03-21T04:26:43.375928Z",
         "limit": 1000,
         "offset": 0,
         "totalRecords": 1
        },
        "data": [
         {
          "_links": [
           "https://api.eliteprospects.com/v1/players/95484?apiKey=BbLo1zDgnGxebtMr0wJnLuaexEqibZ9R"
          ],
          "dateOfBirth": "1995-03-02",
          "firstName": "Max",
          "gender": "male",
          "id": 95484,
          "lastName": "Domi",
          "name": "Max Domi",
          "nationality": {
           "_links": [
            "https://api.eliteprospects.com/v1/countries/CAN?apiKey=BbLo1zDgnGxebtMr0wJnLuaexEqibZ9R"
           ],
           "name": "Canada",
           "slug": "CAN"
          },
          "playerType": "SKATER",
          "position": "F",
          "status": "active"
         }
        ]
       },
       {
        "_links": {
         "first": "https://api.eliteprospects.com/v1/players?offset=0&limit=1000&apiKey=BbLo1zDgnGxebtMr0wJnLuaexEqibZ9R&name=Josh+Morrissey&dateOfBirth=1995-03-28&sort=name",
         "last": "https://api.eliteprospects.com/v1/players?offset=0&limit=1000&apiKey=BbLo1zDgnGxebtMr0wJnLuaexEqibZ9R&name=Josh+Morrissey&dateOfBirth=1995-03-28&sort=name",
         "next": null,
         "prev": null
        },
        "_meta": {
         "generatedAt": "2023-03-21T04:26:43.678220Z",
         "limit": 1000,
         "offset": 0,
         "totalRecords": 1
        },
        "data": [
         {
          "_links": [
           "https://api.eliteprospects.com/v1/players/62293?apiKey=BbLo1zDgnGxebtMr0wJnLuaexEqibZ9R"
          ],
          "dateOfBirth": "1995-03-28",
          "firstName": "Josh",
          "gender": "male",
          "id": 62293,
          "lastName": "Morrissey",
          "name": "Josh Morrissey",
          "nationality": {
           "_links": [
            "https://api.eliteprospects.com/v1/countries/CAN?apiKey=BbLo1zDgnGxebtMr0wJnLuaexEqibZ9R"
           ],
           "name": "Canada",
           "slug": "CAN"
          },
          "playerType": "SKATER",
          "position": "D",
          "status": "active"
         }
        ]
       },
       {
        "_links": {
         "first": "https://api.eliteprospects.com/v1/players?offset=0&limit=1000&apiKey=BbLo1zDgnGxebtMr0wJnLuaexEqibZ9R&name=Alex+Wennberg&dateOfBirth=1994-09-22&sort=name",
         "last": "https://api.eliteprospects.com/v1/players?offset=0&limit=1000&apiKey=BbLo1zDgnGxebtMr0wJnLuaexEqibZ9R&name=Alex+Wennberg&dateOfBirth=1994-09-22&sort=name",
         "next": null,
         "prev": null
        },
        "_meta": {
         "generatedAt": "2023-03-21T04:26:43.961908Z",
         "limit": 1000,
         "offset": 0,
         "totalRecords": 1
        },
        "data": [
         {
          "_links": [
           "https://api.eliteprospects.com/v1/players/37041?apiKey=BbLo1zDgnGxebtMr0wJnLuaexEqibZ9R"
          ],
          "dateOfBirth": "1994-09-22",
          "firstName": "Alexander",
          "gender": "male",
          "id": 37041,
          "lastName": "Wennberg",
          "name": "Alexander Wennberg",
          "nationality": {
           "_links": [
            "https://api.eliteprospects.com/v1/countries/SWE?apiKey=BbLo1zDgnGxebtMr0wJnLuaexEqibZ9R"
           ],
           "name": "Sweden",
           "slug": "SWE"
          },
          "playerType": "SKATER",
          "position": "F",
          "status": "active"
         }
        ]
       },
       {
        "_links": {
         "first": "https://api.eliteprospects.com/v1/players?offset=0&limit=1000&apiKey=BbLo1zDgnGxebtMr0wJnLuaexEqibZ9R&name=Ryan+Pulock&dateOfBirth=1994-10-06&sort=name",
         "last": "https://api.eliteprospects.com/v1/players?offset=0&limit=1000&apiKey=BbLo1zDgnGxebtMr0wJnLuaexEqibZ9R&name=Ryan+Pulock&dateOfBirth=1994-10-06&sort=name",
         "next": null,
         "prev": null
        },
        "_meta": {
         "generatedAt": "2023-03-21T04:26:44.246612Z",
         "limit": 1000,
         "offset": 0,
         "totalRecords": 1
        },
        "data": [
         {
          "_links": [
           "https://api.eliteprospects.com/v1/players/86761?apiKey=BbLo1zDgnGxebtMr0wJnLuaexEqibZ9R"
          ],
          "dateOfBirth": "1994-10-06",
          "firstName": "Ryan",
          "gender": "male",
          "id": 86761,
          "lastName": "Pulock",
          "name": "Ryan Pulock",
          "nationality": {
           "_links": [
            "https://api.eliteprospects.com/v1/countries/CAN?apiKey=BbLo1zDgnGxebtMr0wJnLuaexEqibZ9R"
           ],
           "name": "Canada",
           "slug": "CAN"
          },
          "playerType": "SKATER",
          "position": "D",
          "status": "active"
         }
        ]
       },
       {
        "_links": {
         "first": "https://api.eliteprospects.com/v1/players?offset=0&limit=1000&apiKey=BbLo1zDgnGxebtMr0wJnLuaexEqibZ9R&name=Nikita+Zadorov&dateOfBirth=1995-04-16&sort=name",
         "last": "https://api.eliteprospects.com/v1/players?offset=0&limit=1000&apiKey=BbLo1zDgnGxebtMr0wJnLuaexEqibZ9R&name=Nikita+Zadorov&dateOfBirth=1995-04-16&sort=name",
         "next": null,
         "prev": null
        },
        "_meta": {
         "generatedAt": "2023-03-21T04:26:44.498306Z",
         "limit": 1000,
         "offset": 0,
         "totalRecords": 1
        },
        "data": [
         {
          "_links": [
           "https://api.eliteprospects.com/v1/players/108648?apiKey=BbLo1zDgnGxebtMr0wJnLuaexEqibZ9R"
          ],
          "dateOfBirth": "1995-04-16",
          "firstName": "Nikita",
          "gender": "male",
          "id": 108648,
          "lastName": "Zadorov",
          "name": "Nikita Zadorov",
          "nationality": {
           "_links": [
            "https://api.eliteprospects.com/v1/countries/RUS?apiKey=BbLo1zDgnGxebtMr0wJnLuaexEqibZ9R"
           ],
           "name": "Russia",
           "slug": "RUS"
          },
          "playerType": "SKATER",
          "position": "D",
          "status": "active"
         }
        ]
       },
       {
        "_links": {
         "first": "https://api.eliteprospects.com/v1/players?offset=0&limit=1000&apiKey=BbLo1zDgnGxebtMr0wJnLuaexEqibZ9R&name=Curtis+Lazar&dateOfBirth=1995-02-02&sort=name",
         "last": "https://api.eliteprospects.com/v1/players?offset=0&limit=1000&apiKey=BbLo1zDgnGxebtMr0wJnLuaexEqibZ9R&name=Curtis+Lazar&dateOfBirth=1995-02-02&sort=name",
         "next": null,
         "prev": null
        },
        "_meta": {
         "generatedAt": "2023-03-21T04:26:44.825701Z",
         "limit": 1000,
         "offset": 0,
         "totalRecords": 1
        },
        "data": [
         {
          "_links": [
           "https://api.eliteprospects.com/v1/players/81116?apiKey=BbLo1zDgnGxebtMr0wJnLuaexEqibZ9R"
          ],
          "dateOfBirth": "1995-02-02",
          "firstName": "Curtis",
          "gender": "male",
          "id": 81116,
          "lastName": "Lazar",
          "name": "Curtis Lazar",
          "nationality": {
           "_links": [
            "https://api.eliteprospects.com/v1/countries/CAN?apiKey=BbLo1zDgnGxebtMr0wJnLuaexEqibZ9R"
           ],
           "name": "Canada",
           "slug": "CAN"
          },
          "playerType": "SKATER",
          "position": "F",
          "status": "active"
         }
        ]
       },
       {
        "_links": {
         "first": "https://api.eliteprospects.com/v1/players?offset=0&limit=1000&apiKey=BbLo1zDgnGxebtMr0wJnLuaexEqibZ9R&name=Mirco+Mueller&dateOfBirth=1995-03-21&sort=name",
         "last": "https://api.eliteprospects.com/v1/players?offset=0&limit=1000&apiKey=BbLo1zDgnGxebtMr0wJnLuaexEqibZ9R&name=Mirco+Mueller&dateOfBirth=1995-03-21&sort=name",
         "next": null,
         "prev": null
        },
        "_meta": {
         "generatedAt": "2023-03-21T04:26:45.150718Z",
         "limit": 1000,
         "offset": 0,
         "totalRecords": 1
        },
        "data": [
         {
          "_links": [
           "https://api.eliteprospects.com/v1/players/95044?apiKey=BbLo1zDgnGxebtMr0wJnLuaexEqibZ9R"
          ],
          "dateOfBirth": "1995-03-21",
          "firstName": "Mirco",
          "gender": "male",
          "id": 95044,
          "lastName": "Müller",
          "name": "Mirco Müller",
          "nationality": {
           "_links": [
            "https://api.eliteprospects.com/v1/countries/CHE?apiKey=BbLo1zDgnGxebtMr0wJnLuaexEqibZ9R"
           ],
           "name": "Switzerland",
           "slug": "CHE"
          },
          "playerType": "SKATER",
          "position": "D",
          "status": "active"
         }
        ]
       },
       {
        "_links": {
         "first": "https://api.eliteprospects.com/v1/players?offset=0&limit=1000&apiKey=BbLo1zDgnGxebtMr0wJnLuaexEqibZ9R&name=Kerby+Rychel&dateOfBirth=1994-10-07&sort=name",
         "last": "https://api.eliteprospects.com/v1/players?offset=0&limit=1000&apiKey=BbLo1zDgnGxebtMr0wJnLuaexEqibZ9R&name=Kerby+Rychel&dateOfBirth=1994-10-07&sort=name",
         "next": null,
         "prev": null
        },
        "_meta": {
         "generatedAt": "2023-03-21T04:26:45.489492Z",
         "limit": 1000,
         "offset": 0,
         "totalRecords": 1
        },
        "data": [
         {
          "_links": [
           "https://api.eliteprospects.com/v1/players/82918?apiKey=BbLo1zDgnGxebtMr0wJnLuaexEqibZ9R"
          ],
          "dateOfBirth": "1994-10-07",
          "firstName": "Kerby",
          "gender": "male",
          "id": 82918,
          "lastName": "Rychel",
          "name": "Kerby Rychel",
          "nationality": {
           "_links": [
            "https://api.eliteprospects.com/v1/countries/CAN?apiKey=BbLo1zDgnGxebtMr0wJnLuaexEqibZ9R"
           ],
           "name": "Canada",
           "slug": "CAN"
          },
          "playerType": "SKATER",
          "position": "F",
          "status": "active"
         }
        ]
       },
       {
        "_links": {
         "first": "https://api.eliteprospects.com/v1/players?offset=0&limit=1000&apiKey=BbLo1zDgnGxebtMr0wJnLuaexEqibZ9R&name=Anthony+Mantha&dateOfBirth=1994-09-16&sort=name",
         "last": "https://api.eliteprospects.com/v1/players?offset=0&limit=1000&apiKey=BbLo1zDgnGxebtMr0wJnLuaexEqibZ9R&name=Anthony+Mantha&dateOfBirth=1994-09-16&sort=name",
         "next": null,
         "prev": null
        },
        "_meta": {
         "generatedAt": "2023-03-21T04:26:45.896458Z",
         "limit": 1000,
         "offset": 0,
         "totalRecords": 1
        },
        "data": [
         {
          "_links": [
           "https://api.eliteprospects.com/v1/players/104045?apiKey=BbLo1zDgnGxebtMr0wJnLuaexEqibZ9R"
          ],
          "dateOfBirth": "1994-09-16",
          "firstName": "Anthony",
          "gender": "male",
          "id": 104045,
          "lastName": "Mantha",
          "name": "Anthony Mantha",
          "nationality": {
           "_links": [
            "https://api.eliteprospects.com/v1/countries/CAN?apiKey=BbLo1zDgnGxebtMr0wJnLuaexEqibZ9R"
           ],
           "name": "Canada",
           "slug": "CAN"
          },
          "playerType": "SKATER",
          "position": "F",
          "status": "active"
         }
        ]
       },
       {
        "_links": {
         "first": "https://api.eliteprospects.com/v1/players?offset=0&limit=1000&apiKey=BbLo1zDgnGxebtMr0wJnLuaexEqibZ9R&name=Frederik+Gauthier&dateOfBirth=1995-04-26&sort=name",
         "last": "https://api.eliteprospects.com/v1/players?offset=0&limit=1000&apiKey=BbLo1zDgnGxebtMr0wJnLuaexEqibZ9R&name=Frederik+Gauthier&dateOfBirth=1995-04-26&sort=name",
         "next": null,
         "prev": null
        },
        "_meta": {
         "generatedAt": "2023-03-21T04:26:46.204808Z",
         "limit": 1000,
         "offset": 0,
         "totalRecords": 1
        },
        "data": [
         {
          "_links": [
           "https://api.eliteprospects.com/v1/players/128500?apiKey=BbLo1zDgnGxebtMr0wJnLuaexEqibZ9R"
          ],
          "dateOfBirth": "1995-04-26",
          "firstName": "Frédérik",
          "gender": "male",
          "id": 128500,
          "lastName": "Gauthier",
          "name": "Frédérik Gauthier",
          "nationality": {
           "_links": [
            "https://api.eliteprospects.com/v1/countries/CAN?apiKey=BbLo1zDgnGxebtMr0wJnLuaexEqibZ9R"
           ],
           "name": "Canada",
           "slug": "CAN"
          },
          "playerType": "SKATER",
          "position": "F",
          "status": "active"
         }
        ]
       },
       {
        "_links": {
         "first": "https://api.eliteprospects.com/v1/players?offset=0&limit=1000&apiKey=BbLo1zDgnGxebtMr0wJnLuaexEqibZ9R&name=Emile+Poirier&dateOfBirth=1994-12-14&sort=name",
         "last": "https://api.eliteprospects.com/v1/players?offset=0&limit=1000&apiKey=BbLo1zDgnGxebtMr0wJnLuaexEqibZ9R&name=Emile+Poirier&dateOfBirth=1994-12-14&sort=name",
         "next": null,
         "prev": null
        },
        "_meta": {
         "generatedAt": "2023-03-21T04:26:46.543085Z",
         "limit": 1000,
         "offset": 0,
         "totalRecords": 1
        },
        "data": [
         {
          "_links": [
           "https://api.eliteprospects.com/v1/players/128977?apiKey=BbLo1zDgnGxebtMr0wJnLuaexEqibZ9R"
          ],
          "dateOfBirth": "1994-12-14",
          "firstName": "Émile",
          "gender": "male",
          "id": 128977,
          "lastName": "Poirier",
          "name": "Émile Poirier",
          "nationality": {
           "_links": [
            "https://api.eliteprospects.com/v1/countries/CAN?apiKey=BbLo1zDgnGxebtMr0wJnLuaexEqibZ9R"
           ],
           "name": "Canada",
           "slug": "CAN"
          },
          "playerType": "SKATER",
          "position": "F",
          "status": "active"
         }
        ]
       },
       {
        "_links": {
         "first": "https://api.eliteprospects.com/v1/players?offset=0&limit=1000&apiKey=BbLo1zDgnGxebtMr0wJnLuaexEqibZ9R&name=Andre+Burakovsky&dateOfBirth=1995-02-09&sort=name",
         "last": "https://api.eliteprospects.com/v1/players?offset=0&limit=1000&apiKey=BbLo1zDgnGxebtMr0wJnLuaexEqibZ9R&name=Andre+Burakovsky&dateOfBirth=1995-02-09&sort=name",
         "next": null,
         "prev": null
        },
        "_meta": {
         "generatedAt": "2023-03-21T04:26:46.841027Z",
         "limit": 1000,
         "offset": 0,
         "totalRecords": 1
        },
        "data": [
         {
          "_links": [
           "https://api.eliteprospects.com/v1/players/38705?apiKey=BbLo1zDgnGxebtMr0wJnLuaexEqibZ9R"
          ],
          "dateOfBirth": "1995-02-09",
          "firstName": "André",
          "gender": "male",
          "id": 38705,
          "lastName": "Burakovsky",
          "name": "André Burakovsky",
          "nationality": {
           "_links": [
            "https://api.eliteprospects.com/v1/countries/SWE?apiKey=BbLo1zDgnGxebtMr0wJnLuaexEqibZ9R"
           ],
           "name": "Sweden",
           "slug": "SWE"
          },
          "playerType": "SKATER",
          "position": "F",
          "status": "active"
         }
        ]
       },
       {
        "_links": {
         "first": "https://api.eliteprospects.com/v1/players?offset=0&limit=1000&apiKey=BbLo1zDgnGxebtMr0wJnLuaexEqibZ9R&name=Hunter+Shinkaruk&dateOfBirth=1994-10-13&sort=name",
         "last": "https://api.eliteprospects.com/v1/players?offset=0&limit=1000&apiKey=BbLo1zDgnGxebtMr0wJnLuaexEqibZ9R&name=Hunter+Shinkaruk&dateOfBirth=1994-10-13&sort=name",
         "next": null,
         "prev": null
        },
        "_meta": {
         "generatedAt": "2023-03-21T04:26:47.163209Z",
         "limit": 1000,
         "offset": 0,
         "totalRecords": 1
        },
        "data": [
         {
          "_links": [
           "https://api.eliteprospects.com/v1/players/52391?apiKey=BbLo1zDgnGxebtMr0wJnLuaexEqibZ9R"
          ],
          "dateOfBirth": "1994-10-13",
          "firstName": "Hunter",
          "gender": "male",
          "id": 52391,
          "lastName": "Shinkaruk",
          "name": "Hunter Shinkaruk",
          "nationality": {
           "_links": [
            "https://api.eliteprospects.com/v1/countries/CAN?apiKey=BbLo1zDgnGxebtMr0wJnLuaexEqibZ9R"
           ],
           "name": "Canada",
           "slug": "CAN"
          },
          "playerType": "SKATER",
          "position": "F",
          "status": "active"
         }
        ]
       },
       {
        "_links": {
         "first": "https://api.eliteprospects.com/v1/players?offset=0&limit=1000&apiKey=BbLo1zDgnGxebtMr0wJnLuaexEqibZ9R&name=Michael+Mccarron&dateOfBirth=1995-03-07&sort=name",
         "last": "https://api.eliteprospects.com/v1/players?offset=0&limit=1000&apiKey=BbLo1zDgnGxebtMr0wJnLuaexEqibZ9R&name=Michael+Mccarron&dateOfBirth=1995-03-07&sort=name",
         "next": null,
         "prev": null
        },
        "_meta": {
         "generatedAt": "2023-03-21T04:26:47.447447Z",
         "limit": 1000,
         "offset": 0,
         "totalRecords": 1
        },
        "data": [
         {
          "_links": [
           "https://api.eliteprospects.com/v1/players/135703?apiKey=BbLo1zDgnGxebtMr0wJnLuaexEqibZ9R"
          ],
          "dateOfBirth": "1995-03-07",
          "firstName": "Michael",
          "gender": "male",
          "id": 135703,
          "lastName": "McCarron",
          "name": "Michael McCarron",
          "nationality": {
           "_links": [
            "https://api.eliteprospects.com/v1/countries/USA?apiKey=BbLo1zDgnGxebtMr0wJnLuaexEqibZ9R"
           ],
           "name": "USA",
           "slug": "USA"
          },
          "playerType": "SKATER",
          "position": "F",
          "status": "active"
         }
        ]
       },
       {
        "_links": {
         "first": "https://api.eliteprospects.com/v1/players?offset=0&limit=1000&apiKey=BbLo1zDgnGxebtMr0wJnLuaexEqibZ9R&name=Shea+Theodore&dateOfBirth=1995-08-03&sort=name",
         "last": "https://api.eliteprospects.com/v1/players?offset=0&limit=1000&apiKey=BbLo1zDgnGxebtMr0wJnLuaexEqibZ9R&name=Shea+Theodore&dateOfBirth=1995-08-03&sort=name",
         "next": null,
         "prev": null
        },
        "_meta": {
         "generatedAt": "2023-03-21T04:26:47.864470Z",
         "limit": 1000,
         "offset": 0,
         "totalRecords": 1
        },
        "data": [
         {
          "_links": [
           "https://api.eliteprospects.com/v1/players/101581?apiKey=BbLo1zDgnGxebtMr0wJnLuaexEqibZ9R"
          ],
          "dateOfBirth": "1995-08-03",
          "firstName": "Shea",
          "gender": "male",
          "id": 101581,
          "lastName": "Theodore",
          "name": "Shea Theodore",
          "nationality": {
           "_links": [
            "https://api.eliteprospects.com/v1/countries/CAN?apiKey=BbLo1zDgnGxebtMr0wJnLuaexEqibZ9R"
           ],
           "name": "Canada",
           "slug": "CAN"
          },
          "playerType": "SKATER",
          "position": "D",
          "status": "active"
         }
        ]
       },
       {
        "_links": {
         "first": "https://api.eliteprospects.com/v1/players?offset=0&limit=1000&apiKey=BbLo1zDgnGxebtMr0wJnLuaexEqibZ9R&name=Marko+Dano&dateOfBirth=1994-11-30&sort=name",
         "last": "https://api.eliteprospects.com/v1/players?offset=0&limit=1000&apiKey=BbLo1zDgnGxebtMr0wJnLuaexEqibZ9R&name=Marko+Dano&dateOfBirth=1994-11-30&sort=name",
         "next": null,
         "prev": null
        },
        "_meta": {
         "generatedAt": "2023-03-21T04:26:48.233885Z",
         "limit": 1000,
         "offset": 0,
         "totalRecords": 1
        },
        "data": [
         {
          "_links": [
           "https://api.eliteprospects.com/v1/players/94946?apiKey=BbLo1zDgnGxebtMr0wJnLuaexEqibZ9R"
          ],
          "dateOfBirth": "1994-11-30",
          "firstName": "Marko",
          "gender": "male",
          "id": 94946,
          "lastName": "Dano",
          "name": "Marko Dano",
          "nationality": {
           "_links": [
            "https://api.eliteprospects.com/v1/countries/SVK?apiKey=BbLo1zDgnGxebtMr0wJnLuaexEqibZ9R"
           ],
           "name": "Slovakia",
           "slug": "SVK"
          },
          "playerType": "SKATER",
          "position": "F",
          "status": "active"
         }
        ]
       },
       {
        "_links": {
         "first": "https://api.eliteprospects.com/v1/players?offset=0&limit=1000&apiKey=BbLo1zDgnGxebtMr0wJnLuaexEqibZ9R&name=Morgan+Klimchuk&dateOfBirth=1995-03-02&sort=name",
         "last": "https://api.eliteprospects.com/v1/players?offset=0&limit=1000&apiKey=BbLo1zDgnGxebtMr0wJnLuaexEqibZ9R&name=Morgan+Klimchuk&dateOfBirth=1995-03-02&sort=name",
         "next": null,
         "prev": null
        },
        "_meta": {
         "generatedAt": "2023-03-21T04:26:48.656943Z",
         "limit": 1000,
         "offset": 0,
         "totalRecords": 1
        },
        "data": [
         {
          "_links": [
           "https://api.eliteprospects.com/v1/players/62209?apiKey=BbLo1zDgnGxebtMr0wJnLuaexEqibZ9R"
          ],
          "dateOfBirth": "1995-03-02",
          "firstName": "Morgan",
          "gender": "male",
          "id": 62209,
          "lastName": "Klimchuk",
          "name": "Morgan Klimchuk",
          "nationality": {
           "_links": [
            "https://api.eliteprospects.com/v1/countries/CAN?apiKey=BbLo1zDgnGxebtMr0wJnLuaexEqibZ9R"
           ],
           "name": "Canada",
           "slug": "CAN"
          },
          "playerType": "SKATER",
          "position": "F",
          "status": "retired"
         }
        ]
       },
       {
        "_links": {
         "first": "https://api.eliteprospects.com/v1/players?offset=0&limit=1000&apiKey=BbLo1zDgnGxebtMr0wJnLuaexEqibZ9R&name=Jason+Dickinson&dateOfBirth=1995-07-04&sort=name",
         "last": "https://api.eliteprospects.com/v1/players?offset=0&limit=1000&apiKey=BbLo1zDgnGxebtMr0wJnLuaexEqibZ9R&name=Jason+Dickinson&dateOfBirth=1995-07-04&sort=name",
         "next": null,
         "prev": null
        },
        "_meta": {
         "generatedAt": "2023-03-21T04:26:48.948841Z",
         "limit": 1000,
         "offset": 0,
         "totalRecords": 1
        },
        "data": [
         {
          "_links": [
           "https://api.eliteprospects.com/v1/players/117018?apiKey=BbLo1zDgnGxebtMr0wJnLuaexEqibZ9R"
          ],
          "dateOfBirth": "1995-07-04",
          "firstName": "Jason",
          "gender": "male",
          "id": 117018,
          "lastName": "Dickinson",
          "name": "Jason Dickinson",
          "nationality": {
           "_links": [
            "https://api.eliteprospects.com/v1/countries/CAN?apiKey=BbLo1zDgnGxebtMr0wJnLuaexEqibZ9R"
           ],
           "name": "Canada",
           "slug": "CAN"
          },
          "playerType": "SKATER",
          "position": "F",
          "status": "active"
         }
        ]
       },
       {
        "_links": {
         "first": "https://api.eliteprospects.com/v1/players?offset=0&limit=1000&apiKey=BbLo1zDgnGxebtMr0wJnLuaexEqibZ9R&name=Ryan+Hartman&dateOfBirth=1994-09-20&sort=name",
         "last": "https://api.eliteprospects.com/v1/players?offset=0&limit=1000&apiKey=BbLo1zDgnGxebtMr0wJnLuaexEqibZ9R&name=Ryan+Hartman&dateOfBirth=1994-09-20&sort=name",
         "next": null,
         "prev": null
        },
        "_meta": {
         "generatedAt": "2023-03-21T04:26:49.244279Z",
         "limit": 1000,
         "offset": 0,
         "totalRecords": 1
        },
        "data": [
         {
          "_links": [
           "https://api.eliteprospects.com/v1/players/90345?apiKey=BbLo1zDgnGxebtMr0wJnLuaexEqibZ9R"
          ],
          "dateOfBirth": "1994-09-20",
          "firstName": "Ryan",
          "gender": "male",
          "id": 90345,
          "lastName": "Hartman",
          "name": "Ryan Hartman",
          "nationality": {
           "_links": [
            "https://api.eliteprospects.com/v1/countries/USA?apiKey=BbLo1zDgnGxebtMr0wJnLuaexEqibZ9R"
           ],
           "name": "USA",
           "slug": "USA"
          },
          "playerType": "SKATER",
          "position": "F",
          "status": "active"
         }
        ]
       },
       {
        "_links": {
         "first": "https://api.eliteprospects.com/v1/players?offset=0&limit=1000&apiKey=BbLo1zDgnGxebtMr0wJnLuaexEqibZ9R&name=Aaron+Ekblad&dateOfBirth=1996-02-07&sort=name",
         "last": "https://api.eliteprospects.com/v1/players?offset=0&limit=1000&apiKey=BbLo1zDgnGxebtMr0wJnLuaexEqibZ9R&name=Aaron+Ekblad&dateOfBirth=1996-02-07&sort=name",
         "next": null,
         "prev": null
        },
        "_meta": {
         "generatedAt": "2023-03-21T04:26:49.527411Z",
         "limit": 1000,
         "offset": 0,
         "totalRecords": 1
        },
        "data": [
         {
          "_links": [
           "https://api.eliteprospects.com/v1/players/49042?apiKey=BbLo1zDgnGxebtMr0wJnLuaexEqibZ9R"
          ],
          "dateOfBirth": "1996-02-07",
          "firstName": "Aaron",
          "gender": "male",
          "id": 49042,
          "lastName": "Ekblad",
          "name": "Aaron Ekblad",
          "nationality": {
           "_links": [
            "https://api.eliteprospects.com/v1/countries/CAN?apiKey=BbLo1zDgnGxebtMr0wJnLuaexEqibZ9R"
           ],
           "name": "Canada",
           "slug": "CAN"
          },
          "playerType": "SKATER",
          "position": "D",
          "status": "active"
         }
        ]
       },
       {
        "_links": {
         "first": "https://api.eliteprospects.com/v1/players?offset=0&limit=1000&apiKey=BbLo1zDgnGxebtMr0wJnLuaexEqibZ9R&name=Sam+Reinhart&dateOfBirth=1995-11-06&sort=name",
         "last": "https://api.eliteprospects.com/v1/players?offset=0&limit=1000&apiKey=BbLo1zDgnGxebtMr0wJnLuaexEqibZ9R&name=Sam+Reinhart&dateOfBirth=1995-11-06&sort=name",
         "next": null,
         "prev": null
        },
        "_meta": {
         "generatedAt": "2023-03-21T04:26:49.918222Z",
         "limit": 1000,
         "offset": 0,
         "totalRecords": 1
        },
        "data": [
         {
          "_links": [
           "https://api.eliteprospects.com/v1/players/95032?apiKey=BbLo1zDgnGxebtMr0wJnLuaexEqibZ9R"
          ],
          "dateOfBirth": "1995-11-06",
          "firstName": "Sam",
          "gender": "male",
          "id": 95032,
          "lastName": "Reinhart",
          "name": "Sam Reinhart",
          "nationality": {
           "_links": [
            "https://api.eliteprospects.com/v1/countries/CAN?apiKey=BbLo1zDgnGxebtMr0wJnLuaexEqibZ9R"
           ],
           "name": "Canada",
           "slug": "CAN"
          },
          "playerType": "SKATER",
          "position": "F",
          "status": "active"
         }
        ]
       },
       {
        "_links": {
         "first": "https://api.eliteprospects.com/v1/players?offset=0&limit=1000&apiKey=BbLo1zDgnGxebtMr0wJnLuaexEqibZ9R&name=Leon+Draisaitl&dateOfBirth=1995-10-27&sort=name",
         "last": "https://api.eliteprospects.com/v1/players?offset=0&limit=1000&apiKey=BbLo1zDgnGxebtMr0wJnLuaexEqibZ9R&name=Leon+Draisaitl&dateOfBirth=1995-10-27&sort=name",
         "next": null,
         "prev": null
        },
        "_meta": {
         "generatedAt": "2023-03-21T04:26:50.932385Z",
         "limit": 1000,
         "offset": 0,
         "totalRecords": 1
        },
        "data": [
         {
          "_links": [
           "https://api.eliteprospects.com/v1/players/71913?apiKey=BbLo1zDgnGxebtMr0wJnLuaexEqibZ9R"
          ],
          "dateOfBirth": "1995-10-27",
          "firstName": "Leon",
          "gender": "male",
          "id": 71913,
          "lastName": "Draisaitl",
          "name": "Leon Draisaitl",
          "nationality": {
           "_links": [
            "https://api.eliteprospects.com/v1/countries/DEU?apiKey=BbLo1zDgnGxebtMr0wJnLuaexEqibZ9R"
           ],
           "name": "Germany",
           "slug": "DEU"
          },
          "playerType": "SKATER",
          "position": "F",
          "status": "active"
         }
        ]
       },
       {
        "_links": {
         "first": "https://api.eliteprospects.com/v1/players?offset=0&limit=1000&apiKey=BbLo1zDgnGxebtMr0wJnLuaexEqibZ9R&name=Sam+Bennett&dateOfBirth=1996-06-20&sort=name",
         "last": "https://api.eliteprospects.com/v1/players?offset=0&limit=1000&apiKey=BbLo1zDgnGxebtMr0wJnLuaexEqibZ9R&name=Sam+Bennett&dateOfBirth=1996-06-20&sort=name",
         "next": null,
         "prev": null
        },
        "_meta": {
         "generatedAt": "2023-03-21T04:26:51.837983Z",
         "limit": 1000,
         "offset": 0,
         "totalRecords": 1
        },
        "data": [
         {
          "_links": [
           "https://api.eliteprospects.com/v1/players/189371?apiKey=BbLo1zDgnGxebtMr0wJnLuaexEqibZ9R"
          ],
          "dateOfBirth": "1996-06-20",
          "firstName": "Sam",
          "gender": "male",
          "id": 189371,
          "lastName": "Bennett",
          "name": "Sam Bennett",
          "nationality": {
           "_links": [
            "https://api.eliteprospects.com/v1/countries/CAN?apiKey=BbLo1zDgnGxebtMr0wJnLuaexEqibZ9R"
           ],
           "name": "Canada",
           "slug": "CAN"
          },
          "playerType": "SKATER",
          "position": "F",
          "status": "active"
         }
        ]
       },
       {
        "_links": {
         "first": "https://api.eliteprospects.com/v1/players?offset=0&limit=1000&apiKey=BbLo1zDgnGxebtMr0wJnLuaexEqibZ9R&name=Michael+Dal+Colle&dateOfBirth=1996-06-20&sort=name",
         "last": "https://api.eliteprospects.com/v1/players?offset=0&limit=1000&apiKey=BbLo1zDgnGxebtMr0wJnLuaexEqibZ9R&name=Michael+Dal+Colle&dateOfBirth=1996-06-20&sort=name",
         "next": null,
         "prev": null
        },
        "_meta": {
         "generatedAt": "2023-03-21T04:26:52.290320Z",
         "limit": 1000,
         "offset": 0,
         "totalRecords": 1
        },
        "data": [
         {
          "_links": [
           "https://api.eliteprospects.com/v1/players/152047?apiKey=BbLo1zDgnGxebtMr0wJnLuaexEqibZ9R"
          ],
          "dateOfBirth": "1996-06-20",
          "firstName": "Michael",
          "gender": "male",
          "id": 152047,
          "lastName": "Dal Colle",
          "name": "Michael Dal Colle",
          "nationality": {
           "_links": [
            "https://api.eliteprospects.com/v1/countries/CAN?apiKey=BbLo1zDgnGxebtMr0wJnLuaexEqibZ9R"
           ],
           "name": "Canada",
           "slug": "CAN"
          },
          "playerType": "SKATER",
          "position": "F",
          "status": "active"
         }
        ]
       },
       {
        "_links": {
         "first": "https://api.eliteprospects.com/v1/players?offset=0&limit=1000&apiKey=BbLo1zDgnGxebtMr0wJnLuaexEqibZ9R&name=Jake+Virtanen&dateOfBirth=1996-08-17&sort=name",
         "last": "https://api.eliteprospects.com/v1/players?offset=0&limit=1000&apiKey=BbLo1zDgnGxebtMr0wJnLuaexEqibZ9R&name=Jake+Virtanen&dateOfBirth=1996-08-17&sort=name",
         "next": null,
         "prev": null
        },
        "_meta": {
         "generatedAt": "2023-03-21T04:26:52.593597Z",
         "limit": 1000,
         "offset": 0,
         "totalRecords": 1
        },
        "data": [
         {
          "_links": [
           "https://api.eliteprospects.com/v1/players/120197?apiKey=BbLo1zDgnGxebtMr0wJnLuaexEqibZ9R"
          ],
          "dateOfBirth": "1996-08-17",
          "firstName": "Jake",
          "gender": "male",
          "id": 120197,
          "lastName": "Virtanen",
          "name": "Jake Virtanen",
          "nationality": {
           "_links": [
            "https://api.eliteprospects.com/v1/countries/CAN?apiKey=BbLo1zDgnGxebtMr0wJnLuaexEqibZ9R"
           ],
           "name": "Canada",
           "slug": "CAN"
          },
          "playerType": "SKATER",
          "position": "F",
          "status": "active"
         }
        ]
       },
       {
        "_links": {
         "first": "https://api.eliteprospects.com/v1/players?offset=0&limit=1000&apiKey=BbLo1zDgnGxebtMr0wJnLuaexEqibZ9R&name=Haydn+Fleury&dateOfBirth=1996-07-08&sort=name",
         "last": "https://api.eliteprospects.com/v1/players?offset=0&limit=1000&apiKey=BbLo1zDgnGxebtMr0wJnLuaexEqibZ9R&name=Haydn+Fleury&dateOfBirth=1996-07-08&sort=name",
         "next": null,
         "prev": null
        },
        "_meta": {
         "generatedAt": "2023-03-21T04:26:52.911062Z",
         "limit": 1000,
         "offset": 0,
         "totalRecords": 1
        },
        "data": [
         {
          "_links": [
           "https://api.eliteprospects.com/v1/players/119392?apiKey=BbLo1zDgnGxebtMr0wJnLuaexEqibZ9R"
          ],
          "dateOfBirth": "1996-07-08",
          "firstName": "Haydn",
          "gender": "male",
          "id": 119392,
          "lastName": "Fleury",
          "name": "Haydn Fleury",
          "nationality": {
           "_links": [
            "https://api.eliteprospects.com/v1/countries/CAN?apiKey=BbLo1zDgnGxebtMr0wJnLuaexEqibZ9R"
           ],
           "name": "Canada",
           "slug": "CAN"
          },
          "playerType": "SKATER",
          "position": "D",
          "status": "active"
         }
        ]
       },
       {
        "_links": {
         "first": "https://api.eliteprospects.com/v1/players?offset=0&limit=1000&apiKey=BbLo1zDgnGxebtMr0wJnLuaexEqibZ9R&name=William+Nylander&dateOfBirth=1996-05-01&sort=name",
         "last": "https://api.eliteprospects.com/v1/players?offset=0&limit=1000&apiKey=BbLo1zDgnGxebtMr0wJnLuaexEqibZ9R&name=William+Nylander&dateOfBirth=1996-05-01&sort=name",
         "next": null,
         "prev": null
        },
        "_meta": {
         "generatedAt": "2023-03-21T04:26:53.211500Z",
         "limit": 1000,
         "offset": 0,
         "totalRecords": 1
        },
        "data": [
         {
          "_links": [
           "https://api.eliteprospects.com/v1/players/38703?apiKey=BbLo1zDgnGxebtMr0wJnLuaexEqibZ9R"
          ],
          "dateOfBirth": "1996-05-01",
          "firstName": "William",
          "gender": "male",
          "id": 38703,
          "lastName": "Nylander",
          "name": "William Nylander",
          "nationality": {
           "_links": [
            "https://api.eliteprospects.com/v1/countries/SWE?apiKey=BbLo1zDgnGxebtMr0wJnLuaexEqibZ9R"
           ],
           "name": "Sweden",
           "slug": "SWE"
          },
          "playerType": "SKATER",
          "position": "F",
          "status": "active"
         }
        ]
       },
       {
        "_links": {
         "first": "https://api.eliteprospects.com/v1/players?offset=0&limit=1000&apiKey=BbLo1zDgnGxebtMr0wJnLuaexEqibZ9R&name=Nikolaj+Ehlers&dateOfBirth=1996-02-14&sort=name",
         "last": "https://api.eliteprospects.com/v1/players?offset=0&limit=1000&apiKey=BbLo1zDgnGxebtMr0wJnLuaexEqibZ9R&name=Nikolaj+Ehlers&dateOfBirth=1996-02-14&sort=name",
         "next": null,
         "prev": null
        },
        "_meta": {
         "generatedAt": "2023-03-21T04:26:53.617495Z",
         "limit": 1000,
         "offset": 0,
         "totalRecords": 1
        },
        "data": [
         {
          "_links": [
           "https://api.eliteprospects.com/v1/players/66581?apiKey=BbLo1zDgnGxebtMr0wJnLuaexEqibZ9R"
          ],
          "dateOfBirth": "1996-02-14",
          "firstName": "Nikolaj",
          "gender": "male",
          "id": 66581,
          "lastName": "Ehlers",
          "name": "Nikolaj Ehlers",
          "nationality": {
           "_links": [
            "https://api.eliteprospects.com/v1/countries/DNK?apiKey=BbLo1zDgnGxebtMr0wJnLuaexEqibZ9R"
           ],
           "name": "Denmark",
           "slug": "DNK"
          },
          "playerType": "SKATER",
          "position": "F",
          "status": "active"
         }
        ]
       },
       {
        "_links": {
         "first": "https://api.eliteprospects.com/v1/players?offset=0&limit=1000&apiKey=BbLo1zDgnGxebtMr0wJnLuaexEqibZ9R&name=Nick+Ritchie&dateOfBirth=1995-12-05&sort=name",
         "last": "https://api.eliteprospects.com/v1/players?offset=0&limit=1000&apiKey=BbLo1zDgnGxebtMr0wJnLuaexEqibZ9R&name=Nick+Ritchie&dateOfBirth=1995-12-05&sort=name",
         "next": null,
         "prev": null
        },
        "_meta": {
         "generatedAt": "2023-03-21T04:26:53.928466Z",
         "limit": 1000,
         "offset": 0,
         "totalRecords": 1
        },
        "data": [
         {
          "_links": [
           "https://api.eliteprospects.com/v1/players/99036?apiKey=BbLo1zDgnGxebtMr0wJnLuaexEqibZ9R"
          ],
          "dateOfBirth": "1995-12-05",
          "firstName": "Nick",
          "gender": "male",
          "id": 99036,
          "lastName": "Ritchie",
          "name": "Nick Ritchie",
          "nationality": {
           "_links": [
            "https://api.eliteprospects.com/v1/countries/CAN?apiKey=BbLo1zDgnGxebtMr0wJnLuaexEqibZ9R"
           ],
           "name": "Canada",
           "slug": "CAN"
          },
          "playerType": "SKATER",
          "position": "F",
          "status": "active"
         }
        ]
       },
       {
        "_links": {
         "first": "https://api.eliteprospects.com/v1/players?offset=0&limit=1000&apiKey=BbLo1zDgnGxebtMr0wJnLuaexEqibZ9R&name=Kevin+Fiala&dateOfBirth=1996-07-22&sort=name",
         "last": "https://api.eliteprospects.com/v1/players?offset=0&limit=1000&apiKey=BbLo1zDgnGxebtMr0wJnLuaexEqibZ9R&name=Kevin+Fiala&dateOfBirth=1996-07-22&sort=name",
         "next": null,
         "prev": null
        },
        "_meta": {
         "generatedAt": "2023-03-21T04:26:54.299296Z",
         "limit": 1000,
         "offset": 0,
         "totalRecords": 1
        },
        "data": [
         {
          "_links": [
           "https://api.eliteprospects.com/v1/players/87971?apiKey=BbLo1zDgnGxebtMr0wJnLuaexEqibZ9R"
          ],
          "dateOfBirth": "1996-07-22",
          "firstName": "Kevin",
          "gender": "male",
          "id": 87971,
          "lastName": "Fiala",
          "name": "Kevin Fiala",
          "nationality": {
           "_links": [
            "https://api.eliteprospects.com/v1/countries/CHE?apiKey=BbLo1zDgnGxebtMr0wJnLuaexEqibZ9R"
           ],
           "name": "Switzerland",
           "slug": "CHE"
          },
          "playerType": "SKATER",
          "position": "F",
          "status": "active"
         }
        ]
       },
       {
        "_links": {
         "first": "https://api.eliteprospects.com/v1/players?offset=0&limit=1000&apiKey=BbLo1zDgnGxebtMr0wJnLuaexEqibZ9R&name=Brendan+Perlini&dateOfBirth=1996-04-27&sort=name",
         "last": "https://api.eliteprospects.com/v1/players?offset=0&limit=1000&apiKey=BbLo1zDgnGxebtMr0wJnLuaexEqibZ9R&name=Brendan+Perlini&dateOfBirth=1996-04-27&sort=name",
         "next": null,
         "prev": null
        },
        "_meta": {
         "generatedAt": "2023-03-21T04:26:54.626986Z",
         "limit": 1000,
         "offset": 0,
         "totalRecords": 1
        },
        "data": [
         {
          "_links": [
           "https://api.eliteprospects.com/v1/players/186992?apiKey=BbLo1zDgnGxebtMr0wJnLuaexEqibZ9R"
          ],
          "dateOfBirth": "1996-04-27",
          "firstName": "Brendan",
          "gender": "male",
          "id": 186992,
          "lastName": "Perlini",
          "name": "Brendan Perlini",
          "nationality": {
           "_links": [
            "https://api.eliteprospects.com/v1/countries/CAN?apiKey=BbLo1zDgnGxebtMr0wJnLuaexEqibZ9R"
           ],
           "name": "Canada",
           "slug": "CAN"
          },
          "playerType": "SKATER",
          "position": "F",
          "status": "active"
         }
        ]
       },
       {
        "_links": {
         "first": "https://api.eliteprospects.com/v1/players?offset=0&limit=1000&apiKey=BbLo1zDgnGxebtMr0wJnLuaexEqibZ9R&name=Jakub+Vrana&dateOfBirth=1996-02-28&sort=name",
         "last": "https://api.eliteprospects.com/v1/players?offset=0&limit=1000&apiKey=BbLo1zDgnGxebtMr0wJnLuaexEqibZ9R&name=Jakub+Vrana&dateOfBirth=1996-02-28&sort=name",
         "next": null,
         "prev": null
        },
        "_meta": {
         "generatedAt": "2023-03-21T04:26:54.971973Z",
         "limit": 1000,
         "offset": 0,
         "totalRecords": 1
        },
        "data": [
         {
          "_links": [
           "https://api.eliteprospects.com/v1/players/101250?apiKey=BbLo1zDgnGxebtMr0wJnLuaexEqibZ9R"
          ],
          "dateOfBirth": "1996-02-28",
          "firstName": "Jakub",
          "gender": "male",
          "id": 101250,
          "lastName": "Vrána",
          "name": "Jakub Vrána",
          "nationality": {
           "_links": [
            "https://api.eliteprospects.com/v1/countries/CZE?apiKey=BbLo1zDgnGxebtMr0wJnLuaexEqibZ9R"
           ],
           "name": "Czechia",
           "slug": "CZE"
          },
          "playerType": "SKATER",
          "position": "F",
          "status": "active"
         }
        ]
       },
       {
        "_links": {
         "first": "https://api.eliteprospects.com/v1/players?offset=0&limit=1000&apiKey=BbLo1zDgnGxebtMr0wJnLuaexEqibZ9R&name=Julius+Honka&dateOfBirth=1995-12-03&sort=name",
         "last": "https://api.eliteprospects.com/v1/players?offset=0&limit=1000&apiKey=BbLo1zDgnGxebtMr0wJnLuaexEqibZ9R&name=Julius+Honka&dateOfBirth=1995-12-03&sort=name",
         "next": null,
         "prev": null
        },
        "_meta": {
         "generatedAt": "2023-03-21T04:26:55.270748Z",
         "limit": 1000,
         "offset": 0,
         "totalRecords": 1
        },
        "data": [
         {
          "_links": [
           "https://api.eliteprospects.com/v1/players/65456?apiKey=BbLo1zDgnGxebtMr0wJnLuaexEqibZ9R"
          ],
          "dateOfBirth": "1995-12-03",
          "firstName": "Julius",
          "gender": "male",
          "id": 65456,
          "lastName": "Honka",
          "name": "Julius Honka",
          "nationality": {
           "_links": [
            "https://api.eliteprospects.com/v1/countries/FIN?apiKey=BbLo1zDgnGxebtMr0wJnLuaexEqibZ9R"
           ],
           "name": "Finland",
           "slug": "FIN"
          },
          "playerType": "SKATER",
          "position": "D",
          "status": "active"
         }
        ]
       },
       {
        "_links": {
         "first": "https://api.eliteprospects.com/v1/players?offset=0&limit=1000&apiKey=BbLo1zDgnGxebtMr0wJnLuaexEqibZ9R&name=Dylan+Larkin&dateOfBirth=1996-07-30&sort=name",
         "last": "https://api.eliteprospects.com/v1/players?offset=0&limit=1000&apiKey=BbLo1zDgnGxebtMr0wJnLuaexEqibZ9R&name=Dylan+Larkin&dateOfBirth=1996-07-30&sort=name",
         "next": null,
         "prev": null
        },
        "_meta": {
         "generatedAt": "2023-03-21T04:26:55.636488Z",
         "limit": 1000,
         "offset": 0,
         "totalRecords": 1
        },
        "data": [
         {
          "_links": [
           "https://api.eliteprospects.com/v1/players/177693?apiKey=BbLo1zDgnGxebtMr0wJnLuaexEqibZ9R"
          ],
          "dateOfBirth": "1996-07-30",
          "firstName": "Dylan",
          "gender": "male",
          "id": 177693,
          "lastName": "Larkin",
          "name": "Dylan Larkin",
          "nationality": {
           "_links": [
            "https://api.eliteprospects.com/v1/countries/USA?apiKey=BbLo1zDgnGxebtMr0wJnLuaexEqibZ9R"
           ],
           "name": "USA",
           "slug": "USA"
          },
          "playerType": "SKATER",
          "position": "F",
          "status": "active"
         }
        ]
       },
       {
        "_links": {
         "first": "https://api.eliteprospects.com/v1/players?offset=0&limit=1000&apiKey=BbLo1zDgnGxebtMr0wJnLuaexEqibZ9R&name=Sonny+Milano&dateOfBirth=1996-05-12&sort=name",
         "last": "https://api.eliteprospects.com/v1/players?offset=0&limit=1000&apiKey=BbLo1zDgnGxebtMr0wJnLuaexEqibZ9R&name=Sonny+Milano&dateOfBirth=1996-05-12&sort=name",
         "next": null,
         "prev": null
        },
        "_meta": {
         "generatedAt": "2023-03-21T04:26:56.028747Z",
         "limit": 1000,
         "offset": 0,
         "totalRecords": 1
        },
        "data": [
         {
          "_links": [
           "https://api.eliteprospects.com/v1/players/189415?apiKey=BbLo1zDgnGxebtMr0wJnLuaexEqibZ9R"
          ],
          "dateOfBirth": "1996-05-12",
          "firstName": "Sonny",
          "gender": "male",
          "id": 189415,
          "lastName": "Milano",
          "name": "Sonny Milano",
          "nationality": {
           "_links": [
            "https://api.eliteprospects.com/v1/countries/USA?apiKey=BbLo1zDgnGxebtMr0wJnLuaexEqibZ9R"
           ],
           "name": "USA",
           "slug": "USA"
          },
          "playerType": "SKATER",
          "position": "F",
          "status": "active"
         }
        ]
       },
       {
        "_links": {
         "first": "https://api.eliteprospects.com/v1/players?offset=0&limit=1000&apiKey=BbLo1zDgnGxebtMr0wJnLuaexEqibZ9R&name=Travis+Sanheim&dateOfBirth=1996-03-29&sort=name",
         "last": "https://api.eliteprospects.com/v1/players?offset=0&limit=1000&apiKey=BbLo1zDgnGxebtMr0wJnLuaexEqibZ9R&name=Travis+Sanheim&dateOfBirth=1996-03-29&sort=name",
         "next": null,
         "prev": null
        },
        "_meta": {
         "generatedAt": "2023-03-21T04:26:56.360042Z",
         "limit": 1000,
         "offset": 0,
         "totalRecords": 1
        },
        "data": [
         {
          "_links": [
           "https://api.eliteprospects.com/v1/players/120938?apiKey=BbLo1zDgnGxebtMr0wJnLuaexEqibZ9R"
          ],
          "dateOfBirth": "1996-03-29",
          "firstName": "Travis",
          "gender": "male",
          "id": 120938,
          "lastName": "Sanheim",
          "name": "Travis Sanheim",
          "nationality": {
           "_links": [
            "https://api.eliteprospects.com/v1/countries/CAN?apiKey=BbLo1zDgnGxebtMr0wJnLuaexEqibZ9R"
           ],
           "name": "Canada",
           "slug": "CAN"
          },
          "playerType": "SKATER",
          "position": "D",
          "status": "active"
         }
        ]
       },
       {
        "_links": {
         "first": "https://api.eliteprospects.com/v1/players?offset=0&limit=1000&apiKey=BbLo1zDgnGxebtMr0wJnLuaexEqibZ9R&name=Alex+Tuch&dateOfBirth=1996-05-10&sort=name",
         "last": "https://api.eliteprospects.com/v1/players?offset=0&limit=1000&apiKey=BbLo1zDgnGxebtMr0wJnLuaexEqibZ9R&name=Alex+Tuch&dateOfBirth=1996-05-10&sort=name",
         "next": null,
         "prev": null
        },
        "_meta": {
         "generatedAt": "2023-03-21T04:26:56.743039Z",
         "limit": 1000,
         "offset": 0,
         "totalRecords": 1
        },
        "data": [
         {
          "_links": [
           "https://api.eliteprospects.com/v1/players/178526?apiKey=BbLo1zDgnGxebtMr0wJnLuaexEqibZ9R"
          ],
          "dateOfBirth": "1996-05-10",
          "firstName": "Alex",
          "gender": "male",
          "id": 178526,
          "lastName": "Tuch",
          "name": "Alex Tuch",
          "nationality": {
           "_links": [
            "https://api.eliteprospects.com/v1/countries/USA?apiKey=BbLo1zDgnGxebtMr0wJnLuaexEqibZ9R"
           ],
           "name": "USA",
           "slug": "USA"
          },
          "playerType": "SKATER",
          "position": "F",
          "status": "active"
         }
        ]
       },
       {
        "_links": {
         "first": "https://api.eliteprospects.com/v1/players?offset=0&limit=1000&apiKey=BbLo1zDgnGxebtMr0wJnLuaexEqibZ9R&name=Tony+Deangelo&dateOfBirth=1995-10-24&sort=name",
         "last": "https://api.eliteprospects.com/v1/players?offset=0&limit=1000&apiKey=BbLo1zDgnGxebtMr0wJnLuaexEqibZ9R&name=Tony+Deangelo&dateOfBirth=1995-10-24&sort=name",
         "next": null,
         "prev": null
        },
        "_meta": {
         "generatedAt": "2023-03-21T04:26:57.035744Z",
         "limit": 1000,
         "offset": 0,
         "totalRecords": 1
        },
        "data": [
         {
          "_links": [
           "https://api.eliteprospects.com/v1/players/89818?apiKey=BbLo1zDgnGxebtMr0wJnLuaexEqibZ9R"
          ],
          "dateOfBirth": "1995-10-24",
          "firstName": "Tony",
          "gender": "male",
          "id": 89818,
          "lastName": "DeAngelo",
          "name": "Tony DeAngelo",
          "nationality": {
           "_links": [
            "https://api.eliteprospects.com/v1/countries/USA?apiKey=BbLo1zDgnGxebtMr0wJnLuaexEqibZ9R"
           ],
           "name": "USA",
           "slug": "USA"
          },
          "playerType": "SKATER",
          "position": "D",
          "status": "active"
         }
        ]
       },
       {
        "_links": {
         "first": "https://api.eliteprospects.com/v1/players?offset=0&limit=1000&apiKey=BbLo1zDgnGxebtMr0wJnLuaexEqibZ9R&name=Nick+Schmaltz&dateOfBirth=1996-02-23&sort=name",
         "last": "https://api.eliteprospects.com/v1/players?offset=0&limit=1000&apiKey=BbLo1zDgnGxebtMr0wJnLuaexEqibZ9R&name=Nick+Schmaltz&dateOfBirth=1996-02-23&sort=name",
         "next": null,
         "prev": null
        },
        "_meta": {
         "generatedAt": "2023-03-21T04:26:57.310413Z",
         "limit": 1000,
         "offset": 0,
         "totalRecords": 1
        },
        "data": [
         {
          "_links": [
           "https://api.eliteprospects.com/v1/players/156966?apiKey=BbLo1zDgnGxebtMr0wJnLuaexEqibZ9R"
          ],
          "dateOfBirth": "1996-02-23",
          "firstName": "Nick",
          "gender": "male",
          "id": 156966,
          "lastName": "Schmaltz",
          "name": "Nick Schmaltz",
          "nationality": {
           "_links": [
            "https://api.eliteprospects.com/v1/countries/USA?apiKey=BbLo1zDgnGxebtMr0wJnLuaexEqibZ9R"
           ],
           "name": "USA",
           "slug": "USA"
          },
          "playerType": "SKATER",
          "position": "F",
          "status": "active"
         }
        ]
       },
       {
        "_links": {
         "first": "https://api.eliteprospects.com/v1/players?offset=0&limit=1000&apiKey=BbLo1zDgnGxebtMr0wJnLuaexEqibZ9R&name=Robby+Fabbri&dateOfBirth=1996-01-22&sort=name",
         "last": "https://api.eliteprospects.com/v1/players?offset=0&limit=1000&apiKey=BbLo1zDgnGxebtMr0wJnLuaexEqibZ9R&name=Robby+Fabbri&dateOfBirth=1996-01-22&sort=name",
         "next": null,
         "prev": null
        },
        "_meta": {
         "generatedAt": "2023-03-21T04:26:57.588787Z",
         "limit": 1000,
         "offset": 0,
         "totalRecords": 1
        },
        "data": [
         {
          "_links": [
           "https://api.eliteprospects.com/v1/players/156923?apiKey=BbLo1zDgnGxebtMr0wJnLuaexEqibZ9R"
          ],
          "dateOfBirth": "1996-01-22",
          "firstName": "Robby",
          "gender": "male",
          "id": 156923,
          "lastName": "Fabbri",
          "name": "Robby Fabbri",
          "nationality": {
           "_links": [
            "https://api.eliteprospects.com/v1/countries/CAN?apiKey=BbLo1zDgnGxebtMr0wJnLuaexEqibZ9R"
           ],
           "name": "Canada",
           "slug": "CAN"
          },
          "playerType": "SKATER",
          "position": "F",
          "status": "active"
         }
        ]
       },
       {
        "_links": {
         "first": "https://api.eliteprospects.com/v1/players?offset=0&limit=1000&apiKey=BbLo1zDgnGxebtMr0wJnLuaexEqibZ9R&name=Kasperi+Kapanen&dateOfBirth=1996-07-23&sort=name",
         "last": "https://api.eliteprospects.com/v1/players?offset=0&limit=1000&apiKey=BbLo1zDgnGxebtMr0wJnLuaexEqibZ9R&name=Kasperi+Kapanen&dateOfBirth=1996-07-23&sort=name",
         "next": null,
         "prev": null
        },
        "_meta": {
         "generatedAt": "2023-03-21T04:26:57.859794Z",
         "limit": 1000,
         "offset": 0,
         "totalRecords": 1
        },
        "data": [
         {
          "_links": [
           "https://api.eliteprospects.com/v1/players/92226?apiKey=BbLo1zDgnGxebtMr0wJnLuaexEqibZ9R"
          ],
          "dateOfBirth": "1996-07-23",
          "firstName": "Kasperi",
          "gender": "male",
          "id": 92226,
          "lastName": "Kapanen",
          "name": "Kasperi Kapanen",
          "nationality": {
           "_links": [
            "https://api.eliteprospects.com/v1/countries/FIN?apiKey=BbLo1zDgnGxebtMr0wJnLuaexEqibZ9R"
           ],
           "name": "Finland",
           "slug": "FIN"
          },
          "playerType": "SKATER",
          "position": "F",
          "status": "active"
         }
        ]
       },
       {
        "_links": {
         "first": "https://api.eliteprospects.com/v1/players?offset=0&limit=1000&apiKey=BbLo1zDgnGxebtMr0wJnLuaexEqibZ9R&name=Conner+Bleackley&dateOfBirth=1996-02-07&sort=name",
         "last": "https://api.eliteprospects.com/v1/players?offset=0&limit=1000&apiKey=BbLo1zDgnGxebtMr0wJnLuaexEqibZ9R&name=Conner+Bleackley&dateOfBirth=1996-02-07&sort=name",
         "next": null,
         "prev": null
        },
        "_meta": {
         "generatedAt": "2023-03-21T04:26:58.164114Z",
         "limit": 1000,
         "offset": 0,
         "totalRecords": 1
        },
        "data": [
         {
          "_links": [
           "https://api.eliteprospects.com/v1/players/84020?apiKey=BbLo1zDgnGxebtMr0wJnLuaexEqibZ9R"
          ],
          "dateOfBirth": "1996-02-07",
          "firstName": "Conner",
          "gender": "male",
          "id": 84020,
          "lastName": "Bleackley",
          "name": "Conner Bleackley",
          "nationality": {
           "_links": [
            "https://api.eliteprospects.com/v1/countries/CAN?apiKey=BbLo1zDgnGxebtMr0wJnLuaexEqibZ9R"
           ],
           "name": "Canada",
           "slug": "CAN"
          },
          "playerType": "SKATER",
          "position": "F",
          "status": "active"
         }
        ]
       },
       {
        "_links": {
         "first": "https://api.eliteprospects.com/v1/players?offset=0&limit=1000&apiKey=BbLo1zDgnGxebtMr0wJnLuaexEqibZ9R&name=Jared+Mccann&dateOfBirth=1996-05-31&sort=name",
         "last": "https://api.eliteprospects.com/v1/players?offset=0&limit=1000&apiKey=BbLo1zDgnGxebtMr0wJnLuaexEqibZ9R&name=Jared+Mccann&dateOfBirth=1996-05-31&sort=name",
         "next": null,
         "prev": null
        },
        "_meta": {
         "generatedAt": "2023-03-21T04:26:58.474495Z",
         "limit": 1000,
         "offset": 0,
         "totalRecords": 1
        },
        "data": [
         {
          "_links": [
           "https://api.eliteprospects.com/v1/players/189369?apiKey=BbLo1zDgnGxebtMr0wJnLuaexEqibZ9R"
          ],
          "dateOfBirth": "1996-05-31",
          "firstName": "Jared",
          "gender": "male",
          "id": 189369,
          "lastName": "McCann",
          "name": "Jared McCann",
          "nationality": {
           "_links": [
            "https://api.eliteprospects.com/v1/countries/CAN?apiKey=BbLo1zDgnGxebtMr0wJnLuaexEqibZ9R"
           ],
           "name": "Canada",
           "slug": "CAN"
          },
          "playerType": "SKATER",
          "position": "F",
          "status": "active"
         }
        ]
       },
       {
        "_links": {
         "first": "https://api.eliteprospects.com/v1/players?offset=0&limit=1000&apiKey=BbLo1zDgnGxebtMr0wJnLuaexEqibZ9R&name=David+Pastrnak&dateOfBirth=1996-05-25&sort=name",
         "last": "https://api.eliteprospects.com/v1/players?offset=0&limit=1000&apiKey=BbLo1zDgnGxebtMr0wJnLuaexEqibZ9R&name=David+Pastrnak&dateOfBirth=1996-05-25&sort=name",
         "next": null,
         "prev": null
        },
        "_meta": {
         "generatedAt": "2023-03-21T04:26:58.809323Z",
         "limit": 1000,
         "offset": 0,
         "totalRecords": 1
        },
        "data": [
         {
          "_links": [
           "https://api.eliteprospects.com/v1/players/130383?apiKey=BbLo1zDgnGxebtMr0wJnLuaexEqibZ9R"
          ],
          "dateOfBirth": "1996-05-25",
          "firstName": "David",
          "gender": "male",
          "id": 130383,
          "lastName": "Pastrnak",
          "name": "David Pastrnak",
          "nationality": {
           "_links": [
            "https://api.eliteprospects.com/v1/countries/CZE?apiKey=BbLo1zDgnGxebtMr0wJnLuaexEqibZ9R"
           ],
           "name": "Czechia",
           "slug": "CZE"
          },
          "playerType": "SKATER",
          "position": "F",
          "status": "active"
         }
        ]
       },
       {
        "_links": {
         "first": "https://api.eliteprospects.com/v1/players?offset=0&limit=1000&apiKey=BbLo1zDgnGxebtMr0wJnLuaexEqibZ9R&name=Nikita+Scherbak&dateOfBirth=1995-12-30&sort=name",
         "last": "https://api.eliteprospects.com/v1/players?offset=0&limit=1000&apiKey=BbLo1zDgnGxebtMr0wJnLuaexEqibZ9R&name=Nikita+Scherbak&dateOfBirth=1995-12-30&sort=name",
         "next": null,
         "prev": null
        },
        "_meta": {
         "generatedAt": "2023-03-21T04:26:59.086550Z",
         "limit": 1000,
         "offset": 0,
         "totalRecords": 1
        },
        "data": [
         {
          "_links": [
           "https://api.eliteprospects.com/v1/players/209468?apiKey=BbLo1zDgnGxebtMr0wJnLuaexEqibZ9R"
          ],
          "dateOfBirth": "1995-12-30",
          "firstName": "Nikita",
          "gender": "male",
          "id": 209468,
          "lastName": "Scherbak",
          "name": "Nikita Scherbak",
          "nationality": {
           "_links": [
            "https://api.eliteprospects.com/v1/countries/RUS?apiKey=BbLo1zDgnGxebtMr0wJnLuaexEqibZ9R"
           ],
           "name": "Russia",
           "slug": "RUS"
          },
          "playerType": "SKATER",
          "position": "F",
          "status": "active"
         }
        ]
       },
       {
        "_links": {
         "first": "https://api.eliteprospects.com/v1/players?offset=0&limit=1000&apiKey=BbLo1zDgnGxebtMr0wJnLuaexEqibZ9R&name=Nikolay+Goldobin&dateOfBirth=1995-10-07&sort=name",
         "last": "https://api.eliteprospects.com/v1/players?offset=0&limit=1000&apiKey=BbLo1zDgnGxebtMr0wJnLuaexEqibZ9R&name=Nikolay+Goldobin&dateOfBirth=1995-10-07&sort=name",
         "next": null,
         "prev": null
        },
        "_meta": {
         "generatedAt": "2023-03-21T04:26:59.395558Z",
         "limit": 1000,
         "offset": 0,
         "totalRecords": 1
        },
        "data": [
         {
          "_links": [
           "https://api.eliteprospects.com/v1/players/160550?apiKey=BbLo1zDgnGxebtMr0wJnLuaexEqibZ9R"
          ],
          "dateOfBirth": "1995-10-07",
          "firstName": "Nikolay",
          "gender": "male",
          "id": 160550,
          "lastName": "Goldobin",
          "name": "Nikolay Goldobin",
          "nationality": {
           "_links": [
            "https://api.eliteprospects.com/v1/countries/RUS?apiKey=BbLo1zDgnGxebtMr0wJnLuaexEqibZ9R"
           ],
           "name": "Russia",
           "slug": "RUS"
          },
          "playerType": "SKATER",
          "position": "F",
          "status": "active"
         }
        ]
       },
       {
        "_links": {
         "first": "https://api.eliteprospects.com/v1/players?offset=0&limit=1000&apiKey=BbLo1zDgnGxebtMr0wJnLuaexEqibZ9R&name=Joshua+Ho-Sang&dateOfBirth=1996-01-22&sort=name",
         "last": "https://api.eliteprospects.com/v1/players?offset=0&limit=1000&apiKey=BbLo1zDgnGxebtMr0wJnLuaexEqibZ9R&name=Joshua+Ho-Sang&dateOfBirth=1996-01-22&sort=name",
         "next": null,
         "prev": null
        },
        "_meta": {
         "generatedAt": "2023-03-21T04:26:59.728056Z",
         "limit": 1000,
         "offset": 0,
         "totalRecords": 1
        },
        "data": [
         {
          "_links": [
           "https://api.eliteprospects.com/v1/players/161290?apiKey=BbLo1zDgnGxebtMr0wJnLuaexEqibZ9R"
          ],
          "dateOfBirth": "1996-01-22",
          "firstName": "Josh",
          "gender": "male",
          "id": 161290,
          "lastName": "Ho-Sang",
          "name": "Josh Ho-Sang",
          "nationality": {
           "_links": [
            "https://api.eliteprospects.com/v1/countries/CAN?apiKey=BbLo1zDgnGxebtMr0wJnLuaexEqibZ9R"
           ],
           "name": "Canada",
           "slug": "CAN"
          },
          "playerType": "SKATER",
          "position": "F",
          "status": "active"
         }
        ]
       },
       {
        "_links": {
         "first": "https://api.eliteprospects.com/v1/players?offset=0&limit=1000&apiKey=BbLo1zDgnGxebtMr0wJnLuaexEqibZ9R&name=Adrian+Kempe&dateOfBirth=1996-09-13&sort=name",
         "last": "https://api.eliteprospects.com/v1/players?offset=0&limit=1000&apiKey=BbLo1zDgnGxebtMr0wJnLuaexEqibZ9R&name=Adrian+Kempe&dateOfBirth=1996-09-13&sort=name",
         "next": null,
         "prev": null
        },
        "_meta": {
         "generatedAt": "2023-03-21T04:27:00.016109Z",
         "limit": 1000,
         "offset": 0,
         "totalRecords": 1
        },
        "data": [
         {
          "_links": [
           "https://api.eliteprospects.com/v1/players/86313?apiKey=BbLo1zDgnGxebtMr0wJnLuaexEqibZ9R"
          ],
          "dateOfBirth": "1996-09-13",
          "firstName": "Adrian",
          "gender": "male",
          "id": 86313,
          "lastName": "Kempe",
          "name": "Adrian Kempe",
          "nationality": {
           "_links": [
            "https://api.eliteprospects.com/v1/countries/SWE?apiKey=BbLo1zDgnGxebtMr0wJnLuaexEqibZ9R"
           ],
           "name": "Sweden",
           "slug": "SWE"
          },
          "playerType": "SKATER",
          "position": "F",
          "status": "active"
         }
        ]
       },
       {
        "_links": {
         "first": "https://api.eliteprospects.com/v1/players?offset=0&limit=1000&apiKey=BbLo1zDgnGxebtMr0wJnLuaexEqibZ9R&name=John+Quenneville&dateOfBirth=1996-04-16&sort=name",
         "last": "https://api.eliteprospects.com/v1/players?offset=0&limit=1000&apiKey=BbLo1zDgnGxebtMr0wJnLuaexEqibZ9R&name=John+Quenneville&dateOfBirth=1996-04-16&sort=name",
         "next": null,
         "prev": null
        },
        "_meta": {
         "generatedAt": "2023-03-21T04:27:00.347999Z",
         "limit": 1000,
         "offset": 0,
         "totalRecords": 1
        },
        "data": [
         {
          "_links": [
           "https://api.eliteprospects.com/v1/players/84092?apiKey=BbLo1zDgnGxebtMr0wJnLuaexEqibZ9R"
          ],
          "dateOfBirth": "1996-04-16",
          "firstName": "John",
          "gender": "male",
          "id": 84092,
          "lastName": "Quenneville",
          "name": "John Quenneville",
          "nationality": {
           "_links": [
            "https://api.eliteprospects.com/v1/countries/CAN?apiKey=BbLo1zDgnGxebtMr0wJnLuaexEqibZ9R"
           ],
           "name": "Canada",
           "slug": "CAN"
          },
          "playerType": "SKATER",
          "position": "F",
          "status": "active"
         }
        ]
       },
       {
        "_links": {
         "first": "https://api.eliteprospects.com/v1/players?offset=0&limit=1000&apiKey=BbLo1zDgnGxebtMr0wJnLuaexEqibZ9R&name=Connor+Mcdavid&dateOfBirth=1997-01-13&sort=name",
         "last": "https://api.eliteprospects.com/v1/players?offset=0&limit=1000&apiKey=BbLo1zDgnGxebtMr0wJnLuaexEqibZ9R&name=Connor+Mcdavid&dateOfBirth=1997-01-13&sort=name",
         "next": null,
         "prev": null
        },
        "_meta": {
         "generatedAt": "2023-03-21T04:27:00.736030Z",
         "limit": 1000,
         "offset": 0,
         "totalRecords": 1
        },
        "data": [
         {
          "_links": [
           "https://api.eliteprospects.com/v1/players/183442?apiKey=BbLo1zDgnGxebtMr0wJnLuaexEqibZ9R"
          ],
          "dateOfBirth": "1997-01-13",
          "firstName": "Connor",
          "gender": "male",
          "id": 183442,
          "lastName": "McDavid",
          "name": "Connor McDavid",
          "nationality": {
           "_links": [
            "https://api.eliteprospects.com/v1/countries/CAN?apiKey=BbLo1zDgnGxebtMr0wJnLuaexEqibZ9R"
           ],
           "name": "Canada",
           "slug": "CAN"
          },
          "playerType": "SKATER",
          "position": "F",
          "status": "active"
         }
        ]
       },
       {
        "_links": {
         "first": "https://api.eliteprospects.com/v1/players?offset=0&limit=1000&apiKey=BbLo1zDgnGxebtMr0wJnLuaexEqibZ9R&name=Jack+Eichel&dateOfBirth=1996-10-28&sort=name",
         "last": "https://api.eliteprospects.com/v1/players?offset=0&limit=1000&apiKey=BbLo1zDgnGxebtMr0wJnLuaexEqibZ9R&name=Jack+Eichel&dateOfBirth=1996-10-28&sort=name",
         "next": null,
         "prev": null
        },
        "_meta": {
         "generatedAt": "2023-03-21T04:27:01.138220Z",
         "limit": 1000,
         "offset": 0,
         "totalRecords": 1
        },
        "data": [
         {
          "_links": [
           "https://api.eliteprospects.com/v1/players/191959?apiKey=BbLo1zDgnGxebtMr0wJnLuaexEqibZ9R"
          ],
          "dateOfBirth": "1996-10-28",
          "firstName": "Jack",
          "gender": "male",
          "id": 191959,
          "lastName": "Eichel",
          "name": "Jack Eichel",
          "nationality": {
           "_links": [
            "https://api.eliteprospects.com/v1/countries/USA?apiKey=BbLo1zDgnGxebtMr0wJnLuaexEqibZ9R"
           ],
           "name": "USA",
           "slug": "USA"
          },
          "playerType": "SKATER",
          "position": "F",
          "status": "active"
         }
        ]
       },
       {
        "_links": {
         "first": "https://api.eliteprospects.com/v1/players?offset=0&limit=1000&apiKey=BbLo1zDgnGxebtMr0wJnLuaexEqibZ9R&name=Dylan+Strome&dateOfBirth=1997-03-07&sort=name",
         "last": "https://api.eliteprospects.com/v1/players?offset=0&limit=1000&apiKey=BbLo1zDgnGxebtMr0wJnLuaexEqibZ9R&name=Dylan+Strome&dateOfBirth=1997-03-07&sort=name",
         "next": null,
         "prev": null
        },
        "_meta": {
         "generatedAt": "2023-03-21T04:27:01.583280Z",
         "limit": 1000,
         "offset": 0,
         "totalRecords": 1
        },
        "data": [
         {
          "_links": [
           "https://api.eliteprospects.com/v1/players/228107?apiKey=BbLo1zDgnGxebtMr0wJnLuaexEqibZ9R"
          ],
          "dateOfBirth": "1997-03-07",
          "firstName": "Dylan",
          "gender": "male",
          "id": 228107,
          "lastName": "Strome",
          "name": "Dylan Strome",
          "nationality": {
           "_links": [
            "https://api.eliteprospects.com/v1/countries/CAN?apiKey=BbLo1zDgnGxebtMr0wJnLuaexEqibZ9R"
           ],
           "name": "Canada",
           "slug": "CAN"
          },
          "playerType": "SKATER",
          "position": "F",
          "status": "active"
         }
        ]
       },
       {
        "_links": {
         "first": "https://api.eliteprospects.com/v1/players?offset=0&limit=1000&apiKey=BbLo1zDgnGxebtMr0wJnLuaexEqibZ9R&name=Mitchell+Marner&dateOfBirth=1997-05-05&sort=name",
         "last": "https://api.eliteprospects.com/v1/players?offset=0&limit=1000&apiKey=BbLo1zDgnGxebtMr0wJnLuaexEqibZ9R&name=Mitchell+Marner&dateOfBirth=1997-05-05&sort=name",
         "next": null,
         "prev": null
        },
        "_meta": {
         "generatedAt": "2023-03-21T04:27:01.874690Z",
         "limit": 1000,
         "offset": 0,
         "totalRecords": 1
        },
        "data": [
         {
          "_links": [
           "https://api.eliteprospects.com/v1/players/223194?apiKey=BbLo1zDgnGxebtMr0wJnLuaexEqibZ9R"
          ],
          "dateOfBirth": "1997-05-05",
          "firstName": "Mitchell",
          "gender": "male",
          "id": 223194,
          "lastName": "Marner",
          "name": "Mitchell Marner",
          "nationality": {
           "_links": [
            "https://api.eliteprospects.com/v1/countries/CAN?apiKey=BbLo1zDgnGxebtMr0wJnLuaexEqibZ9R"
           ],
           "name": "Canada",
           "slug": "CAN"
          },
          "playerType": "SKATER",
          "position": "F",
          "status": "active"
         }
        ]
       },
       {
        "_links": {
         "first": "https://api.eliteprospects.com/v1/players?offset=0&limit=1000&apiKey=BbLo1zDgnGxebtMr0wJnLuaexEqibZ9R&name=Noah+Hanifin&dateOfBirth=1997-01-25&sort=name",
         "last": "https://api.eliteprospects.com/v1/players?offset=0&limit=1000&apiKey=BbLo1zDgnGxebtMr0wJnLuaexEqibZ9R&name=Noah+Hanifin&dateOfBirth=1997-01-25&sort=name",
         "next": null,
         "prev": null
        },
        "_meta": {
         "generatedAt": "2023-03-21T04:27:02.180701Z",
         "limit": 1000,
         "offset": 0,
         "totalRecords": 1
        },
        "data": [
         {
          "_links": [
           "https://api.eliteprospects.com/v1/players/177710?apiKey=BbLo1zDgnGxebtMr0wJnLuaexEqibZ9R"
          ],
          "dateOfBirth": "1997-01-25",
          "firstName": "Noah",
          "gender": "male",
          "id": 177710,
          "lastName": "Hanifin",
          "name": "Noah Hanifin",
          "nationality": {
           "_links": [
            "https://api.eliteprospects.com/v1/countries/USA?apiKey=BbLo1zDgnGxebtMr0wJnLuaexEqibZ9R"
           ],
           "name": "USA",
           "slug": "USA"
          },
          "playerType": "SKATER",
          "position": "D",
          "status": "active"
         }
        ]
       },
       {
        "_links": {
         "first": "https://api.eliteprospects.com/v1/players?offset=0&limit=1000&apiKey=BbLo1zDgnGxebtMr0wJnLuaexEqibZ9R&name=Pavel+Zacha&dateOfBirth=1997-04-06&sort=name",
         "last": "https://api.eliteprospects.com/v1/players?offset=0&limit=1000&apiKey=BbLo1zDgnGxebtMr0wJnLuaexEqibZ9R&name=Pavel+Zacha&dateOfBirth=1997-04-06&sort=name",
         "next": null,
         "prev": null
        },
        "_meta": {
         "generatedAt": "2023-03-21T04:27:02.512953Z",
         "limit": 1000,
         "offset": 0,
         "totalRecords": 1
        },
        "data": [
         {
          "_links": [
           "https://api.eliteprospects.com/v1/players/130786?apiKey=BbLo1zDgnGxebtMr0wJnLuaexEqibZ9R"
          ],
          "dateOfBirth": "1997-04-06",
          "firstName": "Pavel",
          "gender": "male",
          "id": 130786,
          "lastName": "Zacha",
          "name": "Pavel Zacha",
          "nationality": {
           "_links": [
            "https://api.eliteprospects.com/v1/countries/CZE?apiKey=BbLo1zDgnGxebtMr0wJnLuaexEqibZ9R"
           ],
           "name": "Czechia",
           "slug": "CZE"
          },
          "playerType": "SKATER",
          "position": "F",
          "status": "active"
         }
        ]
       },
       {
        "_links": {
         "first": "https://api.eliteprospects.com/v1/players?offset=0&limit=1000&apiKey=BbLo1zDgnGxebtMr0wJnLuaexEqibZ9R&name=Ivan+Provorov&dateOfBirth=1997-01-13&sort=name",
         "last": "https://api.eliteprospects.com/v1/players?offset=0&limit=1000&apiKey=BbLo1zDgnGxebtMr0wJnLuaexEqibZ9R&name=Ivan+Provorov&dateOfBirth=1997-01-13&sort=name",
         "next": null,
         "prev": null
        },
        "_meta": {
         "generatedAt": "2023-03-21T04:27:02.814370Z",
         "limit": 1000,
         "offset": 0,
         "totalRecords": 1
        },
        "data": [
         {
          "_links": [
           "https://api.eliteprospects.com/v1/players/242584?apiKey=BbLo1zDgnGxebtMr0wJnLuaexEqibZ9R"
          ],
          "dateOfBirth": "1997-01-13",
          "firstName": "Ivan",
          "gender": "male",
          "id": 242584,
          "lastName": "Provorov",
          "name": "Ivan Provorov",
          "nationality": {
           "_links": [
            "https://api.eliteprospects.com/v1/countries/RUS?apiKey=BbLo1zDgnGxebtMr0wJnLuaexEqibZ9R"
           ],
           "name": "Russia",
           "slug": "RUS"
          },
          "playerType": "SKATER",
          "position": "D",
          "status": "active"
         }
        ]
       },
       {
        "_links": {
         "first": "https://api.eliteprospects.com/v1/players?offset=0&limit=1000&apiKey=BbLo1zDgnGxebtMr0wJnLuaexEqibZ9R&name=Zach+Werenski&dateOfBirth=1997-07-19&sort=name",
         "last": "https://api.eliteprospects.com/v1/players?offset=0&limit=1000&apiKey=BbLo1zDgnGxebtMr0wJnLuaexEqibZ9R&name=Zach+Werenski&dateOfBirth=1997-07-19&sort=name",
         "next": null,
         "prev": null
        },
        "_meta": {
         "generatedAt": "2023-03-21T04:27:03.126942Z",
         "limit": 1000,
         "offset": 0,
         "totalRecords": 1
        },
        "data": [
         {
          "_links": [
           "https://api.eliteprospects.com/v1/players/186311?apiKey=BbLo1zDgnGxebtMr0wJnLuaexEqibZ9R"
          ],
          "dateOfBirth": "1997-07-19",
          "firstName": "Zach",
          "gender": "male",
          "id": 186311,
          "lastName": "Werenski",
          "name": "Zach Werenski",
          "nationality": {
           "_links": [
            "https://api.eliteprospects.com/v1/countries/USA?apiKey=BbLo1zDgnGxebtMr0wJnLuaexEqibZ9R"
           ],
           "name": "USA",
           "slug": "USA"
          },
          "playerType": "SKATER",
          "position": "D",
          "status": "active"
         }
        ]
       },
       {
        "_links": {
         "first": "https://api.eliteprospects.com/v1/players?offset=0&limit=1000&apiKey=BbLo1zDgnGxebtMr0wJnLuaexEqibZ9R&name=Timo+Meier&dateOfBirth=1996-10-08&sort=name",
         "last": "https://api.eliteprospects.com/v1/players?offset=0&limit=1000&apiKey=BbLo1zDgnGxebtMr0wJnLuaexEqibZ9R&name=Timo+Meier&dateOfBirth=1996-10-08&sort=name",
         "next": null,
         "prev": null
        },
        "_meta": {
         "generatedAt": "2023-03-21T04:27:03.434720Z",
         "limit": 1000,
         "offset": 0,
         "totalRecords": 1
        },
        "data": [
         {
          "_links": [
           "https://api.eliteprospects.com/v1/players/95921?apiKey=BbLo1zDgnGxebtMr0wJnLuaexEqibZ9R"
          ],
          "dateOfBirth": "1996-10-08",
          "firstName": "Timo",
          "gender": "male",
          "id": 95921,
          "lastName": "Meier",
          "name": "Timo Meier",
          "nationality": {
           "_links": [
            "https://api.eliteprospects.com/v1/countries/CHE?apiKey=BbLo1zDgnGxebtMr0wJnLuaexEqibZ9R"
           ],
           "name": "Switzerland",
           "slug": "CHE"
          },
          "playerType": "SKATER",
          "position": "F",
          "status": "active"
         }
        ]
       },
       {
        "_links": {
         "first": "https://api.eliteprospects.com/v1/players?offset=0&limit=1000&apiKey=BbLo1zDgnGxebtMr0wJnLuaexEqibZ9R&name=Mikko+Rantanen&dateOfBirth=1996-10-29&sort=name",
         "last": "https://api.eliteprospects.com/v1/players?offset=0&limit=1000&apiKey=BbLo1zDgnGxebtMr0wJnLuaexEqibZ9R&name=Mikko+Rantanen&dateOfBirth=1996-10-29&sort=name",
         "next": null,
         "prev": null
        },
        "_meta": {
         "generatedAt": "2023-03-21T04:27:03.737826Z",
         "limit": 1000,
         "offset": 0,
         "totalRecords": 1
        },
        "data": [
         {
          "_links": [
           "https://api.eliteprospects.com/v1/players/91186?apiKey=BbLo1zDgnGxebtMr0wJnLuaexEqibZ9R"
          ],
          "dateOfBirth": "1996-10-29",
          "firstName": "Mikko",
          "gender": "male",
          "id": 91186,
          "lastName": "Rantanen",
          "name": "Mikko Rantanen",
          "nationality": {
           "_links": [
            "https://api.eliteprospects.com/v1/countries/FIN?apiKey=BbLo1zDgnGxebtMr0wJnLuaexEqibZ9R"
           ],
           "name": "Finland",
           "slug": "FIN"
          },
          "playerType": "SKATER",
          "position": "F",
          "status": "active"
         }
        ]
       },
       {
        "_links": {
         "first": "https://api.eliteprospects.com/v1/players?offset=0&limit=1000&apiKey=BbLo1zDgnGxebtMr0wJnLuaexEqibZ9R&name=Lawson+Crouse&dateOfBirth=1997-06-23&sort=name",
         "last": "https://api.eliteprospects.com/v1/players?offset=0&limit=1000&apiKey=BbLo1zDgnGxebtMr0wJnLuaexEqibZ9R&name=Lawson+Crouse&dateOfBirth=1997-06-23&sort=name",
         "next": null,
         "prev": null
        },
        "_meta": {
         "generatedAt": "2023-03-21T04:27:04.020580Z",
         "limit": 1000,
         "offset": 0,
         "totalRecords": 1
        },
        "data": [
         {
          "_links": [
           "https://api.eliteprospects.com/v1/players/205155?apiKey=BbLo1zDgnGxebtMr0wJnLuaexEqibZ9R"
          ],
          "dateOfBirth": "1997-06-23",
          "firstName": "Lawson",
          "gender": "male",
          "id": 205155,
          "lastName": "Crouse",
          "name": "Lawson Crouse",
          "nationality": {
           "_links": [
            "https://api.eliteprospects.com/v1/countries/CAN?apiKey=BbLo1zDgnGxebtMr0wJnLuaexEqibZ9R"
           ],
           "name": "Canada",
           "slug": "CAN"
          },
          "playerType": "SKATER",
          "position": "F",
          "status": "active"
         }
        ]
       },
       {
        "_links": {
         "first": "https://api.eliteprospects.com/v1/players?offset=0&limit=1000&apiKey=BbLo1zDgnGxebtMr0wJnLuaexEqibZ9R&name=Denis+Gurianov&dateOfBirth=1997-06-07&sort=name",
         "last": "https://api.eliteprospects.com/v1/players?offset=0&limit=1000&apiKey=BbLo1zDgnGxebtMr0wJnLuaexEqibZ9R&name=Denis+Gurianov&dateOfBirth=1997-06-07&sort=name",
         "next": null,
         "prev": null
        },
        "_meta": {
         "generatedAt": "2023-03-21T04:27:04.336160Z",
         "limit": 1000,
         "offset": 0,
         "totalRecords": 1
        },
        "data": [
         {
          "_links": [
           "https://api.eliteprospects.com/v1/players/263964?apiKey=BbLo1zDgnGxebtMr0wJnLuaexEqibZ9R"
          ],
          "dateOfBirth": "1997-06-07",
          "firstName": "Denis",
          "gender": "male",
          "id": 263964,
          "lastName": "Guryanov",
          "name": "Denis Guryanov",
          "nationality": {
           "_links": [
            "https://api.eliteprospects.com/v1/countries/RUS?apiKey=BbLo1zDgnGxebtMr0wJnLuaexEqibZ9R"
           ],
           "name": "Russia",
           "slug": "RUS"
          },
          "playerType": "SKATER",
          "position": "F",
          "status": "active"
         }
        ]
       },
       {
        "_links": {
         "first": "https://api.eliteprospects.com/v1/players?offset=0&limit=1000&apiKey=BbLo1zDgnGxebtMr0wJnLuaexEqibZ9R&name=Jakub+Zboril&dateOfBirth=1997-02-21&sort=name",
         "last": "https://api.eliteprospects.com/v1/players?offset=0&limit=1000&apiKey=BbLo1zDgnGxebtMr0wJnLuaexEqibZ9R&name=Jakub+Zboril&dateOfBirth=1997-02-21&sort=name",
         "next": null,
         "prev": null
        },
        "_meta": {
         "generatedAt": "2023-03-21T04:27:04.660952Z",
         "limit": 1000,
         "offset": 0,
         "totalRecords": 1
        },
        "data": [
         {
          "_links": [
           "https://api.eliteprospects.com/v1/players/112379?apiKey=BbLo1zDgnGxebtMr0wJnLuaexEqibZ9R"
          ],
          "dateOfBirth": "1997-02-21",
          "firstName": "Jakub",
          "gender": "male",
          "id": 112379,
          "lastName": "Zboril",
          "name": "Jakub Zboril",
          "nationality": {
           "_links": [
            "https://api.eliteprospects.com/v1/countries/CZE?apiKey=BbLo1zDgnGxebtMr0wJnLuaexEqibZ9R"
           ],
           "name": "Czechia",
           "slug": "CZE"
          },
          "playerType": "SKATER",
          "position": "D",
          "status": "active"
         }
        ]
       },
       {
        "_links": {
         "first": "https://api.eliteprospects.com/v1/players?offset=0&limit=1000&apiKey=BbLo1zDgnGxebtMr0wJnLuaexEqibZ9R&name=Jake+Debrusk&dateOfBirth=1996-10-17&sort=name",
         "last": "https://api.eliteprospects.com/v1/players?offset=0&limit=1000&apiKey=BbLo1zDgnGxebtMr0wJnLuaexEqibZ9R&name=Jake+Debrusk&dateOfBirth=1996-10-17&sort=name",
         "next": null,
         "prev": null
        },
        "_meta": {
         "generatedAt": "2023-03-21T04:27:04.963297Z",
         "limit": 1000,
         "offset": 0,
         "totalRecords": 1
        },
        "data": [
         {
          "_links": [
           "https://api.eliteprospects.com/v1/players/84242?apiKey=BbLo1zDgnGxebtMr0wJnLuaexEqibZ9R"
          ],
          "dateOfBirth": "1996-10-17",
          "firstName": "Jake",
          "gender": "male",
          "id": 84242,
          "lastName": "DeBrusk",
          "name": "Jake DeBrusk",
          "nationality": {
           "_links": [
            "https://api.eliteprospects.com/v1/countries/CAN?apiKey=BbLo1zDgnGxebtMr0wJnLuaexEqibZ9R"
           ],
           "name": "Canada",
           "slug": "CAN"
          },
          "playerType": "SKATER",
          "position": "F",
          "status": "active"
         }
        ]
       },
       {
        "_links": {
         "first": "https://api.eliteprospects.com/v1/players?offset=0&limit=1000&apiKey=BbLo1zDgnGxebtMr0wJnLuaexEqibZ9R&name=Zach+Senyshyn&dateOfBirth=1997-03-30&sort=name",
         "last": "https://api.eliteprospects.com/v1/players?offset=0&limit=1000&apiKey=BbLo1zDgnGxebtMr0wJnLuaexEqibZ9R&name=Zach+Senyshyn&dateOfBirth=1997-03-30&sort=name",
         "next": null,
         "prev": null
        },
        "_meta": {
         "generatedAt": "2023-03-21T04:27:05.288952Z",
         "limit": 1000,
         "offset": 0,
         "totalRecords": 1
        },
        "data": [
         {
          "_links": [
           "https://api.eliteprospects.com/v1/players/245108?apiKey=BbLo1zDgnGxebtMr0wJnLuaexEqibZ9R"
          ],
          "dateOfBirth": "1997-03-30",
          "firstName": "Zach",
          "gender": "male",
          "id": 245108,
          "lastName": "Senyshyn",
          "name": "Zach Senyshyn",
          "nationality": {
           "_links": [
            "https://api.eliteprospects.com/v1/countries/CAN?apiKey=BbLo1zDgnGxebtMr0wJnLuaexEqibZ9R"
           ],
           "name": "Canada",
           "slug": "CAN"
          },
          "playerType": "SKATER",
          "position": "F",
          "status": "active"
         }
        ]
       },
       {
        "_links": {
         "first": "https://api.eliteprospects.com/v1/players?offset=0&limit=1000&apiKey=BbLo1zDgnGxebtMr0wJnLuaexEqibZ9R&name=Mathew+Barzal&dateOfBirth=1997-05-26&sort=name",
         "last": "https://api.eliteprospects.com/v1/players?offset=0&limit=1000&apiKey=BbLo1zDgnGxebtMr0wJnLuaexEqibZ9R&name=Mathew+Barzal&dateOfBirth=1997-05-26&sort=name",
         "next": null,
         "prev": null
        },
        "_meta": {
         "generatedAt": "2023-03-21T04:27:05.757028Z",
         "limit": 1000,
         "offset": 0,
         "totalRecords": 1
        },
        "data": [
         {
          "_links": [
           "https://api.eliteprospects.com/v1/players/186310?apiKey=BbLo1zDgnGxebtMr0wJnLuaexEqibZ9R"
          ],
          "dateOfBirth": "1997-05-26",
          "firstName": "Mathew",
          "gender": "male",
          "id": 186310,
          "lastName": "Barzal",
          "name": "Mathew Barzal",
          "nationality": {
           "_links": [
            "https://api.eliteprospects.com/v1/countries/CAN?apiKey=BbLo1zDgnGxebtMr0wJnLuaexEqibZ9R"
           ],
           "name": "Canada",
           "slug": "CAN"
          },
          "playerType": "SKATER",
          "position": "F",
          "status": "active"
         }
        ]
       },
       {
        "_links": {
         "first": "https://api.eliteprospects.com/v1/players?offset=0&limit=1000&apiKey=BbLo1zDgnGxebtMr0wJnLuaexEqibZ9R&name=Kyle+Connor&dateOfBirth=1996-12-09&sort=name",
         "last": "https://api.eliteprospects.com/v1/players?offset=0&limit=1000&apiKey=BbLo1zDgnGxebtMr0wJnLuaexEqibZ9R&name=Kyle+Connor&dateOfBirth=1996-12-09&sort=name",
         "next": null,
         "prev": null
        },
        "_meta": {
         "generatedAt": "2023-03-21T04:27:06.080668Z",
         "limit": 1000,
         "offset": 0,
         "totalRecords": 1
        },
        "data": [
         {
          "_links": [
           "https://api.eliteprospects.com/v1/players/177671?apiKey=BbLo1zDgnGxebtMr0wJnLuaexEqibZ9R"
          ],
          "dateOfBirth": "1996-12-09",
          "firstName": "Kyle",
          "gender": "male",
          "id": 177671,
          "lastName": "Connor",
          "name": "Kyle Connor",
          "nationality": {
           "_links": [
            "https://api.eliteprospects.com/v1/countries/USA?apiKey=BbLo1zDgnGxebtMr0wJnLuaexEqibZ9R"
           ],
           "name": "USA",
           "slug": "USA"
          },
          "playerType": "SKATER",
          "position": "F",
          "status": "active"
         }
        ]
       },
       {
        "_links": {
         "first": "https://api.eliteprospects.com/v1/players?offset=0&limit=1000&apiKey=BbLo1zDgnGxebtMr0wJnLuaexEqibZ9R&name=Thomas+Chabot&dateOfBirth=1997-01-30&sort=name",
         "last": "https://api.eliteprospects.com/v1/players?offset=0&limit=1000&apiKey=BbLo1zDgnGxebtMr0wJnLuaexEqibZ9R&name=Thomas+Chabot&dateOfBirth=1997-01-30&sort=name",
         "next": null,
         "prev": null
        },
        "_meta": {
         "generatedAt": "2023-03-21T04:27:06.379943Z",
         "limit": 1000,
         "offset": 0,
         "totalRecords": 1
        },
        "data": [
         {
          "_links": [
           "https://api.eliteprospects.com/v1/players/213607?apiKey=BbLo1zDgnGxebtMr0wJnLuaexEqibZ9R"
          ],
          "dateOfBirth": "1997-01-30",
          "firstName": "Thomas",
          "gender": "male",
          "id": 213607,
          "lastName": "Chabot",
          "name": "Thomas Chabot",
          "nationality": {
           "_links": [
            "https://api.eliteprospects.com/v1/countries/CAN?apiKey=BbLo1zDgnGxebtMr0wJnLuaexEqibZ9R"
           ],
           "name": "Canada",
           "slug": "CAN"
          },
          "playerType": "SKATER",
          "position": "D",
          "status": "active"
         }
        ]
       },
       {
        "_links": {
         "first": "https://api.eliteprospects.com/v1/players?offset=0&limit=1000&apiKey=BbLo1zDgnGxebtMr0wJnLuaexEqibZ9R&name=Evgeny+Svechnikov&dateOfBirth=1996-10-31&sort=name",
         "last": "https://api.eliteprospects.com/v1/players?offset=0&limit=1000&apiKey=BbLo1zDgnGxebtMr0wJnLuaexEqibZ9R&name=Evgeny+Svechnikov&dateOfBirth=1996-10-31&sort=name",
         "next": null,
         "prev": null
        },
        "_meta": {
         "generatedAt": "2023-03-21T04:27:06.707683Z",
         "limit": 1000,
         "offset": 0,
         "totalRecords": 1
        },
        "data": [
         {
          "_links": [
           "https://api.eliteprospects.com/v1/players/168679?apiKey=BbLo1zDgnGxebtMr0wJnLuaexEqibZ9R"
          ],
          "dateOfBirth": "1996-10-31",
          "firstName": "Yevgeni",
          "gender": "male",
          "id": 168679,
          "lastName": "Svechnikov",
          "name": "Yevgeni Svechnikov",
          "nationality": {
           "_links": [
            "https://api.eliteprospects.com/v1/countries/RUS?apiKey=BbLo1zDgnGxebtMr0wJnLuaexEqibZ9R"
           ],
           "name": "Russia",
           "slug": "RUS"
          },
          "playerType": "SKATER",
          "position": "F",
          "status": "active"
         }
        ]
       },
       {
        "_links": {
         "first": "https://api.eliteprospects.com/v1/players?offset=0&limit=1000&apiKey=BbLo1zDgnGxebtMr0wJnLuaexEqibZ9R&name=Joel+Eriksson+Ek&dateOfBirth=1997-01-29&sort=name",
         "last": "https://api.eliteprospects.com/v1/players?offset=0&limit=1000&apiKey=BbLo1zDgnGxebtMr0wJnLuaexEqibZ9R&name=Joel+Eriksson+Ek&dateOfBirth=1997-01-29&sort=name",
         "next": null,
         "prev": null
        },
        "_meta": {
         "generatedAt": "2023-03-21T04:27:07.040904Z",
         "limit": 1000,
         "offset": 0,
         "totalRecords": 1
        },
        "data": [
         {
          "_links": [
           "https://api.eliteprospects.com/v1/players/139633?apiKey=BbLo1zDgnGxebtMr0wJnLuaexEqibZ9R"
          ],
          "dateOfBirth": "1997-01-29",
          "firstName": "Joel",
          "gender": "male",
          "id": 139633,
          "lastName": "Eriksson Ek",
          "name": "Joel Eriksson Ek",
          "nationality": {
           "_links": [
            "https://api.eliteprospects.com/v1/countries/SWE?apiKey=BbLo1zDgnGxebtMr0wJnLuaexEqibZ9R"
           ],
           "name": "Sweden",
           "slug": "SWE"
          },
          "playerType": "SKATER",
          "position": "F",
          "status": "active"
         }
        ]
       },
       {
        "_links": {
         "first": "https://api.eliteprospects.com/v1/players?offset=0&limit=1000&apiKey=BbLo1zDgnGxebtMr0wJnLuaexEqibZ9R&name=Colin+White&dateOfBirth=1997-01-30&sort=name",
         "last": "https://api.eliteprospects.com/v1/players?offset=0&limit=1000&apiKey=BbLo1zDgnGxebtMr0wJnLuaexEqibZ9R&name=Colin+White&dateOfBirth=1997-01-30&sort=name",
         "next": null,
         "prev": null
        },
        "_meta": {
         "generatedAt": "2023-03-21T04:27:07.355396Z",
         "limit": 1000,
         "offset": 0,
         "totalRecords": 1
        },
        "data": [
         {
          "_links": [
           "https://api.eliteprospects.com/v1/players/183810?apiKey=BbLo1zDgnGxebtMr0wJnLuaexEqibZ9R"
          ],
          "dateOfBirth": "1997-01-30",
          "firstName": "Colin",
          "gender": "male",
          "id": 183810,
          "lastName": "White",
          "name": "Colin White",
          "nationality": {
           "_links": [
            "https://api.eliteprospects.com/v1/countries/USA?apiKey=BbLo1zDgnGxebtMr0wJnLuaexEqibZ9R"
           ],
           "name": "USA",
           "slug": "USA"
          },
          "playerType": "SKATER",
          "position": "F",
          "status": "active"
         }
        ]
       },
       {
        "_links": {
         "first": "https://api.eliteprospects.com/v1/players?offset=0&limit=1000&apiKey=BbLo1zDgnGxebtMr0wJnLuaexEqibZ9R&name=Brock+Boeser&dateOfBirth=1997-02-25&sort=name",
         "last": "https://api.eliteprospects.com/v1/players?offset=0&limit=1000&apiKey=BbLo1zDgnGxebtMr0wJnLuaexEqibZ9R&name=Brock+Boeser&dateOfBirth=1997-02-25&sort=name",
         "next": null,
         "prev": null
        },
        "_meta": {
         "generatedAt": "2023-03-21T04:27:07.652146Z",
         "limit": 1000,
         "offset": 0,
         "totalRecords": 1
        },
        "data": [
         {
          "_links": [
           "https://api.eliteprospects.com/v1/players/248381?apiKey=BbLo1zDgnGxebtMr0wJnLuaexEqibZ9R"
          ],
          "dateOfBirth": "1997-02-25",
          "firstName": "Brock",
          "gender": "male",
          "id": 248381,
          "lastName": "Boeser",
          "name": "Brock Boeser",
          "nationality": {
           "_links": [
            "https://api.eliteprospects.com/v1/countries/USA?apiKey=BbLo1zDgnGxebtMr0wJnLuaexEqibZ9R"
           ],
           "name": "USA",
           "slug": "USA"
          },
          "playerType": "SKATER",
          "position": "F",
          "status": "active"
         }
        ]
       },
       {
        "_links": {
         "first": "https://api.eliteprospects.com/v1/players?offset=0&limit=1000&apiKey=BbLo1zDgnGxebtMr0wJnLuaexEqibZ9R&name=Travis+Konecny&dateOfBirth=1997-03-11&sort=name",
         "last": "https://api.eliteprospects.com/v1/players?offset=0&limit=1000&apiKey=BbLo1zDgnGxebtMr0wJnLuaexEqibZ9R&name=Travis+Konecny&dateOfBirth=1997-03-11&sort=name",
         "next": null,
         "prev": null
        },
        "_meta": {
         "generatedAt": "2023-03-21T04:27:07.975533Z",
         "limit": 1000,
         "offset": 0,
         "totalRecords": 1
        },
        "data": [
         {
          "_links": [
           "https://api.eliteprospects.com/v1/players/205148?apiKey=BbLo1zDgnGxebtMr0wJnLuaexEqibZ9R"
          ],
          "dateOfBirth": "1997-03-11",
          "firstName": "Travis",
          "gender": "male",
          "id": 205148,
          "lastName": "Konecny",
          "name": "Travis Konecny",
          "nationality": {
           "_links": [
            "https://api.eliteprospects.com/v1/countries/CAN?apiKey=BbLo1zDgnGxebtMr0wJnLuaexEqibZ9R"
           ],
           "name": "Canada",
           "slug": "CAN"
          },
          "playerType": "SKATER",
          "position": "F",
          "status": "active"
         }
        ]
       },
       {
        "_links": {
         "first": "https://api.eliteprospects.com/v1/players?offset=0&limit=1000&apiKey=BbLo1zDgnGxebtMr0wJnLuaexEqibZ9R&name=Jack+Roslovic&dateOfBirth=1997-01-29&sort=name",
         "last": "https://api.eliteprospects.com/v1/players?offset=0&limit=1000&apiKey=BbLo1zDgnGxebtMr0wJnLuaexEqibZ9R&name=Jack+Roslovic&dateOfBirth=1997-01-29&sort=name",
         "next": null,
         "prev": null
        },
        "_meta": {
         "generatedAt": "2023-03-21T04:27:08.386469Z",
         "limit": 1000,
         "offset": 0,
         "totalRecords": 1
        },
        "data": [
         {
          "_links": [
           "https://api.eliteprospects.com/v1/players/226309?apiKey=BbLo1zDgnGxebtMr0wJnLuaexEqibZ9R"
          ],
          "dateOfBirth": "1997-01-29",
          "firstName": "Jack",
          "gender": "male",
          "id": 226309,
          "lastName": "Roslovic",
          "name": "Jack Roslovic",
          "nationality": {
           "_links": [
            "https://api.eliteprospects.com/v1/countries/USA?apiKey=BbLo1zDgnGxebtMr0wJnLuaexEqibZ9R"
           ],
           "name": "USA",
           "slug": "USA"
          },
          "playerType": "SKATER",
          "position": "F",
          "status": "active"
         }
        ]
       },
       {
        "_links": {
         "first": "https://api.eliteprospects.com/v1/players?offset=0&limit=1000&apiKey=BbLo1zDgnGxebtMr0wJnLuaexEqibZ9R&name=Noah+Juulsen&dateOfBirth=1997-04-02&sort=name",
         "last": "https://api.eliteprospects.com/v1/players?offset=0&limit=1000&apiKey=BbLo1zDgnGxebtMr0wJnLuaexEqibZ9R&name=Noah+Juulsen&dateOfBirth=1997-04-02&sort=name",
         "next": null,
         "prev": null
        },
        "_meta": {
         "generatedAt": "2023-03-21T04:27:08.793537Z",
         "limit": 1000,
         "offset": 0,
         "totalRecords": 1
        },
        "data": [
         {
          "_links": [
           "https://api.eliteprospects.com/v1/players/199905?apiKey=BbLo1zDgnGxebtMr0wJnLuaexEqibZ9R"
          ],
          "dateOfBirth": "1997-04-02",
          "firstName": "Noah",
          "gender": "male",
          "id": 199905,
          "lastName": "Juulsen",
          "name": "Noah Juulsen",
          "nationality": {
           "_links": [
            "https://api.eliteprospects.com/v1/countries/CAN?apiKey=BbLo1zDgnGxebtMr0wJnLuaexEqibZ9R"
           ],
           "name": "Canada",
           "slug": "CAN"
          },
          "playerType": "SKATER",
          "position": "D",
          "status": "active"
         }
        ]
       },
       {
        "_links": {
         "first": "https://api.eliteprospects.com/v1/players?offset=0&limit=1000&apiKey=BbLo1zDgnGxebtMr0wJnLuaexEqibZ9R&name=Jacob+Larsson&dateOfBirth=1997-04-29&sort=name",
         "last": "https://api.eliteprospects.com/v1/players?offset=0&limit=1000&apiKey=BbLo1zDgnGxebtMr0wJnLuaexEqibZ9R&name=Jacob+Larsson&dateOfBirth=1997-04-29&sort=name",
         "next": null,
         "prev": null
        },
        "_meta": {
         "generatedAt": "2023-03-21T04:27:09.101068Z",
         "limit": 1000,
         "offset": 0,
         "totalRecords": 1
        },
        "data": [
         {
          "_links": [
           "https://api.eliteprospects.com/v1/players/147719?apiKey=BbLo1zDgnGxebtMr0wJnLuaexEqibZ9R"
          ],
          "dateOfBirth": "1997-04-29",
          "firstName": "Jacob",
          "gender": "male",
          "id": 147719,
          "lastName": "Larsson",
          "name": "Jacob Larsson",
          "nationality": {
           "_links": [
            "https://api.eliteprospects.com/v1/countries/SWE?apiKey=BbLo1zDgnGxebtMr0wJnLuaexEqibZ9R"
           ],
           "name": "Sweden",
           "slug": "SWE"
          },
          "playerType": "SKATER",
          "position": "D",
          "status": "active"
         }
        ]
       },
       {
        "_links": {
         "first": "https://api.eliteprospects.com/v1/players?offset=0&limit=1000&apiKey=BbLo1zDgnGxebtMr0wJnLuaexEqibZ9R&name=Anthony+Beauvillier&dateOfBirth=1997-06-08&sort=name",
         "last": "https://api.eliteprospects.com/v1/players?offset=0&limit=1000&apiKey=BbLo1zDgnGxebtMr0wJnLuaexEqibZ9R&name=Anthony+Beauvillier&dateOfBirth=1997-06-08&sort=name",
         "next": null,
         "prev": null
        },
        "_meta": {
         "generatedAt": "2023-03-21T04:27:09.418713Z",
         "limit": 1000,
         "offset": 0,
         "totalRecords": 1
        },
        "data": [
         {
          "_links": [
           "https://api.eliteprospects.com/v1/players/213435?apiKey=BbLo1zDgnGxebtMr0wJnLuaexEqibZ9R"
          ],
          "dateOfBirth": "1997-06-08",
          "firstName": "Anthony",
          "gender": "male",
          "id": 213435,
          "lastName": "Beauvillier",
          "name": "Anthony Beauvillier",
          "nationality": {
           "_links": [
            "https://api.eliteprospects.com/v1/countries/CAN?apiKey=BbLo1zDgnGxebtMr0wJnLuaexEqibZ9R"
           ],
           "name": "Canada",
           "slug": "CAN"
          },
          "playerType": "SKATER",
          "position": "F",
          "status": "active"
         }
        ]
       },
       {
        "_links": {
         "first": "https://api.eliteprospects.com/v1/players?offset=0&limit=1000&apiKey=BbLo1zDgnGxebtMr0wJnLuaexEqibZ9R&name=Gabriel+Carlsson&dateOfBirth=1997-01-02&sort=name",
         "last": "https://api.eliteprospects.com/v1/players?offset=0&limit=1000&apiKey=BbLo1zDgnGxebtMr0wJnLuaexEqibZ9R&name=Gabriel+Carlsson&dateOfBirth=1997-01-02&sort=name",
         "next": null,
         "prev": null
        },
        "_meta": {
         "generatedAt": "2023-03-21T04:27:09.787546Z",
         "limit": 1000,
         "offset": 0,
         "totalRecords": 1
        },
        "data": [
         {
          "_links": [
           "https://api.eliteprospects.com/v1/players/187919?apiKey=BbLo1zDgnGxebtMr0wJnLuaexEqibZ9R"
          ],
          "dateOfBirth": "1997-01-02",
          "firstName": "Gabriel",
          "gender": "male",
          "id": 187919,
          "lastName": "Carlsson",
          "name": "Gabriel Carlsson",
          "nationality": {
           "_links": [
            "https://api.eliteprospects.com/v1/countries/SWE?apiKey=BbLo1zDgnGxebtMr0wJnLuaexEqibZ9R"
           ],
           "name": "Sweden",
           "slug": "SWE"
          },
          "playerType": "SKATER",
          "position": "D",
          "status": "active"
         }
        ]
       },
       {
        "_links": {
         "first": "https://api.eliteprospects.com/v1/players?offset=0&limit=1000&apiKey=BbLo1zDgnGxebtMr0wJnLuaexEqibZ9R&name=Nick+Merkley&dateOfBirth=1997-05-23&sort=name",
         "last": "https://api.eliteprospects.com/v1/players?offset=0&limit=1000&apiKey=BbLo1zDgnGxebtMr0wJnLuaexEqibZ9R&name=Nick+Merkley&dateOfBirth=1997-05-23&sort=name",
         "next": null,
         "prev": null
        },
        "_meta": {
         "generatedAt": "2023-03-21T04:27:10.098744Z",
         "limit": 1000,
         "offset": 0,
         "totalRecords": 1
        },
        "data": [
         {
          "_links": [
           "https://api.eliteprospects.com/v1/players/107894?apiKey=BbLo1zDgnGxebtMr0wJnLuaexEqibZ9R"
          ],
          "dateOfBirth": "1997-05-23",
          "firstName": "Nick",
          "gender": "male",
          "id": 107894,
          "lastName": "Merkley",
          "name": "Nick Merkley",
          "nationality": {
           "_links": [
            "https://api.eliteprospects.com/v1/countries/CAN?apiKey=BbLo1zDgnGxebtMr0wJnLuaexEqibZ9R"
           ],
           "name": "Canada",
           "slug": "CAN"
          },
          "playerType": "SKATER",
          "position": "F",
          "status": "active"
         }
        ]
       },
       {
        "_links": {
         "first": "https://api.eliteprospects.com/v1/players?offset=0&limit=1000&apiKey=BbLo1zDgnGxebtMr0wJnLuaexEqibZ9R&name=Auston+Matthews&dateOfBirth=1997-09-17&sort=name",
         "last": "https://api.eliteprospects.com/v1/players?offset=0&limit=1000&apiKey=BbLo1zDgnGxebtMr0wJnLuaexEqibZ9R&name=Auston+Matthews&dateOfBirth=1997-09-17&sort=name",
         "next": null,
         "prev": null
        },
        "_meta": {
         "generatedAt": "2023-03-21T04:27:10.425309Z",
         "limit": 1000,
         "offset": 0,
         "totalRecords": 1
        },
        "data": [
         {
          "_links": [
           "https://api.eliteprospects.com/v1/players/199898?apiKey=BbLo1zDgnGxebtMr0wJnLuaexEqibZ9R"
          ],
          "dateOfBirth": "1997-09-17",
          "firstName": "Auston",
          "gender": "male",
          "id": 199898,
          "lastName": "Matthews",
          "name": "Auston Matthews",
          "nationality": {
           "_links": [
            "https://api.eliteprospects.com/v1/countries/USA?apiKey=BbLo1zDgnGxebtMr0wJnLuaexEqibZ9R"
           ],
           "name": "USA",
           "slug": "USA"
          },
          "playerType": "SKATER",
          "position": "F",
          "status": "active"
         }
        ]
       },
       {
        "_links": {
         "first": "https://api.eliteprospects.com/v1/players?offset=0&limit=1000&apiKey=BbLo1zDgnGxebtMr0wJnLuaexEqibZ9R&name=Patrik+Laine&dateOfBirth=1998-04-19&sort=name",
         "last": "https://api.eliteprospects.com/v1/players?offset=0&limit=1000&apiKey=BbLo1zDgnGxebtMr0wJnLuaexEqibZ9R&name=Patrik+Laine&dateOfBirth=1998-04-19&sort=name",
         "next": null,
         "prev": null
        },
        "_meta": {
         "generatedAt": "2023-03-21T04:27:10.799190Z",
         "limit": 1000,
         "offset": 0,
         "totalRecords": 1
        },
        "data": [
         {
          "_links": [
           "https://api.eliteprospects.com/v1/players/221667?apiKey=BbLo1zDgnGxebtMr0wJnLuaexEqibZ9R"
          ],
          "dateOfBirth": "1998-04-19",
          "firstName": "Patrik",
          "gender": "male",
          "id": 221667,
          "lastName": "Laine",
          "name": "Patrik Laine",
          "nationality": {
           "_links": [
            "https://api.eliteprospects.com/v1/countries/FIN?apiKey=BbLo1zDgnGxebtMr0wJnLuaexEqibZ9R"
           ],
           "name": "Finland",
           "slug": "FIN"
          },
          "playerType": "SKATER",
          "position": "F",
          "status": "active"
         }
        ]
       },
       {
        "_links": {
         "first": "https://api.eliteprospects.com/v1/players?offset=0&limit=1000&apiKey=BbLo1zDgnGxebtMr0wJnLuaexEqibZ9R&name=Pierre-Luc+Dubois&dateOfBirth=1998-06-24&sort=name",
         "last": "https://api.eliteprospects.com/v1/players?offset=0&limit=1000&apiKey=BbLo1zDgnGxebtMr0wJnLuaexEqibZ9R&name=Pierre-Luc+Dubois&dateOfBirth=1998-06-24&sort=name",
         "next": null,
         "prev": null
        },
        "_meta": {
         "generatedAt": "2023-03-21T04:27:11.088600Z",
         "limit": 1000,
         "offset": 0,
         "totalRecords": 1
        },
        "data": [
         {
          "_links": [
           "https://api.eliteprospects.com/v1/players/252480?apiKey=BbLo1zDgnGxebtMr0wJnLuaexEqibZ9R"
          ],
          "dateOfBirth": "1998-06-24",
          "firstName": "Pierre-Luc",
          "gender": "male",
          "id": 252480,
          "lastName": "Dubois",
          "name": "Pierre-Luc Dubois",
          "nationality": {
           "_links": [
            "https://api.eliteprospects.com/v1/countries/CAN?apiKey=BbLo1zDgnGxebtMr0wJnLuaexEqibZ9R"
           ],
           "name": "Canada",
           "slug": "CAN"
          },
          "playerType": "SKATER",
          "position": "F",
          "status": "active"
         }
        ]
       },
       {
        "_links": {
         "first": "https://api.eliteprospects.com/v1/players?offset=0&limit=1000&apiKey=BbLo1zDgnGxebtMr0wJnLuaexEqibZ9R&name=Jesse+Puljujarvi&dateOfBirth=1998-05-07&sort=name",
         "last": "https://api.eliteprospects.com/v1/players?offset=0&limit=1000&apiKey=BbLo1zDgnGxebtMr0wJnLuaexEqibZ9R&name=Jesse+Puljujarvi&dateOfBirth=1998-05-07&sort=name",
         "next": null,
         "prev": null
        },
        "_meta": {
         "generatedAt": "2023-03-21T04:27:11.430111Z",
         "limit": 1000,
         "offset": 0,
         "totalRecords": 1
        },
        "data": [
         {
          "_links": [
           "https://api.eliteprospects.com/v1/players/152117?apiKey=BbLo1zDgnGxebtMr0wJnLuaexEqibZ9R"
          ],
          "dateOfBirth": "1998-05-07",
          "firstName": "Jesse",
          "gender": "male",
          "id": 152117,
          "lastName": "Puljujärvi",
          "name": "Jesse Puljujärvi",
          "nationality": {
           "_links": [
            "https://api.eliteprospects.com/v1/countries/FIN?apiKey=BbLo1zDgnGxebtMr0wJnLuaexEqibZ9R"
           ],
           "name": "Finland",
           "slug": "FIN"
          },
          "playerType": "SKATER",
          "position": "F",
          "status": "active"
         }
        ]
       },
       {
        "_links": {
         "first": "https://api.eliteprospects.com/v1/players?offset=0&limit=1000&apiKey=BbLo1zDgnGxebtMr0wJnLuaexEqibZ9R&name=Olli+Juolevi&dateOfBirth=1998-05-05&sort=name",
         "last": "https://api.eliteprospects.com/v1/players?offset=0&limit=1000&apiKey=BbLo1zDgnGxebtMr0wJnLuaexEqibZ9R&name=Olli+Juolevi&dateOfBirth=1998-05-05&sort=name",
         "next": null,
         "prev": null
        },
        "_meta": {
         "generatedAt": "2023-03-21T04:27:11.744419Z",
         "limit": 1000,
         "offset": 0,
         "totalRecords": 1
        },
        "data": [
         {
          "_links": [
           "https://api.eliteprospects.com/v1/players/196391?apiKey=BbLo1zDgnGxebtMr0wJnLuaexEqibZ9R"
          ],
          "dateOfBirth": "1998-05-05",
          "firstName": "Olli",
          "gender": "male",
          "id": 196391,
          "lastName": "Juolevi",
          "name": "Olli Juolevi",
          "nationality": {
           "_links": [
            "https://api.eliteprospects.com/v1/countries/FIN?apiKey=BbLo1zDgnGxebtMr0wJnLuaexEqibZ9R"
           ],
           "name": "Finland",
           "slug": "FIN"
          },
          "playerType": "SKATER",
          "position": "D",
          "status": "active"
         }
        ]
       },
       {
        "_links": {
         "first": "https://api.eliteprospects.com/v1/players?offset=0&limit=1000&apiKey=BbLo1zDgnGxebtMr0wJnLuaexEqibZ9R&name=Matthew+Tkachuk&dateOfBirth=1997-12-11&sort=name",
         "last": "https://api.eliteprospects.com/v1/players?offset=0&limit=1000&apiKey=BbLo1zDgnGxebtMr0wJnLuaexEqibZ9R&name=Matthew+Tkachuk&dateOfBirth=1997-12-11&sort=name",
         "next": null,
         "prev": null
        },
        "_meta": {
         "generatedAt": "2023-03-21T04:27:13.314211Z",
         "limit": 1000,
         "offset": 0,
         "totalRecords": 1
        },
        "data": [
         {
          "_links": [
           "https://api.eliteprospects.com/v1/players/233030?apiKey=BbLo1zDgnGxebtMr0wJnLuaexEqibZ9R"
          ],
          "dateOfBirth": "1997-12-11",
          "firstName": "Matthew",
          "gender": "male",
          "id": 233030,
          "lastName": "Tkachuk",
          "name": "Matthew Tkachuk",
          "nationality": {
           "_links": [
            "https://api.eliteprospects.com/v1/countries/USA?apiKey=BbLo1zDgnGxebtMr0wJnLuaexEqibZ9R"
           ],
           "name": "USA",
           "slug": "USA"
          },
          "playerType": "SKATER",
          "position": "F",
          "status": "active"
         }
        ]
       },
       {
        "_links": {
         "first": "https://api.eliteprospects.com/v1/players?offset=0&limit=1000&apiKey=BbLo1zDgnGxebtMr0wJnLuaexEqibZ9R&name=Clayton+Keller&dateOfBirth=1998-07-29&sort=name",
         "last": "https://api.eliteprospects.com/v1/players?offset=0&limit=1000&apiKey=BbLo1zDgnGxebtMr0wJnLuaexEqibZ9R&name=Clayton+Keller&dateOfBirth=1998-07-29&sort=name",
         "next": null,
         "prev": null
        },
        "_meta": {
         "generatedAt": "2023-03-21T04:27:13.910308Z",
         "limit": 1000,
         "offset": 0,
         "totalRecords": 1
        },
        "data": [
         {
          "_links": [
           "https://api.eliteprospects.com/v1/players/226432?apiKey=BbLo1zDgnGxebtMr0wJnLuaexEqibZ9R"
          ],
          "dateOfBirth": "1998-07-29",
          "firstName": "Clayton",
          "gender": "male",
          "id": 226432,
          "lastName": "Keller",
          "name": "Clayton Keller",
          "nationality": {
           "_links": [
            "https://api.eliteprospects.com/v1/countries/USA?apiKey=BbLo1zDgnGxebtMr0wJnLuaexEqibZ9R"
           ],
           "name": "USA",
           "slug": "USA"
          },
          "playerType": "SKATER",
          "position": "F",
          "status": "active"
         }
        ]
       },
       {
        "_links": {
         "first": "https://api.eliteprospects.com/v1/players?offset=0&limit=1000&apiKey=BbLo1zDgnGxebtMr0wJnLuaexEqibZ9R&name=Alex+Nylander&dateOfBirth=1998-03-02&sort=name",
         "last": "https://api.eliteprospects.com/v1/players?offset=0&limit=1000&apiKey=BbLo1zDgnGxebtMr0wJnLuaexEqibZ9R&name=Alex+Nylander&dateOfBirth=1998-03-02&sort=name",
         "next": null,
         "prev": null
        },
        "_meta": {
         "generatedAt": "2023-03-21T04:27:14.372218Z",
         "limit": 1000,
         "offset": 0,
         "totalRecords": 1
        },
        "data": [
         {
          "_links": [
           "https://api.eliteprospects.com/v1/players/212641?apiKey=BbLo1zDgnGxebtMr0wJnLuaexEqibZ9R"
          ],
          "dateOfBirth": "1998-03-02",
          "firstName": "Alexander",
          "gender": "male",
          "id": 212641,
          "lastName": "Nylander",
          "name": "Alexander Nylander",
          "nationality": {
           "_links": [
            "https://api.eliteprospects.com/v1/countries/SWE?apiKey=BbLo1zDgnGxebtMr0wJnLuaexEqibZ9R"
           ],
           "name": "Sweden",
           "slug": "SWE"
          },
          "playerType": "SKATER",
          "position": "F",
          "status": "active"
         }
        ]
       },
       {
        "_links": {
         "first": "https://api.eliteprospects.com/v1/players?offset=0&limit=1000&apiKey=BbLo1zDgnGxebtMr0wJnLuaexEqibZ9R&name=Mikhail+Sergachev&dateOfBirth=1998-06-25&sort=name",
         "last": "https://api.eliteprospects.com/v1/players?offset=0&limit=1000&apiKey=BbLo1zDgnGxebtMr0wJnLuaexEqibZ9R&name=Mikhail+Sergachev&dateOfBirth=1998-06-25&sort=name",
         "next": null,
         "prev": null
        },
        "_meta": {
         "generatedAt": "2023-03-21T04:27:14.637495Z",
         "limit": 1000,
         "offset": 0,
         "totalRecords": 1
        },
        "data": [
         {
          "_links": [
           "https://api.eliteprospects.com/v1/players/312213?apiKey=BbLo1zDgnGxebtMr0wJnLuaexEqibZ9R"
          ],
          "dateOfBirth": "1998-06-25",
          "firstName": "Mikhail",
          "gender": "male",
          "id": 312213,
          "lastName": "Sergachyov",
          "name": "Mikhail Sergachyov",
          "nationality": {
           "_links": [
            "https://api.eliteprospects.com/v1/countries/RUS?apiKey=BbLo1zDgnGxebtMr0wJnLuaexEqibZ9R"
           ],
           "name": "Russia",
           "slug": "RUS"
          },
          "playerType": "SKATER",
          "position": "D",
          "status": "active"
         }
        ]
       },
       {
        "_links": {
         "first": "https://api.eliteprospects.com/v1/players?offset=0&limit=1000&apiKey=BbLo1zDgnGxebtMr0wJnLuaexEqibZ9R&name=Tyson+Jost&dateOfBirth=1998-03-14&sort=name",
         "last": "https://api.eliteprospects.com/v1/players?offset=0&limit=1000&apiKey=BbLo1zDgnGxebtMr0wJnLuaexEqibZ9R&name=Tyson+Jost&dateOfBirth=1998-03-14&sort=name",
         "next": null,
         "prev": null
        },
        "_meta": {
         "generatedAt": "2023-03-21T04:27:14.922876Z",
         "limit": 1000,
         "offset": 0,
         "totalRecords": 1
        },
        "data": [
         {
          "_links": [
           "https://api.eliteprospects.com/v1/players/148111?apiKey=BbLo1zDgnGxebtMr0wJnLuaexEqibZ9R"
          ],
          "dateOfBirth": "1998-03-14",
          "firstName": "Tyson",
          "gender": "male",
          "id": 148111,
          "lastName": "Jost",
          "name": "Tyson Jost",
          "nationality": {
           "_links": [
            "https://api.eliteprospects.com/v1/countries/CAN?apiKey=BbLo1zDgnGxebtMr0wJnLuaexEqibZ9R"
           ],
           "name": "Canada",
           "slug": "CAN"
          },
          "playerType": "SKATER",
          "position": "F",
          "status": "active"
         }
        ]
       },
       {
        "_links": {
         "first": "https://api.eliteprospects.com/v1/players?offset=0&limit=1000&apiKey=BbLo1zDgnGxebtMr0wJnLuaexEqibZ9R&name=Logan+Brown&dateOfBirth=1998-08-02&sort=name",
         "last": "https://api.eliteprospects.com/v1/players?offset=0&limit=1000&apiKey=BbLo1zDgnGxebtMr0wJnLuaexEqibZ9R&name=Logan+Brown&dateOfBirth=1998-08-02&sort=name",
         "next": null,
         "prev": null
        },
        "_meta": {
         "generatedAt": "2023-03-21T04:27:15.296436Z",
         "limit": 1000,
         "offset": 0,
         "totalRecords": 0
        },
        "data": []
       },
       {
        "_links": {
         "first": "https://api.eliteprospects.com/v1/players?offset=0&limit=1000&apiKey=BbLo1zDgnGxebtMr0wJnLuaexEqibZ9R&name=Michael+Mcleod&dateOfBirth=1998-02-03&sort=name",
         "last": "https://api.eliteprospects.com/v1/players?offset=0&limit=1000&apiKey=BbLo1zDgnGxebtMr0wJnLuaexEqibZ9R&name=Michael+Mcleod&dateOfBirth=1998-02-03&sort=name",
         "next": null,
         "prev": null
        },
        "_meta": {
         "generatedAt": "2023-03-21T04:27:15.626255Z",
         "limit": 1000,
         "offset": 0,
         "totalRecords": 1
        },
        "data": [
         {
          "_links": [
           "https://api.eliteprospects.com/v1/players/240821?apiKey=BbLo1zDgnGxebtMr0wJnLuaexEqibZ9R"
          ],
          "dateOfBirth": "1998-02-03",
          "firstName": "Michael",
          "gender": "male",
          "id": 240821,
          "lastName": "McLeod",
          "name": "Michael McLeod",
          "nationality": {
           "_links": [
            "https://api.eliteprospects.com/v1/countries/CAN?apiKey=BbLo1zDgnGxebtMr0wJnLuaexEqibZ9R"
           ],
           "name": "Canada",
           "slug": "CAN"
          },
          "playerType": "SKATER",
          "position": "F",
          "status": "active"
         }
        ]
       },
       {
        "_links": {
         "first": "https://api.eliteprospects.com/v1/players?offset=0&limit=1000&apiKey=BbLo1zDgnGxebtMr0wJnLuaexEqibZ9R&name=Jake+Bean&dateOfBirth=1998-06-09&sort=name",
         "last": "https://api.eliteprospects.com/v1/players?offset=0&limit=1000&apiKey=BbLo1zDgnGxebtMr0wJnLuaexEqibZ9R&name=Jake+Bean&dateOfBirth=1998-06-09&sort=name",
         "next": null,
         "prev": null
        },
        "_meta": {
         "generatedAt": "2023-03-21T04:27:15.928174Z",
         "limit": 1000,
         "offset": 0,
         "totalRecords": 1
        },
        "data": [
         {
          "_links": [
           "https://api.eliteprospects.com/v1/players/199660?apiKey=BbLo1zDgnGxebtMr0wJnLuaexEqibZ9R"
          ],
          "dateOfBirth": "1998-06-09",
          "firstName": "Jake",
          "gender": "male",
          "id": 199660,
          "lastName": "Bean",
          "name": "Jake Bean",
          "nationality": {
           "_links": [
            "https://api.eliteprospects.com/v1/countries/CAN?apiKey=BbLo1zDgnGxebtMr0wJnLuaexEqibZ9R"
           ],
           "name": "Canada",
           "slug": "CAN"
          },
          "playerType": "SKATER",
          "position": "D",
          "status": "active"
         }
        ]
       },
       {
        "_links": {
         "first": "https://api.eliteprospects.com/v1/players?offset=0&limit=1000&apiKey=BbLo1zDgnGxebtMr0wJnLuaexEqibZ9R&name=Charlie+Mcavoy&dateOfBirth=1997-12-21&sort=name",
         "last": "https://api.eliteprospects.com/v1/players?offset=0&limit=1000&apiKey=BbLo1zDgnGxebtMr0wJnLuaexEqibZ9R&name=Charlie+Mcavoy&dateOfBirth=1997-12-21&sort=name",
         "next": null,
         "prev": null
        },
        "_meta": {
         "generatedAt": "2023-03-21T04:27:16.336812Z",
         "limit": 1000,
         "offset": 0,
         "totalRecords": 1
        },
        "data": [
         {
          "_links": [
           "https://api.eliteprospects.com/v1/players/245142?apiKey=BbLo1zDgnGxebtMr0wJnLuaexEqibZ9R"
          ],
          "dateOfBirth": "1997-12-21",
          "firstName": "Charlie",
          "gender": "male",
          "id": 245142,
          "lastName": "McAvoy",
          "name": "Charlie McAvoy",
          "nationality": {
           "_links": [
            "https://api.eliteprospects.com/v1/countries/USA?apiKey=BbLo1zDgnGxebtMr0wJnLuaexEqibZ9R"
           ],
           "name": "USA",
           "slug": "USA"
          },
          "playerType": "SKATER",
          "position": "D",
          "status": "active"
         }
        ]
       },
       {
        "_links": {
         "first": "https://api.eliteprospects.com/v1/players?offset=0&limit=1000&apiKey=BbLo1zDgnGxebtMr0wJnLuaexEqibZ9R&name=Luke+Kunin&dateOfBirth=1997-12-04&sort=name",
         "last": "https://api.eliteprospects.com/v1/players?offset=0&limit=1000&apiKey=BbLo1zDgnGxebtMr0wJnLuaexEqibZ9R&name=Luke+Kunin&dateOfBirth=1997-12-04&sort=name",
         "next": null,
         "prev": null
        },
        "_meta": {
         "generatedAt": "2023-03-21T04:27:16.647700Z",
         "limit": 1000,
         "offset": 0,
         "totalRecords": 1
        },
        "data": [
         {
          "_links": [
           "https://api.eliteprospects.com/v1/players/245278?apiKey=BbLo1zDgnGxebtMr0wJnLuaexEqibZ9R"
          ],
          "dateOfBirth": "1997-12-04",
          "firstName": "Luke",
          "gender": "male",
          "id": 245278,
          "lastName": "Kunin",
          "name": "Luke Kunin",
          "nationality": {
           "_links": [
            "https://api.eliteprospects.com/v1/countries/USA?apiKey=BbLo1zDgnGxebtMr0wJnLuaexEqibZ9R"
           ],
           "name": "USA",
           "slug": "USA"
          },
          "playerType": "SKATER",
          "position": "F",
          "status": "active"
         }
        ]
       },
       {
        "_links": {
         "first": "https://api.eliteprospects.com/v1/players?offset=0&limit=1000&apiKey=BbLo1zDgnGxebtMr0wJnLuaexEqibZ9R&name=Jakob+Chychrun&dateOfBirth=1998-03-31&sort=name",
         "last": "https://api.eliteprospects.com/v1/players?offset=0&limit=1000&apiKey=BbLo1zDgnGxebtMr0wJnLuaexEqibZ9R&name=Jakob+Chychrun&dateOfBirth=1998-03-31&sort=name",
         "next": null,
         "prev": null
        },
        "_meta": {
         "generatedAt": "2023-03-21T04:27:16.935076Z",
         "limit": 1000,
         "offset": 0,
         "totalRecords": 1
        },
        "data": [
         {
          "_links": [
           "https://api.eliteprospects.com/v1/players/243386?apiKey=BbLo1zDgnGxebtMr0wJnLuaexEqibZ9R"
          ],
          "dateOfBirth": "1998-03-31",
          "firstName": "Jakob",
          "gender": "male",
          "id": 243386,
          "lastName": "Chychrun",
          "name": "Jakob Chychrun",
          "nationality": {
           "_links": [
            "https://api.eliteprospects.com/v1/countries/CAN?apiKey=BbLo1zDgnGxebtMr0wJnLuaexEqibZ9R"
           ],
           "name": "Canada",
           "slug": "CAN"
          },
          "playerType": "SKATER",
          "position": "D",
          "status": "active"
         }
        ]
       },
       {
        "_links": {
         "first": "https://api.eliteprospects.com/v1/players?offset=0&limit=1000&apiKey=BbLo1zDgnGxebtMr0wJnLuaexEqibZ9R&name=Dante+Fabbro&dateOfBirth=1998-06-20&sort=name",
         "last": "https://api.eliteprospects.com/v1/players?offset=0&limit=1000&apiKey=BbLo1zDgnGxebtMr0wJnLuaexEqibZ9R&name=Dante+Fabbro&dateOfBirth=1998-06-20&sort=name",
         "next": null,
         "prev": null
        },
        "_meta": {
         "generatedAt": "2023-03-21T04:27:17.223360Z",
         "limit": 1000,
         "offset": 0,
         "totalRecords": 1
        },
        "data": [
         {
          "_links": [
           "https://api.eliteprospects.com/v1/players/247041?apiKey=BbLo1zDgnGxebtMr0wJnLuaexEqibZ9R"
          ],
          "dateOfBirth": "1998-06-20",
          "firstName": "Dante",
          "gender": "male",
          "id": 247041,
          "lastName": "Fabbro",
          "name": "Dante Fabbro",
          "nationality": {
           "_links": [
            "https://api.eliteprospects.com/v1/countries/CAN?apiKey=BbLo1zDgnGxebtMr0wJnLuaexEqibZ9R"
           ],
           "name": "Canada",
           "slug": "CAN"
          },
          "playerType": "SKATER",
          "position": "D",
          "status": "active"
         }
        ]
       },
       {
        "_links": {
         "first": "https://api.eliteprospects.com/v1/players?offset=0&limit=1000&apiKey=BbLo1zDgnGxebtMr0wJnLuaexEqibZ9R&name=Logan+Stanley&dateOfBirth=1998-05-26&sort=name",
         "last": "https://api.eliteprospects.com/v1/players?offset=0&limit=1000&apiKey=BbLo1zDgnGxebtMr0wJnLuaexEqibZ9R&name=Logan+Stanley&dateOfBirth=1998-05-26&sort=name",
         "next": null,
         "prev": null
        },
        "_meta": {
         "generatedAt": "2023-03-21T04:27:17.503996Z",
         "limit": 1000,
         "offset": 0,
         "totalRecords": 1
        },
        "data": [
         {
          "_links": [
           "https://api.eliteprospects.com/v1/players/240108?apiKey=BbLo1zDgnGxebtMr0wJnLuaexEqibZ9R"
          ],
          "dateOfBirth": "1998-05-26",
          "firstName": "Logan",
          "gender": "male",
          "id": 240108,
          "lastName": "Stanley",
          "name": "Logan Stanley",
          "nationality": {
           "_links": [
            "https://api.eliteprospects.com/v1/countries/CAN?apiKey=BbLo1zDgnGxebtMr0wJnLuaexEqibZ9R"
           ],
           "name": "Canada",
           "slug": "CAN"
          },
          "playerType": "SKATER",
          "position": "D",
          "status": "active"
         }
        ]
       },
       {
        "_links": {
         "first": "https://api.eliteprospects.com/v1/players?offset=0&limit=1000&apiKey=BbLo1zDgnGxebtMr0wJnLuaexEqibZ9R&name=Kieffer+Bellows&dateOfBirth=1998-06-10&sort=name",
         "last": "https://api.eliteprospects.com/v1/players?offset=0&limit=1000&apiKey=BbLo1zDgnGxebtMr0wJnLuaexEqibZ9R&name=Kieffer+Bellows&dateOfBirth=1998-06-10&sort=name",
         "next": null,
         "prev": null
        },
        "_meta": {
         "generatedAt": "2023-03-21T04:27:17.817235Z",
         "limit": 1000,
         "offset": 0,
         "totalRecords": 1
        },
        "data": [
         {
          "_links": [
           "https://api.eliteprospects.com/v1/players/247945?apiKey=BbLo1zDgnGxebtMr0wJnLuaexEqibZ9R"
          ],
          "dateOfBirth": "1998-06-10",
          "firstName": "Kieffer",
          "gender": "male",
          "id": 247945,
          "lastName": "Bellows",
          "name": "Kieffer Bellows",
          "nationality": {
           "_links": [
            "https://api.eliteprospects.com/v1/countries/USA?apiKey=BbLo1zDgnGxebtMr0wJnLuaexEqibZ9R"
           ],
           "name": "USA",
           "slug": "USA"
          },
          "playerType": "SKATER",
          "position": "F",
          "status": "active"
         }
        ]
       },
       {
        "_links": {
         "first": "https://api.eliteprospects.com/v1/players?offset=0&limit=1000&apiKey=BbLo1zDgnGxebtMr0wJnLuaexEqibZ9R&name=Dennis+Cholowski&dateOfBirth=1998-02-15&sort=name",
         "last": "https://api.eliteprospects.com/v1/players?offset=0&limit=1000&apiKey=BbLo1zDgnGxebtMr0wJnLuaexEqibZ9R&name=Dennis+Cholowski&dateOfBirth=1998-02-15&sort=name",
         "next": null,
         "prev": null
        },
        "_meta": {
         "generatedAt": "2023-03-21T04:27:18.169376Z",
         "limit": 1000,
         "offset": 0,
         "totalRecords": 1
        },
        "data": [
         {
          "_links": [
           "https://api.eliteprospects.com/v1/players/247137?apiKey=BbLo1zDgnGxebtMr0wJnLuaexEqibZ9R"
          ],
          "dateOfBirth": "1998-02-15",
          "firstName": "Dennis",
          "gender": "male",
          "id": 247137,
          "lastName": "Cholowski",
          "name": "Dennis Cholowski",
          "nationality": {
           "_links": [
            "https://api.eliteprospects.com/v1/countries/CAN?apiKey=BbLo1zDgnGxebtMr0wJnLuaexEqibZ9R"
           ],
           "name": "Canada",
           "slug": "CAN"
          },
          "playerType": "SKATER",
          "position": "D",
          "status": "active"
         }
        ]
       },
       {
        "_links": {
         "first": "https://api.eliteprospects.com/v1/players?offset=0&limit=1000&apiKey=BbLo1zDgnGxebtMr0wJnLuaexEqibZ9R&name=Julien+Gauthier&dateOfBirth=1997-10-15&sort=name",
         "last": "https://api.eliteprospects.com/v1/players?offset=0&limit=1000&apiKey=BbLo1zDgnGxebtMr0wJnLuaexEqibZ9R&name=Julien+Gauthier&dateOfBirth=1997-10-15&sort=name",
         "next": null,
         "prev": null
        },
        "_meta": {
         "generatedAt": "2023-03-21T04:27:18.502607Z",
         "limit": 1000,
         "offset": 0,
         "totalRecords": 1
        },
        "data": [
         {
          "_links": [
           "https://api.eliteprospects.com/v1/players/213464?apiKey=BbLo1zDgnGxebtMr0wJnLuaexEqibZ9R"
          ],
          "dateOfBirth": "1997-10-15",
          "firstName": "Julien",
          "gender": "male",
          "id": 213464,
          "lastName": "Gauthier",
          "name": "Julien Gauthier",
          "nationality": {
           "_links": [
            "https://api.eliteprospects.com/v1/countries/CAN?apiKey=BbLo1zDgnGxebtMr0wJnLuaexEqibZ9R"
           ],
           "name": "Canada",
           "slug": "CAN"
          },
          "playerType": "SKATER",
          "position": "F",
          "status": "active"
         }
        ]
       },
       {
        "_links": {
         "first": "https://api.eliteprospects.com/v1/players?offset=0&limit=1000&apiKey=BbLo1zDgnGxebtMr0wJnLuaexEqibZ9R&name=German+Rubtsov&dateOfBirth=1998-06-27&sort=name",
         "last": "https://api.eliteprospects.com/v1/players?offset=0&limit=1000&apiKey=BbLo1zDgnGxebtMr0wJnLuaexEqibZ9R&name=German+Rubtsov&dateOfBirth=1998-06-27&sort=name",
         "next": null,
         "prev": null
        },
        "_meta": {
         "generatedAt": "2023-03-21T04:27:18.896765Z",
         "limit": 1000,
         "offset": 0,
         "totalRecords": 1
        },
        "data": [
         {
          "_links": [
           "https://api.eliteprospects.com/v1/players/312227?apiKey=BbLo1zDgnGxebtMr0wJnLuaexEqibZ9R"
          ],
          "dateOfBirth": "1998-06-27",
          "firstName": "German",
          "gender": "male",
          "id": 312227,
          "lastName": "Rubtsov",
          "name": "German Rubtsov",
          "nationality": {
           "_links": [
            "https://api.eliteprospects.com/v1/countries/RUS?apiKey=BbLo1zDgnGxebtMr0wJnLuaexEqibZ9R"
           ],
           "name": "Russia",
           "slug": "RUS"
          },
          "playerType": "SKATER",
          "position": "F",
          "status": "active"
         }
        ]
       },
       {
        "_links": {
         "first": "https://api.eliteprospects.com/v1/players?offset=0&limit=1000&apiKey=BbLo1zDgnGxebtMr0wJnLuaexEqibZ9R&name=Henrik+Borgstrom&dateOfBirth=1997-08-06&sort=name",
         "last": "https://api.eliteprospects.com/v1/players?offset=0&limit=1000&apiKey=BbLo1zDgnGxebtMr0wJnLuaexEqibZ9R&name=Henrik+Borgstrom&dateOfBirth=1997-08-06&sort=name",
         "next": null,
         "prev": null
        },
        "_meta": {
         "generatedAt": "2023-03-21T04:27:19.232679Z",
         "limit": 1000,
         "offset": 0,
         "totalRecords": 1
        },
        "data": [
         {
          "_links": [
           "https://api.eliteprospects.com/v1/players/118332?apiKey=BbLo1zDgnGxebtMr0wJnLuaexEqibZ9R"
          ],
          "dateOfBirth": "1997-08-06",
          "firstName": "Henrik",
          "gender": "male",
          "id": 118332,
          "lastName": "Borgström",
          "name": "Henrik Borgström",
          "nationality": {
           "_links": [
            "https://api.eliteprospects.com/v1/countries/FIN?apiKey=BbLo1zDgnGxebtMr0wJnLuaexEqibZ9R"
           ],
           "name": "Finland",
           "slug": "FIN"
          },
          "playerType": "SKATER",
          "position": "F",
          "status": "active"
         }
        ]
       },
       {
        "_links": {
         "first": "https://api.eliteprospects.com/v1/players?offset=0&limit=1000&apiKey=BbLo1zDgnGxebtMr0wJnLuaexEqibZ9R&name=Max+Jones&dateOfBirth=1998-02-17&sort=name",
         "last": "https://api.eliteprospects.com/v1/players?offset=0&limit=1000&apiKey=BbLo1zDgnGxebtMr0wJnLuaexEqibZ9R&name=Max+Jones&dateOfBirth=1998-02-17&sort=name",
         "next": null,
         "prev": null
        },
        "_meta": {
         "generatedAt": "2023-03-21T04:27:19.608151Z",
         "limit": 1000,
         "offset": 0,
         "totalRecords": 1
        },
        "data": [
         {
          "_links": [
           "https://api.eliteprospects.com/v1/players/233448?apiKey=BbLo1zDgnGxebtMr0wJnLuaexEqibZ9R"
          ],
          "dateOfBirth": "1998-02-17",
          "firstName": "Max",
          "gender": "male",
          "id": 233448,
          "lastName": "Jones",
          "name": "Max Jones",
          "nationality": {
           "_links": [
            "https://api.eliteprospects.com/v1/countries/USA?apiKey=BbLo1zDgnGxebtMr0wJnLuaexEqibZ9R"
           ],
           "name": "USA",
           "slug": "USA"
          },
          "playerType": "SKATER",
          "position": "F",
          "status": "active"
         }
        ]
       },
       {
        "_links": {
         "first": "https://api.eliteprospects.com/v1/players?offset=0&limit=1000&apiKey=BbLo1zDgnGxebtMr0wJnLuaexEqibZ9R&name=Riley+Tufte&dateOfBirth=1998-04-10&sort=name",
         "last": "https://api.eliteprospects.com/v1/players?offset=0&limit=1000&apiKey=BbLo1zDgnGxebtMr0wJnLuaexEqibZ9R&name=Riley+Tufte&dateOfBirth=1998-04-10&sort=name",
         "next": null,
         "prev": null
        },
        "_meta": {
         "generatedAt": "2023-03-21T04:27:19.908869Z",
         "limit": 1000,
         "offset": 0,
         "totalRecords": 1
        },
        "data": [
         {
          "_links": [
           "https://api.eliteprospects.com/v1/players/291903?apiKey=BbLo1zDgnGxebtMr0wJnLuaexEqibZ9R"
          ],
          "dateOfBirth": "1998-04-10",
          "firstName": "Riley",
          "gender": "male",
          "id": 291903,
          "lastName": "Tufte",
          "name": "Riley Tufte",
          "nationality": {
           "_links": [
            "https://api.eliteprospects.com/v1/countries/USA?apiKey=BbLo1zDgnGxebtMr0wJnLuaexEqibZ9R"
           ],
           "name": "USA",
           "slug": "USA"
          },
          "playerType": "SKATER",
          "position": "F",
          "status": "active"
         }
        ]
       },
       {
        "_links": {
         "first": "https://api.eliteprospects.com/v1/players?offset=0&limit=1000&apiKey=BbLo1zDgnGxebtMr0wJnLuaexEqibZ9R&name=Tage+Thompson&dateOfBirth=1997-10-30&sort=name",
         "last": "https://api.eliteprospects.com/v1/players?offset=0&limit=1000&apiKey=BbLo1zDgnGxebtMr0wJnLuaexEqibZ9R&name=Tage+Thompson&dateOfBirth=1997-10-30&sort=name",
         "next": null,
         "prev": null
        },
        "_meta": {
         "generatedAt": "2023-03-21T04:27:20.686668Z",
         "limit": 1000,
         "offset": 0,
         "totalRecords": 1
        },
        "data": [
         {
          "_links": [
           "https://api.eliteprospects.com/v1/players/301349?apiKey=BbLo1zDgnGxebtMr0wJnLuaexEqibZ9R"
          ],
          "dateOfBirth": "1997-10-30",
          "firstName": "Tage",
          "gender": "male",
          "id": 301349,
          "lastName": "Thompson",
          "name": "Tage Thompson",
          "nationality": {
           "_links": [
            "https://api.eliteprospects.com/v1/countries/USA?apiKey=BbLo1zDgnGxebtMr0wJnLuaexEqibZ9R"
           ],
           "name": "USA",
           "slug": "USA"
          },
          "playerType": "SKATER",
          "position": "F",
          "status": "active"
         }
        ]
       },
       {
        "_links": {
         "first": "https://api.eliteprospects.com/v1/players?offset=0&limit=1000&apiKey=BbLo1zDgnGxebtMr0wJnLuaexEqibZ9R&name=Brett+Howden&dateOfBirth=1998-03-29&sort=name",
         "last": "https://api.eliteprospects.com/v1/players?offset=0&limit=1000&apiKey=BbLo1zDgnGxebtMr0wJnLuaexEqibZ9R&name=Brett+Howden&dateOfBirth=1998-03-29&sort=name",
         "next": null,
         "prev": null
        },
        "_meta": {
         "generatedAt": "2023-03-21T04:27:21.711980Z",
         "limit": 1000,
         "offset": 0,
         "totalRecords": 1
        },
        "data": [
         {
          "_links": [
           "https://api.eliteprospects.com/v1/players/232712?apiKey=BbLo1zDgnGxebtMr0wJnLuaexEqibZ9R"
          ],
          "dateOfBirth": "1998-03-29",
          "firstName": "Brett",
          "gender": "male",
          "id": 232712,
          "lastName": "Howden",
          "name": "Brett Howden",
          "nationality": {
           "_links": [
            "https://api.eliteprospects.com/v1/countries/CAN?apiKey=BbLo1zDgnGxebtMr0wJnLuaexEqibZ9R"
           ],
           "name": "Canada",
           "slug": "CAN"
          },
          "playerType": "SKATER",
          "position": "F",
          "status": "active"
         }
        ]
       },
       {
        "_links": {
         "first": "https://api.eliteprospects.com/v1/players?offset=0&limit=1000&apiKey=BbLo1zDgnGxebtMr0wJnLuaexEqibZ9R&name=Lucas+Johansen&dateOfBirth=1997-11-16&sort=name",
         "last": "https://api.eliteprospects.com/v1/players?offset=0&limit=1000&apiKey=BbLo1zDgnGxebtMr0wJnLuaexEqibZ9R&name=Lucas+Johansen&dateOfBirth=1997-11-16&sort=name",
         "next": null,
         "prev": null
        },
        "_meta": {
         "generatedAt": "2023-03-21T04:27:22.170853Z",
         "limit": 1000,
         "offset": 0,
         "totalRecords": 1
        },
        "data": [
         {
          "_links": [
           "https://api.eliteprospects.com/v1/players/199937?apiKey=BbLo1zDgnGxebtMr0wJnLuaexEqibZ9R"
          ],
          "dateOfBirth": "1997-11-16",
          "firstName": "Lucas",
          "gender": "male",
          "id": 199937,
          "lastName": "Johansen",
          "name": "Lucas Johansen",
          "nationality": {
           "_links": [
            "https://api.eliteprospects.com/v1/countries/CAN?apiKey=BbLo1zDgnGxebtMr0wJnLuaexEqibZ9R"
           ],
           "name": "Canada",
           "slug": "CAN"
          },
          "playerType": "SKATER",
          "position": "D",
          "status": "active"
         }
        ]
       },
       {
        "_links": {
         "first": "https://api.eliteprospects.com/v1/players?offset=0&limit=1000&apiKey=BbLo1zDgnGxebtMr0wJnLuaexEqibZ9R&name=Trent+Frederic&dateOfBirth=1998-02-11&sort=name",
         "last": "https://api.eliteprospects.com/v1/players?offset=0&limit=1000&apiKey=BbLo1zDgnGxebtMr0wJnLuaexEqibZ9R&name=Trent+Frederic&dateOfBirth=1998-02-11&sort=name",
         "next": null,
         "prev": null
        },
        "_meta": {
         "generatedAt": "2023-03-21T04:27:22.587392Z",
         "limit": 1000,
         "offset": 0,
         "totalRecords": 1
        },
        "data": [
         {
          "_links": [
           "https://api.eliteprospects.com/v1/players/272221?apiKey=BbLo1zDgnGxebtMr0wJnLuaexEqibZ9R"
          ],
          "dateOfBirth": "1998-02-11",
          "firstName": "Trent",
          "gender": "male",
          "id": 272221,
          "lastName": "Frederic",
          "name": "Trent Frederic",
          "nationality": {
           "_links": [
            "https://api.eliteprospects.com/v1/countries/USA?apiKey=BbLo1zDgnGxebtMr0wJnLuaexEqibZ9R"
           ],
           "name": "USA",
           "slug": "USA"
          },
          "playerType": "SKATER",
          "position": "F",
          "status": "active"
         }
        ]
       },
       {
        "_links": {
         "first": "https://api.eliteprospects.com/v1/players?offset=0&limit=1000&apiKey=BbLo1zDgnGxebtMr0wJnLuaexEqibZ9R&name=Sam+Steel&dateOfBirth=1998-02-03&sort=name",
         "last": "https://api.eliteprospects.com/v1/players?offset=0&limit=1000&apiKey=BbLo1zDgnGxebtMr0wJnLuaexEqibZ9R&name=Sam+Steel&dateOfBirth=1998-02-03&sort=name",
         "next": null,
         "prev": null
        },
        "_meta": {
         "generatedAt": "2023-03-21T04:27:22.933127Z",
         "limit": 1000,
         "offset": 0,
         "totalRecords": 1
        },
        "data": [
         {
          "_links": [
           "https://api.eliteprospects.com/v1/players/154496?apiKey=BbLo1zDgnGxebtMr0wJnLuaexEqibZ9R"
          ],
          "dateOfBirth": "1998-02-03",
          "firstName": "Sam",
          "gender": "male",
          "id": 154496,
          "lastName": "Steel",
          "name": "Sam Steel",
          "nationality": {
           "_links": [
            "https://api.eliteprospects.com/v1/countries/CAN?apiKey=BbLo1zDgnGxebtMr0wJnLuaexEqibZ9R"
           ],
           "name": "Canada",
           "slug": "CAN"
          },
          "playerType": "SKATER",
          "position": "F",
          "status": "active"
         }
        ]
       },
       {
        "_links": {
         "first": "https://api.eliteprospects.com/v1/players?offset=0&limit=1000&apiKey=BbLo1zDgnGxebtMr0wJnLuaexEqibZ9R&name=Nico+Hischier&dateOfBirth=1999-01-04&sort=name",
         "last": "https://api.eliteprospects.com/v1/players?offset=0&limit=1000&apiKey=BbLo1zDgnGxebtMr0wJnLuaexEqibZ9R&name=Nico+Hischier&dateOfBirth=1999-01-04&sort=name",
         "next": null,
         "prev": null
        },
        "_meta": {
         "generatedAt": "2023-03-21T04:27:23.230134Z",
         "limit": 1000,
         "offset": 0,
         "totalRecords": 1
        },
        "data": [
         {
          "_links": [
           "https://api.eliteprospects.com/v1/players/116244?apiKey=BbLo1zDgnGxebtMr0wJnLuaexEqibZ9R"
          ],
          "dateOfBirth": "1999-01-04",
          "firstName": "Nico",
          "gender": "male",
          "id": 116244,
          "lastName": "Hischier",
          "name": "Nico Hischier",
          "nationality": {
           "_links": [
            "https://api.eliteprospects.com/v1/countries/CHE?apiKey=BbLo1zDgnGxebtMr0wJnLuaexEqibZ9R"
           ],
           "name": "Switzerland",
           "slug": "CHE"
          },
          "playerType": "SKATER",
          "position": "F",
          "status": "active"
         }
        ]
       },
       {
        "_links": {
         "first": "https://api.eliteprospects.com/v1/players?offset=0&limit=1000&apiKey=BbLo1zDgnGxebtMr0wJnLuaexEqibZ9R&name=Nolan+Patrick&dateOfBirth=1998-09-19&sort=name",
         "last": "https://api.eliteprospects.com/v1/players?offset=0&limit=1000&apiKey=BbLo1zDgnGxebtMr0wJnLuaexEqibZ9R&name=Nolan+Patrick&dateOfBirth=1998-09-19&sort=name",
         "next": null,
         "prev": null
        },
        "_meta": {
         "generatedAt": "2023-03-21T04:27:23.517064Z",
         "limit": 1000,
         "offset": 0,
         "totalRecords": 1
        },
        "data": [
         {
          "_links": [
           "https://api.eliteprospects.com/v1/players/201274?apiKey=BbLo1zDgnGxebtMr0wJnLuaexEqibZ9R"
          ],
          "dateOfBirth": "1998-09-19",
          "firstName": "Nolan",
          "gender": "male",
          "id": 201274,
          "lastName": "Patrick",
          "name": "Nolan Patrick",
          "nationality": {
           "_links": [
            "https://api.eliteprospects.com/v1/countries/CAN?apiKey=BbLo1zDgnGxebtMr0wJnLuaexEqibZ9R"
           ],
           "name": "Canada",
           "slug": "CAN"
          },
          "playerType": "SKATER",
          "position": "F",
          "status": "active"
         }
        ]
       },
       {
        "_links": {
         "first": "https://api.eliteprospects.com/v1/players?offset=0&limit=1000&apiKey=BbLo1zDgnGxebtMr0wJnLuaexEqibZ9R&name=Miro+Heiskanen&dateOfBirth=1999-07-18&sort=name",
         "last": "https://api.eliteprospects.com/v1/players?offset=0&limit=1000&apiKey=BbLo1zDgnGxebtMr0wJnLuaexEqibZ9R&name=Miro+Heiskanen&dateOfBirth=1999-07-18&sort=name",
         "next": null,
         "prev": null
        },
        "_meta": {
         "generatedAt": "2023-03-21T04:27:23.819131Z",
         "limit": 1000,
         "offset": 0,
         "totalRecords": 1
        },
        "data": [
         {
          "_links": [
           "https://api.eliteprospects.com/v1/players/250075?apiKey=BbLo1zDgnGxebtMr0wJnLuaexEqibZ9R"
          ],
          "dateOfBirth": "1999-07-18",
          "firstName": "Miro",
          "gender": "male",
          "id": 250075,
          "lastName": "Heiskanen",
          "name": "Miro Heiskanen",
          "nationality": {
           "_links": [
            "https://api.eliteprospects.com/v1/countries/FIN?apiKey=BbLo1zDgnGxebtMr0wJnLuaexEqibZ9R"
           ],
           "name": "Finland",
           "slug": "FIN"
          },
          "playerType": "SKATER",
          "position": "D",
          "status": "active"
         }
        ]
       },
       {
        "_links": {
         "first": "https://api.eliteprospects.com/v1/players?offset=0&limit=1000&apiKey=BbLo1zDgnGxebtMr0wJnLuaexEqibZ9R&name=Cale+Makar&dateOfBirth=1998-10-30&sort=name",
         "last": "https://api.eliteprospects.com/v1/players?offset=0&limit=1000&apiKey=BbLo1zDgnGxebtMr0wJnLuaexEqibZ9R&name=Cale+Makar&dateOfBirth=1998-10-30&sort=name",
         "next": null,
         "prev": null
        },
        "_meta": {
         "generatedAt": "2023-03-21T04:27:24.099360Z",
         "limit": 1000,
         "offset": 0,
         "totalRecords": 1
        },
        "data": [
         {
          "_links": [
           "https://api.eliteprospects.com/v1/players/199655?apiKey=BbLo1zDgnGxebtMr0wJnLuaexEqibZ9R"
          ],
          "dateOfBirth": "1998-10-30",
          "firstName": "Cale",
          "gender": "male",
          "id": 199655,
          "lastName": "Makar",
          "name": "Cale Makar",
          "nationality": {
           "_links": [
            "https://api.eliteprospects.com/v1/countries/CAN?apiKey=BbLo1zDgnGxebtMr0wJnLuaexEqibZ9R"
           ],
           "name": "Canada",
           "slug": "CAN"
          },
          "playerType": "SKATER",
          "position": "D",
          "status": "active"
         }
        ]
       },
       {
        "_links": {
         "first": "https://api.eliteprospects.com/v1/players?offset=0&limit=1000&apiKey=BbLo1zDgnGxebtMr0wJnLuaexEqibZ9R&name=Elias+Pettersson&dateOfBirth=1998-11-12&sort=name",
         "last": "https://api.eliteprospects.com/v1/players?offset=0&limit=1000&apiKey=BbLo1zDgnGxebtMr0wJnLuaexEqibZ9R&name=Elias+Pettersson&dateOfBirth=1998-11-12&sort=name",
         "next": null,
         "prev": null
        },
        "_meta": {
         "generatedAt": "2023-03-21T04:27:24.676305Z",
         "limit": 1000,
         "offset": 0,
         "totalRecords": 1
        },
        "data": [
         {
          "_links": [
           "https://api.eliteprospects.com/v1/players/266336?apiKey=BbLo1zDgnGxebtMr0wJnLuaexEqibZ9R"
          ],
          "dateOfBirth": "1998-11-12",
          "firstName": "Elias",
          "gender": "male",
          "id": 266336,
          "lastName": "Pettersson",
          "name": "Elias Pettersson",
          "nationality": {
           "_links": [
            "https://api.eliteprospects.com/v1/countries/SWE?apiKey=BbLo1zDgnGxebtMr0wJnLuaexEqibZ9R"
           ],
           "name": "Sweden",
           "slug": "SWE"
          },
          "playerType": "SKATER",
          "position": "F",
          "status": "active"
         }
        ]
       },
       {
        "_links": {
         "first": "https://api.eliteprospects.com/v1/players?offset=0&limit=1000&apiKey=BbLo1zDgnGxebtMr0wJnLuaexEqibZ9R&name=Cody+Glass&dateOfBirth=1999-04-01&sort=name",
         "last": "https://api.eliteprospects.com/v1/players?offset=0&limit=1000&apiKey=BbLo1zDgnGxebtMr0wJnLuaexEqibZ9R&name=Cody+Glass&dateOfBirth=1999-04-01&sort=name",
         "next": null,
         "prev": null
        },
        "_meta": {
         "generatedAt": "2023-03-21T04:27:25.762851Z",
         "limit": 1000,
         "offset": 0,
         "totalRecords": 1
        },
        "data": [
         {
          "_links": [
           "https://api.eliteprospects.com/v1/players/201704?apiKey=BbLo1zDgnGxebtMr0wJnLuaexEqibZ9R"
          ],
          "dateOfBirth": "1999-04-01",
          "firstName": "Cody",
          "gender": "male",
          "id": 201704,
          "lastName": "Glass",
          "name": "Cody Glass",
          "nationality": {
           "_links": [
            "https://api.eliteprospects.com/v1/countries/CAN?apiKey=BbLo1zDgnGxebtMr0wJnLuaexEqibZ9R"
           ],
           "name": "Canada",
           "slug": "CAN"
          },
          "playerType": "SKATER",
          "position": "F",
          "status": "active"
         }
        ]
       },
       {
        "_links": {
         "first": "https://api.eliteprospects.com/v1/players?offset=0&limit=1000&apiKey=BbLo1zDgnGxebtMr0wJnLuaexEqibZ9R&name=Lias+Andersson&dateOfBirth=1998-10-13&sort=name",
         "last": "https://api.eliteprospects.com/v1/players?offset=0&limit=1000&apiKey=BbLo1zDgnGxebtMr0wJnLuaexEqibZ9R&name=Lias+Andersson&dateOfBirth=1998-10-13&sort=name",
         "next": null,
         "prev": null
        },
        "_meta": {
         "generatedAt": "2023-03-21T04:27:26.175144Z",
         "limit": 1000,
         "offset": 0,
         "totalRecords": 1
        },
        "data": [
         {
          "_links": [
           "https://api.eliteprospects.com/v1/players/214318?apiKey=BbLo1zDgnGxebtMr0wJnLuaexEqibZ9R"
          ],
          "dateOfBirth": "1998-10-13",
          "firstName": "Lias",
          "gender": "male",
          "id": 214318,
          "lastName": "Andersson",
          "name": "Lias Andersson",
          "nationality": {
           "_links": [
            "https://api.eliteprospects.com/v1/countries/SWE?apiKey=BbLo1zDgnGxebtMr0wJnLuaexEqibZ9R"
           ],
           "name": "Sweden",
           "slug": "SWE"
          },
          "playerType": "SKATER",
          "position": "F",
          "status": "active"
         }
        ]
       },
       {
        "_links": {
         "first": "https://api.eliteprospects.com/v1/players?offset=0&limit=1000&apiKey=BbLo1zDgnGxebtMr0wJnLuaexEqibZ9R&name=Casey+Mittelstadt&dateOfBirth=1998-11-22&sort=name",
         "last": "https://api.eliteprospects.com/v1/players?offset=0&limit=1000&apiKey=BbLo1zDgnGxebtMr0wJnLuaexEqibZ9R&name=Casey+Mittelstadt&dateOfBirth=1998-11-22&sort=name",
         "next": null,
         "prev": null
        },
        "_meta": {
         "generatedAt": "2023-03-21T04:27:26.443951Z",
         "limit": 1000,
         "offset": 0,
         "totalRecords": 1
        },
        "data": [
         {
          "_links": [
           "https://api.eliteprospects.com/v1/players/300831?apiKey=BbLo1zDgnGxebtMr0wJnLuaexEqibZ9R"
          ],
          "dateOfBirth": "1998-11-22",
          "firstName": "Casey",
          "gender": "male",
          "id": 300831,
          "lastName": "Mittelstadt",
          "name": "Casey Mittelstadt",
          "nationality": {
           "_links": [
            "https://api.eliteprospects.com/v1/countries/USA?apiKey=BbLo1zDgnGxebtMr0wJnLuaexEqibZ9R"
           ],
           "name": "USA",
           "slug": "USA"
          },
          "playerType": "SKATER",
          "position": "F",
          "status": "active"
         }
        ]
       },
       {
        "_links": {
         "first": "https://api.eliteprospects.com/v1/players?offset=0&limit=1000&apiKey=BbLo1zDgnGxebtMr0wJnLuaexEqibZ9R&name=Michael+Rasmussen&dateOfBirth=1999-04-17&sort=name",
         "last": "https://api.eliteprospects.com/v1/players?offset=0&limit=1000&apiKey=BbLo1zDgnGxebtMr0wJnLuaexEqibZ9R&name=Michael+Rasmussen&dateOfBirth=1999-04-17&sort=name",
         "next": null,
         "prev": null
        },
        "_meta": {
         "generatedAt": "2023-03-21T04:27:26.731122Z",
         "limit": 1000,
         "offset": 0,
         "totalRecords": 1
        },
        "data": [
         {
          "_links": [
           "https://api.eliteprospects.com/v1/players/286738?apiKey=BbLo1zDgnGxebtMr0wJnLuaexEqibZ9R"
          ],
          "dateOfBirth": "1999-04-17",
          "firstName": "Michael",
          "gender": "male",
          "id": 286738,
          "lastName": "Rasmussen",
          "name": "Michael Rasmussen",
          "nationality": {
           "_links": [
            "https://api.eliteprospects.com/v1/countries/CAN?apiKey=BbLo1zDgnGxebtMr0wJnLuaexEqibZ9R"
           ],
           "name": "Canada",
           "slug": "CAN"
          },
          "playerType": "SKATER",
          "position": "F",
          "status": "active"
         }
        ]
       },
       {
        "_links": {
         "first": "https://api.eliteprospects.com/v1/players?offset=0&limit=1000&apiKey=BbLo1zDgnGxebtMr0wJnLuaexEqibZ9R&name=Owen+Tippett&dateOfBirth=1999-02-16&sort=name",
         "last": "https://api.eliteprospects.com/v1/players?offset=0&limit=1000&apiKey=BbLo1zDgnGxebtMr0wJnLuaexEqibZ9R&name=Owen+Tippett&dateOfBirth=1999-02-16&sort=name",
         "next": null,
         "prev": null
        },
        "_meta": {
         "generatedAt": "2023-03-21T04:27:27.087761Z",
         "limit": 1000,
         "offset": 0,
         "totalRecords": 1
        },
        "data": [
         {
          "_links": [
           "https://api.eliteprospects.com/v1/players/201664?apiKey=BbLo1zDgnGxebtMr0wJnLuaexEqibZ9R"
          ],
          "dateOfBirth": "1999-02-16",
          "firstName": "Owen",
          "gender": "male",
          "id": 201664,
          "lastName": "Tippett",
          "name": "Owen Tippett",
          "nationality": {
           "_links": [
            "https://api.eliteprospects.com/v1/countries/CAN?apiKey=BbLo1zDgnGxebtMr0wJnLuaexEqibZ9R"
           ],
           "name": "Canada",
           "slug": "CAN"
          },
          "playerType": "SKATER",
          "position": "F",
          "status": "active"
         }
        ]
       },
       {
        "_links": {
         "first": "https://api.eliteprospects.com/v1/players?offset=0&limit=1000&apiKey=BbLo1zDgnGxebtMr0wJnLuaexEqibZ9R&name=Gabriel+Vilardi&dateOfBirth=1999-08-16&sort=name",
         "last": "https://api.eliteprospects.com/v1/players?offset=0&limit=1000&apiKey=BbLo1zDgnGxebtMr0wJnLuaexEqibZ9R&name=Gabriel+Vilardi&dateOfBirth=1999-08-16&sort=name",
         "next": null,
         "prev": null
        },
        "_meta": {
         "generatedAt": "2023-03-21T04:27:27.492627Z",
         "limit": 1000,
         "offset": 0,
         "totalRecords": 1
        },
        "data": [
         {
          "_links": [
           "https://api.eliteprospects.com/v1/players/286867?apiKey=BbLo1zDgnGxebtMr0wJnLuaexEqibZ9R"
          ],
          "dateOfBirth": "1999-08-16",
          "firstName": "Gabriel",
          "gender": "male",
          "id": 286867,
          "lastName": "Vilardi",
          "name": "Gabriel Vilardi",
          "nationality": {
           "_links": [
            "https://api.eliteprospects.com/v1/countries/CAN?apiKey=BbLo1zDgnGxebtMr0wJnLuaexEqibZ9R"
           ],
           "name": "Canada",
           "slug": "CAN"
          },
          "playerType": "SKATER",
          "position": "F",
          "status": "active"
         }
        ]
       },
       {
        "_links": {
         "first": "https://api.eliteprospects.com/v1/players?offset=0&limit=1000&apiKey=BbLo1zDgnGxebtMr0wJnLuaexEqibZ9R&name=Martin+Necas&dateOfBirth=1999-01-15&sort=name",
         "last": "https://api.eliteprospects.com/v1/players?offset=0&limit=1000&apiKey=BbLo1zDgnGxebtMr0wJnLuaexEqibZ9R&name=Martin+Necas&dateOfBirth=1999-01-15&sort=name",
         "next": null,
         "prev": null
        },
        "_meta": {
         "generatedAt": "2023-03-21T04:27:27.834012Z",
         "limit": 1000,
         "offset": 0,
         "totalRecords": 1
        },
        "data": [
         {
          "_links": [
           "https://api.eliteprospects.com/v1/players/237071?apiKey=BbLo1zDgnGxebtMr0wJnLuaexEqibZ9R"
          ],
          "dateOfBirth": "1999-01-15",
          "firstName": "Martin",
          "gender": "male",
          "id": 237071,
          "lastName": "Necas",
          "name": "Martin Necas",
          "nationality": {
           "_links": [
            "https://api.eliteprospects.com/v1/countries/CZE?apiKey=BbLo1zDgnGxebtMr0wJnLuaexEqibZ9R"
           ],
           "name": "Czechia",
           "slug": "CZE"
          },
          "playerType": "SKATER",
          "position": "F",
          "status": "active"
         }
        ]
       },
       {
        "_links": {
         "first": "https://api.eliteprospects.com/v1/players?offset=0&limit=1000&apiKey=BbLo1zDgnGxebtMr0wJnLuaexEqibZ9R&name=Nick+Suzuki&dateOfBirth=1999-08-10&sort=name",
         "last": "https://api.eliteprospects.com/v1/players?offset=0&limit=1000&apiKey=BbLo1zDgnGxebtMr0wJnLuaexEqibZ9R&name=Nick+Suzuki&dateOfBirth=1999-08-10&sort=name",
         "next": null,
         "prev": null
        },
        "_meta": {
         "generatedAt": "2023-03-21T04:27:28.137065Z",
         "limit": 1000,
         "offset": 0,
         "totalRecords": 1
        },
        "data": [
         {
          "_links": [
           "https://api.eliteprospects.com/v1/players/300436?apiKey=BbLo1zDgnGxebtMr0wJnLuaexEqibZ9R"
          ],
          "dateOfBirth": "1999-08-10",
          "firstName": "Nick",
          "gender": "male",
          "id": 300436,
          "lastName": "Suzuki",
          "name": "Nick Suzuki",
          "nationality": {
           "_links": [
            "https://api.eliteprospects.com/v1/countries/CAN?apiKey=BbLo1zDgnGxebtMr0wJnLuaexEqibZ9R"
           ],
           "name": "Canada",
           "slug": "CAN"
          },
          "playerType": "SKATER",
          "position": "F",
          "status": "active"
         }
        ]
       },
       {
        "_links": {
         "first": "https://api.eliteprospects.com/v1/players?offset=0&limit=1000&apiKey=BbLo1zDgnGxebtMr0wJnLuaexEqibZ9R&name=Cal+Foote&dateOfBirth=1998-12-13&sort=name",
         "last": "https://api.eliteprospects.com/v1/players?offset=0&limit=1000&apiKey=BbLo1zDgnGxebtMr0wJnLuaexEqibZ9R&name=Cal+Foote&dateOfBirth=1998-12-13&sort=name",
         "next": null,
         "prev": null
        },
        "_meta": {
         "generatedAt": "2023-03-21T04:27:28.510974Z",
         "limit": 1000,
         "offset": 0,
         "totalRecords": 1
        },
        "data": [
         {
          "_links": [
           "https://api.eliteprospects.com/v1/players/247895?apiKey=BbLo1zDgnGxebtMr0wJnLuaexEqibZ9R"
          ],
          "dateOfBirth": "1998-12-13",
          "firstName": "Cal",
          "gender": "male",
          "id": 247895,
          "lastName": "Foote",
          "name": "Cal Foote",
          "nationality": {
           "_links": [
            "https://api.eliteprospects.com/v1/countries/CAN?apiKey=BbLo1zDgnGxebtMr0wJnLuaexEqibZ9R"
           ],
           "name": "Canada",
           "slug": "CAN"
          },
          "playerType": "SKATER",
          "position": "D",
          "status": "active"
         }
        ]
       },
       {
        "_links": {
         "first": "https://api.eliteprospects.com/v1/players?offset=0&limit=1000&apiKey=BbLo1zDgnGxebtMr0wJnLuaexEqibZ9R&name=Erik+Brannstrom&dateOfBirth=1999-09-02&sort=name",
         "last": "https://api.eliteprospects.com/v1/players?offset=0&limit=1000&apiKey=BbLo1zDgnGxebtMr0wJnLuaexEqibZ9R&name=Erik+Brannstrom&dateOfBirth=1999-09-02&sort=name",
         "next": null,
         "prev": null
        },
        "_meta": {
         "generatedAt": "2023-03-21T04:27:28.809300Z",
         "limit": 1000,
         "offset": 0,
         "totalRecords": 1
        },
        "data": [
         {
          "_links": [
           "https://api.eliteprospects.com/v1/players/255167?apiKey=BbLo1zDgnGxebtMr0wJnLuaexEqibZ9R"
          ],
          "dateOfBirth": "1999-09-02",
          "firstName": "Erik",
          "gender": "male",
          "id": 255167,
          "lastName": "Brännström",
          "name": "Erik Brännström",
          "nationality": {
           "_links": [
            "https://api.eliteprospects.com/v1/countries/SWE?apiKey=BbLo1zDgnGxebtMr0wJnLuaexEqibZ9R"
           ],
           "name": "Sweden",
           "slug": "SWE"
          },
          "playerType": "SKATER",
          "position": "D",
          "status": "active"
         }
        ]
       },
       {
        "_links": {
         "first": "https://api.eliteprospects.com/v1/players?offset=0&limit=1000&apiKey=BbLo1zDgnGxebtMr0wJnLuaexEqibZ9R&name=Juuso+Valimaki&dateOfBirth=1998-10-06&sort=name",
         "last": "https://api.eliteprospects.com/v1/players?offset=0&limit=1000&apiKey=BbLo1zDgnGxebtMr0wJnLuaexEqibZ9R&name=Juuso+Valimaki&dateOfBirth=1998-10-06&sort=name",
         "next": null,
         "prev": null
        },
        "_meta": {
         "generatedAt": "2023-03-21T04:27:29.228127Z",
         "limit": 1000,
         "offset": 0,
         "totalRecords": 1
        },
        "data": [
         {
          "_links": [
           "https://api.eliteprospects.com/v1/players/221525?apiKey=BbLo1zDgnGxebtMr0wJnLuaexEqibZ9R"
          ],
          "dateOfBirth": "1998-10-06",
          "firstName": "Juuso",
          "gender": "male",
          "id": 221525,
          "lastName": "Välimäki",
          "name": "Juuso Välimäki",
          "nationality": {
           "_links": [
            "https://api.eliteprospects.com/v1/countries/FIN?apiKey=BbLo1zDgnGxebtMr0wJnLuaexEqibZ9R"
           ],
           "name": "Finland",
           "slug": "FIN"
          },
          "playerType": "SKATER",
          "position": "D",
          "status": "active"
         }
        ]
       },
       {
        "_links": {
         "first": "https://api.eliteprospects.com/v1/players?offset=0&limit=1000&apiKey=BbLo1zDgnGxebtMr0wJnLuaexEqibZ9R&name=Timothy+Liljegren&dateOfBirth=1999-04-30&sort=name",
         "last": "https://api.eliteprospects.com/v1/players?offset=0&limit=1000&apiKey=BbLo1zDgnGxebtMr0wJnLuaexEqibZ9R&name=Timothy+Liljegren&dateOfBirth=1999-04-30&sort=name",
         "next": null,
         "prev": null
        },
        "_meta": {
         "generatedAt": "2023-03-21T04:27:29.531702Z",
         "limit": 1000,
         "offset": 0,
         "totalRecords": 1
        },
        "data": [
         {
          "_links": [
           "https://api.eliteprospects.com/v1/players/224910?apiKey=BbLo1zDgnGxebtMr0wJnLuaexEqibZ9R"
          ],
          "dateOfBirth": "1999-04-30",
          "firstName": "Timothy",
          "gender": "male",
          "id": 224910,
          "lastName": "Liljegren",
          "name": "Timothy Liljegren",
          "nationality": {
           "_links": [
            "https://api.eliteprospects.com/v1/countries/SWE?apiKey=BbLo1zDgnGxebtMr0wJnLuaexEqibZ9R"
           ],
           "name": "Sweden",
           "slug": "SWE"
          },
          "playerType": "SKATER",
          "position": "D",
          "status": "active"
         }
        ]
       },
       {
        "_links": {
         "first": "https://api.eliteprospects.com/v1/players?offset=0&limit=1000&apiKey=BbLo1zDgnGxebtMr0wJnLuaexEqibZ9R&name=Urho+Vaakanainen&dateOfBirth=1999-01-01&sort=name",
         "last": "https://api.eliteprospects.com/v1/players?offset=0&limit=1000&apiKey=BbLo1zDgnGxebtMr0wJnLuaexEqibZ9R&name=Urho+Vaakanainen&dateOfBirth=1999-01-01&sort=name",
         "next": null,
         "prev": null
        },
        "_meta": {
         "generatedAt": "2023-03-21T04:27:29.877504Z",
         "limit": 1000,
         "offset": 0,
         "totalRecords": 1
        },
        "data": [
         {
          "_links": [
           "https://api.eliteprospects.com/v1/players/180538?apiKey=BbLo1zDgnGxebtMr0wJnLuaexEqibZ9R"
          ],
          "dateOfBirth": "1999-01-01",
          "firstName": "Urho",
          "gender": "male",
          "id": 180538,
          "lastName": "Vaakanainen",
          "name": "Urho Vaakanainen",
          "nationality": {
           "_links": [
            "https://api.eliteprospects.com/v1/countries/FIN?apiKey=BbLo1zDgnGxebtMr0wJnLuaexEqibZ9R"
           ],
           "name": "Finland",
           "slug": "FIN"
          },
          "playerType": "SKATER",
          "position": "D",
          "status": "active"
         }
        ]
       },
       {
        "_links": {
         "first": "https://api.eliteprospects.com/v1/players?offset=0&limit=1000&apiKey=BbLo1zDgnGxebtMr0wJnLuaexEqibZ9R&name=Josh+Norris&dateOfBirth=1999-05-05&sort=name",
         "last": "https://api.eliteprospects.com/v1/players?offset=0&limit=1000&apiKey=BbLo1zDgnGxebtMr0wJnLuaexEqibZ9R&name=Josh+Norris&dateOfBirth=1999-05-05&sort=name",
         "next": null,
         "prev": null
        },
        "_meta": {
         "generatedAt": "2023-03-21T04:27:30.184517Z",
         "limit": 1000,
         "offset": 0,
         "totalRecords": 1
        },
        "data": [
         {
          "_links": [
           "https://api.eliteprospects.com/v1/players/273954?apiKey=BbLo1zDgnGxebtMr0wJnLuaexEqibZ9R"
          ],
          "dateOfBirth": "1999-05-05",
          "firstName": "Josh",
          "gender": "male",
          "id": 273954,
          "lastName": "Norris",
          "name": "Josh Norris",
          "nationality": {
           "_links": [
            "https://api.eliteprospects.com/v1/countries/USA?apiKey=BbLo1zDgnGxebtMr0wJnLuaexEqibZ9R"
           ],
           "name": "USA",
           "slug": "USA"
          },
          "playerType": "SKATER",
          "position": "F",
          "status": "active"
         }
        ]
       },
       {
        "_links": {
         "first": "https://api.eliteprospects.com/v1/players?offset=0&limit=1000&apiKey=BbLo1zDgnGxebtMr0wJnLuaexEqibZ9R&name=Robert+Thomas&dateOfBirth=1999-07-02&sort=name",
         "last": "https://api.eliteprospects.com/v1/players?offset=0&limit=1000&apiKey=BbLo1zDgnGxebtMr0wJnLuaexEqibZ9R&name=Robert+Thomas&dateOfBirth=1999-07-02&sort=name",
         "next": null,
         "prev": null
        },
        "_meta": {
         "generatedAt": "2023-03-21T04:27:30.512474Z",
         "limit": 1000,
         "offset": 0,
         "totalRecords": 1
        },
        "data": [
         {
          "_links": [
           "https://api.eliteprospects.com/v1/players/201681?apiKey=BbLo1zDgnGxebtMr0wJnLuaexEqibZ9R"
          ],
          "dateOfBirth": "1999-07-02",
          "firstName": "Robert",
          "gender": "male",
          "id": 201681,
          "lastName": "Thomas",
          "name": "Robert Thomas",
          "nationality": {
           "_links": [
            "https://api.eliteprospects.com/v1/countries/CAN?apiKey=BbLo1zDgnGxebtMr0wJnLuaexEqibZ9R"
           ],
           "name": "Canada",
           "slug": "CAN"
          },
          "playerType": "SKATER",
          "position": "F",
          "status": "active"
         }
        ]
       },
       {
        "_links": {
         "first": "https://api.eliteprospects.com/v1/players?offset=0&limit=1000&apiKey=BbLo1zDgnGxebtMr0wJnLuaexEqibZ9R&name=Filip+Chytil&dateOfBirth=1999-09-05&sort=name",
         "last": "https://api.eliteprospects.com/v1/players?offset=0&limit=1000&apiKey=BbLo1zDgnGxebtMr0wJnLuaexEqibZ9R&name=Filip+Chytil&dateOfBirth=1999-09-05&sort=name",
         "next": null,
         "prev": null
        },
        "_meta": {
         "generatedAt": "2023-03-21T04:27:30.858448Z",
         "limit": 1000,
         "offset": 0,
         "totalRecords": 1
        },
        "data": [
         {
          "_links": [
           "https://api.eliteprospects.com/v1/players/236806?apiKey=BbLo1zDgnGxebtMr0wJnLuaexEqibZ9R"
          ],
          "dateOfBirth": "1999-09-05",
          "firstName": "Filip",
          "gender": "male",
          "id": 236806,
          "lastName": "Chytil",
          "name": "Filip Chytil",
          "nationality": {
           "_links": [
            "https://api.eliteprospects.com/v1/countries/CZE?apiKey=BbLo1zDgnGxebtMr0wJnLuaexEqibZ9R"
           ],
           "name": "Czechia",
           "slug": "CZE"
          },
          "playerType": "SKATER",
          "position": "F",
          "status": "active"
         }
        ]
       },
       {
        "_links": {
         "first": "https://api.eliteprospects.com/v1/players?offset=0&limit=1000&apiKey=BbLo1zDgnGxebtMr0wJnLuaexEqibZ9R&name=Kailer+Yamamoto&dateOfBirth=1998-09-29&sort=name",
         "last": "https://api.eliteprospects.com/v1/players?offset=0&limit=1000&apiKey=BbLo1zDgnGxebtMr0wJnLuaexEqibZ9R&name=Kailer+Yamamoto&dateOfBirth=1998-09-29&sort=name",
         "next": null,
         "prev": null
        },
        "_meta": {
         "generatedAt": "2023-03-21T04:27:31.157848Z",
         "limit": 1000,
         "offset": 0,
         "totalRecords": 1
        },
        "data": [
         {
          "_links": [
           "https://api.eliteprospects.com/v1/players/247915?apiKey=BbLo1zDgnGxebtMr0wJnLuaexEqibZ9R"
          ],
          "dateOfBirth": "1998-09-29",
          "firstName": "Kailer",
          "gender": "male",
          "id": 247915,
          "lastName": "Yamamoto",
          "name": "Kailer Yamamoto",
          "nationality": {
           "_links": [
            "https://api.eliteprospects.com/v1/countries/USA?apiKey=BbLo1zDgnGxebtMr0wJnLuaexEqibZ9R"
           ],
           "name": "USA",
           "slug": "USA"
          },
          "playerType": "SKATER",
          "position": "F",
          "status": "active"
         }
        ]
       },
       {
        "_links": {
         "first": "https://api.eliteprospects.com/v1/players?offset=0&limit=1000&apiKey=BbLo1zDgnGxebtMr0wJnLuaexEqibZ9R&name=Pierre-Olivier+Joseph&dateOfBirth=1999-07-01&sort=name",
         "last": "https://api.eliteprospects.com/v1/players?offset=0&limit=1000&apiKey=BbLo1zDgnGxebtMr0wJnLuaexEqibZ9R&name=Pierre-Olivier+Joseph&dateOfBirth=1999-07-01&sort=name",
         "next": null,
         "prev": null
        },
        "_meta": {
         "generatedAt": "2023-03-21T04:27:31.460212Z",
         "limit": 1000,
         "offset": 0,
         "totalRecords": 1
        },
        "data": [
         {
          "_links": [
           "https://api.eliteprospects.com/v1/players/284911?apiKey=BbLo1zDgnGxebtMr0wJnLuaexEqibZ9R"
          ],
          "dateOfBirth": "1999-07-01",
          "firstName": "Pierre-Olivier",
          "gender": "male",
          "id": 284911,
          "lastName": "Joseph",
          "name": "Pierre-Olivier Joseph",
          "nationality": {
           "_links": [
            "https://api.eliteprospects.com/v1/countries/CAN?apiKey=BbLo1zDgnGxebtMr0wJnLuaexEqibZ9R"
           ],
           "name": "Canada",
           "slug": "CAN"
          },
          "playerType": "SKATER",
          "position": "D",
          "status": "active"
         }
        ]
       },
       {
        "_links": {
         "first": "https://api.eliteprospects.com/v1/players?offset=0&limit=1000&apiKey=BbLo1zDgnGxebtMr0wJnLuaexEqibZ9R&name=Kristian+Vesalainen&dateOfBirth=1999-06-01&sort=name",
         "last": "https://api.eliteprospects.com/v1/players?offset=0&limit=1000&apiKey=BbLo1zDgnGxebtMr0wJnLuaexEqibZ9R&name=Kristian+Vesalainen&dateOfBirth=1999-06-01&sort=name",
         "next": null,
         "prev": null
        },
        "_meta": {
         "generatedAt": "2023-03-21T04:27:31.810703Z",
         "limit": 1000,
         "offset": 0,
         "totalRecords": 1
        },
        "data": [
         {
          "_links": [
           "https://api.eliteprospects.com/v1/players/222125?apiKey=BbLo1zDgnGxebtMr0wJnLuaexEqibZ9R"
          ],
          "dateOfBirth": "1999-06-01",
          "firstName": "Kristian",
          "gender": "male",
          "id": 222125,
          "lastName": "Vesalainen",
          "name": "Kristian Vesalainen",
          "nationality": {
           "_links": [
            "https://api.eliteprospects.com/v1/countries/FIN?apiKey=BbLo1zDgnGxebtMr0wJnLuaexEqibZ9R"
           ],
           "name": "Finland",
           "slug": "FIN"
          },
          "playerType": "SKATER",
          "position": "F",
          "status": "active"
         }
        ]
       },
       {
        "_links": {
         "first": "https://api.eliteprospects.com/v1/players?offset=0&limit=1000&apiKey=BbLo1zDgnGxebtMr0wJnLuaexEqibZ9R&name=Ryan+Poehling&dateOfBirth=1999-01-03&sort=name",
         "last": "https://api.eliteprospects.com/v1/players?offset=0&limit=1000&apiKey=BbLo1zDgnGxebtMr0wJnLuaexEqibZ9R&name=Ryan+Poehling&dateOfBirth=1999-01-03&sort=name",
         "next": null,
         "prev": null
        },
        "_meta": {
         "generatedAt": "2023-03-21T04:27:32.143875Z",
         "limit": 1000,
         "offset": 0,
         "totalRecords": 1
        },
        "data": [
         {
          "_links": [
           "https://api.eliteprospects.com/v1/players/288045?apiKey=BbLo1zDgnGxebtMr0wJnLuaexEqibZ9R"
          ],
          "dateOfBirth": "1999-01-03",
          "firstName": "Ryan",
          "gender": "male",
          "id": 288045,
          "lastName": "Poehling",
          "name": "Ryan Poehling",
          "nationality": {
           "_links": [
            "https://api.eliteprospects.com/v1/countries/USA?apiKey=BbLo1zDgnGxebtMr0wJnLuaexEqibZ9R"
           ],
           "name": "USA",
           "slug": "USA"
          },
          "playerType": "SKATER",
          "position": "F",
          "status": "active"
         }
        ]
       },
       {
        "_links": {
         "first": "https://api.eliteprospects.com/v1/players?offset=0&limit=1000&apiKey=BbLo1zDgnGxebtMr0wJnLuaexEqibZ9R&name=Morgan+Frost&dateOfBirth=1999-05-14&sort=name",
         "last": "https://api.eliteprospects.com/v1/players?offset=0&limit=1000&apiKey=BbLo1zDgnGxebtMr0wJnLuaexEqibZ9R&name=Morgan+Frost&dateOfBirth=1999-05-14&sort=name",
         "next": null,
         "prev": null
        },
        "_meta": {
         "generatedAt": "2023-03-21T04:27:32.504891Z",
         "limit": 1000,
         "offset": 0,
         "totalRecords": 1
        },
        "data": [
         {
          "_links": [
           "https://api.eliteprospects.com/v1/players/317025?apiKey=BbLo1zDgnGxebtMr0wJnLuaexEqibZ9R"
          ],
          "dateOfBirth": "1999-05-14",
          "firstName": "Morgan",
          "gender": "male",
          "id": 317025,
          "lastName": "Frost",
          "name": "Morgan Frost",
          "nationality": {
           "_links": [
            "https://api.eliteprospects.com/v1/countries/CAN?apiKey=BbLo1zDgnGxebtMr0wJnLuaexEqibZ9R"
           ],
           "name": "Canada",
           "slug": "CAN"
          },
          "playerType": "SKATER",
          "position": "F",
          "status": "active"
         }
        ]
       },
       {
        "_links": {
         "first": "https://api.eliteprospects.com/v1/players?offset=0&limit=1000&apiKey=BbLo1zDgnGxebtMr0wJnLuaexEqibZ9R&name=Shane+Bowers&dateOfBirth=1999-07-30&sort=name",
         "last": "https://api.eliteprospects.com/v1/players?offset=0&limit=1000&apiKey=BbLo1zDgnGxebtMr0wJnLuaexEqibZ9R&name=Shane+Bowers&dateOfBirth=1999-07-30&sort=name",
         "next": null,
         "prev": null
        },
        "_meta": {
         "generatedAt": "2023-03-21T04:27:32.775426Z",
         "limit": 1000,
         "offset": 0,
         "totalRecords": 1
        },
        "data": [
         {
          "_links": [
           "https://api.eliteprospects.com/v1/players/216102?apiKey=BbLo1zDgnGxebtMr0wJnLuaexEqibZ9R"
          ],
          "dateOfBirth": "1999-07-30",
          "firstName": "Shane",
          "gender": "male",
          "id": 216102,
          "lastName": "Bowers",
          "name": "Shane Bowers",
          "nationality": {
           "_links": [
            "https://api.eliteprospects.com/v1/countries/CAN?apiKey=BbLo1zDgnGxebtMr0wJnLuaexEqibZ9R"
           ],
           "name": "Canada",
           "slug": "CAN"
          },
          "playerType": "SKATER",
          "position": "F",
          "status": "active"
         }
        ]
       },
       {
        "_links": {
         "first": "https://api.eliteprospects.com/v1/players?offset=0&limit=1000&apiKey=BbLo1zDgnGxebtMr0wJnLuaexEqibZ9R&name=Henri+Jokiharju&dateOfBirth=1999-06-17&sort=name",
         "last": "https://api.eliteprospects.com/v1/players?offset=0&limit=1000&apiKey=BbLo1zDgnGxebtMr0wJnLuaexEqibZ9R&name=Henri+Jokiharju&dateOfBirth=1999-06-17&sort=name",
         "next": null,
         "prev": null
        },
        "_meta": {
         "generatedAt": "2023-03-21T04:27:33.076336Z",
         "limit": 1000,
         "offset": 0,
         "totalRecords": 1
        },
        "data": [
         {
          "_links": [
           "https://api.eliteprospects.com/v1/players/277056?apiKey=BbLo1zDgnGxebtMr0wJnLuaexEqibZ9R"
          ],
          "dateOfBirth": "1999-06-17",
          "firstName": "Henri",
          "gender": "male",
          "id": 277056,
          "lastName": "Jokiharju",
          "name": "Henri Jokiharju",
          "nationality": {
           "_links": [
            "https://api.eliteprospects.com/v1/countries/FIN?apiKey=BbLo1zDgnGxebtMr0wJnLuaexEqibZ9R"
           ],
           "name": "Finland",
           "slug": "FIN"
          },
          "playerType": "SKATER",
          "position": "D",
          "status": "active"
         }
        ]
       },
       {
        "_links": {
         "first": "https://api.eliteprospects.com/v1/players?offset=0&limit=1000&apiKey=BbLo1zDgnGxebtMr0wJnLuaexEqibZ9R&name=Eeli+Tolvanen&dateOfBirth=1999-04-22&sort=name",
         "last": "https://api.eliteprospects.com/v1/players?offset=0&limit=1000&apiKey=BbLo1zDgnGxebtMr0wJnLuaexEqibZ9R&name=Eeli+Tolvanen&dateOfBirth=1999-04-22&sort=name",
         "next": null,
         "prev": null
        },
        "_meta": {
         "generatedAt": "2023-03-21T04:27:33.483310Z",
         "limit": 1000,
         "offset": 0,
         "totalRecords": 1
        },
        "data": [
         {
          "_links": [
           "https://api.eliteprospects.com/v1/players/249730?apiKey=BbLo1zDgnGxebtMr0wJnLuaexEqibZ9R"
          ],
          "dateOfBirth": "1999-04-22",
          "firstName": "Eeli",
          "gender": "male",
          "id": 249730,
          "lastName": "Tolvanen",
          "name": "Eeli Tolvanen",
          "nationality": {
           "_links": [
            "https://api.eliteprospects.com/v1/countries/FIN?apiKey=BbLo1zDgnGxebtMr0wJnLuaexEqibZ9R"
           ],
           "name": "Finland",
           "slug": "FIN"
          },
          "playerType": "SKATER",
          "position": "F",
          "status": "active"
         }
        ]
       },
       {
        "_links": {
         "first": "https://api.eliteprospects.com/v1/players?offset=0&limit=1000&apiKey=BbLo1zDgnGxebtMr0wJnLuaexEqibZ9R&name=Klim+Kostin&dateOfBirth=1999-05-05&sort=name",
         "last": "https://api.eliteprospects.com/v1/players?offset=0&limit=1000&apiKey=BbLo1zDgnGxebtMr0wJnLuaexEqibZ9R&name=Klim+Kostin&dateOfBirth=1999-05-05&sort=name",
         "next": null,
         "prev": null
        },
        "_meta": {
         "generatedAt": "2023-03-21T04:27:33.835528Z",
         "limit": 1000,
         "offset": 0,
         "totalRecords": 1
        },
        "data": [
         {
          "_links": [
           "https://api.eliteprospects.com/v1/players/312823?apiKey=BbLo1zDgnGxebtMr0wJnLuaexEqibZ9R"
          ],
          "dateOfBirth": "1999-05-05",
          "firstName": "Klim",
          "gender": "male",
          "id": 312823,
          "lastName": "Kostin",
          "name": "Klim Kostin",
          "nationality": {
           "_links": [
            "https://api.eliteprospects.com/v1/countries/RUS?apiKey=BbLo1zDgnGxebtMr0wJnLuaexEqibZ9R"
           ],
           "name": "Russia",
           "slug": "RUS"
          },
          "playerType": "SKATER",
          "position": "F",
          "status": "active"
         }
        ]
       },
       {
        "_links": {
         "first": "https://api.eliteprospects.com/v1/players?offset=0&limit=1000&apiKey=BbLo1zDgnGxebtMr0wJnLuaexEqibZ9R&name=Rasmus+Dahlin&dateOfBirth=2000-04-13&sort=name",
         "last": "https://api.eliteprospects.com/v1/players?offset=0&limit=1000&apiKey=BbLo1zDgnGxebtMr0wJnLuaexEqibZ9R&name=Rasmus+Dahlin&dateOfBirth=2000-04-13&sort=name",
         "next": null,
         "prev": null
        },
        "_meta": {
         "generatedAt": "2023-03-21T04:27:34.294273Z",
         "limit": 1000,
         "offset": 0,
         "totalRecords": 1
        },
        "data": [
         {
          "_links": [
           "https://api.eliteprospects.com/v1/players/310545?apiKey=BbLo1zDgnGxebtMr0wJnLuaexEqibZ9R"
          ],
          "dateOfBirth": "2000-04-13",
          "firstName": "Rasmus",
          "gender": "male",
          "id": 310545,
          "lastName": "Dahlin",
          "name": "Rasmus Dahlin",
          "nationality": {
           "_links": [
            "https://api.eliteprospects.com/v1/countries/SWE?apiKey=BbLo1zDgnGxebtMr0wJnLuaexEqibZ9R"
           ],
           "name": "Sweden",
           "slug": "SWE"
          },
          "playerType": "SKATER",
          "position": "D",
          "status": "active"
         }
        ]
       },
       {
        "_links": {
         "first": "https://api.eliteprospects.com/v1/players?offset=0&limit=1000&apiKey=BbLo1zDgnGxebtMr0wJnLuaexEqibZ9R&name=Andrei+Svechnikov&dateOfBirth=2000-03-26&sort=name",
         "last": "https://api.eliteprospects.com/v1/players?offset=0&limit=1000&apiKey=BbLo1zDgnGxebtMr0wJnLuaexEqibZ9R&name=Andrei+Svechnikov&dateOfBirth=2000-03-26&sort=name",
         "next": null,
         "prev": null
        },
        "_meta": {
         "generatedAt": "2023-03-21T04:27:35.175621Z",
         "limit": 1000,
         "offset": 0,
         "totalRecords": 1
        },
        "data": [
         {
          "_links": [
           "https://api.eliteprospects.com/v1/players/328556?apiKey=BbLo1zDgnGxebtMr0wJnLuaexEqibZ9R"
          ],
          "dateOfBirth": "2000-03-26",
          "firstName": "Andrei",
          "gender": "male",
          "id": 328556,
          "lastName": "Svechnikov",
          "name": "Andrei Svechnikov",
          "nationality": {
           "_links": [
            "https://api.eliteprospects.com/v1/countries/RUS?apiKey=BbLo1zDgnGxebtMr0wJnLuaexEqibZ9R"
           ],
           "name": "Russia",
           "slug": "RUS"
          },
          "playerType": "SKATER",
          "position": "F",
          "status": "active"
         }
        ]
       },
       {
        "_links": {
         "first": "https://api.eliteprospects.com/v1/players?offset=0&limit=1000&apiKey=BbLo1zDgnGxebtMr0wJnLuaexEqibZ9R&name=Jesperi+Kotkaniemi&dateOfBirth=2000-07-06&sort=name",
         "last": "https://api.eliteprospects.com/v1/players?offset=0&limit=1000&apiKey=BbLo1zDgnGxebtMr0wJnLuaexEqibZ9R&name=Jesperi+Kotkaniemi&dateOfBirth=2000-07-06&sort=name",
         "next": null,
         "prev": null
        },
        "_meta": {
         "generatedAt": "2023-03-21T04:27:36.104246Z",
         "limit": 1000,
         "offset": 0,
         "totalRecords": 1
        },
        "data": [
         {
          "_links": [
           "https://api.eliteprospects.com/v1/players/363872?apiKey=BbLo1zDgnGxebtMr0wJnLuaexEqibZ9R"
          ],
          "dateOfBirth": "2000-07-06",
          "firstName": "Jesperi",
          "gender": "male",
          "id": 363872,
          "lastName": "Kotkaniemi",
          "name": "Jesperi Kotkaniemi",
          "nationality": {
           "_links": [
            "https://api.eliteprospects.com/v1/countries/FIN?apiKey=BbLo1zDgnGxebtMr0wJnLuaexEqibZ9R"
           ],
           "name": "Finland",
           "slug": "FIN"
          },
          "playerType": "SKATER",
          "position": "F",
          "status": "active"
         }
        ]
       },
       {
        "_links": {
         "first": "https://api.eliteprospects.com/v1/players?offset=0&limit=1000&apiKey=BbLo1zDgnGxebtMr0wJnLuaexEqibZ9R&name=Brady+Tkachuk&dateOfBirth=1999-09-16&sort=name",
         "last": "https://api.eliteprospects.com/v1/players?offset=0&limit=1000&apiKey=BbLo1zDgnGxebtMr0wJnLuaexEqibZ9R&name=Brady+Tkachuk&dateOfBirth=1999-09-16&sort=name",
         "next": null,
         "prev": null
        },
        "_meta": {
         "generatedAt": "2023-03-21T04:27:36.379109Z",
         "limit": 1000,
         "offset": 0,
         "totalRecords": 1
        },
        "data": [
         {
          "_links": [
           "https://api.eliteprospects.com/v1/players/201473?apiKey=BbLo1zDgnGxebtMr0wJnLuaexEqibZ9R"
          ],
          "dateOfBirth": "1999-09-16",
          "firstName": "Brady",
          "gender": "male",
          "id": 201473,
          "lastName": "Tkachuk",
          "name": "Brady Tkachuk",
          "nationality": {
           "_links": [
            "https://api.eliteprospects.com/v1/countries/USA?apiKey=BbLo1zDgnGxebtMr0wJnLuaexEqibZ9R"
           ],
           "name": "USA",
           "slug": "USA"
          },
          "playerType": "SKATER",
          "position": "F",
          "status": "active"
         }
        ]
       },
       {
        "_links": {
         "first": "https://api.eliteprospects.com/v1/players?offset=0&limit=1000&apiKey=BbLo1zDgnGxebtMr0wJnLuaexEqibZ9R&name=Barrett+Hayton&dateOfBirth=2000-06-09&sort=name",
         "last": "https://api.eliteprospects.com/v1/players?offset=0&limit=1000&apiKey=BbLo1zDgnGxebtMr0wJnLuaexEqibZ9R&name=Barrett+Hayton&dateOfBirth=2000-06-09&sort=name",
         "next": null,
         "prev": null
        },
        "_meta": {
         "generatedAt": "2023-03-21T04:27:36.664540Z",
         "limit": 1000,
         "offset": 0,
         "totalRecords": 1
        },
        "data": [
         {
          "_links": [
           "https://api.eliteprospects.com/v1/players/317885?apiKey=BbLo1zDgnGxebtMr0wJnLuaexEqibZ9R"
          ],
          "dateOfBirth": "2000-06-09",
          "firstName": "Barrett",
          "gender": "male",
          "id": 317885,
          "lastName": "Hayton",
          "name": "Barrett Hayton",
          "nationality": {
           "_links": [
            "https://api.eliteprospects.com/v1/countries/CAN?apiKey=BbLo1zDgnGxebtMr0wJnLuaexEqibZ9R"
           ],
           "name": "Canada",
           "slug": "CAN"
          },
          "playerType": "SKATER",
          "position": "F",
          "status": "active"
         }
        ]
       },
       {
        "_links": {
         "first": "https://api.eliteprospects.com/v1/players?offset=0&limit=1000&apiKey=BbLo1zDgnGxebtMr0wJnLuaexEqibZ9R&name=Filip+Zadina&dateOfBirth=1999-11-27&sort=name",
         "last": "https://api.eliteprospects.com/v1/players?offset=0&limit=1000&apiKey=BbLo1zDgnGxebtMr0wJnLuaexEqibZ9R&name=Filip+Zadina&dateOfBirth=1999-11-27&sort=name",
         "next": null,
         "prev": null
        },
        "_meta": {
         "generatedAt": "2023-03-21T04:27:36.937158Z",
         "limit": 1000,
         "offset": 0,
         "totalRecords": 1
        },
        "data": [
         {
          "_links": [
           "https://api.eliteprospects.com/v1/players/236471?apiKey=BbLo1zDgnGxebtMr0wJnLuaexEqibZ9R"
          ],
          "dateOfBirth": "1999-11-27",
          "firstName": "Filip",
          "gender": "male",
          "id": 236471,
          "lastName": "Zadina",
          "name": "Filip Zadina",
          "nationality": {
           "_links": [
            "https://api.eliteprospects.com/v1/countries/CZE?apiKey=BbLo1zDgnGxebtMr0wJnLuaexEqibZ9R"
           ],
           "name": "Czechia",
           "slug": "CZE"
          },
          "playerType": "SKATER",
          "position": "F",
          "status": "active"
         }
        ]
       },
       {
        "_links": {
         "first": "https://api.eliteprospects.com/v1/players?offset=0&limit=1000&apiKey=BbLo1zDgnGxebtMr0wJnLuaexEqibZ9R&name=Quinn+Hughes&dateOfBirth=1999-10-14&sort=name",
         "last": "https://api.eliteprospects.com/v1/players?offset=0&limit=1000&apiKey=BbLo1zDgnGxebtMr0wJnLuaexEqibZ9R&name=Quinn+Hughes&dateOfBirth=1999-10-14&sort=name",
         "next": null,
         "prev": null
        },
        "_meta": {
         "generatedAt": "2023-03-21T04:27:37.205986Z",
         "limit": 1000,
         "offset": 0,
         "totalRecords": 1
        },
        "data": [
         {
          "_links": [
           "https://api.eliteprospects.com/v1/players/201671?apiKey=BbLo1zDgnGxebtMr0wJnLuaexEqibZ9R"
          ],
          "dateOfBirth": "1999-10-14",
          "firstName": "Quinn",
          "gender": "male",
          "id": 201671,
          "lastName": "Hughes",
          "name": "Quinn Hughes",
          "nationality": {
           "_links": [
            "https://api.eliteprospects.com/v1/countries/USA?apiKey=BbLo1zDgnGxebtMr0wJnLuaexEqibZ9R"
           ],
           "name": "USA",
           "slug": "USA"
          },
          "playerType": "SKATER",
          "position": "D",
          "status": "active"
         }
        ]
       },
       {
        "_links": {
         "first": "https://api.eliteprospects.com/v1/players?offset=0&limit=1000&apiKey=BbLo1zDgnGxebtMr0wJnLuaexEqibZ9R&name=Adam+Boqvist&dateOfBirth=2000-08-15&sort=name",
         "last": "https://api.eliteprospects.com/v1/players?offset=0&limit=1000&apiKey=BbLo1zDgnGxebtMr0wJnLuaexEqibZ9R&name=Adam+Boqvist&dateOfBirth=2000-08-15&sort=name",
         "next": null,
         "prev": null
        },
        "_meta": {
         "generatedAt": "2023-03-21T04:27:37.578580Z",
         "limit": 1000,
         "offset": 0,
         "totalRecords": 1
        },
        "data": [
         {
          "_links": [
           "https://api.eliteprospects.com/v1/players/265684?apiKey=BbLo1zDgnGxebtMr0wJnLuaexEqibZ9R"
          ],
          "dateOfBirth": "2000-08-15",
          "firstName": "Adam",
          "gender": "male",
          "id": 265684,
          "lastName": "Boqvist",
          "name": "Adam Boqvist",
          "nationality": {
           "_links": [
            "https://api.eliteprospects.com/v1/countries/SWE?apiKey=BbLo1zDgnGxebtMr0wJnLuaexEqibZ9R"
           ],
           "name": "Sweden",
           "slug": "SWE"
          },
          "playerType": "SKATER",
          "position": "D",
          "status": "active"
         }
        ]
       },
       {
        "_links": {
         "first": "https://api.eliteprospects.com/v1/players?offset=0&limit=1000&apiKey=BbLo1zDgnGxebtMr0wJnLuaexEqibZ9R&name=Vitali+Kravtsov&dateOfBirth=1999-12-23&sort=name",
         "last": "https://api.eliteprospects.com/v1/players?offset=0&limit=1000&apiKey=BbLo1zDgnGxebtMr0wJnLuaexEqibZ9R&name=Vitali+Kravtsov&dateOfBirth=1999-12-23&sort=name",
         "next": null,
         "prev": null
        },
        "_meta": {
         "generatedAt": "2023-03-21T04:27:37.875300Z",
         "limit": 1000,
         "offset": 0,
         "totalRecords": 1
        },
        "data": [
         {
          "_links": [
           "https://api.eliteprospects.com/v1/players/379749?apiKey=BbLo1zDgnGxebtMr0wJnLuaexEqibZ9R"
          ],
          "dateOfBirth": "1999-12-23",
          "firstName": "Vitali",
          "gender": "male",
          "id": 379749,
          "lastName": "Kravtsov",
          "name": "Vitali Kravtsov",
          "nationality": {
           "_links": [
            "https://api.eliteprospects.com/v1/countries/RUS?apiKey=BbLo1zDgnGxebtMr0wJnLuaexEqibZ9R"
           ],
           "name": "Russia",
           "slug": "RUS"
          },
          "playerType": "SKATER",
          "position": "F",
          "status": "active"
         }
        ]
       },
       {
        "_links": {
         "first": "https://api.eliteprospects.com/v1/players?offset=0&limit=1000&apiKey=BbLo1zDgnGxebtMr0wJnLuaexEqibZ9R&name=Evan+Bouchard&dateOfBirth=1999-10-20&sort=name",
         "last": "https://api.eliteprospects.com/v1/players?offset=0&limit=1000&apiKey=BbLo1zDgnGxebtMr0wJnLuaexEqibZ9R&name=Evan+Bouchard&dateOfBirth=1999-10-20&sort=name",
         "next": null,
         "prev": null
        },
        "_meta": {
         "generatedAt": "2023-03-21T04:27:38.156711Z",
         "limit": 1000,
         "offset": 0,
         "totalRecords": 1
        },
        "data": [
         {
          "_links": [
           "https://api.eliteprospects.com/v1/players/300591?apiKey=BbLo1zDgnGxebtMr0wJnLuaexEqibZ9R"
          ],
          "dateOfBirth": "1999-10-20",
          "firstName": "Evan",
          "gender": "male",
          "id": 300591,
          "lastName": "Bouchard",
          "name": "Evan Bouchard",
          "nationality": {
           "_links": [
            "https://api.eliteprospects.com/v1/countries/CAN?apiKey=BbLo1zDgnGxebtMr0wJnLuaexEqibZ9R"
           ],
           "name": "Canada",
           "slug": "CAN"
          },
          "playerType": "SKATER",
          "position": "D",
          "status": "active"
         }
        ]
       },
       {
        "_links": {
         "first": "https://api.eliteprospects.com/v1/players?offset=0&limit=1000&apiKey=BbLo1zDgnGxebtMr0wJnLuaexEqibZ9R&name=Oliver+Wahlstrom&dateOfBirth=2000-06-13&sort=name",
         "last": "https://api.eliteprospects.com/v1/players?offset=0&limit=1000&apiKey=BbLo1zDgnGxebtMr0wJnLuaexEqibZ9R&name=Oliver+Wahlstrom&dateOfBirth=2000-06-13&sort=name",
         "next": null,
         "prev": null
        },
        "_meta": {
         "generatedAt": "2023-03-21T04:27:38.460012Z",
         "limit": 1000,
         "offset": 0,
         "totalRecords": 1
        },
        "data": [
         {
          "_links": [
           "https://api.eliteprospects.com/v1/players/241370?apiKey=BbLo1zDgnGxebtMr0wJnLuaexEqibZ9R"
          ],
          "dateOfBirth": "2000-06-13",
          "firstName": "Oliver",
          "gender": "male",
          "id": 241370,
          "lastName": "Wahlstrom",
          "name": "Oliver Wahlstrom",
          "nationality": {
           "_links": [
            "https://api.eliteprospects.com/v1/countries/USA?apiKey=BbLo1zDgnGxebtMr0wJnLuaexEqibZ9R"
           ],
           "name": "USA",
           "slug": "USA"
          },
          "playerType": "SKATER",
          "position": "F",
          "status": "active"
         }
        ]
       },
       {
        "_links": {
         "first": "https://api.eliteprospects.com/v1/players?offset=0&limit=1000&apiKey=BbLo1zDgnGxebtMr0wJnLuaexEqibZ9R&name=Noah+Dobson&dateOfBirth=2000-01-07&sort=name",
         "last": "https://api.eliteprospects.com/v1/players?offset=0&limit=1000&apiKey=BbLo1zDgnGxebtMr0wJnLuaexEqibZ9R&name=Noah+Dobson&dateOfBirth=2000-01-07&sort=name",
         "next": null,
         "prev": null
        },
        "_meta": {
         "generatedAt": "2023-03-21T04:27:38.726020Z",
         "limit": 1000,
         "offset": 0,
         "totalRecords": 1
        },
        "data": [
         {
          "_links": [
           "https://api.eliteprospects.com/v1/players/275797?apiKey=BbLo1zDgnGxebtMr0wJnLuaexEqibZ9R"
          ],
          "dateOfBirth": "2000-01-07",
          "firstName": "Noah",
          "gender": "male",
          "id": 275797,
          "lastName": "Dobson",
          "name": "Noah Dobson",
          "nationality": {
           "_links": [
            "https://api.eliteprospects.com/v1/countries/CAN?apiKey=BbLo1zDgnGxebtMr0wJnLuaexEqibZ9R"
           ],
           "name": "Canada",
           "slug": "CAN"
          },
          "playerType": "SKATER",
          "position": "D",
          "status": "active"
         }
        ]
       },
       {
        "_links": {
         "first": "https://api.eliteprospects.com/v1/players?offset=0&limit=1000&apiKey=BbLo1zDgnGxebtMr0wJnLuaexEqibZ9R&name=Ty+Dellandrea&dateOfBirth=2000-07-21&sort=name",
         "last": "https://api.eliteprospects.com/v1/players?offset=0&limit=1000&apiKey=BbLo1zDgnGxebtMr0wJnLuaexEqibZ9R&name=Ty+Dellandrea&dateOfBirth=2000-07-21&sort=name",
         "next": null,
         "prev": null
        },
        "_meta": {
         "generatedAt": "2023-03-21T04:27:38.989386Z",
         "limit": 1000,
         "offset": 0,
         "totalRecords": 1
        },
        "data": [
         {
          "_links": [
           "https://api.eliteprospects.com/v1/players/399353?apiKey=BbLo1zDgnGxebtMr0wJnLuaexEqibZ9R"
          ],
          "dateOfBirth": "2000-07-21",
          "firstName": "Ty",
          "gender": "male",
          "id": 399353,
          "lastName": "Dellandrea",
          "name": "Ty Dellandrea",
          "nationality": {
           "_links": [
            "https://api.eliteprospects.com/v1/countries/CAN?apiKey=BbLo1zDgnGxebtMr0wJnLuaexEqibZ9R"
           ],
           "name": "Canada",
           "slug": "CAN"
          },
          "playerType": "SKATER",
          "position": "F",
          "status": "active"
         }
        ]
       },
       {
        "_links": {
         "first": "https://api.eliteprospects.com/v1/players?offset=0&limit=1000&apiKey=BbLo1zDgnGxebtMr0wJnLuaexEqibZ9R&name=Joel+Farabee&dateOfBirth=2000-02-25&sort=name",
         "last": "https://api.eliteprospects.com/v1/players?offset=0&limit=1000&apiKey=BbLo1zDgnGxebtMr0wJnLuaexEqibZ9R&name=Joel+Farabee&dateOfBirth=2000-02-25&sort=name",
         "next": null,
         "prev": null
        },
        "_meta": {
         "generatedAt": "2023-03-21T04:27:39.273908Z",
         "limit": 1000,
         "offset": 0,
         "totalRecords": 1
        },
        "data": [
         {
          "_links": [
           "https://api.eliteprospects.com/v1/players/334036?apiKey=BbLo1zDgnGxebtMr0wJnLuaexEqibZ9R"
          ],
          "dateOfBirth": "2000-02-25",
          "firstName": "Joel",
          "gender": "male",
          "id": 334036,
          "lastName": "Farabee",
          "name": "Joel Farabee",
          "nationality": {
           "_links": [
            "https://api.eliteprospects.com/v1/countries/USA?apiKey=BbLo1zDgnGxebtMr0wJnLuaexEqibZ9R"
           ],
           "name": "USA",
           "slug": "USA"
          },
          "playerType": "SKATER",
          "position": "F",
          "status": "active"
         }
        ]
       },
       {
        "_links": {
         "first": "https://api.eliteprospects.com/v1/players?offset=0&limit=1000&apiKey=BbLo1zDgnGxebtMr0wJnLuaexEqibZ9R&name=Grigori+Denisenko&dateOfBirth=2000-06-24&sort=name",
         "last": "https://api.eliteprospects.com/v1/players?offset=0&limit=1000&apiKey=BbLo1zDgnGxebtMr0wJnLuaexEqibZ9R&name=Grigori+Denisenko&dateOfBirth=2000-06-24&sort=name",
         "next": null,
         "prev": null
        },
        "_meta": {
         "generatedAt": "2023-03-21T04:27:39.573890Z",
         "limit": 1000,
         "offset": 0,
         "totalRecords": 1
        },
        "data": [
         {
          "_links": [
           "https://api.eliteprospects.com/v1/players/312827?apiKey=BbLo1zDgnGxebtMr0wJnLuaexEqibZ9R"
          ],
          "dateOfBirth": "2000-06-24",
          "firstName": "Grigori",
          "gender": "male",
          "id": 312827,
          "lastName": "Denisenko",
          "name": "Grigori Denisenko",
          "nationality": {
           "_links": [
            "https://api.eliteprospects.com/v1/countries/RUS?apiKey=BbLo1zDgnGxebtMr0wJnLuaexEqibZ9R"
           ],
           "name": "Russia",
           "slug": "RUS"
          },
          "playerType": "SKATER",
          "position": "F",
          "status": "active"
         }
        ]
       },
       {
        "_links": {
         "first": "https://api.eliteprospects.com/v1/players?offset=0&limit=1000&apiKey=BbLo1zDgnGxebtMr0wJnLuaexEqibZ9R&name=Martin+Kaut&dateOfBirth=1999-10-02&sort=name",
         "last": "https://api.eliteprospects.com/v1/players?offset=0&limit=1000&apiKey=BbLo1zDgnGxebtMr0wJnLuaexEqibZ9R&name=Martin+Kaut&dateOfBirth=1999-10-02&sort=name",
         "next": null,
         "prev": null
        },
        "_meta": {
         "generatedAt": "2023-03-21T04:27:39.921498Z",
         "limit": 1000,
         "offset": 0,
         "totalRecords": 1
        },
        "data": [
         {
          "_links": [
           "https://api.eliteprospects.com/v1/players/237068?apiKey=BbLo1zDgnGxebtMr0wJnLuaexEqibZ9R"
          ],
          "dateOfBirth": "1999-10-02",
          "firstName": "Martin",
          "gender": "male",
          "id": 237068,
          "lastName": "Kaut",
          "name": "Martin Kaut",
          "nationality": {
           "_links": [
            "https://api.eliteprospects.com/v1/countries/CZE?apiKey=BbLo1zDgnGxebtMr0wJnLuaexEqibZ9R"
           ],
           "name": "Czechia",
           "slug": "CZE"
          },
          "playerType": "SKATER",
          "position": "F",
          "status": "active"
         }
        ]
       },
       {
        "_links": {
         "first": "https://api.eliteprospects.com/v1/players?offset=0&limit=1000&apiKey=BbLo1zDgnGxebtMr0wJnLuaexEqibZ9R&name=Ty+Smith&dateOfBirth=2000-03-24&sort=name",
         "last": "https://api.eliteprospects.com/v1/players?offset=0&limit=1000&apiKey=BbLo1zDgnGxebtMr0wJnLuaexEqibZ9R&name=Ty+Smith&dateOfBirth=2000-03-24&sort=name",
         "next": null,
         "prev": null
        },
        "_meta": {
         "generatedAt": "2023-03-21T04:27:40.192719Z",
         "limit": 1000,
         "offset": 0,
         "totalRecords": 1
        },
        "data": [
         {
          "_links": [
           "https://api.eliteprospects.com/v1/players/281814?apiKey=BbLo1zDgnGxebtMr0wJnLuaexEqibZ9R"
          ],
          "dateOfBirth": "2000-03-24",
          "firstName": "Ty",
          "gender": "male",
          "id": 281814,
          "lastName": "Smith",
          "name": "Ty Smith",
          "nationality": {
           "_links": [
            "https://api.eliteprospects.com/v1/countries/CAN?apiKey=BbLo1zDgnGxebtMr0wJnLuaexEqibZ9R"
           ],
           "name": "Canada",
           "slug": "CAN"
          },
          "playerType": "SKATER",
          "position": "D",
          "status": "active"
         }
        ]
       },
       {
        "_links": {
         "first": "https://api.eliteprospects.com/v1/players?offset=0&limit=1000&apiKey=BbLo1zDgnGxebtMr0wJnLuaexEqibZ9R&name=Liam+Foudy&dateOfBirth=2000-02-04&sort=name",
         "last": "https://api.eliteprospects.com/v1/players?offset=0&limit=1000&apiKey=BbLo1zDgnGxebtMr0wJnLuaexEqibZ9R&name=Liam+Foudy&dateOfBirth=2000-02-04&sort=name",
         "next": null,
         "prev": null
        },
        "_meta": {
         "generatedAt": "2023-03-21T04:27:40.477538Z",
         "limit": 1000,
         "offset": 0,
         "totalRecords": 1
        },
        "data": [
         {
          "_links": [
           "https://api.eliteprospects.com/v1/players/397650?apiKey=BbLo1zDgnGxebtMr0wJnLuaexEqibZ9R"
          ],
          "dateOfBirth": "2000-02-04",
          "firstName": "Liam",
          "gender": "male",
          "id": 397650,
          "lastName": "Foudy",
          "name": "Liam Foudy",
          "nationality": {
           "_links": [
            "https://api.eliteprospects.com/v1/countries/CAN?apiKey=BbLo1zDgnGxebtMr0wJnLuaexEqibZ9R"
           ],
           "name": "Canada",
           "slug": "CAN"
          },
          "playerType": "SKATER",
          "position": "F",
          "status": "active"
         }
        ]
       },
       {
        "_links": {
         "first": "https://api.eliteprospects.com/v1/players?offset=0&limit=1000&apiKey=BbLo1zDgnGxebtMr0wJnLuaexEqibZ9R&name=Jay+O%27Brien&dateOfBirth=1999-11-04&sort=name",
         "last": "https://api.eliteprospects.com/v1/players?offset=0&limit=1000&apiKey=BbLo1zDgnGxebtMr0wJnLuaexEqibZ9R&name=Jay+O%27Brien&dateOfBirth=1999-11-04&sort=name",
         "next": null,
         "prev": null
        },
        "_meta": {
         "generatedAt": "2023-03-21T04:27:40.900254Z",
         "limit": 1000,
         "offset": 0,
         "totalRecords": 1
        },
        "data": [
         {
          "_links": [
           "https://api.eliteprospects.com/v1/players/312015?apiKey=BbLo1zDgnGxebtMr0wJnLuaexEqibZ9R"
          ],
          "dateOfBirth": "1999-11-04",
          "firstName": "Jay",
          "gender": "male",
          "id": 312015,
          "lastName": "O'Brien",
          "name": "Jay O'Brien",
          "nationality": {
           "_links": [
            "https://api.eliteprospects.com/v1/countries/USA?apiKey=BbLo1zDgnGxebtMr0wJnLuaexEqibZ9R"
           ],
           "name": "USA",
           "slug": "USA"
          },
          "playerType": "SKATER",
          "position": "F",
          "status": "active"
         }
        ]
       },
       {
        "_links": {
         "first": "https://api.eliteprospects.com/v1/players?offset=0&limit=1000&apiKey=BbLo1zDgnGxebtMr0wJnLuaexEqibZ9R&name=Rasmus+Kupari&dateOfBirth=2000-03-15&sort=name",
         "last": "https://api.eliteprospects.com/v1/players?offset=0&limit=1000&apiKey=BbLo1zDgnGxebtMr0wJnLuaexEqibZ9R&name=Rasmus+Kupari&dateOfBirth=2000-03-15&sort=name",
         "next": null,
         "prev": null
        },
        "_meta": {
         "generatedAt": "2023-03-21T04:27:41.230842Z",
         "limit": 1000,
         "offset": 0,
         "totalRecords": 1
        },
        "data": [
         {
          "_links": [
           "https://api.eliteprospects.com/v1/players/319079?apiKey=BbLo1zDgnGxebtMr0wJnLuaexEqibZ9R"
          ],
          "dateOfBirth": "2000-03-15",
          "firstName": "Rasmus",
          "gender": "male",
          "id": 319079,
          "lastName": "Kupari",
          "name": "Rasmus Kupari",
          "nationality": {
           "_links": [
            "https://api.eliteprospects.com/v1/countries/FIN?apiKey=BbLo1zDgnGxebtMr0wJnLuaexEqibZ9R"
           ],
           "name": "Finland",
           "slug": "FIN"
          },
          "playerType": "SKATER",
          "position": "F",
          "status": "active"
         }
        ]
       },
       {
        "_links": {
         "first": "https://api.eliteprospects.com/v1/players?offset=0&limit=1000&apiKey=BbLo1zDgnGxebtMr0wJnLuaexEqibZ9R&name=Ryan+Merkley&dateOfBirth=2000-08-14&sort=name",
         "last": "https://api.eliteprospects.com/v1/players?offset=0&limit=1000&apiKey=BbLo1zDgnGxebtMr0wJnLuaexEqibZ9R&name=Ryan+Merkley&dateOfBirth=2000-08-14&sort=name",
         "next": null,
         "prev": null
        },
        "_meta": {
         "generatedAt": "2023-03-21T04:27:41.539743Z",
         "limit": 1000,
         "offset": 0,
         "totalRecords": 1
        },
        "data": [
         {
          "_links": [
           "https://api.eliteprospects.com/v1/players/273668?apiKey=BbLo1zDgnGxebtMr0wJnLuaexEqibZ9R"
          ],
          "dateOfBirth": "2000-08-14",
          "firstName": "Ryan",
          "gender": "male",
          "id": 273668,
          "lastName": "Merkley",
          "name": "Ryan Merkley",
          "nationality": {
           "_links": [
            "https://api.eliteprospects.com/v1/countries/CAN?apiKey=BbLo1zDgnGxebtMr0wJnLuaexEqibZ9R"
           ],
           "name": "Canada",
           "slug": "CAN"
          },
          "playerType": "SKATER",
          "position": "D",
          "status": "active"
         }
        ]
       },
       {
        "_links": {
         "first": "https://api.eliteprospects.com/v1/players?offset=0&limit=1000&apiKey=BbLo1zDgnGxebtMr0wJnLuaexEqibZ9R&name=K%27Andre+Miller&dateOfBirth=2000-01-21&sort=name",
         "last": "https://api.eliteprospects.com/v1/players?offset=0&limit=1000&apiKey=BbLo1zDgnGxebtMr0wJnLuaexEqibZ9R&name=K%27Andre+Miller&dateOfBirth=2000-01-21&sort=name",
         "next": null,
         "prev": null
        },
        "_meta": {
         "generatedAt": "2023-03-21T04:27:41.859671Z",
         "limit": 1000,
         "offset": 0,
         "totalRecords": 1
        },
        "data": [
         {
          "_links": [
           "https://api.eliteprospects.com/v1/players/308192?apiKey=BbLo1zDgnGxebtMr0wJnLuaexEqibZ9R"
          ],
          "dateOfBirth": "2000-01-21",
          "firstName": "K'Andre",
          "gender": "male",
          "id": 308192,
          "lastName": "Miller",
          "name": "K'Andre Miller",
          "nationality": {
           "_links": [
            "https://api.eliteprospects.com/v1/countries/USA?apiKey=BbLo1zDgnGxebtMr0wJnLuaexEqibZ9R"
           ],
           "name": "USA",
           "slug": "USA"
          },
          "playerType": "SKATER",
          "position": "D",
          "status": "active"
         }
        ]
       },
       {
        "_links": {
         "first": "https://api.eliteprospects.com/v1/players?offset=0&limit=1000&apiKey=BbLo1zDgnGxebtMr0wJnLuaexEqibZ9R&name=Isac+Lundestrom&dateOfBirth=1999-11-06&sort=name",
         "last": "https://api.eliteprospects.com/v1/players?offset=0&limit=1000&apiKey=BbLo1zDgnGxebtMr0wJnLuaexEqibZ9R&name=Isac+Lundestrom&dateOfBirth=1999-11-06&sort=name",
         "next": null,
         "prev": null
        },
        "_meta": {
         "generatedAt": "2023-03-21T04:27:42.162100Z",
         "limit": 1000,
         "offset": 0,
         "totalRecords": 1
        },
        "data": [
         {
          "_links": [
           "https://api.eliteprospects.com/v1/players/265570?apiKey=BbLo1zDgnGxebtMr0wJnLuaexEqibZ9R"
          ],
          "dateOfBirth": "1999-11-06",
          "firstName": "Isac",
          "gender": "male",
          "id": 265570,
          "lastName": "Lundeström",
          "name": "Isac Lundeström",
          "nationality": {
           "_links": [
            "https://api.eliteprospects.com/v1/countries/SWE?apiKey=BbLo1zDgnGxebtMr0wJnLuaexEqibZ9R"
           ],
           "name": "Sweden",
           "slug": "SWE"
          },
          "playerType": "SKATER",
          "position": "F",
          "status": "active"
         }
        ]
       },
       {
        "_links": {
         "first": "https://api.eliteprospects.com/v1/players?offset=0&limit=1000&apiKey=BbLo1zDgnGxebtMr0wJnLuaexEqibZ9R&name=Filip+Johansson&dateOfBirth=2000-03-23&sort=name",
         "last": "https://api.eliteprospects.com/v1/players?offset=0&limit=1000&apiKey=BbLo1zDgnGxebtMr0wJnLuaexEqibZ9R&name=Filip+Johansson&dateOfBirth=2000-03-23&sort=name",
         "next": null,
         "prev": null
        },
        "_meta": {
         "generatedAt": "2023-03-21T04:27:42.562737Z",
         "limit": 1000,
         "offset": 0,
         "totalRecords": 1
        },
        "data": [
         {
          "_links": [
           "https://api.eliteprospects.com/v1/players/316794?apiKey=BbLo1zDgnGxebtMr0wJnLuaexEqibZ9R"
          ],
          "dateOfBirth": "2000-03-23",
          "firstName": "Filip",
          "gender": "male",
          "id": 316794,
          "lastName": "Johansson",
          "name": "Filip Johansson",
          "nationality": {
           "_links": [
            "https://api.eliteprospects.com/v1/countries/SWE?apiKey=BbLo1zDgnGxebtMr0wJnLuaexEqibZ9R"
           ],
           "name": "Sweden",
           "slug": "SWE"
          },
          "playerType": "SKATER",
          "position": "D",
          "status": "active"
         }
        ]
       },
       {
        "_links": {
         "first": "https://api.eliteprospects.com/v1/players?offset=0&limit=1000&apiKey=BbLo1zDgnGxebtMr0wJnLuaexEqibZ9R&name=Dominik+Bokk&dateOfBirth=2000-02-03&sort=name",
         "last": "https://api.eliteprospects.com/v1/players?offset=0&limit=1000&apiKey=BbLo1zDgnGxebtMr0wJnLuaexEqibZ9R&name=Dominik+Bokk&dateOfBirth=2000-02-03&sort=name",
         "next": null,
         "prev": null
        },
        "_meta": {
         "generatedAt": "2023-03-21T04:27:42.865606Z",
         "limit": 1000,
         "offset": 0,
         "totalRecords": 1
        },
        "data": [
         {
          "_links": [
           "https://api.eliteprospects.com/v1/players/259973?apiKey=BbLo1zDgnGxebtMr0wJnLuaexEqibZ9R"
          ],
          "dateOfBirth": "2000-02-03",
          "firstName": "Dominik",
          "gender": "male",
          "id": 259973,
          "lastName": "Bokk",
          "name": "Dominik Bokk",
          "nationality": {
           "_links": [
            "https://api.eliteprospects.com/v1/countries/DEU?apiKey=BbLo1zDgnGxebtMr0wJnLuaexEqibZ9R"
           ],
           "name": "Germany",
           "slug": "DEU"
          },
          "playerType": "SKATER",
          "position": "F",
          "status": "active"
         }
        ]
       },
       {
        "_links": {
         "first": "https://api.eliteprospects.com/v1/players?offset=0&limit=1000&apiKey=BbLo1zDgnGxebtMr0wJnLuaexEqibZ9R&name=Jacob+Bernard-Docker&dateOfBirth=2000-06-30&sort=name",
         "last": "https://api.eliteprospects.com/v1/players?offset=0&limit=1000&apiKey=BbLo1zDgnGxebtMr0wJnLuaexEqibZ9R&name=Jacob+Bernard-Docker&dateOfBirth=2000-06-30&sort=name",
         "next": null,
         "prev": null
        },
        "_meta": {
         "generatedAt": "2023-03-21T04:27:43.362494Z",
         "limit": 1000,
         "offset": 0,
         "totalRecords": 1
        },
        "data": [
         {
          "_links": [
           "https://api.eliteprospects.com/v1/players/281697?apiKey=BbLo1zDgnGxebtMr0wJnLuaexEqibZ9R"
          ],
          "dateOfBirth": "2000-06-30",
          "firstName": "Jacob",
          "gender": "male",
          "id": 281697,
          "lastName": "Bernard-Docker",
          "name": "Jacob Bernard-Docker",
          "nationality": {
           "_links": [
            "https://api.eliteprospects.com/v1/countries/CAN?apiKey=BbLo1zDgnGxebtMr0wJnLuaexEqibZ9R"
           ],
           "name": "Canada",
           "slug": "CAN"
          },
          "playerType": "SKATER",
          "position": "D",
          "status": "active"
         }
        ]
       },
       {
        "_links": {
         "first": "https://api.eliteprospects.com/v1/players?offset=0&limit=1000&apiKey=BbLo1zDgnGxebtMr0wJnLuaexEqibZ9R&name=Nicolas+Beaudin&dateOfBirth=1999-10-09&sort=name",
         "last": "https://api.eliteprospects.com/v1/players?offset=0&limit=1000&apiKey=BbLo1zDgnGxebtMr0wJnLuaexEqibZ9R&name=Nicolas+Beaudin&dateOfBirth=1999-10-09&sort=name",
         "next": null,
         "prev": null
        },
        "_meta": {
         "generatedAt": "2023-03-21T04:27:43.707243Z",
         "limit": 1000,
         "offset": 0,
         "totalRecords": 0
        },
        "data": []
       },
       {
        "_links": {
         "first": "https://api.eliteprospects.com/v1/players?offset=0&limit=1000&apiKey=BbLo1zDgnGxebtMr0wJnLuaexEqibZ9R&name=Nils+Lundkvist&dateOfBirth=2000-07-27&sort=name",
         "last": "https://api.eliteprospects.com/v1/players?offset=0&limit=1000&apiKey=BbLo1zDgnGxebtMr0wJnLuaexEqibZ9R&name=Nils+Lundkvist&dateOfBirth=2000-07-27&sort=name",
         "next": null,
         "prev": null
        },
        "_meta": {
         "generatedAt": "2023-03-21T04:27:44.036522Z",
         "limit": 1000,
         "offset": 0,
         "totalRecords": 1
        },
        "data": [
         {
          "_links": [
           "https://api.eliteprospects.com/v1/players/384079?apiKey=BbLo1zDgnGxebtMr0wJnLuaexEqibZ9R"
          ],
          "dateOfBirth": "2000-07-27",
          "firstName": "Nils",
          "gender": "male",
          "id": 384079,
          "lastName": "Lundkvist",
          "name": "Nils Lundkvist",
          "nationality": {
           "_links": [
            "https://api.eliteprospects.com/v1/countries/SWE?apiKey=BbLo1zDgnGxebtMr0wJnLuaexEqibZ9R"
           ],
           "name": "Sweden",
           "slug": "SWE"
          },
          "playerType": "SKATER",
          "position": "D",
          "status": "active"
         }
        ]
       },
       {
        "_links": {
         "first": "https://api.eliteprospects.com/v1/players?offset=0&limit=1000&apiKey=BbLo1zDgnGxebtMr0wJnLuaexEqibZ9R&name=Rasmus+Sandin&dateOfBirth=2000-03-07&sort=name",
         "last": "https://api.eliteprospects.com/v1/players?offset=0&limit=1000&apiKey=BbLo1zDgnGxebtMr0wJnLuaexEqibZ9R&name=Rasmus+Sandin&dateOfBirth=2000-03-07&sort=name",
         "next": null,
         "prev": null
        },
        "_meta": {
         "generatedAt": "2023-03-21T04:27:44.609609Z",
         "limit": 1000,
         "offset": 0,
         "totalRecords": 1
        },
        "data": [
         {
          "_links": [
           "https://api.eliteprospects.com/v1/players/289453?apiKey=BbLo1zDgnGxebtMr0wJnLuaexEqibZ9R"
          ],
          "dateOfBirth": "2000-03-07",
          "firstName": "Rasmus",
          "gender": "male",
          "id": 289453,
          "lastName": "Sandin",
          "name": "Rasmus Sandin",
          "nationality": {
           "_links": [
            "https://api.eliteprospects.com/v1/countries/SWE?apiKey=BbLo1zDgnGxebtMr0wJnLuaexEqibZ9R"
           ],
           "name": "Sweden",
           "slug": "SWE"
          },
          "playerType": "SKATER",
          "position": "D",
          "status": "active"
         }
        ]
       },
       {
        "_links": {
         "first": "https://api.eliteprospects.com/v1/players?offset=0&limit=1000&apiKey=BbLo1zDgnGxebtMr0wJnLuaexEqibZ9R&name=Joe+Veleno&dateOfBirth=2000-01-13&sort=name",
         "last": "https://api.eliteprospects.com/v1/players?offset=0&limit=1000&apiKey=BbLo1zDgnGxebtMr0wJnLuaexEqibZ9R&name=Joe+Veleno&dateOfBirth=2000-01-13&sort=name",
         "next": null,
         "prev": null
        },
        "_meta": {
         "generatedAt": "2023-03-21T04:27:45.172241Z",
         "limit": 1000,
         "offset": 0,
         "totalRecords": 1
        },
        "data": [
         {
          "_links": [
           "https://api.eliteprospects.com/v1/players/271713?apiKey=BbLo1zDgnGxebtMr0wJnLuaexEqibZ9R"
          ],
          "dateOfBirth": "2000-01-13",
          "firstName": "Joe",
          "gender": "male",
          "id": 271713,
          "lastName": "Veleno",
          "name": "Joe Veleno",
          "nationality": {
           "_links": [
            "https://api.eliteprospects.com/v1/countries/CAN?apiKey=BbLo1zDgnGxebtMr0wJnLuaexEqibZ9R"
           ],
           "name": "Canada",
           "slug": "CAN"
          },
          "playerType": "SKATER",
          "position": "F",
          "status": "active"
         }
        ]
       },
       {
        "_links": {
         "first": "https://api.eliteprospects.com/v1/players?offset=0&limit=1000&apiKey=BbLo1zDgnGxebtMr0wJnLuaexEqibZ9R&name=Alexander+Alexeyev&dateOfBirth=1999-11-15&sort=name",
         "last": "https://api.eliteprospects.com/v1/players?offset=0&limit=1000&apiKey=BbLo1zDgnGxebtMr0wJnLuaexEqibZ9R&name=Alexander+Alexeyev&dateOfBirth=1999-11-15&sort=name",
         "next": null,
         "prev": null
        },
        "_meta": {
         "generatedAt": "2023-03-21T04:27:45.825803Z",
         "limit": 1000,
         "offset": 0,
         "totalRecords": 1
        },
        "data": [
         {
          "_links": [
           "https://api.eliteprospects.com/v1/players/333787?apiKey=BbLo1zDgnGxebtMr0wJnLuaexEqibZ9R"
          ],
          "dateOfBirth": "1999-11-15",
          "firstName": "Alexander",
          "gender": "male",
          "id": 333787,
          "lastName": "Alexeyev",
          "name": "Alexander Alexeyev",
          "nationality": {
           "_links": [
            "https://api.eliteprospects.com/v1/countries/RUS?apiKey=BbLo1zDgnGxebtMr0wJnLuaexEqibZ9R"
           ],
           "name": "Russia",
           "slug": "RUS"
          },
          "playerType": "SKATER",
          "position": "D",
          "status": "active"
         }
        ]
       }
      ],
      "text/plain": [
       "<IPython.core.display.JSON object>"
      ]
     },
     "execution_count": 86,
     "metadata": {
      "application/json": {
       "expanded": false,
       "root": "root"
      }
     },
     "output_type": "execute_result"
    }
   ],
   "source": [
    "from IPython.display import JSON\n",
    "JSON(elite_data)"
   ]
  },
  {
   "cell_type": "code",
   "execution_count": 129,
   "id": "52ad83a1-d978-4732-8e4a-6152738e1974",
   "metadata": {},
   "outputs": [],
   "source": [
    "#creating empty lists \n",
    "elite_id = []\n",
    "elite_name = []"
   ]
  },
  {
   "cell_type": "code",
   "execution_count": 128,
   "id": "0c3b25a8-762b-4091-88e2-54a30f988607",
   "metadata": {},
   "outputs": [
    {
     "data": {
      "text/plain": [
       "221525"
      ]
     },
     "execution_count": 128,
     "metadata": {},
     "output_type": "execute_result"
    }
   ],
   "source": [
    "elite_data[250]['data'][0]['id']"
   ]
  },
  {
   "cell_type": "code",
   "execution_count": 132,
   "id": "2558ff47-5f08-410a-9af9-898efd26bf80",
   "metadata": {},
   "outputs": [
    {
     "data": {
      "text/plain": [
       "296"
      ]
     },
     "execution_count": 132,
     "metadata": {},
     "output_type": "execute_result"
    }
   ],
   "source": [
    "len(elite_data)"
   ]
  },
  {
   "cell_type": "code",
   "execution_count": 133,
   "id": "cf687bfa-789b-4cef-895e-019fe06cd3cb",
   "metadata": {},
   "outputs": [
    {
     "ename": "IndexError",
     "evalue": "list index out of range",
     "output_type": "error",
     "traceback": [
      "\u001b[1;31m---------------------------------------------------------------------------\u001b[0m",
      "\u001b[1;31mIndexError\u001b[0m                                Traceback (most recent call last)",
      "\u001b[1;32m~\\AppData\\Local\\Temp\\ipykernel_308\\1031790070.py\u001b[0m in \u001b[0;36m<module>\u001b[1;34m\u001b[0m\n\u001b[0;32m      1\u001b[0m \u001b[1;32mfor\u001b[0m \u001b[0mi\u001b[0m \u001b[1;32min\u001b[0m \u001b[0mrange\u001b[0m\u001b[1;33m(\u001b[0m\u001b[0mlen\u001b[0m\u001b[1;33m(\u001b[0m\u001b[0melite_data\u001b[0m\u001b[1;33m)\u001b[0m\u001b[1;33m)\u001b[0m\u001b[1;33m:\u001b[0m\u001b[1;33m\u001b[0m\u001b[1;33m\u001b[0m\u001b[0m\n\u001b[0;32m      2\u001b[0m     \u001b[1;31m#elite_id.append(elite_data[i]['data'][0]['id'])\u001b[0m\u001b[1;33m\u001b[0m\u001b[1;33m\u001b[0m\u001b[0m\n\u001b[1;32m----> 3\u001b[1;33m     \u001b[0melite_name\u001b[0m\u001b[1;33m.\u001b[0m\u001b[0mappend\u001b[0m\u001b[1;33m(\u001b[0m\u001b[0melite_data\u001b[0m\u001b[1;33m[\u001b[0m\u001b[0mi\u001b[0m\u001b[1;33m]\u001b[0m\u001b[1;33m[\u001b[0m\u001b[1;34m'data'\u001b[0m\u001b[1;33m]\u001b[0m\u001b[1;33m[\u001b[0m\u001b[1;36m0\u001b[0m\u001b[1;33m]\u001b[0m\u001b[1;33m[\u001b[0m\u001b[1;34m'name'\u001b[0m\u001b[1;33m]\u001b[0m\u001b[1;33m)\u001b[0m\u001b[1;33m\u001b[0m\u001b[1;33m\u001b[0m\u001b[0m\n\u001b[0m",
      "\u001b[1;31mIndexError\u001b[0m: list index out of range"
     ]
    }
   ],
   "source": [
    "for i in range(len(elite_data)):\n",
    "    #elite_id.append(elite_data[i]['data'][0]['id'])\n",
    "    elite_name.append(elite_data[i]['data'][0]['name'])"
   ]
  }
 ],
 "metadata": {
  "kernelspec": {
   "display_name": "lighthouse",
   "language": "python",
   "name": "lighthouse"
  },
  "language_info": {
   "codemirror_mode": {
    "name": "ipython",
    "version": 3
   },
   "file_extension": ".py",
   "mimetype": "text/x-python",
   "name": "python",
   "nbconvert_exporter": "python",
   "pygments_lexer": "ipython3",
   "version": "3.9.13"
  }
 },
 "nbformat": 4,
 "nbformat_minor": 5
}
