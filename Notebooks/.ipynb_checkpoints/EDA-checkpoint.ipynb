{
 "cells": [
  {
   "cell_type": "code",
   "execution_count": 20,
   "id": "d1864d0d-52d0-43b1-8c2e-0277664fea26",
   "metadata": {},
   "outputs": [],
   "source": [
    "import pandas as pd \n",
    "import numpy as np\n",
    "import seaborn as sns \n",
    "from matplotlib import pyplot as plt\n",
    "from datetime import datetime\n",
    "sns.set_theme(context = 'talk', style = 'darkgrid')"
   ]
  },
  {
   "cell_type": "markdown",
   "id": "2f0bbcb2-3b8a-4c38-a84f-18f392eb8f06",
   "metadata": {},
   "source": [
    "## Join NHL and Elite datasets "
   ]
  },
  {
   "cell_type": "code",
   "execution_count": 2,
   "id": "3289ef60-96dc-4bfa-bae3-8fb4773b23da",
   "metadata": {},
   "outputs": [],
   "source": [
    "#load files \n",
    "nhl_data = pd.read_csv(r'C:\\Users\\akobe\\OneDrive\\Desktop\\Lighthouse\\Final\\Predicting_Success_First_Round_Picks_NHL\\Data\\nhl_data.csv', index_col = [0]) #index col makes sures another index column is not needed\n",
    "elite_data =  pd.read_csv(r'C:\\Users\\akobe\\lighthouse-data-notes\\Final-Data\\all_elite_prospect_data.csv', index_col = [0])"
   ]
  },
  {
   "cell_type": "code",
   "execution_count": 3,
   "id": "ecf67d91-9fee-450b-93d7-416321cd88a0",
   "metadata": {},
   "outputs": [
    {
     "data": {
      "text/html": [
       "<div>\n",
       "<style scoped>\n",
       "    .dataframe tbody tr th:only-of-type {\n",
       "        vertical-align: middle;\n",
       "    }\n",
       "\n",
       "    .dataframe tbody tr th {\n",
       "        vertical-align: top;\n",
       "    }\n",
       "\n",
       "    .dataframe thead th {\n",
       "        text-align: right;\n",
       "    }\n",
       "</style>\n",
       "<table border=\"1\" class=\"dataframe\">\n",
       "  <thead>\n",
       "    <tr style=\"text-align: right;\">\n",
       "      <th></th>\n",
       "      <th>draft_year</th>\n",
       "      <th>pick_no</th>\n",
       "      <th>team</th>\n",
       "      <th>prospect_name</th>\n",
       "      <th>prospect_id</th>\n",
       "      <th>dob</th>\n",
       "      <th>birth_country</th>\n",
       "      <th>height</th>\n",
       "      <th>weight</th>\n",
       "      <th>shoots</th>\n",
       "      <th>nhl_id</th>\n",
       "      <th>position</th>\n",
       "      <th>prospect_category</th>\n",
       "      <th>amateur_league</th>\n",
       "      <th>amateur_team</th>\n",
       "      <th>nhl_games_played</th>\n",
       "      <th>200+games</th>\n",
       "    </tr>\n",
       "  </thead>\n",
       "  <tbody>\n",
       "    <tr>\n",
       "      <th>0</th>\n",
       "      <td>2009</td>\n",
       "      <td>1</td>\n",
       "      <td>New York Islanders</td>\n",
       "      <td>John Tavares</td>\n",
       "      <td>24111</td>\n",
       "      <td>1990-09-20</td>\n",
       "      <td>CAN</td>\n",
       "      <td>6' 1\"</td>\n",
       "      <td>209</td>\n",
       "      <td>L</td>\n",
       "      <td>8475166</td>\n",
       "      <td>C</td>\n",
       "      <td>North American Skater</td>\n",
       "      <td>OHL</td>\n",
       "      <td>London</td>\n",
       "      <td>1017</td>\n",
       "      <td>1</td>\n",
       "    </tr>\n",
       "    <tr>\n",
       "      <th>1</th>\n",
       "      <td>2009</td>\n",
       "      <td>2</td>\n",
       "      <td>Tampa Bay Lightning</td>\n",
       "      <td>Victor Hedman</td>\n",
       "      <td>33799</td>\n",
       "      <td>1990-12-18</td>\n",
       "      <td>SWE</td>\n",
       "      <td>6' 6\"</td>\n",
       "      <td>220</td>\n",
       "      <td>L</td>\n",
       "      <td>8475167</td>\n",
       "      <td>D</td>\n",
       "      <td>European Skater</td>\n",
       "      <td>SWEDEN</td>\n",
       "      <td>Modo</td>\n",
       "      <td>964</td>\n",
       "      <td>1</td>\n",
       "    </tr>\n",
       "  </tbody>\n",
       "</table>\n",
       "</div>"
      ],
      "text/plain": [
       "   draft_year  pick_no                 team  prospect_name  prospect_id  \\\n",
       "0        2009        1   New York Islanders   John Tavares        24111   \n",
       "1        2009        2  Tampa Bay Lightning  Victor Hedman        33799   \n",
       "\n",
       "          dob birth_country height  weight shoots   nhl_id position  \\\n",
       "0  1990-09-20           CAN  6' 1\"     209      L  8475166        C   \n",
       "1  1990-12-18           SWE  6' 6\"     220      L  8475167        D   \n",
       "\n",
       "       prospect_category amateur_league amateur_team  nhl_games_played  \\\n",
       "0  North American Skater            OHL       London              1017   \n",
       "1        European Skater         SWEDEN         Modo               964   \n",
       "\n",
       "   200+games  \n",
       "0          1  \n",
       "1          1  "
      ]
     },
     "execution_count": 3,
     "metadata": {},
     "output_type": "execute_result"
    }
   ],
   "source": [
    "nhl_data.head(2)"
   ]
  },
  {
   "cell_type": "code",
   "execution_count": 4,
   "id": "4681132d-42ae-4e4a-9f71-9d5caa49f6c9",
   "metadata": {},
   "outputs": [
    {
     "data": {
      "text/html": [
       "<div>\n",
       "<style scoped>\n",
       "    .dataframe tbody tr th:only-of-type {\n",
       "        vertical-align: middle;\n",
       "    }\n",
       "\n",
       "    .dataframe tbody tr th {\n",
       "        vertical-align: top;\n",
       "    }\n",
       "\n",
       "    .dataframe thead th {\n",
       "        text-align: right;\n",
       "    }\n",
       "</style>\n",
       "<table border=\"1\" class=\"dataframe\">\n",
       "  <thead>\n",
       "    <tr style=\"text-align: right;\">\n",
       "      <th></th>\n",
       "      <th>nhl_id</th>\n",
       "      <th>elite_id</th>\n",
       "      <th>elite_name</th>\n",
       "      <th>elite_dob</th>\n",
       "      <th>draft_year</th>\n",
       "      <th>draft_season</th>\n",
       "      <th>prospect_gp</th>\n",
       "      <th>prospect_g</th>\n",
       "      <th>prospect_a</th>\n",
       "      <th>prospect_pts</th>\n",
       "      <th>prospect_pim</th>\n",
       "      <th>prospect_pm</th>\n",
       "    </tr>\n",
       "  </thead>\n",
       "  <tbody>\n",
       "    <tr>\n",
       "      <th>0</th>\n",
       "      <td>8475166</td>\n",
       "      <td>9223</td>\n",
       "      <td>John Tavares</td>\n",
       "      <td>1990-09-20</td>\n",
       "      <td>2009</td>\n",
       "      <td>2008-2009</td>\n",
       "      <td>56</td>\n",
       "      <td>58</td>\n",
       "      <td>46</td>\n",
       "      <td>104</td>\n",
       "      <td>54</td>\n",
       "      <td>10</td>\n",
       "    </tr>\n",
       "    <tr>\n",
       "      <th>1</th>\n",
       "      <td>8475167</td>\n",
       "      <td>6007</td>\n",
       "      <td>Victor Hedman</td>\n",
       "      <td>1990-12-18</td>\n",
       "      <td>2009</td>\n",
       "      <td>2008-2009</td>\n",
       "      <td>45</td>\n",
       "      <td>7</td>\n",
       "      <td>16</td>\n",
       "      <td>23</td>\n",
       "      <td>62</td>\n",
       "      <td>21</td>\n",
       "    </tr>\n",
       "  </tbody>\n",
       "</table>\n",
       "</div>"
      ],
      "text/plain": [
       "    nhl_id  elite_id     elite_name   elite_dob  draft_year draft_season  \\\n",
       "0  8475166      9223   John Tavares  1990-09-20        2009    2008-2009   \n",
       "1  8475167      6007  Victor Hedman  1990-12-18        2009    2008-2009   \n",
       "\n",
       "   prospect_gp  prospect_g  prospect_a  prospect_pts  prospect_pim  \\\n",
       "0           56          58          46           104            54   \n",
       "1           45           7          16            23            62   \n",
       "\n",
       "   prospect_pm  \n",
       "0           10  \n",
       "1           21  "
      ]
     },
     "execution_count": 4,
     "metadata": {},
     "output_type": "execute_result"
    }
   ],
   "source": [
    "elite_data.head(2)"
   ]
  },
  {
   "cell_type": "code",
   "execution_count": 5,
   "id": "885537cd-5f80-4bd2-afa2-09b5671ccaa8",
   "metadata": {},
   "outputs": [],
   "source": [
    "#join the datasets\n",
    "data = pd.merge(elite_data, nhl_data,  on = 'nhl_id')"
   ]
  },
  {
   "cell_type": "code",
   "execution_count": 17,
   "id": "9660e8b7-c227-4a58-b25e-adcaf4f44407",
   "metadata": {},
   "outputs": [
    {
     "data": {
      "text/html": [
       "<div>\n",
       "<style scoped>\n",
       "    .dataframe tbody tr th:only-of-type {\n",
       "        vertical-align: middle;\n",
       "    }\n",
       "\n",
       "    .dataframe tbody tr th {\n",
       "        vertical-align: top;\n",
       "    }\n",
       "\n",
       "    .dataframe thead th {\n",
       "        text-align: right;\n",
       "    }\n",
       "</style>\n",
       "<table border=\"1\" class=\"dataframe\">\n",
       "  <thead>\n",
       "    <tr style=\"text-align: right;\">\n",
       "      <th></th>\n",
       "      <th>nhl_id</th>\n",
       "      <th>elite_id</th>\n",
       "      <th>name</th>\n",
       "      <th>draft_year</th>\n",
       "      <th>draft_season</th>\n",
       "      <th>prospect_gp</th>\n",
       "      <th>prospect_g</th>\n",
       "      <th>prospect_a</th>\n",
       "      <th>prospect_pts</th>\n",
       "      <th>prospect_pim</th>\n",
       "      <th>...</th>\n",
       "      <th>height</th>\n",
       "      <th>weight</th>\n",
       "      <th>shoots</th>\n",
       "      <th>position</th>\n",
       "      <th>prospect_category</th>\n",
       "      <th>amateur_league</th>\n",
       "      <th>amateur_team</th>\n",
       "      <th>nhl_games_played</th>\n",
       "      <th>200+games</th>\n",
       "      <th>birth_month</th>\n",
       "    </tr>\n",
       "  </thead>\n",
       "  <tbody>\n",
       "    <tr>\n",
       "      <th>0</th>\n",
       "      <td>8475166</td>\n",
       "      <td>9223</td>\n",
       "      <td>John Tavares</td>\n",
       "      <td>2009</td>\n",
       "      <td>2008-2009</td>\n",
       "      <td>56</td>\n",
       "      <td>58</td>\n",
       "      <td>46</td>\n",
       "      <td>104</td>\n",
       "      <td>54</td>\n",
       "      <td>...</td>\n",
       "      <td>6' 1\"</td>\n",
       "      <td>209</td>\n",
       "      <td>L</td>\n",
       "      <td>C</td>\n",
       "      <td>North American Skater</td>\n",
       "      <td>OHL</td>\n",
       "      <td>London</td>\n",
       "      <td>1017</td>\n",
       "      <td>1</td>\n",
       "      <td>9</td>\n",
       "    </tr>\n",
       "    <tr>\n",
       "      <th>1</th>\n",
       "      <td>8475167</td>\n",
       "      <td>6007</td>\n",
       "      <td>Victor Hedman</td>\n",
       "      <td>2009</td>\n",
       "      <td>2008-2009</td>\n",
       "      <td>45</td>\n",
       "      <td>7</td>\n",
       "      <td>16</td>\n",
       "      <td>23</td>\n",
       "      <td>62</td>\n",
       "      <td>...</td>\n",
       "      <td>6' 6\"</td>\n",
       "      <td>220</td>\n",
       "      <td>L</td>\n",
       "      <td>D</td>\n",
       "      <td>European Skater</td>\n",
       "      <td>SWEDEN</td>\n",
       "      <td>Modo</td>\n",
       "      <td>964</td>\n",
       "      <td>1</td>\n",
       "      <td>12</td>\n",
       "    </tr>\n",
       "  </tbody>\n",
       "</table>\n",
       "<p>2 rows × 24 columns</p>\n",
       "</div>"
      ],
      "text/plain": [
       "    nhl_id  elite_id           name  draft_year draft_season  prospect_gp  \\\n",
       "0  8475166      9223   John Tavares        2009    2008-2009           56   \n",
       "1  8475167      6007  Victor Hedman        2009    2008-2009           45   \n",
       "\n",
       "   prospect_g  prospect_a  prospect_pts  prospect_pim  ...  height  weight  \\\n",
       "0          58          46           104            54  ...   6' 1\"     209   \n",
       "1           7          16            23            62  ...   6' 6\"     220   \n",
       "\n",
       "  shoots position      prospect_category  amateur_league amateur_team  \\\n",
       "0      L        C  North American Skater             OHL       London   \n",
       "1      L        D        European Skater          SWEDEN         Modo   \n",
       "\n",
       "  nhl_games_played 200+games birth_month  \n",
       "0             1017         1           9  \n",
       "1              964         1          12  \n",
       "\n",
       "[2 rows x 24 columns]"
      ]
     },
     "execution_count": 17,
     "metadata": {},
     "output_type": "execute_result"
    }
   ],
   "source": [
    "data.head(2)"
   ]
  },
  {
   "cell_type": "code",
   "execution_count": 10,
   "id": "ee984c4e-be3a-4751-afd6-dbea55f81c7b",
   "metadata": {},
   "outputs": [],
   "source": [
    "#drop unwanted columns and columns that are duplicates of each other \n",
    "data = data.drop(['draft_year_y', 'prospect_name', 'prospect_id', 'dob'], axis=1)"
   ]
  },
  {
   "cell_type": "code",
   "execution_count": 12,
   "id": "e6bb274d-ce34-4e46-950e-2018a827ef51",
   "metadata": {},
   "outputs": [],
   "source": [
    "#rename columns \n",
    "data.rename(columns = {'draft_year_x':'draft_year', 'elite_name': 'name', 'elite_dob': 'dob'}, inplace = True)"
   ]
  },
  {
   "cell_type": "code",
   "execution_count": 14,
   "id": "83c71715-9d61-44f4-b7f8-81ab9dc19d60",
   "metadata": {},
   "outputs": [],
   "source": [
    "#convert dob to date, extract out the month \n",
    "data['dob'] = pd.to_datetime(data['dob'])\n",
    "data['birth_month']= data['dob'].dt.month"
   ]
  },
  {
   "cell_type": "code",
   "execution_count": 16,
   "id": "08612a78-f718-4381-a0fc-608a97bcbcce",
   "metadata": {},
   "outputs": [],
   "source": [
    "#drop birthdate \n",
    "data = data.drop(['dob'], axis=1)"
   ]
  },
  {
   "cell_type": "code",
   "execution_count": 23,
   "id": "d59f8dfd-f3ec-44de-8ca2-c298f5e98899",
   "metadata": {},
   "outputs": [],
   "source": [
    "cols_missing_vals = ['position'] # cols with missing values \n",
    "data[cols_missing_vals] = data[cols_missing_vals].replace(0, np.NaN) "
   ]
  },
  {
   "cell_type": "code",
   "execution_count": 29,
   "id": "f38da049-8ac4-4a32-9b4d-3c9e791f14b3",
   "metadata": {},
   "outputs": [],
   "source": [
    "#drops the 4 rows without position information \n",
    "#data = data.dropna(subset= ['position'])"
   ]
  },
  {
   "cell_type": "code",
   "execution_count": 28,
   "id": "3af9224a-e8ad-4123-a1b1-d575092469b1",
   "metadata": {},
   "outputs": [],
   "source": [
    "#save the data to csv \n",
    "#data .to_csv('all_merged_data.csv')"
   ]
  },
  {
   "cell_type": "markdown",
   "id": "33cb39fe-6e95-4875-aa41-f161b5979ecb",
   "metadata": {},
   "source": [
    "## EDA "
   ]
  },
  {
   "cell_type": "code",
   "execution_count": null,
   "id": "ce04f24c-0546-4ca1-91f0-a01110043792",
   "metadata": {},
   "outputs": [],
   "source": []
  }
 ],
 "metadata": {
  "kernelspec": {
   "display_name": "lighthouse",
   "language": "python",
   "name": "lighthouse"
  },
  "language_info": {
   "codemirror_mode": {
    "name": "ipython",
    "version": 3
   },
   "file_extension": ".py",
   "mimetype": "text/x-python",
   "name": "python",
   "nbconvert_exporter": "python",
   "pygments_lexer": "ipython3",
   "version": "3.9.13"
  }
 },
 "nbformat": 4,
 "nbformat_minor": 5
}
