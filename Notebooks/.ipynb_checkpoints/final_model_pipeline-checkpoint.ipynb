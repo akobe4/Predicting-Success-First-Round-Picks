{
 "cells": [
  {
   "cell_type": "code",
   "execution_count": 1,
   "id": "95f39211-27a2-4a6a-960b-13253693ade6",
   "metadata": {},
   "outputs": [],
   "source": [
    "import pandas as pd \n",
    "import numpy as np\n",
    "from sklearn.pipeline import Pipeline\n",
    "from sklearn.pipeline import FeatureUnion\n",
    "from sklearn.feature_selection import SelectKBest\n",
    "from sklearn.linear_model import RidgeClassifier\n",
    "from sklearn.model_selection import GridSearchCV\n",
    "from sklearn.svm import SVC\n",
    "from sklearn.compose import ColumnTransformer\n",
    "from sklearn.preprocessing import OneHotEncoder\n",
    "from sklearn.impute import SimpleImputer\n",
    "from sklearn.linear_model import LogisticRegression\n",
    "from sklearn.model_selection import train_test_split\n",
    "from sklearn.preprocessing import StandardScaler\n",
    "from sklearn.ensemble import RandomForestClassifier\n",
    "from sklearn.linear_model import RidgeClassifier \n",
    "import seaborn as sns\n",
    "from sklearn.metrics import accuracy_score\n",
    "import pickle\n",
    "from matplotlib import pyplot as plt\n",
    "sns.set_theme(context = 'talk', style = 'darkgrid')"
   ]
  },
  {
   "cell_type": "code",
   "execution_count": 2,
   "id": "f2b35541-9342-4cdb-8a49-6ae2ab397aa8",
   "metadata": {},
   "outputs": [],
   "source": [
    "data = pd.read_csv(r'C:\\Users\\akobe\\lighthouse-data-notes\\Final-Data\\final_data\\all_transformed_data.csv', index_col = [0])"
   ]
  },
  {
   "cell_type": "code",
   "execution_count": 3,
   "id": "7bbc5acd-6427-4dea-8b28-144d84df4250",
   "metadata": {},
   "outputs": [],
   "source": [
    "data = data.drop(['prospect_gp', 'dob', 'draft_year', 'translation_factor', 'eq_pts', 'amateur_team', 'birth_country', 'amateur_league'], axis=1)"
   ]
  },
  {
   "cell_type": "code",
   "execution_count": 4,
   "id": "5b7bbf94-f6f2-4226-9092-c142cdd13839",
   "metadata": {},
   "outputs": [],
   "source": [
    "def positions(df):\n",
    "    position_2 = []\n",
    "    \n",
    "    for i in df['position']: \n",
    "        if i == 'D':\n",
    "            position_2.append('D')\n",
    "        else:\n",
    "            position_2.append('F')\n",
    "    \n",
    "    df['position_2'] = position_2"
   ]
  },
  {
   "cell_type": "code",
   "execution_count": 5,
   "id": "854544c6-e710-4d73-b8a6-737ce76df495",
   "metadata": {},
   "outputs": [],
   "source": [
    "positions(data)"
   ]
  },
  {
   "cell_type": "code",
   "execution_count": 6,
   "id": "affbd01c-4535-48a6-b7b7-7470122e2973",
   "metadata": {},
   "outputs": [
    {
     "data": {
      "text/html": [
       "<div>\n",
       "<style scoped>\n",
       "    .dataframe tbody tr th:only-of-type {\n",
       "        vertical-align: middle;\n",
       "    }\n",
       "\n",
       "    .dataframe tbody tr th {\n",
       "        vertical-align: top;\n",
       "    }\n",
       "\n",
       "    .dataframe thead th {\n",
       "        text-align: right;\n",
       "    }\n",
       "</style>\n",
       "<table border=\"1\" class=\"dataframe\">\n",
       "  <thead>\n",
       "    <tr style=\"text-align: right;\">\n",
       "      <th></th>\n",
       "      <th>prospect_pim</th>\n",
       "      <th>prospect_pm</th>\n",
       "      <th>weight</th>\n",
       "      <th>shoots</th>\n",
       "      <th>position</th>\n",
       "      <th>prospect_category</th>\n",
       "      <th>200+games</th>\n",
       "      <th>birth_month</th>\n",
       "      <th>height_cm</th>\n",
       "      <th>eq_g</th>\n",
       "      <th>eq_a</th>\n",
       "      <th>oGVT</th>\n",
       "      <th>dGVT</th>\n",
       "      <th>overall_GVT</th>\n",
       "      <th>position_2</th>\n",
       "    </tr>\n",
       "  </thead>\n",
       "  <tbody>\n",
       "    <tr>\n",
       "      <th>0</th>\n",
       "      <td>54</td>\n",
       "      <td>10</td>\n",
       "      <td>209</td>\n",
       "      <td>L</td>\n",
       "      <td>C</td>\n",
       "      <td>North American Skater</td>\n",
       "      <td>1</td>\n",
       "      <td>9</td>\n",
       "      <td>185.42</td>\n",
       "      <td>21.33</td>\n",
       "      <td>16.91</td>\n",
       "      <td>0.37</td>\n",
       "      <td>0.06</td>\n",
       "      <td>0.43</td>\n",
       "      <td>F</td>\n",
       "    </tr>\n",
       "    <tr>\n",
       "      <th>1</th>\n",
       "      <td>62</td>\n",
       "      <td>21</td>\n",
       "      <td>220</td>\n",
       "      <td>L</td>\n",
       "      <td>D</td>\n",
       "      <td>European Skater</td>\n",
       "      <td>1</td>\n",
       "      <td>12</td>\n",
       "      <td>198.12</td>\n",
       "      <td>6.49</td>\n",
       "      <td>14.84</td>\n",
       "      <td>0.58</td>\n",
       "      <td>0.17</td>\n",
       "      <td>0.75</td>\n",
       "      <td>D</td>\n",
       "    </tr>\n",
       "  </tbody>\n",
       "</table>\n",
       "</div>"
      ],
      "text/plain": [
       "   prospect_pim  prospect_pm  weight shoots position      prospect_category  \\\n",
       "0            54           10     209      L        C  North American Skater   \n",
       "1            62           21     220      L        D        European Skater   \n",
       "\n",
       "   200+games  birth_month  height_cm   eq_g   eq_a  oGVT  dGVT  overall_GVT  \\\n",
       "0          1            9     185.42  21.33  16.91  0.37  0.06         0.43   \n",
       "1          1           12     198.12   6.49  14.84  0.58  0.17         0.75   \n",
       "\n",
       "  position_2  \n",
       "0          F  \n",
       "1          D  "
      ]
     },
     "execution_count": 6,
     "metadata": {},
     "output_type": "execute_result"
    }
   ],
   "source": [
    "data.head(2)"
   ]
  },
  {
   "cell_type": "code",
   "execution_count": 7,
   "id": "df3b7a17-87cb-4a4b-9260-f007a1751dcc",
   "metadata": {},
   "outputs": [],
   "source": [
    "#split into target variables and features \n",
    "X = data.drop(columns=['200+games', 'position']) #features \n",
    "y = data['200+games'] #target variables "
   ]
  },
  {
   "cell_type": "code",
   "execution_count": 8,
   "id": "17265041-05a8-43a8-a68b-a2792263f2d1",
   "metadata": {},
   "outputs": [],
   "source": [
    "#creating test-train-split\n",
    "X_train, X_test, y_train, y_test = train_test_split(X, y, test_size=0.2, random_state=7)"
   ]
  },
  {
   "cell_type": "code",
   "execution_count": 11,
   "id": "4ecff146-c0c1-456f-a3bd-11d3496bfe85",
   "metadata": {},
   "outputs": [
    {
     "name": "stdout",
     "output_type": "stream",
     "text": [
      "Best test set accuracy: 0.6271186440677966\n",
      "Achieved with hyperparameters: {'classifier': RandomForestClassifier(), 'select_best__k': 6}\n"
     ]
    }
   ],
   "source": [
    "#creating a pipeline \n",
    "#model 1 - to determine best hyperparameters \n",
    "#how to handle numerical and categorical variables \n",
    "numeric_transform = Pipeline([('scaling', StandardScaler())])\n",
    "categorical_transform = Pipeline([('one-hot-encode', OneHotEncoder(handle_unknown='ignore', sparse=False))])\n",
    "\n",
    "#indicating numerica/categorical column \n",
    "preprocessing_tips = ColumnTransformer([('numeric', numeric_transform, ['prospect_pim', 'prospect_pm', 'weight', 'height_cm', 'eq_g', 'eq_a', 'oGVT', 'dGVT', 'overall_GVT']),\n",
    "                                        ('categorical', categorical_transform, ['shoots', 'prospect_category',  'birth_month', 'position_2'])])\n",
    "\n",
    "#pipeline\n",
    "pipeline = Pipeline(steps= [('preprocessing', preprocessing_tips),\n",
    "                            ('select_best', SelectKBest()),\n",
    "                            ('classifier', LogisticRegression())])\n",
    "\n",
    "\n",
    "param_grid = {'classifier': [LogisticRegression(), SVC(), RandomForestClassifier(), RidgeClassifier()],\n",
    "              'select_best__k': [3,4,5,6]}\n",
    "\n",
    "grid = GridSearchCV(pipeline, param_grid=param_grid, cv=5)\n",
    "grid.fit(X_train, y_train)\n",
    "\n",
    "best_model = grid.best_estimator_\n",
    "best_hyperparams = grid.best_params_\n",
    "best_acc = grid.score(X_test, y_test)\n",
    "\n",
    "print(f'Best test set accuracy: {best_acc}\\nAchieved with hyperparameters: {best_hyperparams}')\n",
    "\n"
   ]
  },
  {
   "cell_type": "code",
   "execution_count": 22,
   "id": "5a4e08b3-2383-484e-99a9-7bfe54965f22",
   "metadata": {},
   "outputs": [
    {
     "name": "stdout",
     "output_type": "stream",
     "text": [
      "best test accuracy: 0.68.\n",
      "The best features are: [False False False False  True  True False  True  True False False False\n",
      " False False False False False False False False False False  True False\n",
      " False False False]\n"
     ]
    }
   ],
   "source": [
    "#creating a pipeline \n",
    "#how to handle numerical and categorical variables \n",
    "numeric_transform = Pipeline([('scaling', StandardScaler())])\n",
    "categorical_transform = Pipeline([('one-hot-encode', OneHotEncoder(handle_unknown='ignore', sparse=False))])\n",
    "\n",
    "#indicating numerica/categorical column \n",
    "preprocessing = ColumnTransformer([('numeric', numeric_transform, ['prospect_pim', 'prospect_pm', 'weight', 'height_cm', 'eq_g', 'eq_a', 'oGVT', 'dGVT', 'overall_GVT']),\n",
    "                                        ('categorical', categorical_transform, ['shoots', 'prospect_category',  'birth_month', 'position_2'])])\n",
    "\n",
    "#pipeline\n",
    "pipeline = Pipeline(steps= [('preprocessing', preprocessing),\n",
    "                            ('select_best', SelectKBest(k=5)),\n",
    "                            ('classifier', RandomForestClassifier())])\n",
    "\n",
    "\n",
    "pipeline.fit(X_train, y_train)\n",
    "\n",
    "best_acc = round(pipeline.score(X_test, y_test), 2)\n",
    "best_features = pipeline.named_steps['select_best'].get_support()\n",
    "\n",
    "print(f'best test accuracy: {best_acc}.')\n",
    "print(f'The best features are: {best_features}')"
   ]
  },
  {
   "cell_type": "code",
   "execution_count": 23,
   "id": "b3bc5431-45e9-40dd-be5b-d61fcd4d4628",
   "metadata": {},
   "outputs": [],
   "source": [
    "# Save the model\n",
    "with open('model21_transformed_data.pkl', 'wb') as f:\n",
    "    pickle.dump(pipeline, f)"
   ]
  },
  {
   "cell_type": "code",
   "execution_count": 33,
   "id": "2480ae4a-40ce-490f-b152-ffcb4aec5afa",
   "metadata": {},
   "outputs": [],
   "source": [
    "test_data = {'prospect_pim': [54],  'prospect_pm': [10], 'weight': [209], 'shoots': ['L'], 'prospect_category': ['North American Skater'], 'birth_month': [9], 'height_cm': [185.42], \n",
    "                 'eq_g': [21.33], 'eq_a': [19.91], 'oGVT': [0.37], 'dGVT': [0.06], 'overall_GVT': [0.43], 'position_2': ['F']}"
   ]
  },
  {
   "cell_type": "code",
   "execution_count": 44,
   "id": "51a8072e-488b-4162-a723-d8bcdadc788f",
   "metadata": {},
   "outputs": [],
   "source": [
    "test_data_df =  pd.DataFrame.from_dict(test_data)"
   ]
  },
  {
   "cell_type": "code",
   "execution_count": 46,
   "id": "1c4542fc-74d8-4174-aafa-958a9b9a0368",
   "metadata": {},
   "outputs": [
    {
     "data": {
      "text/plain": [
       "array([1], dtype=int64)"
      ]
     },
     "execution_count": 46,
     "metadata": {},
     "output_type": "execute_result"
    }
   ],
   "source": [
    "pipeline.predict(test_data_df)"
   ]
  },
  {
   "cell_type": "code",
   "execution_count": 45,
   "id": "be3d85f6-6b5b-4496-ae86-6f42e048fbbe",
   "metadata": {},
   "outputs": [
    {
     "data": {
      "text/html": [
       "<div>\n",
       "<style scoped>\n",
       "    .dataframe tbody tr th:only-of-type {\n",
       "        vertical-align: middle;\n",
       "    }\n",
       "\n",
       "    .dataframe tbody tr th {\n",
       "        vertical-align: top;\n",
       "    }\n",
       "\n",
       "    .dataframe thead th {\n",
       "        text-align: right;\n",
       "    }\n",
       "</style>\n",
       "<table border=\"1\" class=\"dataframe\">\n",
       "  <thead>\n",
       "    <tr style=\"text-align: right;\">\n",
       "      <th></th>\n",
       "      <th>prospect_pim</th>\n",
       "      <th>prospect_pm</th>\n",
       "      <th>weight</th>\n",
       "      <th>shoots</th>\n",
       "      <th>prospect_category</th>\n",
       "      <th>birth_month</th>\n",
       "      <th>height_cm</th>\n",
       "      <th>eq_g</th>\n",
       "      <th>eq_a</th>\n",
       "      <th>oGVT</th>\n",
       "      <th>dGVT</th>\n",
       "      <th>overall_GVT</th>\n",
       "      <th>position_2</th>\n",
       "    </tr>\n",
       "  </thead>\n",
       "  <tbody>\n",
       "    <tr>\n",
       "      <th>0</th>\n",
       "      <td>54</td>\n",
       "      <td>10</td>\n",
       "      <td>209</td>\n",
       "      <td>L</td>\n",
       "      <td>North American Skater</td>\n",
       "      <td>9</td>\n",
       "      <td>185.42</td>\n",
       "      <td>21.33</td>\n",
       "      <td>19.91</td>\n",
       "      <td>0.37</td>\n",
       "      <td>0.06</td>\n",
       "      <td>0.43</td>\n",
       "      <td>F</td>\n",
       "    </tr>\n",
       "  </tbody>\n",
       "</table>\n",
       "</div>"
      ],
      "text/plain": [
       "   prospect_pim  prospect_pm  weight shoots      prospect_category  \\\n",
       "0            54           10     209      L  North American Skater   \n",
       "\n",
       "   birth_month  height_cm   eq_g   eq_a  oGVT  dGVT  overall_GVT position_2  \n",
       "0            9     185.42  21.33  19.91  0.37  0.06         0.43          F  "
      ]
     },
     "execution_count": 45,
     "metadata": {},
     "output_type": "execute_result"
    }
   ],
   "source": [
    "test_data_df.head()"
   ]
  },
  {
   "cell_type": "code",
   "execution_count": 15,
   "id": "a9c3db93-02b7-4552-840e-f52c87d554d8",
   "metadata": {},
   "outputs": [
    {
     "data": {
      "text/html": [
       "<div>\n",
       "<style scoped>\n",
       "    .dataframe tbody tr th:only-of-type {\n",
       "        vertical-align: middle;\n",
       "    }\n",
       "\n",
       "    .dataframe tbody tr th {\n",
       "        vertical-align: top;\n",
       "    }\n",
       "\n",
       "    .dataframe thead th {\n",
       "        text-align: right;\n",
       "    }\n",
       "</style>\n",
       "<table border=\"1\" class=\"dataframe\">\n",
       "  <thead>\n",
       "    <tr style=\"text-align: right;\">\n",
       "      <th></th>\n",
       "      <th>prospect_pim</th>\n",
       "      <th>prospect_pm</th>\n",
       "      <th>weight</th>\n",
       "      <th>shoots</th>\n",
       "      <th>prospect_category</th>\n",
       "      <th>birth_month</th>\n",
       "      <th>height_cm</th>\n",
       "      <th>eq_g</th>\n",
       "      <th>eq_a</th>\n",
       "      <th>oGVT</th>\n",
       "      <th>dGVT</th>\n",
       "      <th>overall_GVT</th>\n",
       "      <th>position_2</th>\n",
       "    </tr>\n",
       "  </thead>\n",
       "  <tbody>\n",
       "    <tr>\n",
       "      <th>232</th>\n",
       "      <td>20</td>\n",
       "      <td>11</td>\n",
       "      <td>185</td>\n",
       "      <td>L</td>\n",
       "      <td>North American Skater</td>\n",
       "      <td>11</td>\n",
       "      <td>187.96</td>\n",
       "      <td>2.72</td>\n",
       "      <td>10.61</td>\n",
       "      <td>-0.56</td>\n",
       "      <td>-1.02</td>\n",
       "      <td>-1.58</td>\n",
       "      <td>D</td>\n",
       "    </tr>\n",
       "  </tbody>\n",
       "</table>\n",
       "</div>"
      ],
      "text/plain": [
       "     prospect_pim  prospect_pm  weight shoots      prospect_category  \\\n",
       "232            20           11     185      L  North American Skater   \n",
       "\n",
       "     birth_month  height_cm  eq_g   eq_a  oGVT  dGVT  overall_GVT position_2  \n",
       "232           11     187.96  2.72  10.61 -0.56 -1.02        -1.58          D  "
      ]
     },
     "execution_count": 15,
     "metadata": {},
     "output_type": "execute_result"
    }
   ],
   "source": [
    "X_train.head(1)"
   ]
  },
  {
   "cell_type": "code",
   "execution_count": 18,
   "id": "5121b4f5-00ef-4512-968a-a7b788e401b9",
   "metadata": {},
   "outputs": [],
   "source": [
    "X_train_cat = data.drop(['prospect_pim', 'prospect_pm', 'weight', 'height_cm', 'eq_g', 'eq_a', 'oGVT', 'dGVT', 'overall_GVT', 'position'], axis=1)"
   ]
  },
  {
   "cell_type": "code",
   "execution_count": 19,
   "id": "674c2e69-7d28-4256-9e05-2d5c42de9d0d",
   "metadata": {},
   "outputs": [
    {
     "data": {
      "text/html": [
       "<div>\n",
       "<style scoped>\n",
       "    .dataframe tbody tr th:only-of-type {\n",
       "        vertical-align: middle;\n",
       "    }\n",
       "\n",
       "    .dataframe tbody tr th {\n",
       "        vertical-align: top;\n",
       "    }\n",
       "\n",
       "    .dataframe thead th {\n",
       "        text-align: right;\n",
       "    }\n",
       "</style>\n",
       "<table border=\"1\" class=\"dataframe\">\n",
       "  <thead>\n",
       "    <tr style=\"text-align: right;\">\n",
       "      <th></th>\n",
       "      <th>shoots</th>\n",
       "      <th>prospect_category</th>\n",
       "      <th>200+games</th>\n",
       "      <th>birth_month</th>\n",
       "      <th>position_2</th>\n",
       "    </tr>\n",
       "  </thead>\n",
       "  <tbody>\n",
       "    <tr>\n",
       "      <th>0</th>\n",
       "      <td>L</td>\n",
       "      <td>North American Skater</td>\n",
       "      <td>1</td>\n",
       "      <td>9</td>\n",
       "      <td>F</td>\n",
       "    </tr>\n",
       "  </tbody>\n",
       "</table>\n",
       "</div>"
      ],
      "text/plain": [
       "  shoots      prospect_category  200+games  birth_month position_2\n",
       "0      L  North American Skater          1            9          F"
      ]
     },
     "execution_count": 19,
     "metadata": {},
     "output_type": "execute_result"
    }
   ],
   "source": [
    "X_train_cat.head(1)"
   ]
  },
  {
   "cell_type": "code",
   "execution_count": 20,
   "id": "92593956-78be-49e6-92d6-b6c28067480a",
   "metadata": {},
   "outputs": [],
   "source": [
    "ohe = OneHotEncoder()"
   ]
  },
  {
   "cell_type": "code",
   "execution_count": 21,
   "id": "2c237106-ad6d-4547-ba74-96dd8c622e4e",
   "metadata": {},
   "outputs": [],
   "source": [
    "transformed = ohe.fit_transform(X_train_cat)"
   ]
  },
  {
   "cell_type": "code",
   "execution_count": 22,
   "id": "40d356d9-adc0-43de-81d9-c513a6b0a97d",
   "metadata": {},
   "outputs": [
    {
     "name": "stdout",
     "output_type": "stream",
     "text": [
      "[array(['L', 'R'], dtype=object), array(['European Skater', 'North American Skater'], dtype=object), array([0, 1], dtype=int64), array([ 1,  2,  3,  4,  5,  6,  7,  8,  9, 10, 11, 12], dtype=int64), array(['D', 'F'], dtype=object)]\n"
     ]
    }
   ],
   "source": [
    "print(ohe.categories_)"
   ]
  },
  {
   "cell_type": "code",
   "execution_count": null,
   "id": "e5bf3f8d-128f-455f-abd7-e380e4e5e9a2",
   "metadata": {},
   "outputs": [],
   "source": []
  }
 ],
 "metadata": {
  "kernelspec": {
   "display_name": "lighthouse",
   "language": "python",
   "name": "lighthouse"
  },
  "language_info": {
   "codemirror_mode": {
    "name": "ipython",
    "version": 3
   },
   "file_extension": ".py",
   "mimetype": "text/x-python",
   "name": "python",
   "nbconvert_exporter": "python",
   "pygments_lexer": "ipython3",
   "version": "3.9.13"
  }
 },
 "nbformat": 4,
 "nbformat_minor": 5
}
