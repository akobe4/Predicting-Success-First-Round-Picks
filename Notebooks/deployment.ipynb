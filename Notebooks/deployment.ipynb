{
 "cells": [
  {
   "cell_type": "code",
   "execution_count": 1,
   "id": "6131b1f6-36b8-4944-bf93-bbaa24dec4eb",
   "metadata": {},
   "outputs": [],
   "source": [
    "# import Flask and jsonify\n",
    "from flask import Flask, jsonify, request\n",
    "# import Resource, Api and reqparser\n",
    "from flask_restful import Resource, Api, reqparse\n",
    "import pandas as pd\n",
    "import numpy\n",
    "import pickle"
   ]
  },
  {
   "cell_type": "code",
   "execution_count": 5,
   "id": "b2c2b250-be92-4003-8771-bdff64f36ead",
   "metadata": {},
   "outputs": [],
   "source": [
    "#John Tavares Data \n",
    "tavares_data = [54, 10, 209, 'L', 'North American Skater', 9, 185.42, 21.33, 19.91, 0.37, 0.06, 0.43, 'F']"
   ]
  },
  {
   "cell_type": "code",
   "execution_count": 6,
   "id": "614df836-337e-4fb3-a35f-bbd8f33c568e",
   "metadata": {},
   "outputs": [],
   "source": [
    "#Connor Bedard Data \n",
    "bedard_data = [62, 39, 185, 'R', 'North American Skater', 7, 177.8, 24.29, 24.64, 2.15, 0.03, 2.18, 'F']"
   ]
  },
  {
   "cell_type": "code",
   "execution_count": 2,
   "id": "360e4a65-fa41-4c99-bb74-bf6a1c7ffae2",
   "metadata": {},
   "outputs": [],
   "source": [
    "# App definition\n",
    "app = Flask(__name__)"
   ]
  },
  {
   "cell_type": "code",
   "execution_count": 3,
   "id": "c83d0a33-e9ce-4366-a874-ff203dec06f5",
   "metadata": {},
   "outputs": [],
   "source": [
    "#importing models \n",
    "# importing models\n",
    "with open('model21_transformed_data.pkl', 'rb') as f:\n",
    "       classifier = pickle.load (f)"
   ]
  },
  {
   "cell_type": "code",
   "execution_count": 4,
   "id": "35830005-13f0-4622-addf-06377abc6d9e",
   "metadata": {},
   "outputs": [],
   "source": [
    "#importing columns \n",
    "with open('model_columns.pkl', 'rb') as f:\n",
    "       model_columns = pickle.load (f)"
   ]
  },
  {
   "cell_type": "code",
   "execution_count": 5,
   "id": "fd052612-dbcf-416b-b232-2fad7780ef09",
   "metadata": {},
   "outputs": [
    {
     "name": "stdout",
     "output_type": "stream",
     "text": [
      " * Serving Flask app \"__main__\" (lazy loading)\n",
      " * Environment: production\n",
      "\u001b[31m   WARNING: This is a development server. Do not use it in a production deployment.\u001b[0m\n",
      "\u001b[2m   Use a production WSGI server instead.\u001b[0m\n",
      " * Debug mode: off\n"
     ]
    },
    {
     "name": "stderr",
     "output_type": "stream",
     "text": [
      " * Running on http://127.0.0.1:5000/ (Press CTRL+C to quit)\n"
     ]
    }
   ],
   "source": [
    "#webpage \n",
    "@app.route('/')\n",
    "def welcome():\n",
    "    return \"Welcome to the prospect predictor - predicts whether a prospect will play 200+ games in the NHL. For the prediction page '/predict'\"\n",
    "\n",
    "@app.route('/predict', methods=['POST','GET']) \n",
    "def predict():\n",
    "    \n",
    "    if flask.request.method == 'GET':   # get on the webpage - gives info about the application \n",
    "        return \"Prediction page. Try using post with params to get specific prediction. 1 = predicted to play 200+ games, 0 = predicted to play <200 games\"\n",
    "\n",
    "    if flask.request.method == 'POST':  #how will access the app \n",
    "        try:\n",
    "            json_ = request.json # '_' since 'json' is a special word\n",
    "            print(json_)\n",
    "            query_ = pd.DataFrame(json_) #covert json object to pandas dataframe, skikit learn model requires \n",
    "            query = query_.reindex(columns = model_columns, fill_value= 0) #reindexing, cleaning up \n",
    "            prediction = list(classifier.predict(query)) #cerate a list \n",
    "\n",
    "            return jsonify({\n",
    "               \"prediction\":str(prediction) #final prediction\n",
    "           })\n",
    "\n",
    "        except:\n",
    "            return jsonify({\n",
    "               \"trace\": traceback.format_exc()\n",
    "               })\n",
    "\n",
    "\n",
    "\n",
    "if __name__ == \"__main__\":\n",
    "    app.run()"
   ]
  }
 ],
 "metadata": {
  "kernelspec": {
   "display_name": "lighthouse",
   "language": "python",
   "name": "lighthouse"
  },
  "language_info": {
   "codemirror_mode": {
    "name": "ipython",
    "version": 3
   },
   "file_extension": ".py",
   "mimetype": "text/x-python",
   "name": "python",
   "nbconvert_exporter": "python",
   "pygments_lexer": "ipython3",
   "version": "3.9.13"
  }
 },
 "nbformat": 4,
 "nbformat_minor": 5
}
